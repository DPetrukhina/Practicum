{
 "cells": [
  {
   "cell_type": "markdown",
   "metadata": {},
   "source": [
    "# Принятие решений в бизнесе\n",
    "## Описание проекта\n",
    "Цель исследования: проверка гипотез и анализ выводов.\n",
    "\n",
    "В рамках проекта необходимо осуществить следующие основные задачи:\n",
    "\n",
    "* приоритизация гипотез;\n",
    "\n",
    "* запуск A/B-тестов;\n",
    "\n",
    "* анализ результатов.\n",
    "\n",
    "### Описание данных\n",
    "\n",
    "**Список гипотез (`hypothesis.csv`)**\n",
    "\n",
    "* `Hypothesis` — краткое описание гипотезы;\n",
    "\n",
    "* `Reach` — охват пользователей по 10-балльной шкале;\n",
    "\n",
    "* `Impact` — влияние на пользователей по 10-балльной шкале;\n",
    "\n",
    "* `Confidence` — уверенность в гипотезе по 10-балльной шкале;\n",
    "\n",
    "* `Efforts` — затраты ресурсов на проверку гипотезы по 10-балльной шкале. Чем больше значение Efforts, тем дороже проверка гипотезы.\n",
    "\n",
    "**Информация о заказах (`orders.csv`)**\n",
    "\n",
    "* `transactionId` — идентификатор заказа;\n",
    "\n",
    "* `visitorId` — идентификатор пользователя, совершившего заказ;\n",
    "\n",
    "* `date` — дата, когда был совершён заказ;\n",
    "\n",
    "* `revenue` — выручка заказа;\n",
    "\n",
    "* `group` — группа A/B-теста, в которую попал заказ.\n",
    "\n",
    "**Информация о посещениях интернет-магазина (`visitors.csv`)**\n",
    "\n",
    "* `date` — дата;\n",
    "\n",
    "* `group` — группа A/B-теста;\n",
    "\n",
    "* `visitors` — количество пользователей в указанную дату в указанной группе A/B-теста."
   ]
  },
  {
   "cell_type": "markdown",
   "metadata": {
    "toc": true
   },
   "source": [
    "<h1>Содержание<span class=\"tocSkip\"></span></h1>\n",
    "<div class=\"toc\"><ul class=\"toc-item\"><li><span><a href=\"#Описание-проекта\" data-toc-modified-id=\"Описание-проекта-1\">Описание проекта</a></span><ul class=\"toc-item\"><li><span><a href=\"#Описание-данных\" data-toc-modified-id=\"Описание-данных-1.1\">Описание данных</a></span></li></ul></li><li><span><a href=\"#Загрузка-данных\" data-toc-modified-id=\"Загрузка-данных-2\">Загрузка данных</a></span></li><li><span><a href=\"#Предобработка\" data-toc-modified-id=\"Предобработка-3\">Предобработка</a></span></li><li><span><a href=\"#Приоритизация-гипотез\" data-toc-modified-id=\"Приоритизация-гипотез-4\">Приоритизация гипотез</a></span></li><li><span><a href=\"#Анализ-A/B-теста\" data-toc-modified-id=\"Анализ-A/B-теста-5\">Анализ A/B-теста</a></span><ul class=\"toc-item\"><li><span><a href=\"#График-кумулятивной-выручки-по-группам\" data-toc-modified-id=\"График-кумулятивной-выручки-по-группам-5.1\">График кумулятивной выручки по группам</a></span></li><li><span><a href=\"#График-кумулятивного-среднего-чека-по-группам\" data-toc-modified-id=\"График-кумулятивного-среднего-чека-по-группам-5.2\">График кумулятивного среднего чека по группам</a></span></li><li><span><a href=\"#График-относительного-изменения-кумулятивного-среднего-чека\" data-toc-modified-id=\"График-относительного-изменения-кумулятивного-среднего-чека-5.3\">График относительного изменения кумулятивного среднего чека</a></span></li><li><span><a href=\"#График-кумулятивного-среднего-количества-заказов-на-посетителя\" data-toc-modified-id=\"График-кумулятивного-среднего-количества-заказов-на-посетителя-5.4\">График кумулятивного среднего количества заказов на посетителя</a></span></li><li><span><a href=\"#График-относительного-изменения-кумулятивного-среднего-количества-заказов-на-посетителя\" data-toc-modified-id=\"График-относительного-изменения-кумулятивного-среднего-количества-заказов-на-посетителя-5.5\">График относительного изменения кумулятивного среднего количества заказов на посетителя</a></span></li><li><span><a href=\"#Точечный-график-количества-заказов\" data-toc-modified-id=\"Точечный-график-количества-заказов-5.6\">Точечный график количества заказов</a></span></li><li><span><a href=\"#Точечный-график-стоимости-заказов\" data-toc-modified-id=\"Точечный-график-стоимости-заказов-5.7\">Точечный график стоимости заказов</a></span></li><li><span><a href=\"#Рассчёт-статистической-значимости-различий-в-среднем-количестве-заказов-на-посетителя-между-группами-по-«сырым»-данным\" data-toc-modified-id=\"Рассчёт-статистической-значимости-различий-в-среднем-количестве-заказов-на-посетителя-между-группами-по-«сырым»-данным-5.8\">Рассчёт статистической значимости различий в среднем количестве заказов на посетителя между группами по «сырым» данным</a></span></li><li><span><a href=\"#Рассчёт-статистической-значимости-различий-в-среднем-чеке-заказа-между-группами-по-«сырым»-данным\" data-toc-modified-id=\"Рассчёт-статистической-значимости-различий-в-среднем-чеке-заказа-между-группами-по-«сырым»-данным-5.9\">Рассчёт статистической значимости различий в среднем чеке заказа между группами по «сырым» данным</a></span></li><li><span><a href=\"#Рассчёт-статистической-значимости-различий-в-среднем-количестве-заказов-на-посетителя-между-группами-по-«очищенным»-данным\" data-toc-modified-id=\"Рассчёт-статистической-значимости-различий-в-среднем-количестве-заказов-на-посетителя-между-группами-по-«очищенным»-данным-5.10\">Рассчёт статистической значимости различий в среднем количестве заказов на посетителя между группами по «очищенным» данным</a></span></li><li><span><a href=\"#Рассчёт-статистической-значимости-различий-в-среднем-чеке-заказа-между-группами-по-«очищенным»-данным\" data-toc-modified-id=\"Рассчёт-статистической-значимости-различий-в-среднем-чеке-заказа-между-группами-по-«очищенным»-данным-5.11\">Рассчёт статистической значимости различий в среднем чеке заказа между группами по «очищенным» данным</a></span></li></ul></li><li><span><a href=\"#Общий-вывод\" data-toc-modified-id=\"Общий-вывод-6\">Общий вывод</a></span></li></ul></div>"
   ]
  },
  {
   "cell_type": "markdown",
   "metadata": {},
   "source": [
    "## Загрузка данных"
   ]
  },
  {
   "cell_type": "code",
   "execution_count": 1,
   "metadata": {},
   "outputs": [],
   "source": [
    "# импорт библиотек\n",
    "import pandas as pd\n",
    "import numpy as np\n",
    "import matplotlib\n",
    "import matplotlib.pyplot as plt \n",
    "import seaborn as sns\n",
    "import scipy.stats as stats\n",
    "from scipy import stats as st\n",
    "import datetime as dt\n",
    "import warnings\n",
    "warnings.filterwarnings(\"ignore\")"
   ]
  },
  {
   "cell_type": "code",
   "execution_count": 2,
   "metadata": {},
   "outputs": [],
   "source": [
    "# устанавливаем стиль графиков\n",
    "sns.set_style('whitegrid')\n",
    "sns.set_palette('Paired')\n",
    "\n",
    "# загружаем датасеты\n",
    "hypo = pd.read_csv('/datasets/hypothesis.csv')\n",
    "orders = pd.read_csv('/datasets/orders.csv')\n",
    "visitors = pd.read_csv('/datasets/visitors.csv')\n",
    "\n",
    "pd.set_option('display.max_colwidth', None) # снимаем ограничение на ширину столбцов"
   ]
  },
  {
   "cell_type": "code",
   "execution_count": 3,
   "metadata": {},
   "outputs": [],
   "source": [
    "# функция отображения основной информации\n",
    "def info_func(table):\n",
    "    display(table.head())\n",
    "    display(table.info())\n",
    "    display(table.nunique())\n",
    "    print('Явных дубликатов:',table.duplicated().sum())\n",
    "    display(table.describe())"
   ]
  },
  {
   "cell_type": "code",
   "execution_count": 4,
   "metadata": {
    "scrolled": true
   },
   "outputs": [
    {
     "data": {
      "text/html": [
       "<div>\n",
       "<style scoped>\n",
       "    .dataframe tbody tr th:only-of-type {\n",
       "        vertical-align: middle;\n",
       "    }\n",
       "\n",
       "    .dataframe tbody tr th {\n",
       "        vertical-align: top;\n",
       "    }\n",
       "\n",
       "    .dataframe thead th {\n",
       "        text-align: right;\n",
       "    }\n",
       "</style>\n",
       "<table border=\"1\" class=\"dataframe\">\n",
       "  <thead>\n",
       "    <tr style=\"text-align: right;\">\n",
       "      <th></th>\n",
       "      <th>Hypothesis</th>\n",
       "      <th>Reach</th>\n",
       "      <th>Impact</th>\n",
       "      <th>Confidence</th>\n",
       "      <th>Efforts</th>\n",
       "    </tr>\n",
       "  </thead>\n",
       "  <tbody>\n",
       "    <tr>\n",
       "      <th>0</th>\n",
       "      <td>Добавить два новых канала привлечения трафика, что позволит привлекать на 30% больше пользователей</td>\n",
       "      <td>3</td>\n",
       "      <td>10</td>\n",
       "      <td>8</td>\n",
       "      <td>6</td>\n",
       "    </tr>\n",
       "    <tr>\n",
       "      <th>1</th>\n",
       "      <td>Запустить собственную службу доставки, что сократит срок доставки заказов</td>\n",
       "      <td>2</td>\n",
       "      <td>5</td>\n",
       "      <td>4</td>\n",
       "      <td>10</td>\n",
       "    </tr>\n",
       "    <tr>\n",
       "      <th>2</th>\n",
       "      <td>Добавить блоки рекомендаций товаров на сайт интернет магазина, чтобы повысить конверсию и средний чек заказа</td>\n",
       "      <td>8</td>\n",
       "      <td>3</td>\n",
       "      <td>7</td>\n",
       "      <td>3</td>\n",
       "    </tr>\n",
       "    <tr>\n",
       "      <th>3</th>\n",
       "      <td>Изменить структура категорий, что увеличит конверсию, т.к. пользователи быстрее найдут нужный товар</td>\n",
       "      <td>8</td>\n",
       "      <td>3</td>\n",
       "      <td>3</td>\n",
       "      <td>8</td>\n",
       "    </tr>\n",
       "    <tr>\n",
       "      <th>4</th>\n",
       "      <td>Изменить цвет фона главной страницы, чтобы увеличить вовлеченность пользователей</td>\n",
       "      <td>3</td>\n",
       "      <td>1</td>\n",
       "      <td>1</td>\n",
       "      <td>1</td>\n",
       "    </tr>\n",
       "  </tbody>\n",
       "</table>\n",
       "</div>"
      ],
      "text/plain": [
       "                                                                                                     Hypothesis  \\\n",
       "0            Добавить два новых канала привлечения трафика, что позволит привлекать на 30% больше пользователей   \n",
       "1                                     Запустить собственную службу доставки, что сократит срок доставки заказов   \n",
       "2  Добавить блоки рекомендаций товаров на сайт интернет магазина, чтобы повысить конверсию и средний чек заказа   \n",
       "3           Изменить структура категорий, что увеличит конверсию, т.к. пользователи быстрее найдут нужный товар   \n",
       "4                              Изменить цвет фона главной страницы, чтобы увеличить вовлеченность пользователей   \n",
       "\n",
       "   Reach  Impact  Confidence  Efforts  \n",
       "0      3      10           8        6  \n",
       "1      2       5           4       10  \n",
       "2      8       3           7        3  \n",
       "3      8       3           3        8  \n",
       "4      3       1           1        1  "
      ]
     },
     "metadata": {},
     "output_type": "display_data"
    },
    {
     "name": "stdout",
     "output_type": "stream",
     "text": [
      "<class 'pandas.core.frame.DataFrame'>\n",
      "RangeIndex: 9 entries, 0 to 8\n",
      "Data columns (total 5 columns):\n",
      " #   Column      Non-Null Count  Dtype \n",
      "---  ------      --------------  ----- \n",
      " 0   Hypothesis  9 non-null      object\n",
      " 1   Reach       9 non-null      int64 \n",
      " 2   Impact      9 non-null      int64 \n",
      " 3   Confidence  9 non-null      int64 \n",
      " 4   Efforts     9 non-null      int64 \n",
      "dtypes: int64(4), object(1)\n",
      "memory usage: 488.0+ bytes\n"
     ]
    },
    {
     "data": {
      "text/plain": [
       "None"
      ]
     },
     "metadata": {},
     "output_type": "display_data"
    },
    {
     "data": {
      "text/plain": [
       "Hypothesis    9\n",
       "Reach         6\n",
       "Impact        7\n",
       "Confidence    7\n",
       "Efforts       6\n",
       "dtype: int64"
      ]
     },
     "metadata": {},
     "output_type": "display_data"
    },
    {
     "name": "stdout",
     "output_type": "stream",
     "text": [
      "Явных дубликатов: 0\n"
     ]
    },
    {
     "data": {
      "text/html": [
       "<div>\n",
       "<style scoped>\n",
       "    .dataframe tbody tr th:only-of-type {\n",
       "        vertical-align: middle;\n",
       "    }\n",
       "\n",
       "    .dataframe tbody tr th {\n",
       "        vertical-align: top;\n",
       "    }\n",
       "\n",
       "    .dataframe thead th {\n",
       "        text-align: right;\n",
       "    }\n",
       "</style>\n",
       "<table border=\"1\" class=\"dataframe\">\n",
       "  <thead>\n",
       "    <tr style=\"text-align: right;\">\n",
       "      <th></th>\n",
       "      <th>Reach</th>\n",
       "      <th>Impact</th>\n",
       "      <th>Confidence</th>\n",
       "      <th>Efforts</th>\n",
       "    </tr>\n",
       "  </thead>\n",
       "  <tbody>\n",
       "    <tr>\n",
       "      <th>count</th>\n",
       "      <td>9.000000</td>\n",
       "      <td>9.000000</td>\n",
       "      <td>9.000000</td>\n",
       "      <td>9.000000</td>\n",
       "    </tr>\n",
       "    <tr>\n",
       "      <th>mean</th>\n",
       "      <td>4.777778</td>\n",
       "      <td>4.777778</td>\n",
       "      <td>5.555556</td>\n",
       "      <td>4.888889</td>\n",
       "    </tr>\n",
       "    <tr>\n",
       "      <th>std</th>\n",
       "      <td>3.153481</td>\n",
       "      <td>3.192874</td>\n",
       "      <td>3.045944</td>\n",
       "      <td>2.803767</td>\n",
       "    </tr>\n",
       "    <tr>\n",
       "      <th>min</th>\n",
       "      <td>1.000000</td>\n",
       "      <td>1.000000</td>\n",
       "      <td>1.000000</td>\n",
       "      <td>1.000000</td>\n",
       "    </tr>\n",
       "    <tr>\n",
       "      <th>25%</th>\n",
       "      <td>3.000000</td>\n",
       "      <td>3.000000</td>\n",
       "      <td>3.000000</td>\n",
       "      <td>3.000000</td>\n",
       "    </tr>\n",
       "    <tr>\n",
       "      <th>50%</th>\n",
       "      <td>3.000000</td>\n",
       "      <td>3.000000</td>\n",
       "      <td>7.000000</td>\n",
       "      <td>5.000000</td>\n",
       "    </tr>\n",
       "    <tr>\n",
       "      <th>75%</th>\n",
       "      <td>8.000000</td>\n",
       "      <td>7.000000</td>\n",
       "      <td>8.000000</td>\n",
       "      <td>6.000000</td>\n",
       "    </tr>\n",
       "    <tr>\n",
       "      <th>max</th>\n",
       "      <td>10.000000</td>\n",
       "      <td>10.000000</td>\n",
       "      <td>9.000000</td>\n",
       "      <td>10.000000</td>\n",
       "    </tr>\n",
       "  </tbody>\n",
       "</table>\n",
       "</div>"
      ],
      "text/plain": [
       "           Reach     Impact  Confidence    Efforts\n",
       "count   9.000000   9.000000    9.000000   9.000000\n",
       "mean    4.777778   4.777778    5.555556   4.888889\n",
       "std     3.153481   3.192874    3.045944   2.803767\n",
       "min     1.000000   1.000000    1.000000   1.000000\n",
       "25%     3.000000   3.000000    3.000000   3.000000\n",
       "50%     3.000000   3.000000    7.000000   5.000000\n",
       "75%     8.000000   7.000000    8.000000   6.000000\n",
       "max    10.000000  10.000000    9.000000  10.000000"
      ]
     },
     "metadata": {},
     "output_type": "display_data"
    },
    {
     "data": {
      "image/png": "[encoded data removed]",
      "text/plain": [
       "<Figure size 648x648 with 4 Axes>"
      ]
     },
     "metadata": {},
     "output_type": "display_data"
    }
   ],
   "source": [
    "info_func(hypo)\n",
    "hypo.hist(figsize=(9, 9))\n",
    "plt.show()"
   ]
  },
  {
   "cell_type": "markdown",
   "metadata": {},
   "source": [
    "**Типы данных корректны, пропусков и дубликатов нет, названия столбцов следует переименовать в соответствии с naming convention.**"
   ]
  },
  {
   "cell_type": "code",
   "execution_count": 5,
   "metadata": {},
   "outputs": [
    {
     "data": {
      "text/html": [
       "<div>\n",
       "<style scoped>\n",
       "    .dataframe tbody tr th:only-of-type {\n",
       "        vertical-align: middle;\n",
       "    }\n",
       "\n",
       "    .dataframe tbody tr th {\n",
       "        vertical-align: top;\n",
       "    }\n",
       "\n",
       "    .dataframe thead th {\n",
       "        text-align: right;\n",
       "    }\n",
       "</style>\n",
       "<table border=\"1\" class=\"dataframe\">\n",
       "  <thead>\n",
       "    <tr style=\"text-align: right;\">\n",
       "      <th></th>\n",
       "      <th>transactionId</th>\n",
       "      <th>visitorId</th>\n",
       "      <th>date</th>\n",
       "      <th>revenue</th>\n",
       "      <th>group</th>\n",
       "    </tr>\n",
       "  </thead>\n",
       "  <tbody>\n",
       "    <tr>\n",
       "      <th>0</th>\n",
       "      <td>3667963787</td>\n",
       "      <td>3312258926</td>\n",
       "      <td>2019-08-15</td>\n",
       "      <td>1650</td>\n",
       "      <td>B</td>\n",
       "    </tr>\n",
       "    <tr>\n",
       "      <th>1</th>\n",
       "      <td>2804400009</td>\n",
       "      <td>3642806036</td>\n",
       "      <td>2019-08-15</td>\n",
       "      <td>730</td>\n",
       "      <td>B</td>\n",
       "    </tr>\n",
       "    <tr>\n",
       "      <th>2</th>\n",
       "      <td>2961555356</td>\n",
       "      <td>4069496402</td>\n",
       "      <td>2019-08-15</td>\n",
       "      <td>400</td>\n",
       "      <td>A</td>\n",
       "    </tr>\n",
       "    <tr>\n",
       "      <th>3</th>\n",
       "      <td>3797467345</td>\n",
       "      <td>1196621759</td>\n",
       "      <td>2019-08-15</td>\n",
       "      <td>9759</td>\n",
       "      <td>B</td>\n",
       "    </tr>\n",
       "    <tr>\n",
       "      <th>4</th>\n",
       "      <td>2282983706</td>\n",
       "      <td>2322279887</td>\n",
       "      <td>2019-08-15</td>\n",
       "      <td>2308</td>\n",
       "      <td>B</td>\n",
       "    </tr>\n",
       "  </tbody>\n",
       "</table>\n",
       "</div>"
      ],
      "text/plain": [
       "   transactionId   visitorId        date  revenue group\n",
       "0     3667963787  3312258926  2019-08-15     1650     B\n",
       "1     2804400009  3642806036  2019-08-15      730     B\n",
       "2     2961555356  4069496402  2019-08-15      400     A\n",
       "3     3797467345  1196621759  2019-08-15     9759     B\n",
       "4     2282983706  2322279887  2019-08-15     2308     B"
      ]
     },
     "metadata": {},
     "output_type": "display_data"
    },
    {
     "name": "stdout",
     "output_type": "stream",
     "text": [
      "<class 'pandas.core.frame.DataFrame'>\n",
      "RangeIndex: 1197 entries, 0 to 1196\n",
      "Data columns (total 5 columns):\n",
      " #   Column         Non-Null Count  Dtype \n",
      "---  ------         --------------  ----- \n",
      " 0   transactionId  1197 non-null   int64 \n",
      " 1   visitorId      1197 non-null   int64 \n",
      " 2   date           1197 non-null   object\n",
      " 3   revenue        1197 non-null   int64 \n",
      " 4   group          1197 non-null   object\n",
      "dtypes: int64(3), object(2)\n",
      "memory usage: 46.9+ KB\n"
     ]
    },
    {
     "data": {
      "text/plain": [
       "None"
      ]
     },
     "metadata": {},
     "output_type": "display_data"
    },
    {
     "data": {
      "text/plain": [
       "transactionId    1197\n",
       "visitorId        1031\n",
       "date               31\n",
       "revenue           713\n",
       "group               2\n",
       "dtype: int64"
      ]
     },
     "metadata": {},
     "output_type": "display_data"
    },
    {
     "name": "stdout",
     "output_type": "stream",
     "text": [
      "Явных дубликатов: 0\n"
     ]
    },
    {
     "data": {
      "text/html": [
       "<div>\n",
       "<style scoped>\n",
       "    .dataframe tbody tr th:only-of-type {\n",
       "        vertical-align: middle;\n",
       "    }\n",
       "\n",
       "    .dataframe tbody tr th {\n",
       "        vertical-align: top;\n",
       "    }\n",
       "\n",
       "    .dataframe thead th {\n",
       "        text-align: right;\n",
       "    }\n",
       "</style>\n",
       "<table border=\"1\" class=\"dataframe\">\n",
       "  <thead>\n",
       "    <tr style=\"text-align: right;\">\n",
       "      <th></th>\n",
       "      <th>transactionId</th>\n",
       "      <th>visitorId</th>\n",
       "      <th>revenue</th>\n",
       "    </tr>\n",
       "  </thead>\n",
       "  <tbody>\n",
       "    <tr>\n",
       "      <th>count</th>\n",
       "      <td>1.197000e+03</td>\n",
       "      <td>1.197000e+03</td>\n",
       "      <td>1.197000e+03</td>\n",
       "    </tr>\n",
       "    <tr>\n",
       "      <th>mean</th>\n",
       "      <td>2.155621e+09</td>\n",
       "      <td>2.165960e+09</td>\n",
       "      <td>8.348006e+03</td>\n",
       "    </tr>\n",
       "    <tr>\n",
       "      <th>std</th>\n",
       "      <td>1.229085e+09</td>\n",
       "      <td>1.236014e+09</td>\n",
       "      <td>3.919113e+04</td>\n",
       "    </tr>\n",
       "    <tr>\n",
       "      <th>min</th>\n",
       "      <td>1.062393e+06</td>\n",
       "      <td>5.114589e+06</td>\n",
       "      <td>5.000000e+01</td>\n",
       "    </tr>\n",
       "    <tr>\n",
       "      <th>25%</th>\n",
       "      <td>1.166776e+09</td>\n",
       "      <td>1.111826e+09</td>\n",
       "      <td>1.220000e+03</td>\n",
       "    </tr>\n",
       "    <tr>\n",
       "      <th>50%</th>\n",
       "      <td>2.145194e+09</td>\n",
       "      <td>2.217985e+09</td>\n",
       "      <td>2.978000e+03</td>\n",
       "    </tr>\n",
       "    <tr>\n",
       "      <th>75%</th>\n",
       "      <td>3.237740e+09</td>\n",
       "      <td>3.177606e+09</td>\n",
       "      <td>8.290000e+03</td>\n",
       "    </tr>\n",
       "    <tr>\n",
       "      <th>max</th>\n",
       "      <td>4.293856e+09</td>\n",
       "      <td>4.283872e+09</td>\n",
       "      <td>1.294500e+06</td>\n",
       "    </tr>\n",
       "  </tbody>\n",
       "</table>\n",
       "</div>"
      ],
      "text/plain": [
       "       transactionId     visitorId       revenue\n",
       "count   1.197000e+03  1.197000e+03  1.197000e+03\n",
       "mean    2.155621e+09  2.165960e+09  8.348006e+03\n",
       "std     1.229085e+09  1.236014e+09  3.919113e+04\n",
       "min     1.062393e+06  5.114589e+06  5.000000e+01\n",
       "25%     1.166776e+09  1.111826e+09  1.220000e+03\n",
       "50%     2.145194e+09  2.217985e+09  2.978000e+03\n",
       "75%     3.237740e+09  3.177606e+09  8.290000e+03\n",
       "max     4.293856e+09  4.283872e+09  1.294500e+06"
      ]
     },
     "metadata": {},
     "output_type": "display_data"
    },
    {
     "data": {
      "image/png": "[encoded data removed]",
      "text/plain": [
       "<Figure size 360x360 with 1 Axes>"
      ]
     },
     "metadata": {},
     "output_type": "display_data"
    }
   ],
   "source": [
    "info_func(orders)\n",
    "orders['revenue'].hist(figsize=(5,5))\n",
    "plt.show()"
   ]
  },
  {
   "cell_type": "markdown",
   "metadata": {},
   "source": [
    "**Типы данных не везде корректны, пропусков и дубликатов нет, названия столбцов следует переименовать в соответствии с naming convention.**"
   ]
  },
  {
   "cell_type": "code",
   "execution_count": 6,
   "metadata": {},
   "outputs": [
    {
     "data": {
      "text/html": [
       "<div>\n",
       "<style scoped>\n",
       "    .dataframe tbody tr th:only-of-type {\n",
       "        vertical-align: middle;\n",
       "    }\n",
       "\n",
       "    .dataframe tbody tr th {\n",
       "        vertical-align: top;\n",
       "    }\n",
       "\n",
       "    .dataframe thead th {\n",
       "        text-align: right;\n",
       "    }\n",
       "</style>\n",
       "<table border=\"1\" class=\"dataframe\">\n",
       "  <thead>\n",
       "    <tr style=\"text-align: right;\">\n",
       "      <th></th>\n",
       "      <th>date</th>\n",
       "      <th>group</th>\n",
       "      <th>visitors</th>\n",
       "    </tr>\n",
       "  </thead>\n",
       "  <tbody>\n",
       "    <tr>\n",
       "      <th>0</th>\n",
       "      <td>2019-08-01</td>\n",
       "      <td>A</td>\n",
       "      <td>719</td>\n",
       "    </tr>\n",
       "    <tr>\n",
       "      <th>1</th>\n",
       "      <td>2019-08-02</td>\n",
       "      <td>A</td>\n",
       "      <td>619</td>\n",
       "    </tr>\n",
       "    <tr>\n",
       "      <th>2</th>\n",
       "      <td>2019-08-03</td>\n",
       "      <td>A</td>\n",
       "      <td>507</td>\n",
       "    </tr>\n",
       "    <tr>\n",
       "      <th>3</th>\n",
       "      <td>2019-08-04</td>\n",
       "      <td>A</td>\n",
       "      <td>717</td>\n",
       "    </tr>\n",
       "    <tr>\n",
       "      <th>4</th>\n",
       "      <td>2019-08-05</td>\n",
       "      <td>A</td>\n",
       "      <td>756</td>\n",
       "    </tr>\n",
       "  </tbody>\n",
       "</table>\n",
       "</div>"
      ],
      "text/plain": [
       "         date group  visitors\n",
       "0  2019-08-01     A       719\n",
       "1  2019-08-02     A       619\n",
       "2  2019-08-03     A       507\n",
       "3  2019-08-04     A       717\n",
       "4  2019-08-05     A       756"
      ]
     },
     "metadata": {},
     "output_type": "display_data"
    },
    {
     "name": "stdout",
     "output_type": "stream",
     "text": [
      "<class 'pandas.core.frame.DataFrame'>\n",
      "RangeIndex: 62 entries, 0 to 61\n",
      "Data columns (total 3 columns):\n",
      " #   Column    Non-Null Count  Dtype \n",
      "---  ------    --------------  ----- \n",
      " 0   date      62 non-null     object\n",
      " 1   group     62 non-null     object\n",
      " 2   visitors  62 non-null     int64 \n",
      "dtypes: int64(1), object(2)\n",
      "memory usage: 1.6+ KB\n"
     ]
    },
    {
     "data": {
      "text/plain": [
       "None"
      ]
     },
     "metadata": {},
     "output_type": "display_data"
    },
    {
     "data": {
      "text/plain": [
       "date        31\n",
       "group        2\n",
       "visitors    58\n",
       "dtype: int64"
      ]
     },
     "metadata": {},
     "output_type": "display_data"
    },
    {
     "name": "stdout",
     "output_type": "stream",
     "text": [
      "Явных дубликатов: 0\n"
     ]
    },
    {
     "data": {
      "text/html": [
       "<div>\n",
       "<style scoped>\n",
       "    .dataframe tbody tr th:only-of-type {\n",
       "        vertical-align: middle;\n",
       "    }\n",
       "\n",
       "    .dataframe tbody tr th {\n",
       "        vertical-align: top;\n",
       "    }\n",
       "\n",
       "    .dataframe thead th {\n",
       "        text-align: right;\n",
       "    }\n",
       "</style>\n",
       "<table border=\"1\" class=\"dataframe\">\n",
       "  <thead>\n",
       "    <tr style=\"text-align: right;\">\n",
       "      <th></th>\n",
       "      <th>visitors</th>\n",
       "    </tr>\n",
       "  </thead>\n",
       "  <tbody>\n",
       "    <tr>\n",
       "      <th>count</th>\n",
       "      <td>62.000000</td>\n",
       "    </tr>\n",
       "    <tr>\n",
       "      <th>mean</th>\n",
       "      <td>607.290323</td>\n",
       "    </tr>\n",
       "    <tr>\n",
       "      <th>std</th>\n",
       "      <td>114.400560</td>\n",
       "    </tr>\n",
       "    <tr>\n",
       "      <th>min</th>\n",
       "      <td>361.000000</td>\n",
       "    </tr>\n",
       "    <tr>\n",
       "      <th>25%</th>\n",
       "      <td>534.000000</td>\n",
       "    </tr>\n",
       "    <tr>\n",
       "      <th>50%</th>\n",
       "      <td>624.500000</td>\n",
       "    </tr>\n",
       "    <tr>\n",
       "      <th>75%</th>\n",
       "      <td>710.500000</td>\n",
       "    </tr>\n",
       "    <tr>\n",
       "      <th>max</th>\n",
       "      <td>770.000000</td>\n",
       "    </tr>\n",
       "  </tbody>\n",
       "</table>\n",
       "</div>"
      ],
      "text/plain": [
       "         visitors\n",
       "count   62.000000\n",
       "mean   607.290323\n",
       "std    114.400560\n",
       "min    361.000000\n",
       "25%    534.000000\n",
       "50%    624.500000\n",
       "75%    710.500000\n",
       "max    770.000000"
      ]
     },
     "metadata": {},
     "output_type": "display_data"
    },
    {
     "data": {
      "image/png": "[encoded data removed]",
      "text/plain": [
       "<Figure size 360x360 with 1 Axes>"
      ]
     },
     "metadata": {},
     "output_type": "display_data"
    }
   ],
   "source": [
    "info_func(visitors)\n",
    "visitors.hist(figsize=(5,5))\n",
    "plt.show()"
   ]
  },
  {
   "cell_type": "code",
   "execution_count": 7,
   "metadata": {},
   "outputs": [
    {
     "name": "stdout",
     "output_type": "stream",
     "text": [
      "['B' 'A']\n",
      "['A' 'B']\n"
     ]
    }
   ],
   "source": [
    "print(orders['group'].unique())\n",
    "print(visitors['group'].unique())"
   ]
  },
  {
   "cell_type": "markdown",
   "metadata": {},
   "source": [
    "В тесте есть 2 группы"
   ]
  },
  {
   "cell_type": "code",
   "execution_count": 8,
   "metadata": {},
   "outputs": [
    {
     "name": "stdout",
     "output_type": "stream",
     "text": [
      "Дата начала теста: 2019-08-31\n",
      "Дата окончания теста: 2019-08-01\n"
     ]
    }
   ],
   "source": [
    "print('Дата начала теста:', visitors['date'].max())\n",
    "print('Дата окончания теста:', visitors['date'].min())"
   ]
  },
  {
   "cell_type": "markdown",
   "metadata": {},
   "source": [
    "**Типы данных не везде корректны, пропусков и дубликатов нет.**"
   ]
  },
  {
   "cell_type": "markdown",
   "metadata": {},
   "source": [
    "Все 3 таблицы и нужные библиотеки были успешно загружены; отображена основная информация по таблицам. Не обнаружено пропусков и дубликатов. В таблицах `hypo` и `orders` необходимо переименовать названия столбцов в соответствии с `naming convention`. Тип данных в стобцах с датами нуждается в корректировке."
   ]
  },
  {
   "cell_type": "markdown",
   "metadata": {},
   "source": [
    "## Предобработка"
   ]
  },
  {
   "cell_type": "code",
   "execution_count": 9,
   "metadata": {},
   "outputs": [],
   "source": [
    "# переименование названий столбцов в таблицах\n",
    "hypo.columns = hypo.columns.str.strip()\n",
    "hypo.columns = hypo.columns.str.lower()\n",
    "orders = orders.rename(columns= {'transactionId':'transaction_id','visitorId': 'visitor_id'})"
   ]
  },
  {
   "cell_type": "code",
   "execution_count": 10,
   "metadata": {},
   "outputs": [
    {
     "data": {
      "text/plain": [
       "transaction_id             int64\n",
       "visitor_id                 int64\n",
       "date              datetime64[ns]\n",
       "revenue                    int64\n",
       "group                     object\n",
       "dtype: object"
      ]
     },
     "metadata": {},
     "output_type": "display_data"
    },
    {
     "data": {
      "text/plain": [
       "date        datetime64[ns]\n",
       "group               object\n",
       "visitors             int64\n",
       "dtype: object"
      ]
     },
     "execution_count": 10,
     "metadata": {},
     "output_type": "execute_result"
    }
   ],
   "source": [
    "# изменение типов данных\n",
    "orders['date'] = orders['date'].map(\n",
    "    lambda x: dt.datetime.strptime(x, '%Y-%m-%d')\n",
    ")\n",
    "visitors['date'] = visitors['date'].map(\n",
    "    lambda x: dt.datetime.strptime(x, '%Y-%m-%d')\n",
    ")\n",
    "display(orders.dtypes)\n",
    "visitors.dtypes"
   ]
  },
  {
   "cell_type": "code",
   "execution_count": 11,
   "metadata": {},
   "outputs": [
    {
     "data": {
      "text/plain": [
       "58"
      ]
     },
     "execution_count": 11,
     "metadata": {},
     "output_type": "execute_result"
    }
   ],
   "source": [
    "orders_a = orders.query('group==\"A\"')\n",
    "orders_b = orders.query ('group==\"B\"')\n",
    "duples = orders_a.merge (orders_b, on='visitor_id')\n",
    "duples['visitor_id'].value_counts().count()"
   ]
  },
  {
   "cell_type": "markdown",
   "metadata": {},
   "source": [
    "Предобработка завершена успешно. 58 пользователей попали в обе группы, что нормально, ведь, согласно условиям, группа присваивается заказу.\n",
    "## Приоритизация гипотез"
   ]
  },
  {
   "cell_type": "code",
   "execution_count": 12,
   "metadata": {
    "scrolled": true
   },
   "outputs": [
    {
     "data": {
      "text/html": [
       "<div>\n",
       "<style scoped>\n",
       "    .dataframe tbody tr th:only-of-type {\n",
       "        vertical-align: middle;\n",
       "    }\n",
       "\n",
       "    .dataframe tbody tr th {\n",
       "        vertical-align: top;\n",
       "    }\n",
       "\n",
       "    .dataframe thead th {\n",
       "        text-align: right;\n",
       "    }\n",
       "</style>\n",
       "<table border=\"1\" class=\"dataframe\">\n",
       "  <thead>\n",
       "    <tr style=\"text-align: right;\">\n",
       "      <th></th>\n",
       "      <th>hypothesis</th>\n",
       "      <th>ICE</th>\n",
       "    </tr>\n",
       "  </thead>\n",
       "  <tbody>\n",
       "    <tr>\n",
       "      <th>8</th>\n",
       "      <td>Запустить акцию, дающую скидку на товар в день рождения</td>\n",
       "      <td>16.20</td>\n",
       "    </tr>\n",
       "    <tr>\n",
       "      <th>0</th>\n",
       "      <td>Добавить два новых канала привлечения трафика, что позволит привлекать на 30% больше пользователей</td>\n",
       "      <td>13.33</td>\n",
       "    </tr>\n",
       "    <tr>\n",
       "      <th>7</th>\n",
       "      <td>Добавить форму подписки на все основные страницы, чтобы собрать базу клиентов для email-рассылок</td>\n",
       "      <td>11.20</td>\n",
       "    </tr>\n",
       "    <tr>\n",
       "      <th>6</th>\n",
       "      <td>Показать на главной странице баннеры с актуальными акциями и распродажами, чтобы увеличить конверсию</td>\n",
       "      <td>8.00</td>\n",
       "    </tr>\n",
       "    <tr>\n",
       "      <th>2</th>\n",
       "      <td>Добавить блоки рекомендаций товаров на сайт интернет магазина, чтобы повысить конверсию и средний чек заказа</td>\n",
       "      <td>7.00</td>\n",
       "    </tr>\n",
       "    <tr>\n",
       "      <th>1</th>\n",
       "      <td>Запустить собственную службу доставки, что сократит срок доставки заказов</td>\n",
       "      <td>2.00</td>\n",
       "    </tr>\n",
       "    <tr>\n",
       "      <th>5</th>\n",
       "      <td>Добавить страницу отзывов клиентов о магазине, что позволит увеличить количество заказов</td>\n",
       "      <td>1.33</td>\n",
       "    </tr>\n",
       "    <tr>\n",
       "      <th>3</th>\n",
       "      <td>Изменить структура категорий, что увеличит конверсию, т.к. пользователи быстрее найдут нужный товар</td>\n",
       "      <td>1.12</td>\n",
       "    </tr>\n",
       "    <tr>\n",
       "      <th>4</th>\n",
       "      <td>Изменить цвет фона главной страницы, чтобы увеличить вовлеченность пользователей</td>\n",
       "      <td>1.00</td>\n",
       "    </tr>\n",
       "  </tbody>\n",
       "</table>\n",
       "</div>"
      ],
      "text/plain": [
       "                                                                                                     hypothesis  \\\n",
       "8                                                       Запустить акцию, дающую скидку на товар в день рождения   \n",
       "0            Добавить два новых канала привлечения трафика, что позволит привлекать на 30% больше пользователей   \n",
       "7              Добавить форму подписки на все основные страницы, чтобы собрать базу клиентов для email-рассылок   \n",
       "6          Показать на главной странице баннеры с актуальными акциями и распродажами, чтобы увеличить конверсию   \n",
       "2  Добавить блоки рекомендаций товаров на сайт интернет магазина, чтобы повысить конверсию и средний чек заказа   \n",
       "1                                     Запустить собственную службу доставки, что сократит срок доставки заказов   \n",
       "5                      Добавить страницу отзывов клиентов о магазине, что позволит увеличить количество заказов   \n",
       "3           Изменить структура категорий, что увеличит конверсию, т.к. пользователи быстрее найдут нужный товар   \n",
       "4                              Изменить цвет фона главной страницы, чтобы увеличить вовлеченность пользователей   \n",
       "\n",
       "     ICE  \n",
       "8  16.20  \n",
       "0  13.33  \n",
       "7  11.20  \n",
       "6   8.00  \n",
       "2   7.00  \n",
       "1   2.00  \n",
       "5   1.33  \n",
       "3   1.12  \n",
       "4   1.00  "
      ]
     },
     "metadata": {},
     "output_type": "display_data"
    },
    {
     "data": {
      "text/html": [
       "<div>\n",
       "<style scoped>\n",
       "    .dataframe tbody tr th:only-of-type {\n",
       "        vertical-align: middle;\n",
       "    }\n",
       "\n",
       "    .dataframe tbody tr th {\n",
       "        vertical-align: top;\n",
       "    }\n",
       "\n",
       "    .dataframe thead th {\n",
       "        text-align: right;\n",
       "    }\n",
       "</style>\n",
       "<table border=\"1\" class=\"dataframe\">\n",
       "  <thead>\n",
       "    <tr style=\"text-align: right;\">\n",
       "      <th></th>\n",
       "      <th>hypothesis</th>\n",
       "      <th>RICE</th>\n",
       "    </tr>\n",
       "  </thead>\n",
       "  <tbody>\n",
       "    <tr>\n",
       "      <th>7</th>\n",
       "      <td>Добавить форму подписки на все основные страницы, чтобы собрать базу клиентов для email-рассылок</td>\n",
       "      <td>112.0</td>\n",
       "    </tr>\n",
       "    <tr>\n",
       "      <th>2</th>\n",
       "      <td>Добавить блоки рекомендаций товаров на сайт интернет магазина, чтобы повысить конверсию и средний чек заказа</td>\n",
       "      <td>56.0</td>\n",
       "    </tr>\n",
       "    <tr>\n",
       "      <th>0</th>\n",
       "      <td>Добавить два новых канала привлечения трафика, что позволит привлекать на 30% больше пользователей</td>\n",
       "      <td>40.0</td>\n",
       "    </tr>\n",
       "    <tr>\n",
       "      <th>6</th>\n",
       "      <td>Показать на главной странице баннеры с актуальными акциями и распродажами, чтобы увеличить конверсию</td>\n",
       "      <td>40.0</td>\n",
       "    </tr>\n",
       "    <tr>\n",
       "      <th>8</th>\n",
       "      <td>Запустить акцию, дающую скидку на товар в день рождения</td>\n",
       "      <td>16.2</td>\n",
       "    </tr>\n",
       "    <tr>\n",
       "      <th>3</th>\n",
       "      <td>Изменить структура категорий, что увеличит конверсию, т.к. пользователи быстрее найдут нужный товар</td>\n",
       "      <td>9.0</td>\n",
       "    </tr>\n",
       "    <tr>\n",
       "      <th>1</th>\n",
       "      <td>Запустить собственную службу доставки, что сократит срок доставки заказов</td>\n",
       "      <td>4.0</td>\n",
       "    </tr>\n",
       "    <tr>\n",
       "      <th>5</th>\n",
       "      <td>Добавить страницу отзывов клиентов о магазине, что позволит увеличить количество заказов</td>\n",
       "      <td>4.0</td>\n",
       "    </tr>\n",
       "    <tr>\n",
       "      <th>4</th>\n",
       "      <td>Изменить цвет фона главной страницы, чтобы увеличить вовлеченность пользователей</td>\n",
       "      <td>3.0</td>\n",
       "    </tr>\n",
       "  </tbody>\n",
       "</table>\n",
       "</div>"
      ],
      "text/plain": [
       "                                                                                                     hypothesis  \\\n",
       "7              Добавить форму подписки на все основные страницы, чтобы собрать базу клиентов для email-рассылок   \n",
       "2  Добавить блоки рекомендаций товаров на сайт интернет магазина, чтобы повысить конверсию и средний чек заказа   \n",
       "0            Добавить два новых канала привлечения трафика, что позволит привлекать на 30% больше пользователей   \n",
       "6          Показать на главной странице баннеры с актуальными акциями и распродажами, чтобы увеличить конверсию   \n",
       "8                                                       Запустить акцию, дающую скидку на товар в день рождения   \n",
       "3           Изменить структура категорий, что увеличит конверсию, т.к. пользователи быстрее найдут нужный товар   \n",
       "1                                     Запустить собственную службу доставки, что сократит срок доставки заказов   \n",
       "5                      Добавить страницу отзывов клиентов о магазине, что позволит увеличить количество заказов   \n",
       "4                              Изменить цвет фона главной страницы, чтобы увеличить вовлеченность пользователей   \n",
       "\n",
       "    RICE  \n",
       "7  112.0  \n",
       "2   56.0  \n",
       "0   40.0  \n",
       "6   40.0  \n",
       "8   16.2  \n",
       "3    9.0  \n",
       "1    4.0  \n",
       "5    4.0  \n",
       "4    3.0  "
      ]
     },
     "metadata": {},
     "output_type": "display_data"
    }
   ],
   "source": [
    "#ICE\n",
    "hypo['ICE'] = round(hypo['impact']*hypo['confidence']/hypo['efforts'],2)\n",
    "display(hypo[['hypothesis','ICE']].sort_values(by='ICE',ascending=False))\n",
    "\n",
    "#RICE\n",
    "hypo['RICE'] = round(hypo['reach']*hypo['impact']*hypo['confidence']/hypo['efforts'],2)\n",
    "display(hypo[['hypothesis','RICE']].sort_values(by='RICE',ascending=False))"
   ]
  },
  {
   "cell_type": "markdown",
   "metadata": {},
   "source": [
    "В способе `ICE` лидируют гипотезы: \n",
    "\n",
    "- запустить акцию, дающую скидку на товар в день рождения;\n",
    "\n",
    "- добавить два новых канала привлечения трафика, что позволит привлекать на 30% больше пользователей;\n",
    "\n",
    "- добавить форму подписки на все основные страницы, чтобы собрать базу клиентов для email-рассылок.\n",
    "\n",
    "В методике `RICE` с большим отрывом лидирует гипотеза:\n",
    "\n",
    "- добавить форму подписки на все основные страницы, чтобы собрать базу клиентов для email-рассылок.\n",
    "\n",
    "Сильно отстают:\n",
    "\n",
    "- добавить блоки рекомендаций товаров на сайт интернет магазина, чтобы повысить конверсию и средний чек заказа;\n",
    "\n",
    "- добавить два новых канала привлечения трафика, что позволит привлекать на 30% больше пользователей;\n",
    "\n",
    "- показать на главной странице баннеры с актуальными акциями и распродажами, чтобы увеличить конверсию.\n",
    "\n",
    "В дальнейшем лучше опираться на второй подход, учитывающий фактор `REACH`.\n",
    "\n",
    "## Анализ A/B-теста\n",
    "### График кумулятивной выручки по группам"
   ]
  },
  {
   "cell_type": "code",
   "execution_count": 13,
   "metadata": {},
   "outputs": [
    {
     "name": "stdout",
     "output_type": "stream",
     "text": [
      "        date group  orders  buyers  revenue  visitors\n",
      "0 2019-08-01     A      24      20   148579       719\n",
      "1 2019-08-01     B      21      20   101217       713\n",
      "2 2019-08-02     A      44      38   242401      1338\n",
      "3 2019-08-02     B      45      43   266748      1294\n",
      "4 2019-08-03     A      68      62   354874      1845\n"
     ]
    },
    {
     "data": {
      "image/png": "[encoded data removed]",
      "text/plain": [
       "<Figure size 1080x720 with 1 Axes>"
      ]
     },
     "metadata": {},
     "output_type": "display_data"
    }
   ],
   "source": [
    "# построение графика кумулятивной выручки по группам\n",
    "\n",
    "# создаем массив уникальных пар значений дат и групп теста\n",
    "datesGroups = orders[['date','group']].drop_duplicates()\n",
    "\n",
    "# получаем агрегированные кумулятивные по дням данные о заказах \n",
    "ordersAggregated = datesGroups.apply(lambda x: orders[np.logical_and(orders['date'] <= x['date'], orders['group'] == x['group'])]\\\n",
    "                                     .agg({'date' : 'max', 'group' : 'max', 'transaction_id' : 'nunique', 'visitor_id' : 'nunique', 'revenue' : 'sum'}), axis=1).sort_values(by=['date','group'])\n",
    "\n",
    "# получаем агрегированные кумулятивные по дням данные о посетителях интернет-магазина \n",
    "visitorsAggregated = datesGroups.apply(lambda x: visitors[np.logical_and(visitors['date'] <= x['date'], visitors['group'] == x['group'])]\\\n",
    "                                       .agg({'date' : 'max', 'group' : 'max', 'visitors' : 'sum'}), axis=1).sort_values(by=['date','group'])\n",
    "\n",
    "# объединяем кумулятивные данные в одной таблице и присваиваем ее столбцам понятные названия\n",
    "cumulativeData = ordersAggregated.merge(visitorsAggregated, left_on=['date', 'group'], right_on=['date', 'group'])\n",
    "cumulativeData.columns = ['date', 'group', 'orders', 'buyers', 'revenue', 'visitors']\n",
    "\n",
    "print(cumulativeData.head(5)) \n",
    "\n",
    "# датафрейм с кумулятивным количеством заказов и кумулятивной выручкой по дням в группе А\n",
    "cumulativeRevenueA = cumulativeData[cumulativeData['group']=='A'][['date','revenue', 'orders']]\n",
    "\n",
    "# датафрейм с кумулятивным количеством заказов и кумулятивной выручкой по дням в группе B\n",
    "cumulativeRevenueB = cumulativeData[cumulativeData['group']=='B'][['date','revenue', 'orders']]\n",
    "\n",
    "# график\n",
    "plt.figure(figsize=(15,10))\n",
    "plt.plot(cumulativeRevenueA['date'], cumulativeRevenueA['revenue'], label='A')\n",
    "plt.plot(cumulativeRevenueB['date'], cumulativeRevenueB['revenue'], label='B')\n",
    "plt.xticks(rotation=45)\n",
    "plt.grid(True)\n",
    "plt.title(\"Кумулятивная выручка по группам\")\n",
    "plt.xlabel(\"Дата\")\n",
    "plt.ylabel(\"Выручка\")\n",
    "plt.legend() \n",
    "plt.show()"
   ]
  },
  {
   "cell_type": "markdown",
   "metadata": {},
   "source": [
    "Почти с самого начала месяца выручка по группе B растёт быстрее, чем по группе A. Начиная с 13 августа этот разрыв сильно увеличился. У группы B заметен резкий рост выручки примерно 18-19 августа."
   ]
  },
  {
   "cell_type": "code",
   "execution_count": 14,
   "metadata": {},
   "outputs": [
    {
     "data": {
      "text/html": [
       "<div>\n",
       "<style scoped>\n",
       "    .dataframe tbody tr th:only-of-type {\n",
       "        vertical-align: middle;\n",
       "    }\n",
       "\n",
       "    .dataframe tbody tr th {\n",
       "        vertical-align: top;\n",
       "    }\n",
       "\n",
       "    .dataframe thead th {\n",
       "        text-align: right;\n",
       "    }\n",
       "</style>\n",
       "<table border=\"1\" class=\"dataframe\">\n",
       "  <thead>\n",
       "    <tr style=\"text-align: right;\">\n",
       "      <th></th>\n",
       "      <th>date</th>\n",
       "      <th>revenue</th>\n",
       "      <th>orders</th>\n",
       "    </tr>\n",
       "  </thead>\n",
       "  <tbody>\n",
       "    <tr>\n",
       "      <th>35</th>\n",
       "      <td>2019-08-18</td>\n",
       "      <td>2686621</td>\n",
       "      <td>382</td>\n",
       "    </tr>\n",
       "    <tr>\n",
       "      <th>37</th>\n",
       "      <td>2019-08-19</td>\n",
       "      <td>4116541</td>\n",
       "      <td>403</td>\n",
       "    </tr>\n",
       "  </tbody>\n",
       "</table>\n",
       "</div>"
      ],
      "text/plain": [
       "         date  revenue  orders\n",
       "35 2019-08-18  2686621     382\n",
       "37 2019-08-19  4116541     403"
      ]
     },
     "execution_count": 14,
     "metadata": {},
     "output_type": "execute_result"
    }
   ],
   "source": [
    "# сделаем срез данных нашей сгруппированной таблицы по периоду 18-19 августа\n",
    "cumulativeRevenueB_18_19 = cumulativeRevenueB.query('date >= \"2019-08-18\" and date <= \"2019-08-19\"')\n",
    "cumulativeRevenueB_18_19"
   ]
  },
  {
   "cell_type": "markdown",
   "metadata": {},
   "source": [
    "Сильный рост выручки за 1 день. Следует проверить заказы, сделанные 19 августа."
   ]
  },
  {
   "cell_type": "code",
   "execution_count": 15,
   "metadata": {},
   "outputs": [
    {
     "data": {
      "text/html": [
       "<div>\n",
       "<style scoped>\n",
       "    .dataframe tbody tr th:only-of-type {\n",
       "        vertical-align: middle;\n",
       "    }\n",
       "\n",
       "    .dataframe tbody tr th {\n",
       "        vertical-align: top;\n",
       "    }\n",
       "\n",
       "    .dataframe thead th {\n",
       "        text-align: right;\n",
       "    }\n",
       "</style>\n",
       "<table border=\"1\" class=\"dataframe\">\n",
       "  <thead>\n",
       "    <tr style=\"text-align: right;\">\n",
       "      <th></th>\n",
       "      <th>transaction_id</th>\n",
       "      <th>visitor_id</th>\n",
       "      <th>date</th>\n",
       "      <th>revenue</th>\n",
       "      <th>group</th>\n",
       "    </tr>\n",
       "  </thead>\n",
       "  <tbody>\n",
       "    <tr>\n",
       "      <th>425</th>\n",
       "      <td>590470918</td>\n",
       "      <td>1920142716</td>\n",
       "      <td>2019-08-19</td>\n",
       "      <td>1294500</td>\n",
       "      <td>B</td>\n",
       "    </tr>\n",
       "    <tr>\n",
       "      <th>527</th>\n",
       "      <td>1570513684</td>\n",
       "      <td>2837914161</td>\n",
       "      <td>2019-08-19</td>\n",
       "      <td>33405</td>\n",
       "      <td>B</td>\n",
       "    </tr>\n",
       "    <tr>\n",
       "      <th>461</th>\n",
       "      <td>2683113224</td>\n",
       "      <td>154576532</td>\n",
       "      <td>2019-08-19</td>\n",
       "      <td>26550</td>\n",
       "      <td>B</td>\n",
       "    </tr>\n",
       "    <tr>\n",
       "      <th>368</th>\n",
       "      <td>3268879337</td>\n",
       "      <td>2536252163</td>\n",
       "      <td>2019-08-19</td>\n",
       "      <td>20026</td>\n",
       "      <td>B</td>\n",
       "    </tr>\n",
       "    <tr>\n",
       "      <th>463</th>\n",
       "      <td>4170537404</td>\n",
       "      <td>290022471</td>\n",
       "      <td>2019-08-19</td>\n",
       "      <td>16480</td>\n",
       "      <td>B</td>\n",
       "    </tr>\n",
       "    <tr>\n",
       "      <th>423</th>\n",
       "      <td>4161654914</td>\n",
       "      <td>990904712</td>\n",
       "      <td>2019-08-19</td>\n",
       "      <td>11249</td>\n",
       "      <td>B</td>\n",
       "    </tr>\n",
       "    <tr>\n",
       "      <th>523</th>\n",
       "      <td>1739748874</td>\n",
       "      <td>522292794</td>\n",
       "      <td>2019-08-19</td>\n",
       "      <td>4880</td>\n",
       "      <td>B</td>\n",
       "    </tr>\n",
       "    <tr>\n",
       "      <th>367</th>\n",
       "      <td>1033377712</td>\n",
       "      <td>3860669668</td>\n",
       "      <td>2019-08-19</td>\n",
       "      <td>3990</td>\n",
       "      <td>B</td>\n",
       "    </tr>\n",
       "    <tr>\n",
       "      <th>529</th>\n",
       "      <td>90109939</td>\n",
       "      <td>2075769885</td>\n",
       "      <td>2019-08-19</td>\n",
       "      <td>3525</td>\n",
       "      <td>B</td>\n",
       "    </tr>\n",
       "    <tr>\n",
       "      <th>426</th>\n",
       "      <td>19467429</td>\n",
       "      <td>2397843657</td>\n",
       "      <td>2019-08-19</td>\n",
       "      <td>2630</td>\n",
       "      <td>B</td>\n",
       "    </tr>\n",
       "    <tr>\n",
       "      <th>363</th>\n",
       "      <td>2096847394</td>\n",
       "      <td>4251115836</td>\n",
       "      <td>2019-08-19</td>\n",
       "      <td>2500</td>\n",
       "      <td>B</td>\n",
       "    </tr>\n",
       "    <tr>\n",
       "      <th>315</th>\n",
       "      <td>1939633950</td>\n",
       "      <td>157579733</td>\n",
       "      <td>2019-08-19</td>\n",
       "      <td>2330</td>\n",
       "      <td>B</td>\n",
       "    </tr>\n",
       "    <tr>\n",
       "      <th>427</th>\n",
       "      <td>3019510679</td>\n",
       "      <td>2397843657</td>\n",
       "      <td>2019-08-19</td>\n",
       "      <td>1460</td>\n",
       "      <td>B</td>\n",
       "    </tr>\n",
       "    <tr>\n",
       "      <th>320</th>\n",
       "      <td>1652782757</td>\n",
       "      <td>2763027084</td>\n",
       "      <td>2019-08-19</td>\n",
       "      <td>1460</td>\n",
       "      <td>B</td>\n",
       "    </tr>\n",
       "    <tr>\n",
       "      <th>319</th>\n",
       "      <td>2414788465</td>\n",
       "      <td>2247745159</td>\n",
       "      <td>2019-08-19</td>\n",
       "      <td>1435</td>\n",
       "      <td>B</td>\n",
       "    </tr>\n",
       "    <tr>\n",
       "      <th>486</th>\n",
       "      <td>752294429</td>\n",
       "      <td>2758621772</td>\n",
       "      <td>2019-08-19</td>\n",
       "      <td>1130</td>\n",
       "      <td>B</td>\n",
       "    </tr>\n",
       "    <tr>\n",
       "      <th>429</th>\n",
       "      <td>2436528253</td>\n",
       "      <td>1060341621</td>\n",
       "      <td>2019-08-19</td>\n",
       "      <td>1100</td>\n",
       "      <td>B</td>\n",
       "    </tr>\n",
       "    <tr>\n",
       "      <th>526</th>\n",
       "      <td>1654949825</td>\n",
       "      <td>1335154194</td>\n",
       "      <td>2019-08-19</td>\n",
       "      <td>500</td>\n",
       "      <td>B</td>\n",
       "    </tr>\n",
       "    <tr>\n",
       "      <th>424</th>\n",
       "      <td>2609443403</td>\n",
       "      <td>2406916810</td>\n",
       "      <td>2019-08-19</td>\n",
       "      <td>470</td>\n",
       "      <td>B</td>\n",
       "    </tr>\n",
       "    <tr>\n",
       "      <th>322</th>\n",
       "      <td>3154167297</td>\n",
       "      <td>2091902649</td>\n",
       "      <td>2019-08-19</td>\n",
       "      <td>250</td>\n",
       "      <td>B</td>\n",
       "    </tr>\n",
       "    <tr>\n",
       "      <th>459</th>\n",
       "      <td>863448794</td>\n",
       "      <td>2738601405</td>\n",
       "      <td>2019-08-19</td>\n",
       "      <td>50</td>\n",
       "      <td>B</td>\n",
       "    </tr>\n",
       "  </tbody>\n",
       "</table>\n",
       "</div>"
      ],
      "text/plain": [
       "     transaction_id  visitor_id       date  revenue group\n",
       "425       590470918  1920142716 2019-08-19  1294500     B\n",
       "527      1570513684  2837914161 2019-08-19    33405     B\n",
       "461      2683113224   154576532 2019-08-19    26550     B\n",
       "368      3268879337  2536252163 2019-08-19    20026     B\n",
       "463      4170537404   290022471 2019-08-19    16480     B\n",
       "423      4161654914   990904712 2019-08-19    11249     B\n",
       "523      1739748874   522292794 2019-08-19     4880     B\n",
       "367      1033377712  3860669668 2019-08-19     3990     B\n",
       "529        90109939  2075769885 2019-08-19     3525     B\n",
       "426        19467429  2397843657 2019-08-19     2630     B\n",
       "363      2096847394  4251115836 2019-08-19     2500     B\n",
       "315      1939633950   157579733 2019-08-19     2330     B\n",
       "427      3019510679  2397843657 2019-08-19     1460     B\n",
       "320      1652782757  2763027084 2019-08-19     1460     B\n",
       "319      2414788465  2247745159 2019-08-19     1435     B\n",
       "486       752294429  2758621772 2019-08-19     1130     B\n",
       "429      2436528253  1060341621 2019-08-19     1100     B\n",
       "526      1654949825  1335154194 2019-08-19      500     B\n",
       "424      2609443403  2406916810 2019-08-19      470     B\n",
       "322      3154167297  2091902649 2019-08-19      250     B\n",
       "459       863448794  2738601405 2019-08-19       50     B"
      ]
     },
     "metadata": {},
     "output_type": "display_data"
    },
    {
     "data": {
      "text/plain": [
       "6771.0"
      ]
     },
     "metadata": {},
     "output_type": "display_data"
    }
   ],
   "source": [
    "orders_19_В = orders.query('date==\"2019-08-19\" and group==\"B\"')\n",
    "display(orders_19_В.sort_values (by = 'revenue', ascending=False))\n",
    "display(orders_19_В[orders_19_В['revenue'] != 1294500]['revenue'].mean())"
   ]
  },
  {
   "cell_type": "markdown",
   "metadata": {},
   "source": [
    "Наблюдается аномальное значение. Заказ на сумму 1 294 500 д.е. явно выбивается из общей картины. Удалять его, конечно, не нужно, т.к. это повлияет на дальнейший анализ.\n",
    "### График кумулятивного среднего чека по группам"
   ]
  },
  {
   "cell_type": "code",
   "execution_count": 16,
   "metadata": {},
   "outputs": [
    {
     "data": {
      "image/png": "[encoded data removed]",
      "text/plain": [
       "<Figure size 1080x720 with 1 Axes>"
      ]
     },
     "metadata": {},
     "output_type": "display_data"
    }
   ],
   "source": [
    "# построение графика кумулятивного среднего чека по группам\n",
    "plt.figure(figsize=(15,10))\n",
    "plt.plot(cumulativeRevenueA['date'], cumulativeRevenueA['revenue']/cumulativeRevenueA['orders'], label='A')\n",
    "plt.plot(cumulativeRevenueB['date'], cumulativeRevenueB['revenue']/cumulativeRevenueB['orders'], label='B')\n",
    "plt.xticks(rotation=45)\n",
    "plt.grid(True)\n",
    "plt.title(\"Кумулятивный средний чек по группам\")\n",
    "plt.xlabel(\"Дата\")\n",
    "plt.ylabel(\"Средний чек\")\n",
    "plt.legend() \n",
    "plt.show()"
   ]
  },
  {
   "cell_type": "markdown",
   "metadata": {},
   "source": [
    "И снова аномалии от 19 августа у группы B. Тем не менее, после этой даты средний чек не падает с такой же стремительной скоростью, а лишь немного снижается, не нарушая общей тенденции к росту.\n",
    "\n",
    "А, вот, группа А начинает фиксировать свои границы среднего чека в районе 7 000 д.е.\n",
    "### График относительного изменения кумулятивного среднего чека"
   ]
  },
  {
   "cell_type": "code",
   "execution_count": 17,
   "metadata": {},
   "outputs": [
    {
     "data": {
      "image/png": "[encoded data removed]",
      "text/plain": [
       "<Figure size 1080x720 with 1 Axes>"
      ]
     },
     "metadata": {},
     "output_type": "display_data"
    }
   ],
   "source": [
    "# построение графика относительного изменения кумулятивного среднего чека группы B к группе A\n",
    "mergedCumulativeRevenue = cumulativeRevenueA.merge(cumulativeRevenueB, left_on='date', right_on='date', how='left', suffixes=['A', 'B'])\n",
    "\n",
    "plt.figure(figsize=(15,10))\n",
    "plt.plot(mergedCumulativeRevenue['date'], (mergedCumulativeRevenue['revenueB']/mergedCumulativeRevenue['ordersB'])/(mergedCumulativeRevenue['revenueA']/mergedCumulativeRevenue['ordersA'])-1)\n",
    "plt.xticks(rotation=45)\n",
    "plt.axhline(y=0, color='black', linestyle='--') \n",
    "plt.show()"
   ]
  },
  {
   "cell_type": "markdown",
   "metadata": {},
   "source": [
    "Результаты группы В заметно лучше результатов группы А.\n",
    "### График кумулятивного среднего количества заказов на посетителя"
   ]
  },
  {
   "cell_type": "code",
   "execution_count": 18,
   "metadata": {},
   "outputs": [
    {
     "data": {
      "image/png": "[encoded data removed]",
      "text/plain": [
       "<Figure size 1080x720 with 1 Axes>"
      ]
     },
     "metadata": {},
     "output_type": "display_data"
    }
   ],
   "source": [
    "# построение графика кумулятивного среднего количества заказов на посетителя по группам\n",
    "\n",
    "# считаем среднее количество заказов на посетителя\n",
    "cumulativeData['conversion'] = (cumulativeData['orders']/cumulativeData['visitors']).round(4)\n",
    "\n",
    "# отделяем данные по группе A\n",
    "cumulativeDataA = cumulativeData[cumulativeData['group']=='A']\n",
    "\n",
    "# отделяем данные по группе B\n",
    "cumulativeDataB = cumulativeData[cumulativeData['group']=='B']\n",
    "\n",
    "plt.figure(figsize=(15,10))\n",
    "plt.plot(cumulativeDataA['date'], cumulativeDataA['conversion'], label='A')\n",
    "plt.plot(cumulativeDataB['date'], cumulativeDataB['conversion'], label='B')\n",
    "plt.xticks(rotation=45)\n",
    "plt.grid(True)\n",
    "plt.title(\"Кумулятивное среднее количество заказов по группам\")\n",
    "plt.xlabel(\"Дата\")\n",
    "plt.ylabel(\"Количество заказов\")\n",
    "plt.legend()\n",
    "plt.show()"
   ]
  },
  {
   "cell_type": "markdown",
   "metadata": {},
   "source": [
    "После скачков в начале месяца примерно после 9 числа ситуация нормализуется для каждой группы. Показатель среднего количества заказов в группе В немного лучше.\n",
    "\n",
    "### График относительного изменения кумулятивного среднего количества заказов на посетителя"
   ]
  },
  {
   "cell_type": "code",
   "execution_count": 19,
   "metadata": {},
   "outputs": [
    {
     "data": {
      "image/png": "[encoded data removed]",
      "text/plain": [
       "<Figure size 1008x720 with 1 Axes>"
      ]
     },
     "metadata": {},
     "output_type": "display_data"
    }
   ],
   "source": [
    "# построение графика относительного изменения кумулятивного среднего количества заказов \n",
    "# на посетителя группы B к группе A\n",
    "\n",
    "mergedCumulativeConversions = cumulativeDataA[['date','conversion']].merge(cumulativeDataB[['date','conversion']], left_on='date', right_on='date', how='left', suffixes=['A', 'B'])\n",
    "\n",
    "plt.figure(figsize=(14,10))\n",
    "plt.plot(mergedCumulativeConversions['date'], mergedCumulativeConversions['conversionB']/mergedCumulativeConversions['conversionA']-1, label=\"Относительный прирост конверсии группы B относительно группы A\")\n",
    "plt.xticks(rotation=45)\n",
    "plt.title('График относительного изменения кумулятивного среднего количества заказов на посетителя')\n",
    "plt.axhline(y=0, color='red', linestyle='--')\n",
    "plt.axhline(y=0.1, color='grey', linestyle='--')\n",
    "plt.axhline(y=0.2, color='grey', linestyle='--')\n",
    "plt.show()"
   ]
  },
  {
   "cell_type": "markdown",
   "metadata": {},
   "source": [
    "Начиная с 6 августа куммулятивное среднее количество заказов группы В значительно лучше группы А. \n",
    "### Точечный график количества заказов"
   ]
  },
  {
   "cell_type": "code",
   "execution_count": 20,
   "metadata": {},
   "outputs": [
    {
     "name": "stdout",
     "output_type": "stream",
     "text": [
      "         user_id  orders\n",
      "1023  4256040402      11\n",
      "591   2458001652      11\n",
      "569   2378935119       9\n",
      "487   2038680547       8\n",
      "44     199603092       5\n",
      "744   3062433592       5\n",
      "55     237748145       5\n",
      "917   3803269165       5\n",
      "299   1230306981       5\n",
      "897   3717692402       5\n"
     ]
    },
    {
     "data": {
      "image/png": "[encoded data removed]",
      "text/plain": [
       "<Figure size 1008x432 with 1 Axes>"
      ]
     },
     "metadata": {},
     "output_type": "display_data"
    }
   ],
   "source": [
    "# построение точечного графика количества заказов по пользователям\n",
    "\n",
    "ordersByUsers = (\n",
    "    orders.groupby('visitor_id', as_index=False)\n",
    "    .agg({'transaction_id': 'nunique'})\n",
    ")\n",
    "ordersByUsers.columns = ['user_id', 'orders']\n",
    "print(ordersByUsers.sort_values(by='orders', ascending=False).head(10)) \n",
    "\n",
    "x_values = pd.Series(range(0, len(ordersByUsers)))\n",
    "plt.figure(figsize=(14, 6))\n",
    "plt.scatter(x_values, ordersByUsers['orders'], marker='o', alpha=0.5)\n",
    "plt.grid(True)\n",
    "plt.title(\"Точечный график количества заказов\", fontsize=16)\n",
    "plt.ylabel(\"Количество заказов\", fontsize=14)\n",
    "plt.show()"
   ]
  },
  {
   "cell_type": "markdown",
   "metadata": {},
   "source": [
    "Большинство пользователей сделали 1-2 заказа, но есть пользователи с 5 заказами. 8, 9 и 11 заказами. Возможно, у них возникали экстренные ситуации для таких действий, но это очень похоже на выбросы."
   ]
  },
  {
   "cell_type": "code",
   "execution_count": 21,
   "metadata": {},
   "outputs": [
    {
     "name": "stdout",
     "output_type": "stream",
     "text": [
      "Процентили количества заказов на одного кользователя 95,96,97,98,99: [2. 2. 2. 3. 4.]\n",
      "Процентили количества заказов на одного кользователя - 98%: [3.]\n"
     ]
    }
   ],
   "source": [
    "percentiles = np.percentile(ordersByUsers['orders'], [95,96,97,98,99])\n",
    "print('Процентили количества заказов на одного кользователя 95,96,97,98,99:', percentiles)\n",
    "\n",
    "percentiles_98 = np.percentile(ordersByUsers['orders'], [98])\n",
    "print('Процентили количества заказов на одного кользователя - 98%:', percentiles_98)"
   ]
  },
  {
   "cell_type": "markdown",
   "metadata": {},
   "source": [
    "**98% пользователей сделали менее 3 заказов**\n",
    "### Точечный график стоимости заказов"
   ]
  },
  {
   "cell_type": "code",
   "execution_count": 22,
   "metadata": {},
   "outputs": [
    {
     "data": {
      "image/png": "[encoded data removed]",
      "text/plain": [
       "<Figure size 1008x432 with 1 Axes>"
      ]
     },
     "metadata": {},
     "output_type": "display_data"
    }
   ],
   "source": [
    "# построение точечного графика стоимостей заказов\n",
    "x_values = pd.Series(range(0, len(orders)))\n",
    "plt.figure(figsize=(14, 6))\n",
    "plt.scatter(x_values, orders['revenue'], marker='o', alpha=0.8)\n",
    "plt.grid(True)\n",
    "plt.title(\"Точечный график стоимости заказов\", fontsize=16)\n",
    "plt.ylabel(\"Стоиомсть заказов\", fontsize=14)\n",
    "plt.show()"
   ]
  },
  {
   "cell_type": "markdown",
   "metadata": {},
   "source": [
    "Судя по графику, большинство заказов имеют стоимость в пределах нормы, но есть выбросы."
   ]
  },
  {
   "cell_type": "code",
   "execution_count": 23,
   "metadata": {},
   "outputs": [
    {
     "name": "stdout",
     "output_type": "stream",
     "text": [
      "Процентили стоимости заказов на одного кользователя 95,96,97,98,99: [28000.  31382.  35485.  44133.2 58233.2]\n",
      "Процентили стоимости заказов на одного кользователя - 99%: [58233.2]\n",
      "Процентили стоимости заказов на одного кользователя - 99.5%: [78990.]\n"
     ]
    }
   ],
   "source": [
    "percentiles = np.percentile(orders['revenue'], [95,96,97,98,99])\n",
    "print('Процентили стоимости заказов на одного кользователя 95,96,97,98,99:', percentiles)\n",
    "percentiles_99 = np.percentile(orders['revenue'], [99])\n",
    "print('Процентили стоимости заказов на одного кользователя - 99%:', percentiles_99)\n",
    "percentiles_995 = np.percentile(orders['revenue'], [99.5])\n",
    "print('Процентили стоимости заказов на одного кользователя - 99.5%:', percentiles_995)"
   ]
  },
  {
   "cell_type": "markdown",
   "metadata": {},
   "source": [
    "**99.5% заказов имеют стоимость ниже 79 000 д.е.**"
   ]
  },
  {
   "cell_type": "code",
   "execution_count": 24,
   "metadata": {
    "scrolled": true
   },
   "outputs": [
    {
     "data": {
      "image/png": "[encoded data removed]",
      "text/plain": [
       "<Figure size 1008x432 with 1 Axes>"
      ]
     },
     "metadata": {},
     "output_type": "display_data"
    }
   ],
   "source": [
    "orders_drop_anomaly = orders.query ('revenue <= 200000')\n",
    "x_values = pd.Series(range(0, len(orders_drop_anomaly)))\n",
    "plt.figure(figsize=(14, 6))\n",
    "plt.scatter(x_values, orders_drop_anomaly['revenue'], marker='o', alpha=0.8)\n",
    "plt.grid(True)\n",
    "plt.title(\"Точечный график стоимости заказов\", fontsize=16)\n",
    "plt.ylabel(\"Стоиомсть заказов\", fontsize=14)\n",
    "plt.show()"
   ]
  },
  {
   "cell_type": "markdown",
   "metadata": {},
   "source": [
    "**Почти все заказы дешевле 90 000 д.е.**\n",
    "### Рассчёт статистической значимости различий в среднем количестве заказов на посетителя между группами по «сырым» данным\n",
    "\n",
    "*H0: различий в среднем количестве заказов между группами нет.*\n",
    "\n",
    "*H1: различия в среднем количестве заказов между группами есть.*\n",
    "\n",
    "**alpha=0.5**\n",
    "\n",
    "Будем использовать U-критерий Манна-Уитни"
   ]
  },
  {
   "cell_type": "code",
   "execution_count": 25,
   "metadata": {},
   "outputs": [
    {
     "name": "stdout",
     "output_type": "stream",
     "text": [
      "alpha = 0.05\n",
      "p-value = 0.017\n",
      "Различие в средних = 0.138\n"
     ]
    }
   ],
   "source": [
    "# рассчёт стат. значимости различий в среднем количестве заказов на посетителя между группами\n",
    "visitorsADaily = visitors[visitors['group'] == 'A'][['date', 'visitors']]\n",
    "visitorsADaily.columns = ['date', 'visitorsPerDateA']\n",
    "\n",
    "visitorsBDaily = visitors[visitors['group'] == 'B'][['date', 'visitors']]\n",
    "visitorsBDaily.columns = ['date', 'visitorsPerDateB']\n",
    "\n",
    "ordersByUsersA = (\n",
    "    orders[orders['group'] == 'A']\n",
    "    .groupby('visitor_id', as_index=False)\n",
    "    .agg({'transaction_id': pd.Series.nunique})\n",
    ")\n",
    "ordersByUsersA.columns = ['user_id', 'orders']\n",
    "\n",
    "ordersByUsersB = (\n",
    "    orders[orders['group'] == 'B']\n",
    "    .groupby('visitor_id', as_index=False)\n",
    "    .agg({'transaction_id': pd.Series.nunique})\n",
    ")\n",
    "ordersByUsersB.columns = ['user_id', 'orders']\n",
    "\n",
    "sampleA = pd.concat([ordersByUsersA['orders'],pd.Series(\n",
    "    0, index=np.arange(visitorsADaily['visitorsPerDateA'].sum() - len(\n",
    "        ordersByUsersA['orders'])), name='orders')],axis=0)\n",
    "\n",
    "sampleB = pd.concat([ordersByUsersB['orders'],pd.Series(\n",
    "    0, index=np.arange(visitorsBDaily['visitorsPerDateB'].sum() - len(\n",
    "        ordersByUsersB['orders'])), name='orders')],axis=0)\n",
    "\n",
    "\n",
    "print('alpha =',0.05)\n",
    "print(\"p-value = {0:.3f}\".format(st.mannwhitneyu(sampleA, sampleB)[1]))\n",
    "print(\"Различие в средних = {0:.3f}\".format(sampleB.mean() / sampleA.mean() - 1))"
   ]
  },
  {
   "cell_type": "markdown",
   "metadata": {},
   "source": [
    "По \"сырым\" данным наблюдается статистическая значимая разница, поскольку p-value меньше 0,05. Относительный выигрыш группы В к группе А около 13,8%.\n",
    "\n",
    "При заданном `alpha` нулевую гипотезу отвергаем, статистическая значимость различий по \"сырым\" данным есть.\n",
    "### Рассчёт статистической значимости различий в среднем чеке заказа между группами по «сырым» данным\n",
    "\n",
    "*H0: различий в среднем чеке заказа между группами нет.*\n",
    "\n",
    "*H1: различия в среднем чеке заказа между группами есть.*\n",
    "\n",
    "**alpha=0.5**\n",
    "\n",
    "Будем использовать U-критерий Манна-Уитни"
   ]
  },
  {
   "cell_type": "code",
   "execution_count": 26,
   "metadata": {},
   "outputs": [
    {
     "name": "stdout",
     "output_type": "stream",
     "text": [
      "alpha = 0.05\n",
      "p-value = 0.729\n",
      "Различие в средних = 0.259\n"
     ]
    }
   ],
   "source": [
    "# рассчёт стат. значимости различий в среднем чеке заказа на посетителя между группами\n",
    "print('alpha =',0.05)\n",
    "print('p-value = {0:.3f}'.format(stats.mannwhitneyu(orders[orders['group']=='A']['revenue'], orders[orders['group']=='B']['revenue'])[1]))\n",
    "print('Различие в средних = {0:.3f}'.format(orders[orders['group']=='B']['revenue'].mean()/orders[orders['group']=='A']['revenue'].mean()-1)) "
   ]
  },
  {
   "cell_type": "markdown",
   "metadata": {},
   "source": [
    "По \"сырым\" данным не наблюдается статистически значимой разницы, поскольку p-value значительно больше 0.05. Значит, нет причин отвергать нулевую гипотезу о равенстве средних чеков. \n",
    "\n",
    "### Рассчёт статистической значимости различий в среднем количестве заказов на посетителя между группами по «очищенным» данным\n",
    "\n",
    "*H0: различий в среднем количестве заказов между группами нет.*\n",
    "\n",
    "*H1: различия в среднем количестве заказов между группами есть.*\n",
    "\n",
    "**alpha=0.5**\n",
    "\n",
    "Будем использовать U-критерий Манна-Уитни"
   ]
  },
  {
   "cell_type": "code",
   "execution_count": 27,
   "metadata": {},
   "outputs": [
    {
     "data": {
      "text/plain": [
       "18    199603092\n",
       "23    237748145\n",
       "37    249864742\n",
       "68    457167155\n",
       "68    611059232\n",
       "dtype: int64"
      ]
     },
     "metadata": {},
     "output_type": "display_data"
    },
    {
     "name": "stdout",
     "output_type": "stream",
     "text": [
      "25\n"
     ]
    }
   ],
   "source": [
    "# очищение данных\n",
    "usersWithManyOrders = pd.concat(\n",
    "    [\n",
    "        ordersByUsersA[ordersByUsersA['orders'] >= percentiles_98[0]]['user_id'],\n",
    "        ordersByUsersB[ordersByUsersB['orders'] >= percentiles_98[0]]['user_id'],\n",
    "    ],\n",
    "    axis=0,\n",
    ")\n",
    "usersWithExpensiveOrders = orders[orders['revenue'] > percentiles_995[0]]['visitor_id']\n",
    "abnormalUsers = (\n",
    "    pd.concat([usersWithManyOrders, usersWithExpensiveOrders], axis=0)\n",
    "    .drop_duplicates()\n",
    "    .sort_values()\n",
    ")\n",
    "display(abnormalUsers.head(5))\n",
    "print(abnormalUsers.shape[0]) "
   ]
  },
  {
   "cell_type": "markdown",
   "metadata": {},
   "source": [
    "**Найдено 25 аномальных пользователей**"
   ]
  },
  {
   "cell_type": "code",
   "execution_count": 28,
   "metadata": {},
   "outputs": [
    {
     "name": "stdout",
     "output_type": "stream",
     "text": [
      "alpha = 0.05\n",
      "p-value = 0.013\n",
      "Различие в средних = 0.167\n"
     ]
    }
   ],
   "source": [
    "sampleAFiltered = pd.concat(\n",
    "    [\n",
    "        ordersByUsersA[\n",
    "            np.logical_not(ordersByUsersA['user_id'].isin(abnormalUsers))\n",
    "        ]['orders'],\n",
    "        pd.Series(\n",
    "            0,\n",
    "            index=np.arange(\n",
    "                visitorsADaily['visitorsPerDateA'].sum() - len(ordersByUsersA['orders'])\n",
    "            ),\n",
    "            name='orders',\n",
    "        ),\n",
    "    ],\n",
    "    axis=0,\n",
    ")\n",
    "\n",
    "sampleBFiltered = pd.concat(\n",
    "    [\n",
    "        ordersByUsersB[\n",
    "            np.logical_not(ordersByUsersB['user_id'].isin(abnormalUsers))\n",
    "        ]['orders'],\n",
    "        pd.Series(\n",
    "            0,\n",
    "            index=np.arange(\n",
    "                visitorsBDaily['visitorsPerDateB'].sum() - len(ordersByUsersB['orders'])\n",
    "            ),\n",
    "            name='orders',\n",
    "        ),\n",
    "    ],\n",
    "    axis=0,\n",
    ") \n",
    "print('alpha =',0.05)\n",
    "print('p-value = {0:.3f}'.format(st.mannwhitneyu(sampleAFiltered, sampleBFiltered)[1]))\n",
    "print('Различие в средних = {0:.3f}'.format(sampleBFiltered.mean()/sampleAFiltered.mean()-1)) "
   ]
  },
  {
   "cell_type": "markdown",
   "metadata": {},
   "source": [
    "По \"очищенным\" данным наблюдается статистическая значимая разница, поскольку p-value меньше 0,05. Относительный выигрыш группы В к группе А около 16,7%.\n",
    "\n",
    "При заданном `alpha` нулевую гипотезу отвергаем, статистическая значимость различий по \"очищенным\" данным есть.\n",
    "### Рассчёт статистической значимости различий в среднем чеке заказа между группами по «очищенным» данным\n",
    "\n",
    "*H0: различий в среднем чеке заказа между группами нет.*\n",
    "\n",
    "*H1: различия в среднем чеке заказа между группами есть.*\n",
    "\n",
    "**alpha=0.5**\n",
    "\n",
    "Будем использовать U-критерий Манна-Уитни"
   ]
  },
  {
   "cell_type": "code",
   "execution_count": 29,
   "metadata": {},
   "outputs": [
    {
     "name": "stdout",
     "output_type": "stream",
     "text": [
      "alpha = 0.05\n",
      "p-value = 0.659\n",
      "Различие в средних = -0.075\n"
     ]
    }
   ],
   "source": [
    "print ('alpha =',0.05)\n",
    "print(\n",
    "    'p-value = {0:.3f}'.format(\n",
    "        stats.mannwhitneyu(\n",
    "            orders[\n",
    "                np.logical_and(\n",
    "                    orders['group'] == 'A',\n",
    "                    np.logical_not(orders['visitor_id'].isin(abnormalUsers)),\n",
    "                )\n",
    "            ]['revenue'],\n",
    "            orders[\n",
    "                np.logical_and(\n",
    "                    orders['group'] == 'B',\n",
    "                    np.logical_not(orders['visitor_id'].isin(abnormalUsers)),\n",
    "                )\n",
    "            ]['revenue'],\n",
    "        )[1]\n",
    "    )\n",
    ")\n",
    "\n",
    "print(\n",
    "    \"Различие в средних = {0:.3f}\".format(\n",
    "        orders[\n",
    "            np.logical_and(\n",
    "                orders['group'] == 'B',\n",
    "                np.logical_not(orders['visitor_id'].isin(abnormalUsers)),\n",
    "            )\n",
    "        ]['revenue'].mean()\n",
    "        / orders[\n",
    "            np.logical_and(\n",
    "                orders['group'] == 'A',\n",
    "                np.logical_not(orders['visitor_id'].isin(abnormalUsers)),\n",
    "            )\n",
    "        ]['revenue'].mean()\n",
    "        - 1\n",
    "    )\n",
    ")"
   ]
  },
  {
   "cell_type": "markdown",
   "metadata": {},
   "source": [
    "По \"очищенным\" данным не наблюдается статистически значимой разницы, поскольку p-value значительно больше 0.05. Значит, причин отвергать гипотезу и считать, что в среднем чеке есть различия, нет. \n",
    "\n",
    "Проигрыш группы В после очистки данных в среднем чеке составляет около 2%."
   ]
  },
  {
   "cell_type": "markdown",
   "metadata": {},
   "source": [
    "## Общий вывод\n",
    "\n",
    "На «сырых» данных:\n",
    "\n",
    "* отказ от основной гипотезы в пользу альтернативной гипотезы, т.к. имеются статистически значимые различия в среднем количестве заказов между группами; выигрыш группы В составляет 13,8%;\n",
    "\n",
    "* основную гипотезу не отвергаем, т.к. статистически значимых различий в среднем чеке нет, хотя выигрыш группы В по среднему чеку составляет 25,9%, такое значение могло получиться под влиянием аномальных сумм заказов, то есть выбросов.\n",
    "\n",
    "На «очищенных» данных:\n",
    "\n",
    "* отказ от основной гипотезы в пользу альтернативной гипотезы, т.к. имеются статистически значимые различия в среднем количестве заказов между группами, выигрыш группы В составляет 16,7%;\n",
    "\n",
    "* основную гипотезу не отвергаем, т.к. статистически значимых различий в среднем чеке нет, хотя проигрыш группы В по среднему чеку составляет 7.5%.\n",
    "\n",
    "После очистки от аномальных значений, оценка гипотез не изменилась, а результаты отношений претерпели значительные изменения.\n",
    "\n",
    "Были выявлены аномально большие заказы, в частности заказ на сумму более 1,294 млн.\n",
    "\n",
    "**Проведение теста рекомендуется остановить, поскольку по результатам тестирования - группа В показала себя значительно более эффективной, с выигрышем в 16,7% в части среднего количества заказов на посетителя. Таким образом, на каждого посетителя из группы В приходится на 16.7% больше заказов, чем на каждого посетителя из группы А, что может увеличить общую выручку относительно посетителей из группы В.**"
   ]
  }
 ],
 "metadata": {
  "ExecuteTimeLog": [
   {
    "duration": 1014,
    "start_time": "2023-12-22T15:14:42.545Z"
   },
   {
    "duration": 49,
    "start_time": "2023-12-26T10:26:21.301Z"
   },
   {
    "duration": 945,
    "start_time": "2023-12-26T10:26:27.396Z"
   },
   {
    "duration": 201,
    "start_time": "2023-12-26T10:26:28.343Z"
   },
   {
    "duration": 25,
    "start_time": "2023-12-26T10:26:58.775Z"
   },
   {
    "duration": 53,
    "start_time": "2023-12-26T10:36:57.389Z"
   },
   {
    "duration": 407,
    "start_time": "2023-12-26T10:37:18.829Z"
   },
   {
    "duration": 3,
    "start_time": "2023-12-26T10:37:21.588Z"
   },
   {
    "duration": 18,
    "start_time": "2023-12-26T10:37:21.593Z"
   },
   {
    "duration": 78,
    "start_time": "2023-12-26T10:37:21.612Z"
   },
   {
    "duration": 15,
    "start_time": "2023-12-26T10:37:21.692Z"
   },
   {
    "duration": 554,
    "start_time": "2023-12-26T10:38:10.761Z"
   },
   {
    "duration": 4,
    "start_time": "2023-12-26T10:38:21.739Z"
   },
   {
    "duration": 7,
    "start_time": "2023-12-26T10:38:21.745Z"
   },
   {
    "duration": 79,
    "start_time": "2023-12-26T10:38:21.753Z"
   },
   {
    "duration": 488,
    "start_time": "2023-12-26T10:38:21.834Z"
   },
   {
    "duration": 4,
    "start_time": "2023-12-26T10:38:42.688Z"
   },
   {
    "duration": 3,
    "start_time": "2023-12-26T10:38:46.797Z"
   },
   {
    "duration": 15,
    "start_time": "2023-12-26T10:38:46.801Z"
   },
   {
    "duration": 81,
    "start_time": "2023-12-26T10:38:46.817Z"
   },
   {
    "duration": 486,
    "start_time": "2023-12-26T10:38:46.900Z"
   },
   {
    "duration": 189,
    "start_time": "2023-12-26T10:41:39.842Z"
   },
   {
    "duration": 273,
    "start_time": "2023-12-26T10:41:59.988Z"
   },
   {
    "duration": 3,
    "start_time": "2023-12-26T10:42:32.785Z"
   },
   {
    "duration": 100,
    "start_time": "2023-12-26T10:42:32.789Z"
   },
   {
    "duration": 510,
    "start_time": "2023-12-26T10:42:32.890Z"
   },
   {
    "duration": 198,
    "start_time": "2023-12-26T10:42:33.402Z"
   },
   {
    "duration": 176,
    "start_time": "2023-12-26T10:42:53.757Z"
   },
   {
    "duration": 153,
    "start_time": "2023-12-26T10:43:00.321Z"
   },
   {
    "duration": 188,
    "start_time": "2023-12-26T10:43:16.312Z"
   },
   {
    "duration": 3,
    "start_time": "2023-12-26T10:45:13.487Z"
   },
   {
    "duration": 81,
    "start_time": "2023-12-26T10:45:13.492Z"
   },
   {
    "duration": 511,
    "start_time": "2023-12-26T10:45:13.575Z"
   },
   {
    "duration": 181,
    "start_time": "2023-12-26T10:45:14.087Z"
   },
   {
    "duration": 3,
    "start_time": "2023-12-26T10:46:31.978Z"
   },
   {
    "duration": 92,
    "start_time": "2023-12-26T10:46:31.982Z"
   },
   {
    "duration": 594,
    "start_time": "2023-12-26T10:46:32.076Z"
   },
   {
    "duration": 191,
    "start_time": "2023-12-26T10:46:32.671Z"
   },
   {
    "duration": 188,
    "start_time": "2023-12-26T10:48:35.086Z"
   },
   {
    "duration": 411,
    "start_time": "2023-12-26T10:48:49.508Z"
   },
   {
    "duration": 199,
    "start_time": "2023-12-26T10:48:58.769Z"
   },
   {
    "duration": 3,
    "start_time": "2023-12-26T10:51:23.738Z"
   },
   {
    "duration": 97,
    "start_time": "2023-12-26T10:51:23.743Z"
   },
   {
    "duration": 516,
    "start_time": "2023-12-26T10:51:23.842Z"
   },
   {
    "duration": 194,
    "start_time": "2023-12-26T10:51:24.360Z"
   },
   {
    "duration": 197,
    "start_time": "2023-12-26T10:51:24.556Z"
   },
   {
    "duration": 3,
    "start_time": "2023-12-26T11:01:33.099Z"
   },
   {
    "duration": 90,
    "start_time": "2023-12-26T11:01:33.104Z"
   },
   {
    "duration": 619,
    "start_time": "2023-12-26T11:01:33.196Z"
   },
   {
    "duration": 221,
    "start_time": "2023-12-26T11:01:33.816Z"
   },
   {
    "duration": 194,
    "start_time": "2023-12-26T11:01:34.039Z"
   },
   {
    "duration": 3,
    "start_time": "2023-12-26T11:01:42.694Z"
   },
   {
    "duration": 82,
    "start_time": "2023-12-26T11:01:42.699Z"
   },
   {
    "duration": 515,
    "start_time": "2023-12-26T11:01:42.783Z"
   },
   {
    "duration": 195,
    "start_time": "2023-12-26T11:01:43.300Z"
   },
   {
    "duration": 210,
    "start_time": "2023-12-26T11:01:43.497Z"
   },
   {
    "duration": 3,
    "start_time": "2023-12-26T11:02:14.555Z"
   },
   {
    "duration": 77,
    "start_time": "2023-12-26T11:02:14.560Z"
   },
   {
    "duration": 532,
    "start_time": "2023-12-26T11:02:14.639Z"
   },
   {
    "duration": 192,
    "start_time": "2023-12-26T11:02:15.173Z"
   },
   {
    "duration": 195,
    "start_time": "2023-12-26T11:02:15.367Z"
   },
   {
    "duration": 1074,
    "start_time": "2023-12-26T11:02:34.842Z"
   },
   {
    "duration": 79,
    "start_time": "2023-12-26T11:02:35.918Z"
   },
   {
    "duration": 535,
    "start_time": "2023-12-26T11:02:35.998Z"
   },
   {
    "duration": 211,
    "start_time": "2023-12-26T11:02:36.535Z"
   },
   {
    "duration": 195,
    "start_time": "2023-12-26T11:02:36.748Z"
   },
   {
    "duration": 505,
    "start_time": "2023-12-26T11:04:53.287Z"
   },
   {
    "duration": 3,
    "start_time": "2023-12-26T11:05:47.761Z"
   },
   {
    "duration": 91,
    "start_time": "2023-12-26T11:05:47.766Z"
   },
   {
    "duration": 503,
    "start_time": "2023-12-26T11:05:47.859Z"
   },
   {
    "duration": 280,
    "start_time": "2023-12-26T11:05:48.364Z"
   },
   {
    "duration": 206,
    "start_time": "2023-12-26T11:05:48.645Z"
   },
   {
    "duration": 9,
    "start_time": "2023-12-26T11:05:48.853Z"
   },
   {
    "duration": 3,
    "start_time": "2023-12-26T11:06:59.910Z"
   },
   {
    "duration": 32,
    "start_time": "2023-12-26T11:07:21.956Z"
   },
   {
    "duration": 4,
    "start_time": "2023-12-26T11:08:26.139Z"
   },
   {
    "duration": 79,
    "start_time": "2023-12-26T11:08:26.144Z"
   },
   {
    "duration": 3,
    "start_time": "2023-12-26T11:08:26.225Z"
   },
   {
    "duration": 519,
    "start_time": "2023-12-26T11:08:26.229Z"
   },
   {
    "duration": 195,
    "start_time": "2023-12-26T11:08:26.750Z"
   },
   {
    "duration": 219,
    "start_time": "2023-12-26T11:08:26.946Z"
   },
   {
    "duration": 7,
    "start_time": "2023-12-26T11:08:27.167Z"
   },
   {
    "duration": 4,
    "start_time": "2023-12-26T11:16:26.637Z"
   },
   {
    "duration": 86,
    "start_time": "2023-12-26T11:16:26.642Z"
   },
   {
    "duration": 4,
    "start_time": "2023-12-26T11:16:26.729Z"
   },
   {
    "duration": 510,
    "start_time": "2023-12-26T11:16:26.734Z"
   },
   {
    "duration": 208,
    "start_time": "2023-12-26T11:16:27.246Z"
   },
   {
    "duration": 200,
    "start_time": "2023-12-26T11:16:27.456Z"
   },
   {
    "duration": 7,
    "start_time": "2023-12-26T11:16:27.657Z"
   },
   {
    "duration": 14,
    "start_time": "2023-12-26T11:23:04.726Z"
   },
   {
    "duration": 10,
    "start_time": "2023-12-26T11:33:15.660Z"
   },
   {
    "duration": 21,
    "start_time": "2023-12-26T11:34:05.620Z"
   },
   {
    "duration": 4,
    "start_time": "2023-12-26T11:39:31.520Z"
   },
   {
    "duration": 116,
    "start_time": "2023-12-26T12:05:29.942Z"
   },
   {
    "duration": 3,
    "start_time": "2023-12-26T12:05:37.109Z"
   },
   {
    "duration": 82,
    "start_time": "2023-12-26T12:05:37.114Z"
   },
   {
    "duration": 3,
    "start_time": "2023-12-26T12:05:37.198Z"
   },
   {
    "duration": 615,
    "start_time": "2023-12-26T12:05:37.202Z"
   },
   {
    "duration": 215,
    "start_time": "2023-12-26T12:05:37.820Z"
   },
   {
    "duration": 203,
    "start_time": "2023-12-26T12:05:38.037Z"
   },
   {
    "duration": 5,
    "start_time": "2023-12-26T12:05:38.242Z"
   },
   {
    "duration": 14,
    "start_time": "2023-12-26T12:05:38.248Z"
   },
   {
    "duration": 778,
    "start_time": "2023-12-26T12:08:12.335Z"
   },
   {
    "duration": 5,
    "start_time": "2023-12-26T12:08:45.172Z"
   },
   {
    "duration": 12,
    "start_time": "2023-12-26T12:08:56.012Z"
   },
   {
    "duration": 10,
    "start_time": "2023-12-26T12:08:58.839Z"
   },
   {
    "duration": 8,
    "start_time": "2023-12-26T12:09:13.612Z"
   },
   {
    "duration": 12,
    "start_time": "2023-12-26T12:09:22.761Z"
   },
   {
    "duration": 11,
    "start_time": "2023-12-26T12:09:26.723Z"
   },
   {
    "duration": 10,
    "start_time": "2023-12-26T12:12:35.588Z"
   },
   {
    "duration": 20,
    "start_time": "2023-12-26T12:13:22.606Z"
   },
   {
    "duration": 221,
    "start_time": "2023-12-26T13:17:03.222Z"
   },
   {
    "duration": 4,
    "start_time": "2023-12-26T13:17:07.851Z"
   },
   {
    "duration": 78,
    "start_time": "2023-12-26T13:17:07.857Z"
   },
   {
    "duration": 3,
    "start_time": "2023-12-26T13:17:07.936Z"
   },
   {
    "duration": 513,
    "start_time": "2023-12-26T13:17:07.941Z"
   },
   {
    "duration": 191,
    "start_time": "2023-12-26T13:17:08.456Z"
   },
   {
    "duration": 219,
    "start_time": "2023-12-26T13:17:08.648Z"
   },
   {
    "duration": 5,
    "start_time": "2023-12-26T13:17:08.868Z"
   },
   {
    "duration": 20,
    "start_time": "2023-12-26T13:17:08.875Z"
   },
   {
    "duration": 17,
    "start_time": "2023-12-26T13:17:08.915Z"
   },
   {
    "duration": 190,
    "start_time": "2023-12-26T13:17:54.552Z"
   },
   {
    "duration": 3,
    "start_time": "2023-12-26T13:17:57.673Z"
   },
   {
    "duration": 86,
    "start_time": "2023-12-26T13:17:57.678Z"
   },
   {
    "duration": 4,
    "start_time": "2023-12-26T13:17:57.766Z"
   },
   {
    "duration": 499,
    "start_time": "2023-12-26T13:17:57.771Z"
   },
   {
    "duration": 307,
    "start_time": "2023-12-26T13:17:58.273Z"
   },
   {
    "duration": 215,
    "start_time": "2023-12-26T13:17:58.582Z"
   },
   {
    "duration": 6,
    "start_time": "2023-12-26T13:17:58.799Z"
   },
   {
    "duration": 30,
    "start_time": "2023-12-26T13:17:58.814Z"
   },
   {
    "duration": 21,
    "start_time": "2023-12-26T13:17:58.845Z"
   },
   {
    "duration": 623,
    "start_time": "2023-12-26T13:24:23.620Z"
   },
   {
    "duration": 3,
    "start_time": "2023-12-26T13:26:16.118Z"
   },
   {
    "duration": 80,
    "start_time": "2023-12-26T13:26:16.124Z"
   },
   {
    "duration": 4,
    "start_time": "2023-12-26T13:26:16.205Z"
   },
   {
    "duration": 509,
    "start_time": "2023-12-26T13:26:16.210Z"
   },
   {
    "duration": 200,
    "start_time": "2023-12-26T13:26:16.722Z"
   },
   {
    "duration": 240,
    "start_time": "2023-12-26T13:26:16.924Z"
   },
   {
    "duration": 4,
    "start_time": "2023-12-26T13:26:17.166Z"
   },
   {
    "duration": 24,
    "start_time": "2023-12-26T13:26:17.172Z"
   },
   {
    "duration": 31,
    "start_time": "2023-12-26T13:26:17.198Z"
   },
   {
    "duration": 565,
    "start_time": "2023-12-26T13:26:17.231Z"
   },
   {
    "duration": 4,
    "start_time": "2023-12-26T13:27:18.158Z"
   },
   {
    "duration": 87,
    "start_time": "2023-12-26T13:27:18.164Z"
   },
   {
    "duration": 3,
    "start_time": "2023-12-26T13:27:18.253Z"
   },
   {
    "duration": 594,
    "start_time": "2023-12-26T13:27:18.258Z"
   },
   {
    "duration": 213,
    "start_time": "2023-12-26T13:27:18.855Z"
   },
   {
    "duration": 199,
    "start_time": "2023-12-26T13:27:19.070Z"
   },
   {
    "duration": 5,
    "start_time": "2023-12-26T13:27:19.271Z"
   },
   {
    "duration": 25,
    "start_time": "2023-12-26T13:27:19.277Z"
   },
   {
    "duration": 26,
    "start_time": "2023-12-26T13:27:19.303Z"
   },
   {
    "duration": 571,
    "start_time": "2023-12-26T13:27:19.331Z"
   },
   {
    "duration": 4,
    "start_time": "2023-12-26T13:28:07.615Z"
   },
   {
    "duration": 162,
    "start_time": "2023-12-26T13:28:07.621Z"
   },
   {
    "duration": 4,
    "start_time": "2023-12-26T13:28:07.784Z"
   },
   {
    "duration": 502,
    "start_time": "2023-12-26T13:28:07.790Z"
   },
   {
    "duration": 197,
    "start_time": "2023-12-26T13:28:08.294Z"
   },
   {
    "duration": 213,
    "start_time": "2023-12-26T13:28:08.493Z"
   },
   {
    "duration": 8,
    "start_time": "2023-12-26T13:28:08.708Z"
   },
   {
    "duration": 18,
    "start_time": "2023-12-26T13:28:08.717Z"
   },
   {
    "duration": 17,
    "start_time": "2023-12-26T13:28:08.737Z"
   },
   {
    "duration": 597,
    "start_time": "2023-12-26T13:28:08.756Z"
   },
   {
    "duration": 669,
    "start_time": "2023-12-26T13:29:52.796Z"
   },
   {
    "duration": 329,
    "start_time": "2023-12-26T13:35:23.212Z"
   },
   {
    "duration": 320,
    "start_time": "2023-12-26T13:35:34.654Z"
   },
   {
    "duration": 369,
    "start_time": "2023-12-26T13:38:59.576Z"
   },
   {
    "duration": 368,
    "start_time": "2023-12-26T13:39:10.069Z"
   },
   {
    "duration": 383,
    "start_time": "2023-12-26T13:39:15.059Z"
   },
   {
    "duration": 347,
    "start_time": "2023-12-26T13:44:35.917Z"
   },
   {
    "duration": 334,
    "start_time": "2023-12-26T13:44:47.616Z"
   },
   {
    "duration": 389,
    "start_time": "2023-12-26T13:46:37.567Z"
   },
   {
    "duration": 377,
    "start_time": "2023-12-26T13:46:45.761Z"
   },
   {
    "duration": 163,
    "start_time": "2023-12-26T13:48:58.433Z"
   },
   {
    "duration": 269,
    "start_time": "2023-12-26T13:49:03.893Z"
   },
   {
    "duration": 178,
    "start_time": "2023-12-26T13:49:38.970Z"
   },
   {
    "duration": 175,
    "start_time": "2023-12-26T13:50:17.516Z"
   },
   {
    "duration": 175,
    "start_time": "2023-12-26T13:53:21.035Z"
   },
   {
    "duration": 168,
    "start_time": "2023-12-26T13:53:30.151Z"
   },
   {
    "duration": 176,
    "start_time": "2023-12-26T13:53:52.514Z"
   },
   {
    "duration": 169,
    "start_time": "2023-12-26T13:53:59.346Z"
   },
   {
    "duration": 6,
    "start_time": "2023-12-26T13:55:37.669Z"
   },
   {
    "duration": 8,
    "start_time": "2023-12-26T13:58:40.418Z"
   },
   {
    "duration": 5,
    "start_time": "2023-12-26T13:59:03.261Z"
   },
   {
    "duration": 2,
    "start_time": "2023-12-26T13:59:48.046Z"
   },
   {
    "duration": 183,
    "start_time": "2023-12-26T14:01:06.837Z"
   },
   {
    "duration": 179,
    "start_time": "2023-12-26T14:01:14.438Z"
   },
   {
    "duration": 191,
    "start_time": "2023-12-26T14:01:24.846Z"
   },
   {
    "duration": 180,
    "start_time": "2023-12-26T14:01:39.960Z"
   },
   {
    "duration": 194,
    "start_time": "2023-12-26T14:02:04.044Z"
   },
   {
    "duration": 187,
    "start_time": "2023-12-26T14:03:15.338Z"
   },
   {
    "duration": 8,
    "start_time": "2023-12-26T14:05:57.540Z"
   },
   {
    "duration": 5,
    "start_time": "2023-12-26T14:06:06.822Z"
   },
   {
    "duration": 7,
    "start_time": "2023-12-26T14:06:34.995Z"
   },
   {
    "duration": 7,
    "start_time": "2023-12-26T14:07:12.590Z"
   },
   {
    "duration": 7,
    "start_time": "2023-12-26T14:08:00.558Z"
   },
   {
    "duration": 289,
    "start_time": "2023-12-26T14:10:14.488Z"
   },
   {
    "duration": 198,
    "start_time": "2023-12-26T14:10:24.148Z"
   },
   {
    "duration": 190,
    "start_time": "2023-12-26T14:10:55.457Z"
   },
   {
    "duration": 54,
    "start_time": "2023-12-27T09:47:03.228Z"
   },
   {
    "duration": 1367,
    "start_time": "2023-12-27T09:47:07.133Z"
   },
   {
    "duration": 184,
    "start_time": "2023-12-27T09:47:08.502Z"
   },
   {
    "duration": 3,
    "start_time": "2023-12-27T09:47:08.688Z"
   },
   {
    "duration": 597,
    "start_time": "2023-12-27T09:47:08.692Z"
   },
   {
    "duration": 218,
    "start_time": "2023-12-27T09:47:09.291Z"
   },
   {
    "duration": 243,
    "start_time": "2023-12-27T09:47:09.511Z"
   },
   {
    "duration": 5,
    "start_time": "2023-12-27T09:47:09.755Z"
   },
   {
    "duration": 48,
    "start_time": "2023-12-27T09:47:09.761Z"
   },
   {
    "duration": 19,
    "start_time": "2023-12-27T09:47:09.810Z"
   },
   {
    "duration": 723,
    "start_time": "2023-12-27T09:47:09.831Z"
   },
   {
    "duration": 356,
    "start_time": "2023-12-27T09:47:10.556Z"
   },
   {
    "duration": 523,
    "start_time": "2023-12-27T09:47:10.914Z"
   },
   {
    "duration": 377,
    "start_time": "2023-12-27T09:47:11.439Z"
   },
   {
    "duration": 412,
    "start_time": "2023-12-27T09:47:11.819Z"
   },
   {
    "duration": 196,
    "start_time": "2023-12-27T09:47:12.233Z"
   },
   {
    "duration": 6,
    "start_time": "2023-12-27T09:47:12.431Z"
   },
   {
    "duration": 223,
    "start_time": "2023-12-27T09:47:12.439Z"
   },
   {
    "duration": 8,
    "start_time": "2023-12-27T09:47:12.664Z"
   },
   {
    "duration": 216,
    "start_time": "2023-12-27T09:47:12.682Z"
   },
   {
    "duration": 2,
    "start_time": "2023-12-27T09:47:12.900Z"
   },
   {
    "duration": 453,
    "start_time": "2023-12-27T09:47:56.255Z"
   },
   {
    "duration": 411,
    "start_time": "2023-12-27T09:48:05.488Z"
   },
   {
    "duration": 438,
    "start_time": "2023-12-27T09:48:13.086Z"
   },
   {
    "duration": 6,
    "start_time": "2023-12-27T09:58:25.230Z"
   },
   {
    "duration": 223,
    "start_time": "2023-12-27T10:06:16.665Z"
   },
   {
    "duration": 179,
    "start_time": "2023-12-27T10:16:14.969Z"
   },
   {
    "duration": 169,
    "start_time": "2023-12-27T10:16:25.426Z"
   },
   {
    "duration": 10,
    "start_time": "2023-12-27T10:21:09.572Z"
   },
   {
    "duration": 1352,
    "start_time": "2023-12-27T11:13:40.845Z"
   },
   {
    "duration": 4,
    "start_time": "2023-12-27T11:13:50.527Z"
   },
   {
    "duration": 87,
    "start_time": "2023-12-27T11:13:50.533Z"
   },
   {
    "duration": 4,
    "start_time": "2023-12-27T11:13:50.621Z"
   },
   {
    "duration": 593,
    "start_time": "2023-12-27T11:13:50.626Z"
   },
   {
    "duration": 298,
    "start_time": "2023-12-27T11:13:51.221Z"
   },
   {
    "duration": 220,
    "start_time": "2023-12-27T11:13:51.520Z"
   },
   {
    "duration": 5,
    "start_time": "2023-12-27T11:13:51.741Z"
   },
   {
    "duration": 33,
    "start_time": "2023-12-27T11:13:51.747Z"
   },
   {
    "duration": 28,
    "start_time": "2023-12-27T11:13:51.782Z"
   },
   {
    "duration": 640,
    "start_time": "2023-12-27T11:13:51.812Z"
   },
   {
    "duration": 365,
    "start_time": "2023-12-27T11:13:52.453Z"
   },
   {
    "duration": 414,
    "start_time": "2023-12-27T11:13:52.820Z"
   },
   {
    "duration": 375,
    "start_time": "2023-12-27T11:13:53.236Z"
   },
   {
    "duration": 419,
    "start_time": "2023-12-27T11:13:53.613Z"
   },
   {
    "duration": 200,
    "start_time": "2023-12-27T11:13:54.034Z"
   },
   {
    "duration": 7,
    "start_time": "2023-12-27T11:13:54.236Z"
   },
   {
    "duration": 242,
    "start_time": "2023-12-27T11:13:54.244Z"
   },
   {
    "duration": 8,
    "start_time": "2023-12-27T11:13:54.488Z"
   },
   {
    "duration": 222,
    "start_time": "2023-12-27T11:13:54.498Z"
   },
   {
    "duration": 181,
    "start_time": "2023-12-27T11:13:54.722Z"
   },
   {
    "duration": 12,
    "start_time": "2023-12-27T11:13:54.905Z"
   },
   {
    "duration": 14,
    "start_time": "2023-12-27T11:13:54.918Z"
   },
   {
    "duration": 10,
    "start_time": "2023-12-27T11:14:21.423Z"
   },
   {
    "duration": 33,
    "start_time": "2023-12-27T11:17:00.711Z"
   },
   {
    "duration": 1265,
    "start_time": "2023-12-27T12:15:36.681Z"
   },
   {
    "duration": 15,
    "start_time": "2023-12-27T12:16:23.761Z"
   },
   {
    "duration": 19,
    "start_time": "2023-12-27T12:16:54.023Z"
   },
   {
    "duration": 14,
    "start_time": "2023-12-27T12:17:22.762Z"
   },
   {
    "duration": 14,
    "start_time": "2023-12-27T12:17:32.394Z"
   },
   {
    "duration": 5,
    "start_time": "2023-12-27T14:06:23.949Z"
   },
   {
    "duration": 4,
    "start_time": "2023-12-27T14:06:38.685Z"
   },
   {
    "duration": 1183,
    "start_time": "2023-12-27T14:07:53.729Z"
   },
   {
    "duration": 75,
    "start_time": "2023-12-27T14:07:54.913Z"
   },
   {
    "duration": 4,
    "start_time": "2023-12-27T14:07:54.989Z"
   },
   {
    "duration": 629,
    "start_time": "2023-12-27T14:07:54.994Z"
   },
   {
    "duration": 210,
    "start_time": "2023-12-27T14:07:55.625Z"
   },
   {
    "duration": 228,
    "start_time": "2023-12-27T14:07:55.837Z"
   },
   {
    "duration": 5,
    "start_time": "2023-12-27T14:07:56.067Z"
   },
   {
    "duration": 26,
    "start_time": "2023-12-27T14:07:56.082Z"
   },
   {
    "duration": 31,
    "start_time": "2023-12-27T14:07:56.109Z"
   },
   {
    "duration": 31,
    "start_time": "2023-12-27T14:07:56.141Z"
   },
   {
    "duration": 724,
    "start_time": "2023-12-27T14:07:56.174Z"
   },
   {
    "duration": 350,
    "start_time": "2023-12-27T14:07:56.900Z"
   },
   {
    "duration": 442,
    "start_time": "2023-12-27T14:07:57.252Z"
   },
   {
    "duration": 440,
    "start_time": "2023-12-27T14:07:57.696Z"
   },
   {
    "duration": 432,
    "start_time": "2023-12-27T14:07:58.138Z"
   },
   {
    "duration": 196,
    "start_time": "2023-12-27T14:07:58.572Z"
   },
   {
    "duration": 14,
    "start_time": "2023-12-27T14:07:58.769Z"
   },
   {
    "duration": 230,
    "start_time": "2023-12-27T14:07:58.785Z"
   },
   {
    "duration": 8,
    "start_time": "2023-12-27T14:07:59.016Z"
   },
   {
    "duration": 236,
    "start_time": "2023-12-27T14:07:59.025Z"
   },
   {
    "duration": 188,
    "start_time": "2023-12-27T14:07:59.263Z"
   },
   {
    "duration": 10,
    "start_time": "2023-12-27T14:07:59.453Z"
   },
   {
    "duration": 40,
    "start_time": "2023-12-27T14:07:59.465Z"
   },
   {
    "duration": 73,
    "start_time": "2023-12-27T14:07:59.507Z"
   },
   {
    "duration": 14,
    "start_time": "2023-12-27T14:07:59.582Z"
   },
   {
    "duration": 5,
    "start_time": "2023-12-27T14:30:45.744Z"
   },
   {
    "duration": 10,
    "start_time": "2023-12-27T14:30:55.157Z"
   },
   {
    "duration": 16,
    "start_time": "2023-12-27T14:32:36.173Z"
   },
   {
    "duration": 15,
    "start_time": "2023-12-27T14:34:14.212Z"
   },
   {
    "duration": 16,
    "start_time": "2023-12-27T14:34:19.971Z"
   },
   {
    "duration": 50,
    "start_time": "2023-12-27T18:40:48.470Z"
   },
   {
    "duration": 1458,
    "start_time": "2023-12-27T18:40:59.459Z"
   },
   {
    "duration": 193,
    "start_time": "2023-12-27T18:41:00.919Z"
   },
   {
    "duration": 3,
    "start_time": "2023-12-27T18:41:01.114Z"
   },
   {
    "duration": 648,
    "start_time": "2023-12-27T18:41:01.119Z"
   },
   {
    "duration": 213,
    "start_time": "2023-12-27T18:41:01.769Z"
   },
   {
    "duration": 223,
    "start_time": "2023-12-27T18:41:01.983Z"
   },
   {
    "duration": 5,
    "start_time": "2023-12-27T18:41:02.208Z"
   },
   {
    "duration": 77,
    "start_time": "2023-12-27T18:41:02.215Z"
   },
   {
    "duration": 110,
    "start_time": "2023-12-27T18:41:02.294Z"
   },
   {
    "duration": 731,
    "start_time": "2023-12-27T18:41:02.406Z"
   },
   {
    "duration": 12,
    "start_time": "2023-12-27T18:41:03.139Z"
   },
   {
    "duration": 21,
    "start_time": "2023-12-27T18:41:03.153Z"
   },
   {
    "duration": 344,
    "start_time": "2023-12-27T18:41:03.189Z"
   },
   {
    "duration": 498,
    "start_time": "2023-12-27T18:41:03.536Z"
   },
   {
    "duration": 448,
    "start_time": "2023-12-27T18:41:04.035Z"
   },
   {
    "duration": 425,
    "start_time": "2023-12-27T18:41:04.484Z"
   },
   {
    "duration": 182,
    "start_time": "2023-12-27T18:41:04.910Z"
   },
   {
    "duration": 5,
    "start_time": "2023-12-27T18:41:05.094Z"
   },
   {
    "duration": 230,
    "start_time": "2023-12-27T18:41:05.100Z"
   },
   {
    "duration": 8,
    "start_time": "2023-12-27T18:41:05.333Z"
   },
   {
    "duration": 238,
    "start_time": "2023-12-27T18:41:05.342Z"
   },
   {
    "duration": 179,
    "start_time": "2023-12-27T18:41:05.581Z"
   },
   {
    "duration": 10,
    "start_time": "2023-12-27T18:41:05.762Z"
   },
   {
    "duration": 48,
    "start_time": "2023-12-27T18:41:05.773Z"
   },
   {
    "duration": 43,
    "start_time": "2023-12-27T18:41:05.822Z"
   },
   {
    "duration": 14,
    "start_time": "2023-12-27T18:41:05.866Z"
   },
   {
    "duration": 458,
    "start_time": "2023-12-27T18:42:04.344Z"
   },
   {
    "duration": 7,
    "start_time": "2023-12-27T18:52:09.527Z"
   },
   {
    "duration": 165,
    "start_time": "2023-12-27T18:58:54.588Z"
   },
   {
    "duration": 194,
    "start_time": "2023-12-27T18:59:25.563Z"
   },
   {
    "duration": 10,
    "start_time": "2023-12-27T19:03:50.620Z"
   },
   {
    "duration": 3,
    "start_time": "2023-12-27T19:09:58.267Z"
   },
   {
    "duration": 107,
    "start_time": "2023-12-27T19:09:58.272Z"
   },
   {
    "duration": 4,
    "start_time": "2023-12-27T19:09:58.380Z"
   },
   {
    "duration": 585,
    "start_time": "2023-12-27T19:09:58.386Z"
   },
   {
    "duration": 206,
    "start_time": "2023-12-27T19:09:58.973Z"
   },
   {
    "duration": 208,
    "start_time": "2023-12-27T19:09:59.180Z"
   },
   {
    "duration": 5,
    "start_time": "2023-12-27T19:09:59.389Z"
   },
   {
    "duration": 30,
    "start_time": "2023-12-27T19:09:59.395Z"
   },
   {
    "duration": 34,
    "start_time": "2023-12-27T19:09:59.426Z"
   },
   {
    "duration": 590,
    "start_time": "2023-12-27T19:09:59.463Z"
   },
   {
    "duration": 10,
    "start_time": "2023-12-27T19:10:00.055Z"
   },
   {
    "duration": 77,
    "start_time": "2023-12-27T19:10:00.066Z"
   },
   {
    "duration": 450,
    "start_time": "2023-12-27T19:10:00.145Z"
   },
   {
    "duration": 398,
    "start_time": "2023-12-27T19:10:00.597Z"
   },
   {
    "duration": 535,
    "start_time": "2023-12-27T19:10:00.997Z"
   },
   {
    "duration": 435,
    "start_time": "2023-12-27T19:10:01.533Z"
   },
   {
    "duration": 192,
    "start_time": "2023-12-27T19:10:01.970Z"
   },
   {
    "duration": 5,
    "start_time": "2023-12-27T19:10:02.164Z"
   },
   {
    "duration": 244,
    "start_time": "2023-12-27T19:10:02.171Z"
   },
   {
    "duration": 7,
    "start_time": "2023-12-27T19:10:02.417Z"
   },
   {
    "duration": 217,
    "start_time": "2023-12-27T19:10:02.426Z"
   },
   {
    "duration": 176,
    "start_time": "2023-12-27T19:10:02.645Z"
   },
   {
    "duration": 11,
    "start_time": "2023-12-27T19:10:02.823Z"
   },
   {
    "duration": 71,
    "start_time": "2023-12-27T19:10:02.835Z"
   },
   {
    "duration": 148,
    "start_time": "2023-12-27T19:10:02.908Z"
   },
   {
    "duration": 27,
    "start_time": "2023-12-27T19:10:03.057Z"
   },
   {
    "duration": 1221,
    "start_time": "2023-12-27T19:26:23.264Z"
   },
   {
    "duration": 79,
    "start_time": "2023-12-27T19:26:24.487Z"
   },
   {
    "duration": 3,
    "start_time": "2023-12-27T19:26:24.567Z"
   },
   {
    "duration": 554,
    "start_time": "2023-12-27T19:26:24.572Z"
   },
   {
    "duration": 200,
    "start_time": "2023-12-27T19:26:25.128Z"
   },
   {
    "duration": 221,
    "start_time": "2023-12-27T19:26:25.330Z"
   },
   {
    "duration": 5,
    "start_time": "2023-12-27T19:26:25.553Z"
   },
   {
    "duration": 33,
    "start_time": "2023-12-27T19:26:25.560Z"
   },
   {
    "duration": 23,
    "start_time": "2023-12-27T19:26:25.595Z"
   },
   {
    "duration": 717,
    "start_time": "2023-12-27T19:26:25.622Z"
   },
   {
    "duration": 10,
    "start_time": "2023-12-27T19:26:26.341Z"
   },
   {
    "duration": 32,
    "start_time": "2023-12-27T19:26:26.354Z"
   },
   {
    "duration": 331,
    "start_time": "2023-12-27T19:26:26.388Z"
   },
   {
    "duration": 379,
    "start_time": "2023-12-27T19:26:26.721Z"
   },
   {
    "duration": 453,
    "start_time": "2023-12-27T19:26:27.102Z"
   },
   {
    "duration": 441,
    "start_time": "2023-12-27T19:26:27.557Z"
   },
   {
    "duration": 180,
    "start_time": "2023-12-27T19:26:28.000Z"
   },
   {
    "duration": 10,
    "start_time": "2023-12-27T19:26:28.181Z"
   },
   {
    "duration": 209,
    "start_time": "2023-12-27T19:26:28.193Z"
   },
   {
    "duration": 7,
    "start_time": "2023-12-27T19:26:28.404Z"
   },
   {
    "duration": 203,
    "start_time": "2023-12-27T19:26:28.412Z"
   },
   {
    "duration": 178,
    "start_time": "2023-12-27T19:26:28.616Z"
   },
   {
    "duration": 10,
    "start_time": "2023-12-27T19:26:28.796Z"
   },
   {
    "duration": 11,
    "start_time": "2023-12-27T19:26:28.808Z"
   },
   {
    "duration": 49,
    "start_time": "2023-12-27T19:26:28.820Z"
   },
   {
    "duration": 27,
    "start_time": "2023-12-27T19:26:28.871Z"
   },
   {
    "duration": 1029,
    "start_time": "2023-12-27T20:03:07.807Z"
   },
   {
    "duration": 192,
    "start_time": "2023-12-27T20:03:08.838Z"
   },
   {
    "duration": 3,
    "start_time": "2023-12-27T20:03:09.032Z"
   },
   {
    "duration": 494,
    "start_time": "2023-12-27T20:03:09.036Z"
   },
   {
    "duration": 177,
    "start_time": "2023-12-27T20:03:09.531Z"
   },
   {
    "duration": 185,
    "start_time": "2023-12-27T20:03:09.710Z"
   },
   {
    "duration": 5,
    "start_time": "2023-12-27T20:03:09.896Z"
   },
   {
    "duration": 107,
    "start_time": "2023-12-27T20:03:09.902Z"
   },
   {
    "duration": 26,
    "start_time": "2023-12-27T20:03:10.010Z"
   },
   {
    "duration": 602,
    "start_time": "2023-12-27T20:03:10.037Z"
   },
   {
    "duration": 10,
    "start_time": "2023-12-27T20:03:10.640Z"
   },
   {
    "duration": 14,
    "start_time": "2023-12-27T20:03:10.651Z"
   },
   {
    "duration": 297,
    "start_time": "2023-12-27T20:03:10.666Z"
   },
   {
    "duration": 359,
    "start_time": "2023-12-27T20:03:10.966Z"
   },
   {
    "duration": 361,
    "start_time": "2023-12-27T20:03:11.327Z"
   },
   {
    "duration": 362,
    "start_time": "2023-12-27T20:03:11.689Z"
   },
   {
    "duration": 161,
    "start_time": "2023-12-27T20:03:12.053Z"
   },
   {
    "duration": 4,
    "start_time": "2023-12-27T20:03:12.216Z"
   },
   {
    "duration": 173,
    "start_time": "2023-12-27T20:03:12.221Z"
   },
   {
    "duration": 6,
    "start_time": "2023-12-27T20:03:12.395Z"
   },
   {
    "duration": 175,
    "start_time": "2023-12-27T20:03:12.402Z"
   },
   {
    "duration": 161,
    "start_time": "2023-12-27T20:03:12.578Z"
   },
   {
    "duration": 10,
    "start_time": "2023-12-27T20:03:12.744Z"
   },
   {
    "duration": 21,
    "start_time": "2023-12-27T20:03:12.755Z"
   },
   {
    "duration": 45,
    "start_time": "2023-12-27T20:03:12.778Z"
   },
   {
    "duration": 12,
    "start_time": "2023-12-27T20:03:12.824Z"
   },
   {
    "duration": 57,
    "start_time": "2023-12-27T21:29:42.967Z"
   },
   {
    "duration": 1363,
    "start_time": "2023-12-27T21:29:48.527Z"
   },
   {
    "duration": 188,
    "start_time": "2023-12-27T21:29:49.892Z"
   },
   {
    "duration": 5,
    "start_time": "2023-12-27T21:29:50.083Z"
   },
   {
    "duration": 591,
    "start_time": "2023-12-27T21:29:50.090Z"
   },
   {
    "duration": 210,
    "start_time": "2023-12-27T21:29:50.683Z"
   },
   {
    "duration": 206,
    "start_time": "2023-12-27T21:29:50.895Z"
   },
   {
    "duration": 5,
    "start_time": "2023-12-27T21:29:51.102Z"
   },
   {
    "duration": 37,
    "start_time": "2023-12-27T21:29:51.108Z"
   },
   {
    "duration": 48,
    "start_time": "2023-12-27T21:29:51.147Z"
   },
   {
    "duration": 41,
    "start_time": "2023-12-27T21:29:51.199Z"
   },
   {
    "duration": 727,
    "start_time": "2023-12-27T21:29:51.242Z"
   },
   {
    "duration": 15,
    "start_time": "2023-12-27T21:29:51.974Z"
   },
   {
    "duration": 27,
    "start_time": "2023-12-27T21:29:51.991Z"
   },
   {
    "duration": 341,
    "start_time": "2023-12-27T21:29:52.020Z"
   },
   {
    "duration": 448,
    "start_time": "2023-12-27T21:29:52.365Z"
   },
   {
    "duration": 448,
    "start_time": "2023-12-27T21:29:52.815Z"
   },
   {
    "duration": 478,
    "start_time": "2023-12-27T21:29:53.264Z"
   },
   {
    "duration": 194,
    "start_time": "2023-12-27T21:29:53.743Z"
   },
   {
    "duration": 5,
    "start_time": "2023-12-27T21:29:53.938Z"
   },
   {
    "duration": 205,
    "start_time": "2023-12-27T21:29:53.945Z"
   },
   {
    "duration": 7,
    "start_time": "2023-12-27T21:29:54.152Z"
   },
   {
    "duration": 214,
    "start_time": "2023-12-27T21:29:54.166Z"
   },
   {
    "duration": 190,
    "start_time": "2023-12-27T21:29:54.382Z"
   },
   {
    "duration": 12,
    "start_time": "2023-12-27T21:29:54.573Z"
   },
   {
    "duration": 10,
    "start_time": "2023-12-27T21:29:54.587Z"
   },
   {
    "duration": 39,
    "start_time": "2023-12-27T21:29:54.598Z"
   },
   {
    "duration": 32,
    "start_time": "2023-12-27T21:29:54.638Z"
   },
   {
    "duration": 4,
    "start_time": "2023-12-27T21:33:45.583Z"
   },
   {
    "duration": 4,
    "start_time": "2023-12-27T21:34:54.391Z"
   },
   {
    "duration": 452,
    "start_time": "2023-12-27T21:37:28.528Z"
   },
   {
    "duration": 370,
    "start_time": "2023-12-27T21:37:57.692Z"
   },
   {
    "duration": 1092,
    "start_time": "2023-12-27T21:50:12.765Z"
   },
   {
    "duration": 74,
    "start_time": "2023-12-27T21:50:13.859Z"
   },
   {
    "duration": 3,
    "start_time": "2023-12-27T21:50:13.935Z"
   },
   {
    "duration": 534,
    "start_time": "2023-12-27T21:50:13.939Z"
   },
   {
    "duration": 207,
    "start_time": "2023-12-27T21:50:14.474Z"
   },
   {
    "duration": 196,
    "start_time": "2023-12-27T21:50:14.683Z"
   },
   {
    "duration": 4,
    "start_time": "2023-12-27T21:50:14.880Z"
   },
   {
    "duration": 11,
    "start_time": "2023-12-27T21:50:14.885Z"
   },
   {
    "duration": 9,
    "start_time": "2023-12-27T21:50:14.898Z"
   },
   {
    "duration": 22,
    "start_time": "2023-12-27T21:50:14.909Z"
   },
   {
    "duration": 18,
    "start_time": "2023-12-27T21:50:14.933Z"
   },
   {
    "duration": 23,
    "start_time": "2023-12-27T21:50:14.965Z"
   },
   {
    "duration": 658,
    "start_time": "2023-12-27T21:50:14.990Z"
   },
   {
    "duration": 15,
    "start_time": "2023-12-27T21:50:15.650Z"
   },
   {
    "duration": 19,
    "start_time": "2023-12-27T21:50:15.667Z"
   },
   {
    "duration": 361,
    "start_time": "2023-12-27T21:50:15.688Z"
   },
   {
    "duration": 404,
    "start_time": "2023-12-27T21:50:16.051Z"
   },
   {
    "duration": 447,
    "start_time": "2023-12-27T21:50:16.456Z"
   },
   {
    "duration": 421,
    "start_time": "2023-12-27T21:50:16.909Z"
   },
   {
    "duration": 176,
    "start_time": "2023-12-27T21:50:17.332Z"
   },
   {
    "duration": 6,
    "start_time": "2023-12-27T21:50:17.510Z"
   },
   {
    "duration": 196,
    "start_time": "2023-12-27T21:50:17.517Z"
   },
   {
    "duration": 6,
    "start_time": "2023-12-27T21:50:17.716Z"
   },
   {
    "duration": 197,
    "start_time": "2023-12-27T21:50:17.724Z"
   },
   {
    "duration": 172,
    "start_time": "2023-12-27T21:50:17.922Z"
   },
   {
    "duration": 13,
    "start_time": "2023-12-27T21:50:18.096Z"
   },
   {
    "duration": 12,
    "start_time": "2023-12-27T21:50:18.110Z"
   },
   {
    "duration": 65,
    "start_time": "2023-12-27T21:50:18.126Z"
   },
   {
    "duration": 16,
    "start_time": "2023-12-27T21:50:18.192Z"
   },
   {
    "duration": 1084,
    "start_time": "2023-12-27T22:19:18.934Z"
   },
   {
    "duration": 74,
    "start_time": "2023-12-27T22:19:20.020Z"
   },
   {
    "duration": 3,
    "start_time": "2023-12-27T22:19:20.096Z"
   },
   {
    "duration": 511,
    "start_time": "2023-12-27T22:19:20.100Z"
   },
   {
    "duration": 190,
    "start_time": "2023-12-27T22:19:20.613Z"
   },
   {
    "duration": 209,
    "start_time": "2023-12-27T22:19:20.804Z"
   },
   {
    "duration": 3,
    "start_time": "2023-12-27T22:19:21.015Z"
   },
   {
    "duration": 8,
    "start_time": "2023-12-27T22:19:21.019Z"
   },
   {
    "duration": 6,
    "start_time": "2023-12-27T22:19:21.028Z"
   },
   {
    "duration": 30,
    "start_time": "2023-12-27T22:19:21.035Z"
   },
   {
    "duration": 14,
    "start_time": "2023-12-27T22:19:21.067Z"
   },
   {
    "duration": 19,
    "start_time": "2023-12-27T22:19:21.082Z"
   },
   {
    "duration": 628,
    "start_time": "2023-12-27T22:19:21.103Z"
   },
   {
    "duration": 16,
    "start_time": "2023-12-27T22:19:21.734Z"
   },
   {
    "duration": 44,
    "start_time": "2023-12-27T22:19:21.751Z"
   },
   {
    "duration": 291,
    "start_time": "2023-12-27T22:19:21.797Z"
   },
   {
    "duration": 359,
    "start_time": "2023-12-27T22:19:22.090Z"
   },
   {
    "duration": 372,
    "start_time": "2023-12-27T22:19:22.450Z"
   },
   {
    "duration": 396,
    "start_time": "2023-12-27T22:19:22.824Z"
   },
   {
    "duration": 171,
    "start_time": "2023-12-27T22:19:23.222Z"
   },
   {
    "duration": 5,
    "start_time": "2023-12-27T22:19:23.395Z"
   },
   {
    "duration": 192,
    "start_time": "2023-12-27T22:19:23.401Z"
   },
   {
    "duration": 6,
    "start_time": "2023-12-27T22:19:23.594Z"
   },
   {
    "duration": 171,
    "start_time": "2023-12-27T22:19:23.602Z"
   },
   {
    "duration": 164,
    "start_time": "2023-12-27T22:19:23.775Z"
   },
   {
    "duration": 10,
    "start_time": "2023-12-27T22:19:23.941Z"
   },
   {
    "duration": 16,
    "start_time": "2023-12-27T22:19:23.953Z"
   },
   {
    "duration": 45,
    "start_time": "2023-12-27T22:19:23.971Z"
   },
   {
    "duration": 11,
    "start_time": "2023-12-27T22:19:24.018Z"
   }
  ],
  "kernelspec": {
   "display_name": "Python 3 (ipykernel)",
   "language": "python",
   "name": "python3"
  },
  "language_info": {
   "codemirror_mode": {
    "name": "ipython",
    "version": 3
   },
   "file_extension": ".py",
   "mimetype": "text/x-python",
   "name": "python",
   "nbconvert_exporter": "python",
   "pygments_lexer": "ipython3",
   "version": "3.9.5"
  },
  "toc": {
   "base_numbering": 1,
   "nav_menu": {},
   "number_sections": false,
   "sideBar": true,
   "skip_h1_title": true,
   "title_cell": "Содержание",
   "title_sidebar": "Содержание",
   "toc_cell": true,
   "toc_position": {},
   "toc_section_display": true,
   "toc_window_display": true
  }
 },
 "nbformat": 4,
 "nbformat_minor": 2
}

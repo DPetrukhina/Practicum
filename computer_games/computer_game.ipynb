{
 "cells": [
  {
   "cell_type": "markdown",
   "id": "5f52fdb7",
   "metadata": {},
   "source": [
    "<div style=\"border:solid green 3px; padding: 20px\">\n",
    "<b>🥇 Дарья, спасибо за доработки, проект принят, молодец!</b>\n",
    "    \n",
    "Ты провела очень хорошую работу над ошибками! Уверен, ты обязательно достигнешь своей цели! Успехов в дальнейшем обучении! 🙂\n",
    "    "
   ]
  },
  {
   "cell_type": "markdown",
   "metadata": {},
   "source": [
    "Дарья, привет! Меня зовут Ефимов Денис и сегодня я буду делать ревью твоего проекта!\\\n",
    "В Практикуме принято общаться на \"ты\", однако если это неудобно - дай знать, и можем перейти на более официальное общение.\n",
    "\n",
    "Ниже ты найдешь мои комментарии - пожалуйста, не перемещай, не изменяй и не удаляй их. Я буду использовать цветовую разметку: \n",
    "\n",
    "<div class=\"alert alert-block alert-success\">\n",
    "<b>✅Комментарий ревьюера:</b> Если все сделано хорошо. </div>\n",
    "\n",
    "<div class=\"alert alert-block alert-warning\">\n",
    "<b>🔁Комментарий ревьюера:</b> Некритичное замечание; если таких замечаний меньше трех — проект может быть принят без их отработки.</div>\n",
    "\n",
    "<div class=\"alert alert-block alert-danger\">\n",
    "<b>❌Комментарий ревьюера:</b> Грубая ошибка, необходимо исправить, иначе проект не будет принят.\n",
    "</div>\n",
    "\n",
    "Давай работать над проектом в диалоге: если ты что-то меняешь в проекте или отвечаешь на мои комментарии — пиши об этом. Мне будет легче отследить изменения, если ты выделишь свои комментарии:\n",
    "Например так:\n",
    "<div class=\"alert alert-block alert-info\">\n",
    "<b>🔄Комментарий студента:</b> \n",
    "Hello World! ✔\n",
    "</div>\n",
    "\n",
    "Или можешь использовать эту галочку ✔ в моих комментариях, если писать особо нечего.\n",
    "\n",
    "<div class=\"alert alert-block alert-warning\">\n",
    "<b>Общее впечатление:</b> \n",
    "    \n",
    "- Ты проделала огромную работу и проект получился впечатляющим:)\n",
    "- У меня есть несколько замечаний, исправив которые ты сделаешь проект еще лучше.\n",
    "- Пробегись по моим комментариям, исправь недочёты и всё будет отлично :)\n",
    "    \n",
    "</div>\n",
    "\n"
   ]
  },
  {
   "cell_type": "markdown",
   "metadata": {},
   "source": [
    "# Исследование закономерностей, определяющих успешность компьютерных игр\n",
    "## Описание проекта\n",
    "Цель проекта: выявить определяющие успешность игры закономерности. Это позволит сделать ставку на потенциально популярный продукт и спланировать рекламные кампании.\n",
    "## Описание данных\n",
    "* `Name` — название игры\n",
    "* `Platform` — платформа\n",
    "* `Year_of_Release` — год выпуска\n",
    "* `Genre` — жанр игры\n",
    "* `NA_sales` — продажи в Северной Америке (миллионы проданных копий)\n",
    "* `EU_sales` — продажи в Европе (миллионы проданных копий)\n",
    "* `JP_sales` — продажи в Японии (миллионы проданных копий)\n",
    "* `Other_sales` — продажи в других странах (миллионы проданных копий)\n",
    "* `Critic_Score` — оценка критиков (максимум 100)\n",
    "* `User_Score` — оценка пользователей (максимум 10)\n",
    "* `Rating` — рейтинг от организации ESRB (англ. Entertainment Software Rating Board). Эта ассоциация определяет рейтинг компьютерных игр и присваивает им подходящую возрастную категорию."
   ]
  },
  {
   "cell_type": "markdown",
   "metadata": {
    "toc": true
   },
   "source": [
    "<h1>Содержание<span class=\"tocSkip\"></span></h1>\n",
    "<div class=\"toc\"><ul class=\"toc-item\"><li><span><a href=\"#Описание-проекта\" data-toc-modified-id=\"Описание-проекта-0\">Описание проекта</a></span></li><li><span><a href=\"#Описание-данных\" data-toc-modified-id=\"Описание-данных-1\">Описание данных</a></span></li><li><span><a href=\"#Загрузка-данных-и-библиотек,-создание-функций\" data-toc-modified-id=\"Загрузка-данных-и-библиотек,-создание-функций-2\">Загрузка данных и библиотек, создание функций</a></span></li><li><span><a href=\"#Подготовка-данных\" data-toc-modified-id=\"Подготовка-данных-3\">Подготовка данных</a></span><ul class=\"toc-item\"><li><span><a href=\"#Проверка-пропусков\" data-toc-modified-id=\"Проверка-пропусков-3.1\">Проверка пропусков</a></span></li><li><span><a href=\"#Корректировка-типов-данных\" data-toc-modified-id=\"Корректировка-типов-данных-3.2\">Корректировка типов данных</a></span></li><li><span><a href=\"#Проверка-дубликатов\" data-toc-modified-id=\"Проверка-дубликатов-3.3\">Проверка дубликатов</a></span></li><li><span><a href=\"#Обогащение-данных\" data-toc-modified-id=\"Обогащение-данных-3.4\">Обогащение данных</a></span></li></ul></li><li><span><a href=\"#Исследовательский-анализ\" data-toc-modified-id=\"Исследовательский-анализ-4\">Исследовательский анализ</a></span><ul class=\"toc-item\"><li><span><a href=\"#Выпуск-игр-по-годам\" data-toc-modified-id=\"Выпуск-игр-по-годам-4.1\">Выпуск игр по годам</a></span></li><li><span><a href=\"#Игры-на-разных-платформах\" data-toc-modified-id=\"Игры-на-разных-платформах-4.2\">Игры на разных платформах</a></span></li><li><span><a href=\"#Определение-актуального-промежутка-времени\" data-toc-modified-id=\"Определение-актуального-промежутка-времени-4.3\">Определение актуального промежутка времени</a></span></li><li><span><a href=\"#Определение-потенциально-прибыльных-платформ\" data-toc-modified-id=\"Определение-потенциально-прибыльных-платформ-4.4\">Определение потенциально прибыльных платформ</a></span></li><li><span><a href=\"#Общее-распределение-игр-по-жанрам\" data-toc-modified-id=\"Общее-распределение-игр-по-жанрам-4.5\">Общее распределение игр по жанрам</a></span></li></ul></li><li><span><a href=\"#Портрет-пользователя-каждого-региона\" data-toc-modified-id=\"Портрет-пользователя-каждого-региона-5\">Портрет пользователя каждого региона</a></span></li><li><span><a href=\"#Проверка-гипотез\" data-toc-modified-id=\"Проверка-гипотез-6\">Проверка гипотез</a></span></li><li><span><a href=\"#Общий-вывод\" data-toc-modified-id=\"Общий-вывод-7\">Общий вывод</a></span></li></ul></div>"
   ]
  },
  {
   "cell_type": "markdown",
   "metadata": {},
   "source": [
    "<div class=\"alert alert-block alert-success\">\n",
    "<b>✅Комментарий ревьюера:</b> Молодец, что написала введение и добавила содержание!  </div>"
   ]
  },
  {
   "cell_type": "markdown",
   "metadata": {},
   "source": [
    "## Загрузка данных и библиотек, создание функций"
   ]
  },
  {
   "cell_type": "code",
   "execution_count": 1,
   "metadata": {},
   "outputs": [
    {
     "name": "stdout",
     "output_type": "stream",
     "text": [
      "Collecting missingno\n",
      "  Downloading missingno-0.5.2-py3-none-any.whl (8.7 kB)\n",
      "Requirement already satisfied: numpy in /opt/conda/lib/python3.9/site-packages (from missingno) (1.21.1)\n",
      "Requirement already satisfied: scipy in /opt/conda/lib/python3.9/site-packages (from missingno) (1.9.1)\n",
      "Requirement already satisfied: seaborn in /opt/conda/lib/python3.9/site-packages (from missingno) (0.11.1)\n",
      "Requirement already satisfied: matplotlib in /opt/conda/lib/python3.9/site-packages (from missingno) (3.3.4)\n",
      "Requirement already satisfied: python-dateutil>=2.1 in /opt/conda/lib/python3.9/site-packages (from matplotlib->missingno) (2.8.1)\n",
      "Requirement already satisfied: cycler>=0.10 in /opt/conda/lib/python3.9/site-packages (from matplotlib->missingno) (0.11.0)\n",
      "Requirement already satisfied: pillow>=6.2.0 in /opt/conda/lib/python3.9/site-packages (from matplotlib->missingno) (8.4.0)\n",
      "Requirement already satisfied: kiwisolver>=1.0.1 in /opt/conda/lib/python3.9/site-packages (from matplotlib->missingno) (1.4.4)\n",
      "Requirement already satisfied: pyparsing!=2.0.4,!=2.1.2,!=2.1.6,>=2.0.3 in /opt/conda/lib/python3.9/site-packages (from matplotlib->missingno) (2.4.7)\n",
      "Requirement already satisfied: six>=1.5 in /opt/conda/lib/python3.9/site-packages (from python-dateutil>=2.1->matplotlib->missingno) (1.16.0)\n",
      "Requirement already satisfied: pandas>=0.23 in /opt/conda/lib/python3.9/site-packages (from seaborn->missingno) (1.2.4)\n",
      "Requirement already satisfied: pytz>=2017.3 in /opt/conda/lib/python3.9/site-packages (from pandas>=0.23->seaborn->missingno) (2021.1)\n",
      "Installing collected packages: missingno\n",
      "Successfully installed missingno-0.5.2\n"
     ]
    }
   ],
   "source": [
    "!pip install missingno"
   ]
  },
  {
   "cell_type": "code",
   "execution_count": 2,
   "metadata": {},
   "outputs": [],
   "source": [
    "# импорт библиотек\n",
    "import pandas as pd\n",
    "import numpy as np\n",
    "import matplotlib\n",
    "import matplotlib.pyplot as plt \n",
    "import seaborn as sns\n",
    "import scipy.stats as stats\n",
    "from scipy import stats as st\n",
    "import datetime as dt\n",
    "import missingno as msno\n",
    "import warnings\n",
    "warnings.filterwarnings(\"ignore\")"
   ]
  },
  {
   "cell_type": "markdown",
   "metadata": {},
   "source": [
    "<div class=\"alert alert-block alert-success\">\n",
    "<b>✅Комментарий ревьюера:</b> Правильно, что импортируешь все библиотеки в отдельной ячейке!  </div>"
   ]
  },
  {
   "cell_type": "code",
   "execution_count": 3,
   "metadata": {},
   "outputs": [],
   "source": [
    "# функция для прорисовки графиков\n",
    "def create_any_bar(groupby_column, func, y='name'):\n",
    "    plt.style.use('seaborn-pastel')\n",
    "    df_to_plot = game.groupby(groupby_column)[y]\n",
    "    if func == 'count':\n",
    "        df_to_plot_calculated = df_to_plot.count()\n",
    "        figsize = (15,5)\n",
    "        plot = df_to_plot_calculated.plot(kind='bar', y=y, figsize=figsize, ec='black', color='orange')\n",
    "    elif func == 'sum':\n",
    "        df_to_plot_calculated = df_to_plot.sum().sort_values()\n",
    "        figsize = (15,10)\n",
    "        plot = df_to_plot_calculated.plot(kind='barh', y=y, figsize=figsize, ec='black', color='orange')"
   ]
  },
  {
   "cell_type": "code",
   "execution_count": 4,
   "metadata": {},
   "outputs": [],
   "source": [
    "# функция для прорисовки графиков top_in_regions_plot\n",
    "def top_in_regions_plot(groupby, region_sales, ax):\n",
    "    pivot = actual_g.groupby(groupby).agg({region_sales: 'sum'}).sort_values(by=region_sales, ascending=False)[:5]\n",
    "    title_dict = {'na_sales': 'North America Sales', 'eu_sales': 'Europe Sales', 'jp_sales': 'Japan Sales', 'other_sales':'Other sales'}\n",
    "    color_dict = {'na_sales': 'red', 'eu_sales': 'yellow', 'jp_sales': 'orange', 'other_sales':'grey'}\n",
    "    plot = pivot.plot(kind='bar', ec='black', title=title_dict[region_sales], ax=axes[ax], legend=None,\n",
    "                   fontsize=18, color=color_dict[region_sales], rot=20)\n",
    "    plot.set_xlabel('')\n",
    "    plot.title.set_size(20)"
   ]
  },
  {
   "cell_type": "code",
   "execution_count": 5,
   "metadata": {},
   "outputs": [],
   "source": [
    "# функция для прорисовки графиков top_pie_regions_plot\n",
    "def top_pie_regions_plot(groupby, region_sales, ax):\n",
    "    pivot = actual_g.groupby(groupby).agg({region_sales: 'sum'}).sort_values(by=region_sales, ascending=False)[:5]\n",
    "    title_dict = {'na_sales': 'North America Sales', 'eu_sales': 'Europe Sales', 'jp_sales': 'Japan Sales', 'other_sales':'Other sales'}\n",
    "    plot = pivot.plot(kind='pie', ax=axes[ax], legend=None,\n",
    "                   fontsize=18, rot=20, subplots=True, autopct='%2.0f%%', shadow = True, startangle=90)\n",
    "    plt.subplots_adjust(hspace=0.3, wspace=0.3)"
   ]
  },
  {
   "cell_type": "markdown",
   "metadata": {},
   "source": [
    "<div class=\"alert alert-block alert-success\">\n",
    "<b>✅Комментарий ревьюера:</b> Здорово, что пишешь функции!  </div>"
   ]
  },
  {
   "cell_type": "code",
   "execution_count": 6,
   "metadata": {},
   "outputs": [
    {
     "data": {
      "text/html": [
       "<div>\n",
       "<style scoped>\n",
       "    .dataframe tbody tr th:only-of-type {\n",
       "        vertical-align: middle;\n",
       "    }\n",
       "\n",
       "    .dataframe tbody tr th {\n",
       "        vertical-align: top;\n",
       "    }\n",
       "\n",
       "    .dataframe thead th {\n",
       "        text-align: right;\n",
       "    }\n",
       "</style>\n",
       "<table border=\"1\" class=\"dataframe\">\n",
       "  <thead>\n",
       "    <tr style=\"text-align: right;\">\n",
       "      <th></th>\n",
       "      <th>7634</th>\n",
       "      <th>13771</th>\n",
       "      <th>3051</th>\n",
       "      <th>15726</th>\n",
       "      <th>578</th>\n",
       "      <th>14668</th>\n",
       "      <th>10421</th>\n",
       "      <th>10231</th>\n",
       "    </tr>\n",
       "  </thead>\n",
       "  <tbody>\n",
       "    <tr>\n",
       "      <th>Name</th>\n",
       "      <td>Press Your Luck 2010 Edition</td>\n",
       "      <td>Aeon Flux</td>\n",
       "      <td>Castlevania: Lords of Shadow</td>\n",
       "      <td>Prince of Stride</td>\n",
       "      <td>Final Fantasy XIII-2</td>\n",
       "      <td>World of Zoo</td>\n",
       "      <td>Gravity Games Bike: Street Vert Dirt</td>\n",
       "      <td>Calling</td>\n",
       "    </tr>\n",
       "    <tr>\n",
       "      <th>Platform</th>\n",
       "      <td>DS</td>\n",
       "      <td>PS2</td>\n",
       "      <td>X360</td>\n",
       "      <td>PSV</td>\n",
       "      <td>PS3</td>\n",
       "      <td>PC</td>\n",
       "      <td>PS2</td>\n",
       "      <td>Wii</td>\n",
       "    </tr>\n",
       "    <tr>\n",
       "      <th>Year_of_Release</th>\n",
       "      <td>2009.0</td>\n",
       "      <td>2005.0</td>\n",
       "      <td>2010.0</td>\n",
       "      <td>2015.0</td>\n",
       "      <td>2011.0</td>\n",
       "      <td>2009.0</td>\n",
       "      <td>2002.0</td>\n",
       "      <td>2009.0</td>\n",
       "    </tr>\n",
       "    <tr>\n",
       "      <th>Genre</th>\n",
       "      <td>Misc</td>\n",
       "      <td>Action</td>\n",
       "      <td>Action</td>\n",
       "      <td>Adventure</td>\n",
       "      <td>Role-Playing</td>\n",
       "      <td>Simulation</td>\n",
       "      <td>Sports</td>\n",
       "      <td>Adventure</td>\n",
       "    </tr>\n",
       "    <tr>\n",
       "      <th>NA_sales</th>\n",
       "      <td>0.18</td>\n",
       "      <td>0.02</td>\n",
       "      <td>0.42</td>\n",
       "      <td>0.0</td>\n",
       "      <td>0.78</td>\n",
       "      <td>0.0</td>\n",
       "      <td>0.05</td>\n",
       "      <td>0.06</td>\n",
       "    </tr>\n",
       "    <tr>\n",
       "      <th>EU_sales</th>\n",
       "      <td>0.0</td>\n",
       "      <td>0.02</td>\n",
       "      <td>0.17</td>\n",
       "      <td>0.0</td>\n",
       "      <td>0.73</td>\n",
       "      <td>0.02</td>\n",
       "      <td>0.04</td>\n",
       "      <td>0.04</td>\n",
       "    </tr>\n",
       "    <tr>\n",
       "      <th>JP_sales</th>\n",
       "      <td>0.0</td>\n",
       "      <td>0.0</td>\n",
       "      <td>0.01</td>\n",
       "      <td>0.02</td>\n",
       "      <td>0.89</td>\n",
       "      <td>0.0</td>\n",
       "      <td>0.0</td>\n",
       "      <td>0.0</td>\n",
       "    </tr>\n",
       "    <tr>\n",
       "      <th>Other_sales</th>\n",
       "      <td>0.01</td>\n",
       "      <td>0.01</td>\n",
       "      <td>0.05</td>\n",
       "      <td>0.0</td>\n",
       "      <td>0.23</td>\n",
       "      <td>0.01</td>\n",
       "      <td>0.01</td>\n",
       "      <td>0.01</td>\n",
       "    </tr>\n",
       "    <tr>\n",
       "      <th>Critic_Score</th>\n",
       "      <td>NaN</td>\n",
       "      <td>66.0</td>\n",
       "      <td>83.0</td>\n",
       "      <td>NaN</td>\n",
       "      <td>79.0</td>\n",
       "      <td>NaN</td>\n",
       "      <td>24.0</td>\n",
       "      <td>49.0</td>\n",
       "    </tr>\n",
       "    <tr>\n",
       "      <th>User_Score</th>\n",
       "      <td>tbd</td>\n",
       "      <td>5.8</td>\n",
       "      <td>7.8</td>\n",
       "      <td>NaN</td>\n",
       "      <td>6.6</td>\n",
       "      <td>8.4</td>\n",
       "      <td>4.1</td>\n",
       "      <td>6.7</td>\n",
       "    </tr>\n",
       "    <tr>\n",
       "      <th>Rating</th>\n",
       "      <td>E</td>\n",
       "      <td>T</td>\n",
       "      <td>M</td>\n",
       "      <td>NaN</td>\n",
       "      <td>T</td>\n",
       "      <td>E</td>\n",
       "      <td>T</td>\n",
       "      <td>T</td>\n",
       "    </tr>\n",
       "  </tbody>\n",
       "</table>\n",
       "</div>"
      ],
      "text/plain": [
       "                                        7634       13771  \\\n",
       "Name             Press Your Luck 2010 Edition  Aeon Flux   \n",
       "Platform                                   DS        PS2   \n",
       "Year_of_Release                        2009.0     2005.0   \n",
       "Genre                                    Misc     Action   \n",
       "NA_sales                                 0.18       0.02   \n",
       "EU_sales                                  0.0       0.02   \n",
       "JP_sales                                  0.0        0.0   \n",
       "Other_sales                              0.01       0.01   \n",
       "Critic_Score                              NaN       66.0   \n",
       "User_Score                                tbd        5.8   \n",
       "Rating                                      E          T   \n",
       "\n",
       "                                        3051              15726  \\\n",
       "Name             Castlevania: Lords of Shadow  Prince of Stride   \n",
       "Platform                                 X360               PSV   \n",
       "Year_of_Release                        2010.0            2015.0   \n",
       "Genre                                  Action         Adventure   \n",
       "NA_sales                                 0.42               0.0   \n",
       "EU_sales                                 0.17               0.0   \n",
       "JP_sales                                 0.01              0.02   \n",
       "Other_sales                              0.05               0.0   \n",
       "Critic_Score                             83.0               NaN   \n",
       "User_Score                                7.8               NaN   \n",
       "Rating                                      M               NaN   \n",
       "\n",
       "                                578           14668  \\\n",
       "Name             Final Fantasy XIII-2  World of Zoo   \n",
       "Platform                          PS3            PC   \n",
       "Year_of_Release                2011.0        2009.0   \n",
       "Genre                    Role-Playing    Simulation   \n",
       "NA_sales                         0.78           0.0   \n",
       "EU_sales                         0.73          0.02   \n",
       "JP_sales                         0.89           0.0   \n",
       "Other_sales                      0.23          0.01   \n",
       "Critic_Score                     79.0           NaN   \n",
       "User_Score                        6.6           8.4   \n",
       "Rating                              T             E   \n",
       "\n",
       "                                                10421      10231  \n",
       "Name             Gravity Games Bike: Street Vert Dirt    Calling  \n",
       "Platform                                          PS2        Wii  \n",
       "Year_of_Release                                2002.0     2009.0  \n",
       "Genre                                          Sports  Adventure  \n",
       "NA_sales                                         0.05       0.06  \n",
       "EU_sales                                         0.04       0.04  \n",
       "JP_sales                                          0.0        0.0  \n",
       "Other_sales                                      0.01       0.01  \n",
       "Critic_Score                                     24.0       49.0  \n",
       "User_Score                                        4.1        6.7  \n",
       "Rating                                              T          T  "
      ]
     },
     "execution_count": 6,
     "metadata": {},
     "output_type": "execute_result"
    }
   ],
   "source": [
    "# устанавливаем стиль графиков\n",
    "sns.set_style('whitegrid')\n",
    "# снимаем ограничение на ширину столбцов\n",
    "pd.set_option('display.max_colwidth', None) \n",
    "# загружаем датасеты\n",
    "game = pd.read_csv('/datasets/games.csv')\n",
    "game.sample(8, random_state=0).T"
   ]
  },
  {
   "cell_type": "code",
   "execution_count": 7,
   "metadata": {},
   "outputs": [
    {
     "data": {
      "text/html": [
       "<div>\n",
       "<style scoped>\n",
       "    .dataframe tbody tr th:only-of-type {\n",
       "        vertical-align: middle;\n",
       "    }\n",
       "\n",
       "    .dataframe tbody tr th {\n",
       "        vertical-align: top;\n",
       "    }\n",
       "\n",
       "    .dataframe thead th {\n",
       "        text-align: right;\n",
       "    }\n",
       "</style>\n",
       "<table border=\"1\" class=\"dataframe\">\n",
       "  <thead>\n",
       "    <tr style=\"text-align: right;\">\n",
       "      <th></th>\n",
       "      <th>0</th>\n",
       "      <th>1</th>\n",
       "      <th>2</th>\n",
       "      <th>3</th>\n",
       "      <th>4</th>\n",
       "    </tr>\n",
       "  </thead>\n",
       "  <tbody>\n",
       "    <tr>\n",
       "      <th>Name</th>\n",
       "      <td>Wii Sports</td>\n",
       "      <td>Super Mario Bros.</td>\n",
       "      <td>Mario Kart Wii</td>\n",
       "      <td>Wii Sports Resort</td>\n",
       "      <td>Pokemon Red/Pokemon Blue</td>\n",
       "    </tr>\n",
       "    <tr>\n",
       "      <th>Platform</th>\n",
       "      <td>Wii</td>\n",
       "      <td>NES</td>\n",
       "      <td>Wii</td>\n",
       "      <td>Wii</td>\n",
       "      <td>GB</td>\n",
       "    </tr>\n",
       "    <tr>\n",
       "      <th>Year_of_Release</th>\n",
       "      <td>2006.0</td>\n",
       "      <td>1985.0</td>\n",
       "      <td>2008.0</td>\n",
       "      <td>2009.0</td>\n",
       "      <td>1996.0</td>\n",
       "    </tr>\n",
       "    <tr>\n",
       "      <th>Genre</th>\n",
       "      <td>Sports</td>\n",
       "      <td>Platform</td>\n",
       "      <td>Racing</td>\n",
       "      <td>Sports</td>\n",
       "      <td>Role-Playing</td>\n",
       "    </tr>\n",
       "    <tr>\n",
       "      <th>NA_sales</th>\n",
       "      <td>41.36</td>\n",
       "      <td>29.08</td>\n",
       "      <td>15.68</td>\n",
       "      <td>15.61</td>\n",
       "      <td>11.27</td>\n",
       "    </tr>\n",
       "    <tr>\n",
       "      <th>EU_sales</th>\n",
       "      <td>28.96</td>\n",
       "      <td>3.58</td>\n",
       "      <td>12.76</td>\n",
       "      <td>10.93</td>\n",
       "      <td>8.89</td>\n",
       "    </tr>\n",
       "    <tr>\n",
       "      <th>JP_sales</th>\n",
       "      <td>3.77</td>\n",
       "      <td>6.81</td>\n",
       "      <td>3.79</td>\n",
       "      <td>3.28</td>\n",
       "      <td>10.22</td>\n",
       "    </tr>\n",
       "    <tr>\n",
       "      <th>Other_sales</th>\n",
       "      <td>8.45</td>\n",
       "      <td>0.77</td>\n",
       "      <td>3.29</td>\n",
       "      <td>2.95</td>\n",
       "      <td>1.0</td>\n",
       "    </tr>\n",
       "    <tr>\n",
       "      <th>Critic_Score</th>\n",
       "      <td>76.0</td>\n",
       "      <td>NaN</td>\n",
       "      <td>82.0</td>\n",
       "      <td>80.0</td>\n",
       "      <td>NaN</td>\n",
       "    </tr>\n",
       "    <tr>\n",
       "      <th>User_Score</th>\n",
       "      <td>8</td>\n",
       "      <td>NaN</td>\n",
       "      <td>8.3</td>\n",
       "      <td>8</td>\n",
       "      <td>NaN</td>\n",
       "    </tr>\n",
       "    <tr>\n",
       "      <th>Rating</th>\n",
       "      <td>E</td>\n",
       "      <td>NaN</td>\n",
       "      <td>E</td>\n",
       "      <td>E</td>\n",
       "      <td>NaN</td>\n",
       "    </tr>\n",
       "  </tbody>\n",
       "</table>\n",
       "</div>"
      ],
      "text/plain": [
       "                          0                  1               2  \\\n",
       "Name             Wii Sports  Super Mario Bros.  Mario Kart Wii   \n",
       "Platform                Wii                NES             Wii   \n",
       "Year_of_Release      2006.0             1985.0          2008.0   \n",
       "Genre                Sports           Platform          Racing   \n",
       "NA_sales              41.36              29.08           15.68   \n",
       "EU_sales              28.96               3.58           12.76   \n",
       "JP_sales               3.77               6.81            3.79   \n",
       "Other_sales            8.45               0.77            3.29   \n",
       "Critic_Score           76.0                NaN            82.0   \n",
       "User_Score                8                NaN             8.3   \n",
       "Rating                    E                NaN               E   \n",
       "\n",
       "                                 3                         4  \n",
       "Name             Wii Sports Resort  Pokemon Red/Pokemon Blue  \n",
       "Platform                       Wii                        GB  \n",
       "Year_of_Release             2009.0                    1996.0  \n",
       "Genre                       Sports              Role-Playing  \n",
       "NA_sales                     15.61                     11.27  \n",
       "EU_sales                     10.93                      8.89  \n",
       "JP_sales                      3.28                     10.22  \n",
       "Other_sales                   2.95                       1.0  \n",
       "Critic_Score                  80.0                       NaN  \n",
       "User_Score                       8                       NaN  \n",
       "Rating                           E                       NaN  "
      ]
     },
     "metadata": {},
     "output_type": "display_data"
    },
    {
     "name": "stdout",
     "output_type": "stream",
     "text": [
      "<class 'pandas.core.frame.DataFrame'>\n",
      "RangeIndex: 16715 entries, 0 to 16714\n",
      "Data columns (total 11 columns):\n",
      " #   Column           Non-Null Count  Dtype  \n",
      "---  ------           --------------  -----  \n",
      " 0   Name             16713 non-null  object \n",
      " 1   Platform         16715 non-null  object \n",
      " 2   Year_of_Release  16446 non-null  float64\n",
      " 3   Genre            16713 non-null  object \n",
      " 4   NA_sales         16715 non-null  float64\n",
      " 5   EU_sales         16715 non-null  float64\n",
      " 6   JP_sales         16715 non-null  float64\n",
      " 7   Other_sales      16715 non-null  float64\n",
      " 8   Critic_Score     8137 non-null   float64\n",
      " 9   User_Score       10014 non-null  object \n",
      " 10  Rating           9949 non-null   object \n",
      "dtypes: float64(6), object(5)\n",
      "memory usage: 1.4+ MB\n"
     ]
    },
    {
     "data": {
      "text/plain": [
       "None"
      ]
     },
     "metadata": {},
     "output_type": "display_data"
    },
    {
     "name": "stdout",
     "output_type": "stream",
     "text": [
      "Число уникальных значений по столбцам\n"
     ]
    },
    {
     "data": {
      "text/plain": [
       "Name               11559\n",
       "Platform              31\n",
       "Year_of_Release       37\n",
       "Genre                 12\n",
       "NA_sales             402\n",
       "EU_sales             307\n",
       "JP_sales             244\n",
       "Other_sales          155\n",
       "Critic_Score          82\n",
       "User_Score            96\n",
       "Rating                 8\n",
       "dtype: int64"
      ]
     },
     "metadata": {},
     "output_type": "display_data"
    },
    {
     "name": "stdout",
     "output_type": "stream",
     "text": [
      "Явных дубликатов: 0\n"
     ]
    },
    {
     "data": {
      "text/html": [
       "<div>\n",
       "<style scoped>\n",
       "    .dataframe tbody tr th:only-of-type {\n",
       "        vertical-align: middle;\n",
       "    }\n",
       "\n",
       "    .dataframe tbody tr th {\n",
       "        vertical-align: top;\n",
       "    }\n",
       "\n",
       "    .dataframe thead th {\n",
       "        text-align: right;\n",
       "    }\n",
       "</style>\n",
       "<table border=\"1\" class=\"dataframe\">\n",
       "  <thead>\n",
       "    <tr style=\"text-align: right;\">\n",
       "      <th></th>\n",
       "      <th>Year_of_Release</th>\n",
       "      <th>NA_sales</th>\n",
       "      <th>EU_sales</th>\n",
       "      <th>JP_sales</th>\n",
       "      <th>Other_sales</th>\n",
       "      <th>Critic_Score</th>\n",
       "    </tr>\n",
       "  </thead>\n",
       "  <tbody>\n",
       "    <tr>\n",
       "      <th>count</th>\n",
       "      <td>16446.000000</td>\n",
       "      <td>16715.000000</td>\n",
       "      <td>16715.000000</td>\n",
       "      <td>16715.000000</td>\n",
       "      <td>16715.000000</td>\n",
       "      <td>8137.000000</td>\n",
       "    </tr>\n",
       "    <tr>\n",
       "      <th>mean</th>\n",
       "      <td>2006.484616</td>\n",
       "      <td>0.263377</td>\n",
       "      <td>0.145060</td>\n",
       "      <td>0.077617</td>\n",
       "      <td>0.047342</td>\n",
       "      <td>68.967679</td>\n",
       "    </tr>\n",
       "    <tr>\n",
       "      <th>std</th>\n",
       "      <td>5.877050</td>\n",
       "      <td>0.813604</td>\n",
       "      <td>0.503339</td>\n",
       "      <td>0.308853</td>\n",
       "      <td>0.186731</td>\n",
       "      <td>13.938165</td>\n",
       "    </tr>\n",
       "    <tr>\n",
       "      <th>min</th>\n",
       "      <td>1980.000000</td>\n",
       "      <td>0.000000</td>\n",
       "      <td>0.000000</td>\n",
       "      <td>0.000000</td>\n",
       "      <td>0.000000</td>\n",
       "      <td>13.000000</td>\n",
       "    </tr>\n",
       "    <tr>\n",
       "      <th>25%</th>\n",
       "      <td>2003.000000</td>\n",
       "      <td>0.000000</td>\n",
       "      <td>0.000000</td>\n",
       "      <td>0.000000</td>\n",
       "      <td>0.000000</td>\n",
       "      <td>60.000000</td>\n",
       "    </tr>\n",
       "    <tr>\n",
       "      <th>50%</th>\n",
       "      <td>2007.000000</td>\n",
       "      <td>0.080000</td>\n",
       "      <td>0.020000</td>\n",
       "      <td>0.000000</td>\n",
       "      <td>0.010000</td>\n",
       "      <td>71.000000</td>\n",
       "    </tr>\n",
       "    <tr>\n",
       "      <th>75%</th>\n",
       "      <td>2010.000000</td>\n",
       "      <td>0.240000</td>\n",
       "      <td>0.110000</td>\n",
       "      <td>0.040000</td>\n",
       "      <td>0.030000</td>\n",
       "      <td>79.000000</td>\n",
       "    </tr>\n",
       "    <tr>\n",
       "      <th>max</th>\n",
       "      <td>2016.000000</td>\n",
       "      <td>41.360000</td>\n",
       "      <td>28.960000</td>\n",
       "      <td>10.220000</td>\n",
       "      <td>10.570000</td>\n",
       "      <td>98.000000</td>\n",
       "    </tr>\n",
       "  </tbody>\n",
       "</table>\n",
       "</div>"
      ],
      "text/plain": [
       "       Year_of_Release      NA_sales      EU_sales      JP_sales  \\\n",
       "count     16446.000000  16715.000000  16715.000000  16715.000000   \n",
       "mean       2006.484616      0.263377      0.145060      0.077617   \n",
       "std           5.877050      0.813604      0.503339      0.308853   \n",
       "min        1980.000000      0.000000      0.000000      0.000000   \n",
       "25%        2003.000000      0.000000      0.000000      0.000000   \n",
       "50%        2007.000000      0.080000      0.020000      0.000000   \n",
       "75%        2010.000000      0.240000      0.110000      0.040000   \n",
       "max        2016.000000     41.360000     28.960000     10.220000   \n",
       "\n",
       "        Other_sales  Critic_Score  \n",
       "count  16715.000000   8137.000000  \n",
       "mean       0.047342     68.967679  \n",
       "std        0.186731     13.938165  \n",
       "min        0.000000     13.000000  \n",
       "25%        0.000000     60.000000  \n",
       "50%        0.010000     71.000000  \n",
       "75%        0.030000     79.000000  \n",
       "max       10.570000     98.000000  "
      ]
     },
     "metadata": {},
     "output_type": "display_data"
    }
   ],
   "source": [
    "# выводим всю нужную информацию\n",
    "display(game.head().T)\n",
    "display(game.info())\n",
    "print('Число уникальных значений по столбцам')\n",
    "display(game.nunique())\n",
    "print('Явных дубликатов:',game.duplicated().sum())\n",
    "display(game.describe())"
   ]
  },
  {
   "cell_type": "markdown",
   "metadata": {},
   "source": [
    "<div class=\"alert alert-block alert-danger\">\n",
    "<b>❌Комментарий ревьюера:</b> \n",
    "А еще при знакомстве с данными нужно вывести несколько строк на экран из полученной таблицы\n",
    "\n",
    "</div>"
   ]
  },
  {
   "cell_type": "markdown",
   "metadata": {},
   "source": [
    "<div class=\"alert alert-block alert-info\">\n",
    "<b>🔄Комментарий студента:</b> \n",
    "Так это первое, что я вывела, только транспонировала, чтобы не проматывать\n",
    "</div>"
   ]
  },
  {
   "cell_type": "markdown",
   "metadata": {},
   "source": [
    "<div class=\"alert alert-block alert-success\">\n",
    "<b>✅Комментарий ревьюера 2:</b> В таком виде видимо глаз не зацепился за таблицу и я этот момент  упустил, прошу прощения)  </div>"
   ]
  },
  {
   "cell_type": "markdown",
   "metadata": {},
   "source": [
    "Файл с данными и нужные библиотеки были успешно загружены; отображена основная информация по таблице. Для дальнейшео анализа необходимо привести названия столбцов к naming convention, проверить пропуски и дубликаты.\n",
    "\n",
    "## Подготовка данных"
   ]
  },
  {
   "cell_type": "code",
   "execution_count": 8,
   "metadata": {},
   "outputs": [
    {
     "data": {
      "text/plain": [
       "Index(['name', 'platform', 'year_of_release', 'genre', 'na_sales', 'eu_sales',\n",
       "       'jp_sales', 'other_sales', 'critic_score', 'user_score', 'rating'],\n",
       "      dtype='object')"
      ]
     },
     "execution_count": 8,
     "metadata": {},
     "output_type": "execute_result"
    }
   ],
   "source": [
    "# переименование названий столбцов в таблицах\n",
    "game.columns = game.columns.str.strip()\n",
    "game.columns = game.columns.str.lower()\n",
    "game.columns"
   ]
  },
  {
   "cell_type": "markdown",
   "metadata": {},
   "source": [
    "<div class=\"alert alert-block alert-success\">\n",
    "<b>✅Комментарий ревьюера:</b> Отличный способ!  </div>"
   ]
  },
  {
   "cell_type": "markdown",
   "metadata": {},
   "source": [
    "### Проверка пропусков"
   ]
  },
  {
   "cell_type": "code",
   "execution_count": 9,
   "metadata": {},
   "outputs": [
    {
     "name": "stdout",
     "output_type": "stream",
     "text": [
      "Пропуски по столбцам\n"
     ]
    },
    {
     "data": {
      "text/plain": [
       "name                  2\n",
       "platform              0\n",
       "year_of_release     269\n",
       "genre                 2\n",
       "na_sales              0\n",
       "eu_sales              0\n",
       "jp_sales              0\n",
       "other_sales           0\n",
       "critic_score       8578\n",
       "user_score         6701\n",
       "rating             6766\n",
       "dtype: int64"
      ]
     },
     "metadata": {},
     "output_type": "display_data"
    },
    {
     "name": "stdout",
     "output_type": "stream",
     "text": [
      "Проценты пропусков по столбцам\n"
     ]
    },
    {
     "data": {
      "text/plain": [
       "name                0.01\n",
       "platform            0.00\n",
       "year_of_release     1.61\n",
       "genre               0.01\n",
       "na_sales            0.00\n",
       "eu_sales            0.00\n",
       "jp_sales            0.00\n",
       "other_sales         0.00\n",
       "critic_score       51.32\n",
       "user_score         40.09\n",
       "rating             40.48\n",
       "dtype: float64"
      ]
     },
     "execution_count": 9,
     "metadata": {},
     "output_type": "execute_result"
    }
   ],
   "source": [
    "print('Пропуски по столбцам')\n",
    "display(game.isna().sum())\n",
    "print('Проценты пропусков по столбцам')\n",
    "round((game.isna().sum() / game.shape[0] * 100), 2)"
   ]
  },
  {
   "cell_type": "code",
   "execution_count": 10,
   "metadata": {},
   "outputs": [
    {
     "data": {
      "image/png": "[encoded data removed]",
      "text/plain": [
       "<Figure size 1800x720 with 2 Axes>"
      ]
     },
     "metadata": {},
     "output_type": "display_data"
    }
   ],
   "source": [
    "msno.matrix(game, color=(0.994, 0.784, 0.386))\n",
    "plt.show()"
   ]
  },
  {
   "cell_type": "markdown",
   "metadata": {},
   "source": [
    "Строки с пропусками в столбцах, где пропусков не так много, необходимо удалить. "
   ]
  },
  {
   "cell_type": "code",
   "execution_count": 11,
   "metadata": {},
   "outputs": [
    {
     "data": {
      "text/html": [
       "<div>\n",
       "<style scoped>\n",
       "    .dataframe tbody tr th:only-of-type {\n",
       "        vertical-align: middle;\n",
       "    }\n",
       "\n",
       "    .dataframe tbody tr th {\n",
       "        vertical-align: top;\n",
       "    }\n",
       "\n",
       "    .dataframe thead th {\n",
       "        text-align: right;\n",
       "    }\n",
       "</style>\n",
       "<table border=\"1\" class=\"dataframe\">\n",
       "  <thead>\n",
       "    <tr style=\"text-align: right;\">\n",
       "      <th></th>\n",
       "      <th>name</th>\n",
       "      <th>platform</th>\n",
       "      <th>year_of_release</th>\n",
       "      <th>genre</th>\n",
       "      <th>na_sales</th>\n",
       "      <th>eu_sales</th>\n",
       "      <th>jp_sales</th>\n",
       "      <th>other_sales</th>\n",
       "      <th>critic_score</th>\n",
       "      <th>user_score</th>\n",
       "      <th>rating</th>\n",
       "    </tr>\n",
       "  </thead>\n",
       "  <tbody>\n",
       "    <tr>\n",
       "      <th>659</th>\n",
       "      <td>NaN</td>\n",
       "      <td>GEN</td>\n",
       "      <td>1993.0</td>\n",
       "      <td>NaN</td>\n",
       "      <td>1.78</td>\n",
       "      <td>0.53</td>\n",
       "      <td>0.00</td>\n",
       "      <td>0.08</td>\n",
       "      <td>NaN</td>\n",
       "      <td>NaN</td>\n",
       "      <td>NaN</td>\n",
       "    </tr>\n",
       "    <tr>\n",
       "      <th>14244</th>\n",
       "      <td>NaN</td>\n",
       "      <td>GEN</td>\n",
       "      <td>1993.0</td>\n",
       "      <td>NaN</td>\n",
       "      <td>0.00</td>\n",
       "      <td>0.00</td>\n",
       "      <td>0.03</td>\n",
       "      <td>0.00</td>\n",
       "      <td>NaN</td>\n",
       "      <td>NaN</td>\n",
       "      <td>NaN</td>\n",
       "    </tr>\n",
       "  </tbody>\n",
       "</table>\n",
       "</div>"
      ],
      "text/plain": [
       "      name platform  year_of_release genre  na_sales  eu_sales  jp_sales  \\\n",
       "659    NaN      GEN           1993.0   NaN      1.78      0.53      0.00   \n",
       "14244  NaN      GEN           1993.0   NaN      0.00      0.00      0.03   \n",
       "\n",
       "       other_sales  critic_score user_score rating  \n",
       "659           0.08           NaN        NaN    NaN  \n",
       "14244         0.00           NaN        NaN    NaN  "
      ]
     },
     "execution_count": 11,
     "metadata": {},
     "output_type": "execute_result"
    }
   ],
   "source": [
    "# проверим информацию о компьютерных играх, название которых не указано\n",
    "game.query('name.isna()')"
   ]
  },
  {
   "cell_type": "markdown",
   "metadata": {},
   "source": [
    "У двух игр нет информации о названии и жанре."
   ]
  },
  {
   "cell_type": "code",
   "execution_count": 12,
   "metadata": {},
   "outputs": [],
   "source": [
    "game = game.dropna(subset=['name', 'year_of_release'])"
   ]
  },
  {
   "cell_type": "markdown",
   "metadata": {},
   "source": [
    "Проверим уникальные значения в оценках пользователей и критиков, рейтинге."
   ]
  },
  {
   "cell_type": "code",
   "execution_count": 13,
   "metadata": {},
   "outputs": [
    {
     "data": {
      "text/plain": [
       "array([76., nan, 82., 80., 89., 58., 87., 91., 61., 97., 95., 77., 88.,\n",
       "       83., 94., 93., 85., 86., 98., 96., 90., 84., 73., 74., 78., 92.,\n",
       "       71., 72., 68., 62., 49., 67., 81., 66., 56., 79., 70., 59., 64.,\n",
       "       75., 60., 63., 69., 50., 25., 42., 44., 55., 48., 57., 29., 47.,\n",
       "       65., 54., 20., 53., 37., 38., 33., 52., 30., 32., 43., 45., 51.,\n",
       "       40., 46., 39., 34., 41., 36., 31., 27., 35., 26., 19., 28., 23.,\n",
       "       24., 21., 17., 13.])"
      ]
     },
     "execution_count": 13,
     "metadata": {},
     "output_type": "execute_result"
    }
   ],
   "source": [
    "game['critic_score'].unique()"
   ]
  },
  {
   "cell_type": "code",
   "execution_count": 14,
   "metadata": {},
   "outputs": [
    {
     "data": {
      "text/plain": [
       "array(['8', nan, '8.3', '8.5', '6.6', '8.4', '8.6', '7.7', '6.3', '7.4',\n",
       "       '8.2', '9', '7.9', '8.1', '8.7', '7.1', '3.4', '5.3', '4.8', '3.2',\n",
       "       '8.9', '6.4', '7.8', '7.5', '2.6', '7.2', '9.2', '7', '7.3', '4.3',\n",
       "       '7.6', '5.7', '5', '9.1', '6.5', 'tbd', '8.8', '6.9', '9.4', '6.8',\n",
       "       '6.1', '6.7', '5.4', '4', '4.9', '4.5', '9.3', '6.2', '4.2', '6',\n",
       "       '3.7', '4.1', '5.8', '5.6', '5.5', '4.4', '4.6', '5.9', '3.9',\n",
       "       '3.1', '2.9', '5.2', '3.3', '4.7', '5.1', '3.5', '2.5', '1.9', '3',\n",
       "       '2.7', '2.2', '2', '9.5', '2.1', '3.6', '2.8', '1.8', '3.8', '0',\n",
       "       '1.6', '9.6', '2.4', '1.7', '1.1', '0.3', '1.5', '0.7', '1.2',\n",
       "       '2.3', '0.5', '1.3', '0.2', '0.6', '1.4', '0.9', '1', '9.7'],\n",
       "      dtype=object)"
      ]
     },
     "execution_count": 14,
     "metadata": {},
     "output_type": "execute_result"
    }
   ],
   "source": [
    "game['user_score'].unique()"
   ]
  },
  {
   "cell_type": "code",
   "execution_count": 15,
   "metadata": {},
   "outputs": [
    {
     "data": {
      "text/plain": [
       "array(['E', nan, 'M', 'T', 'E10+', 'K-A', 'AO', 'EC', 'RP'], dtype=object)"
      ]
     },
     "execution_count": 15,
     "metadata": {},
     "output_type": "execute_result"
    }
   ],
   "source": [
    "game['rating'].unique()"
   ]
  },
  {
   "cell_type": "markdown",
   "metadata": {},
   "source": [
    "TBD - аббревиатура от английского To Be Determined (будет определено) или To Be Decided (будет решено). Скорее всего либо не было отзывов вообше, либо их было очень мало для формирования рейтинга. Заменим значение \"tbd\" на NaN."
   ]
  },
  {
   "cell_type": "markdown",
   "metadata": {},
   "source": [
    "<div class=\"alert alert-block alert-success\">\n",
    "<b>✅Комментарий ревьюера:</b> Верное решение.</div>"
   ]
  },
  {
   "cell_type": "code",
   "execution_count": 16,
   "metadata": {},
   "outputs": [],
   "source": [
    "game['rating'] = game['rating'].fillna(\"undefined\")\n",
    "game['user_score'] = game['user_score'].replace('tbd', np.NaN)"
   ]
  },
  {
   "cell_type": "markdown",
   "metadata": {},
   "source": [
    "### Корректировка типов данных"
   ]
  },
  {
   "cell_type": "code",
   "execution_count": 17,
   "metadata": {},
   "outputs": [],
   "source": [
    "game['year_of_release'] = game['year_of_release'].astype('int')\n",
    "game['user_score'] = game['user_score'].astype('float')"
   ]
  },
  {
   "cell_type": "markdown",
   "metadata": {},
   "source": [
    "### Проверка дубликатов\n",
    "Если название игры, год релиза и платформа совпадут, то записи будут считаться дубликатами."
   ]
  },
  {
   "cell_type": "code",
   "execution_count": 18,
   "metadata": {},
   "outputs": [
    {
     "data": {
      "text/plain": [
       "2"
      ]
     },
     "metadata": {},
     "output_type": "display_data"
    },
    {
     "data": {
      "text/html": [
       "<div>\n",
       "<style scoped>\n",
       "    .dataframe tbody tr th:only-of-type {\n",
       "        vertical-align: middle;\n",
       "    }\n",
       "\n",
       "    .dataframe tbody tr th {\n",
       "        vertical-align: top;\n",
       "    }\n",
       "\n",
       "    .dataframe thead th {\n",
       "        text-align: right;\n",
       "    }\n",
       "</style>\n",
       "<table border=\"1\" class=\"dataframe\">\n",
       "  <thead>\n",
       "    <tr style=\"text-align: right;\">\n",
       "      <th></th>\n",
       "      <th>name</th>\n",
       "      <th>platform</th>\n",
       "      <th>year_of_release</th>\n",
       "      <th>genre</th>\n",
       "      <th>na_sales</th>\n",
       "      <th>eu_sales</th>\n",
       "      <th>jp_sales</th>\n",
       "      <th>other_sales</th>\n",
       "      <th>critic_score</th>\n",
       "      <th>user_score</th>\n",
       "      <th>rating</th>\n",
       "    </tr>\n",
       "  </thead>\n",
       "  <tbody>\n",
       "    <tr>\n",
       "      <th>604</th>\n",
       "      <td>Madden NFL 13</td>\n",
       "      <td>PS3</td>\n",
       "      <td>2012</td>\n",
       "      <td>Sports</td>\n",
       "      <td>2.11</td>\n",
       "      <td>0.22</td>\n",
       "      <td>0.0</td>\n",
       "      <td>0.23</td>\n",
       "      <td>83.0</td>\n",
       "      <td>5.5</td>\n",
       "      <td>E</td>\n",
       "    </tr>\n",
       "    <tr>\n",
       "      <th>16230</th>\n",
       "      <td>Madden NFL 13</td>\n",
       "      <td>PS3</td>\n",
       "      <td>2012</td>\n",
       "      <td>Sports</td>\n",
       "      <td>0.00</td>\n",
       "      <td>0.01</td>\n",
       "      <td>0.0</td>\n",
       "      <td>0.00</td>\n",
       "      <td>83.0</td>\n",
       "      <td>5.5</td>\n",
       "      <td>E</td>\n",
       "    </tr>\n",
       "  </tbody>\n",
       "</table>\n",
       "</div>"
      ],
      "text/plain": [
       "                name platform  year_of_release   genre  na_sales  eu_sales  \\\n",
       "604    Madden NFL 13      PS3             2012  Sports      2.11      0.22   \n",
       "16230  Madden NFL 13      PS3             2012  Sports      0.00      0.01   \n",
       "\n",
       "       jp_sales  other_sales  critic_score  user_score rating  \n",
       "604         0.0         0.23          83.0         5.5      E  \n",
       "16230       0.0         0.00          83.0         5.5      E  "
      ]
     },
     "execution_count": 18,
     "metadata": {},
     "output_type": "execute_result"
    }
   ],
   "source": [
    "# проверим количество дубликатов для столбцов 'name', 'plarform' и 'year_of_release'\n",
    "display(game.duplicated(subset = ['name', 'platform','year_of_release'], keep = False).sum())\n",
    "game[game[['name', 'platform','year_of_release']].duplicated(keep = False)]"
   ]
  },
  {
   "cell_type": "markdown",
   "metadata": {},
   "source": [
    "<div class=\"alert alert-block alert-success\">\n",
    "<b>✅Комментарий ревьюера:</b> Молодец, что сделала такую проверку!</div>"
   ]
  },
  {
   "cell_type": "markdown",
   "metadata": {},
   "source": [
    "Дубликат с меньшими цифрами продаж необходимо удалить."
   ]
  },
  {
   "cell_type": "code",
   "execution_count": 19,
   "metadata": {},
   "outputs": [],
   "source": [
    "game = game.drop_duplicates(\n",
    "    subset = ['name', 'platform','year_of_release'], keep = 'first')"
   ]
  },
  {
   "cell_type": "code",
   "execution_count": 20,
   "metadata": {},
   "outputs": [
    {
     "data": {
      "text/plain": [
       "array(['Sports', 'Platform', 'Racing', 'Role-Playing', 'Puzzle', 'Misc',\n",
       "       'Shooter', 'Simulation', 'Action', 'Fighting', 'Adventure',\n",
       "       'Strategy'], dtype=object)"
      ]
     },
     "execution_count": 20,
     "metadata": {},
     "output_type": "execute_result"
    }
   ],
   "source": [
    "game.genre.unique()"
   ]
  },
  {
   "cell_type": "markdown",
   "metadata": {},
   "source": [
    "Дублирующихся жанров не обнаружено.\n",
    "### Обогащение данных\n",
    "**Добавим столбец с суммарными продажами по всем регионам**"
   ]
  },
  {
   "cell_type": "code",
   "execution_count": 21,
   "metadata": {},
   "outputs": [],
   "source": [
    "game['total_sales'] = game['na_sales'] + game['eu_sales'] + game['jp_sales'] + game['other_sales']"
   ]
  },
  {
   "cell_type": "markdown",
   "metadata": {},
   "source": [
    "<div class=\"alert alert-block alert-success\">\n",
    "<b>✅Комментарий ревьюера:</b> \n",
    "    \n",
    "Еще тут можно использовать метод `DataFrame.sum` с аргументом `axis=1`</div>\n",
    "\n",
    "```python\n",
    "\n",
    "        df['total_sum'] = df[['value_1', 'value_2', 'value_3', 'value_4']].sum(axis=1)\n",
    "    \n",
    "```"
   ]
  },
  {
   "cell_type": "code",
   "execution_count": 22,
   "metadata": {},
   "outputs": [
    {
     "name": "stdout",
     "output_type": "stream",
     "text": [
      "<class 'pandas.core.frame.DataFrame'>\n",
      "Int64Index: 16443 entries, 0 to 16714\n",
      "Data columns (total 12 columns):\n",
      " #   Column           Non-Null Count  Dtype  \n",
      "---  ------           --------------  -----  \n",
      " 0   name             16443 non-null  object \n",
      " 1   platform         16443 non-null  object \n",
      " 2   year_of_release  16443 non-null  int64  \n",
      " 3   genre            16443 non-null  object \n",
      " 4   na_sales         16443 non-null  float64\n",
      " 5   eu_sales         16443 non-null  float64\n",
      " 6   jp_sales         16443 non-null  float64\n",
      " 7   other_sales      16443 non-null  float64\n",
      " 8   critic_score     7982 non-null   float64\n",
      " 9   user_score       7462 non-null   float64\n",
      " 10  rating           16443 non-null  object \n",
      " 11  total_sales      16443 non-null  float64\n",
      "dtypes: float64(7), int64(1), object(4)\n",
      "memory usage: 1.6+ MB\n"
     ]
    }
   ],
   "source": [
    "game.info()"
   ]
  },
  {
   "cell_type": "markdown",
   "metadata": {},
   "source": [
    "**Добавим столбец с расшифровкой рейтинга игр**"
   ]
  },
  {
   "cell_type": "code",
   "execution_count": 23,
   "metadata": {},
   "outputs": [],
   "source": [
    "ESRB_dict = {\n",
    "    'E': 'Для всех','K-A':'Для всех (с 6 лет)','EC': 'с 3 лет', 'E10+': 'с 10 лет', 'M': 'с 17 лет', 'T': 'с 13 лет', 'AO': 'Для взрослых', 'RP': 'Рейтинг обсуждается', 'undefined' : 'Не определен'}\n",
    "game['ESRB_description'] = game[game['rating'].notnull()]['rating'].map(ESRB_dict)"
   ]
  },
  {
   "cell_type": "markdown",
   "metadata": {
    "id": "5766e785"
   },
   "source": [
    "<div class=\"alert alert-block alert-danger\">\n",
    "<b>❌Комментарий ревьюера:</b> \n",
    "    \n",
    "После этапа предобработки также нужно сделать краткий резюмирующий вывод о проделанной работе.</div>"
   ]
  },
  {
   "cell_type": "markdown",
   "id": "6fc02cdb",
   "metadata": {},
   "source": [
    "<div class=\"alert alert-block alert-success\">\n",
    "<b>✅Комментарий ревьюера 2:</b> Отлично, исправлено!👍  </div>"
   ]
  },
  {
   "cell_type": "markdown",
   "metadata": {},
   "source": [
    "Предобработка выполнена успешно: остались 3 столбца с пропусками, но с ними сложно что-то сделать. Названия столбцов теперь соответствуют naming convention, совершена проверка дубликатов, исправлены типы данных, добавлены столбцы для удобства дальнейшего анализа.\n",
    "## Исследовательский анализ\n",
    "### Выпуск игр по годам"
   ]
  },
  {
   "cell_type": "code",
   "execution_count": 24,
   "metadata": {},
   "outputs": [
    {
     "data": {
      "image/png": "[encoded data removed]",
      "text/plain": [
       "<Figure size 1080x360 with 1 Axes>"
      ]
     },
     "metadata": {},
     "output_type": "display_data"
    }
   ],
   "source": [
    "create_any_bar('year_of_release', 'count')\n",
    "plt.xlabel('Год релиза')\n",
    "plt.ylabel('Число релизов')\n",
    "plt.title('Число вышедших игр в разные годы')\n",
    "plt.show()"
   ]
  },
  {
   "cell_type": "markdown",
   "metadata": {},
   "source": [
    "<div class=\"alert alert-block alert-danger\">\n",
    "<b>❌Комментарий ревьюера:</b>\n",
    "    \n",
    "Хорошо, что подписываешь названия для графиков, но необходимо подписывать и оси. Есть [хорошая статья](https://devpractice.ru/matplotlib-lesson-3-3-text-elements/), которая подскажет как это правильно сделать)</div>"
   ]
  },
  {
   "cell_type": "markdown",
   "id": "6fc02cdb",
   "metadata": {},
   "source": [
    "<div class=\"alert alert-block alert-success\">\n",
    "<b>✅Комментарий ревьюера 2:</b> Отлично, исправлено!👍  </div>"
   ]
  },
  {
   "cell_type": "markdown",
   "metadata": {},
   "source": [
    "Рынок компьютерных игр меняется очень быстро, особенно в последние годы. Данные прошлого века уже, очевидно, не являются актуальными. Тем не менее нулевые годы тоже не будут репрезентативными, тк характеризуют резкую волну набирания популярности данного рынка.\n",
    "После 2008 и 2009 годов наблюдается спад выпуска компьютерныз игр, поскольку после кризиса стало труднее задействовать финансовые ресурсы.\n",
    "\n",
    "Со временем изменился подход к созданию игр, больше внимания стали уделять графике, сюжету, что замедлило релизы новых игр.\n",
    "### Игры на разных платформах"
   ]
  },
  {
   "cell_type": "code",
   "execution_count": 25,
   "metadata": {},
   "outputs": [
    {
     "data": {
      "image/png": "[encoded data removed]",
      "text/plain": [
       "<Figure size 1080x720 with 1 Axes>"
      ]
     },
     "metadata": {},
     "output_type": "display_data"
    }
   ],
   "source": [
    "create_any_bar('platform', 'sum', 'total_sales')\n",
    "plt.xlabel('Суммы продаж')\n",
    "plt.ylabel('Платформы')\n",
    "plt.title('Суммы продаж от игр на различных плтформах')\n",
    "plt.show()"
   ]
  },
  {
   "cell_type": "code",
   "execution_count": 26,
   "metadata": {},
   "outputs": [
    {
     "data": {
      "text/html": [
       "<style  type=\"text/css\" >\n",
       "#T_7605c_row0_col1,#T_7605c_row0_col2{\n",
       "            background-color:  #7f2704;\n",
       "            color:  #f1f1f1;\n",
       "        }#T_7605c_row1_col1,#T_7605c_row1_col2{\n",
       "            background-color:  #cd4401;\n",
       "            color:  #f1f1f1;\n",
       "        }#T_7605c_row2_col1,#T_7605c_row2_col2{\n",
       "            background-color:  #d64701;\n",
       "            color:  #f1f1f1;\n",
       "        }#T_7605c_row3_col1,#T_7605c_row3_col2{\n",
       "            background-color:  #de5005;\n",
       "            color:  #f1f1f1;\n",
       "        }#T_7605c_row4_col1,#T_7605c_row4_col2{\n",
       "            background-color:  #ec620f;\n",
       "            color:  #000000;\n",
       "        }#T_7605c_row5_col1,#T_7605c_row5_col2{\n",
       "            background-color:  #f5741f;\n",
       "            color:  #000000;\n",
       "        }#T_7605c_row6_col1,#T_7605c_row6_col2{\n",
       "            background-color:  #fdcfa0;\n",
       "            color:  #000000;\n",
       "        }#T_7605c_row7_col1,#T_7605c_row7_col2{\n",
       "            background-color:  #fdd0a2;\n",
       "            color:  #000000;\n",
       "        }#T_7605c_row8_col1,#T_7605c_row8_col2{\n",
       "            background-color:  #fdd3a7;\n",
       "            color:  #000000;\n",
       "        }#T_7605c_row9_col1,#T_7605c_row9_col2,#T_7605c_row10_col1,#T_7605c_row10_col2{\n",
       "            background-color:  #fdd7b1;\n",
       "            color:  #000000;\n",
       "        }#T_7605c_row11_col1,#T_7605c_row11_col2,#T_7605c_row12_col1,#T_7605c_row12_col2,#T_7605c_row13_col1,#T_7605c_row13_col2{\n",
       "            background-color:  #fdd8b2;\n",
       "            color:  #000000;\n",
       "        }#T_7605c_row14_col1,#T_7605c_row14_col2{\n",
       "            background-color:  #feddbc;\n",
       "            color:  #000000;\n",
       "        }#T_7605c_row15_col1,#T_7605c_row15_col2{\n",
       "            background-color:  #fee0c1;\n",
       "            color:  #000000;\n",
       "        }#T_7605c_row16_col1,#T_7605c_row16_col2{\n",
       "            background-color:  #fee0c3;\n",
       "            color:  #000000;\n",
       "        }#T_7605c_row17_col1,#T_7605c_row17_col2{\n",
       "            background-color:  #fee5cc;\n",
       "            color:  #000000;\n",
       "        }#T_7605c_row18_col1,#T_7605c_row18_col2,#T_7605c_row19_col1,#T_7605c_row19_col2{\n",
       "            background-color:  #feeddc;\n",
       "            color:  #000000;\n",
       "        }#T_7605c_row20_col1,#T_7605c_row20_col2{\n",
       "            background-color:  #fff0e1;\n",
       "            color:  #000000;\n",
       "        }#T_7605c_row21_col1,#T_7605c_row21_col2{\n",
       "            background-color:  #fff2e6;\n",
       "            color:  #000000;\n",
       "        }#T_7605c_row22_col1,#T_7605c_row22_col2{\n",
       "            background-color:  #fff3e6;\n",
       "            color:  #000000;\n",
       "        }#T_7605c_row23_col1,#T_7605c_row23_col2{\n",
       "            background-color:  #fff4e8;\n",
       "            color:  #000000;\n",
       "        }#T_7605c_row24_col1,#T_7605c_row24_col2,#T_7605c_row25_col1,#T_7605c_row25_col2,#T_7605c_row26_col1,#T_7605c_row26_col2,#T_7605c_row27_col1,#T_7605c_row27_col2,#T_7605c_row28_col1,#T_7605c_row28_col2,#T_7605c_row29_col1,#T_7605c_row29_col2,#T_7605c_row30_col1,#T_7605c_row30_col2{\n",
       "            background-color:  #fff5eb;\n",
       "            color:  #000000;\n",
       "        }</style><table id=\"T_7605c_\" ><thead>    <tr>        <th class=\"blank level0\" ></th>        <th class=\"col_heading level0 col0\" >platform</th>        <th class=\"col_heading level0 col1\" >total_sales</th>        <th class=\"col_heading level0 col2\" >share</th>    </tr></thead><tbody>\n",
       "                <tr>\n",
       "                        <th id=\"T_7605c_level0_row0\" class=\"row_heading level0 row0\" >0</th>\n",
       "                        <td id=\"T_7605c_row0_col0\" class=\"data row0 col0\" >PS2</td>\n",
       "                        <td id=\"T_7605c_row0_col1\" class=\"data row0 col1\" >1233.560000</td>\n",
       "                        <td id=\"T_7605c_row0_col2\" class=\"data row0 col2\" >0.139949</td>\n",
       "            </tr>\n",
       "            <tr>\n",
       "                        <th id=\"T_7605c_level0_row1\" class=\"row_heading level0 row1\" >1</th>\n",
       "                        <td id=\"T_7605c_row1_col0\" class=\"data row1 col0\" >X360</td>\n",
       "                        <td id=\"T_7605c_row1_col1\" class=\"data row1 col1\" >961.240000</td>\n",
       "                        <td id=\"T_7605c_row1_col2\" class=\"data row1 col2\" >0.109054</td>\n",
       "            </tr>\n",
       "            <tr>\n",
       "                        <th id=\"T_7605c_level0_row2\" class=\"row_heading level0 row2\" >2</th>\n",
       "                        <td id=\"T_7605c_row2_col0\" class=\"data row2 col0\" >PS3</td>\n",
       "                        <td id=\"T_7605c_row2_col1\" class=\"data row2 col1\" >931.330000</td>\n",
       "                        <td id=\"T_7605c_row2_col2\" class=\"data row2 col2\" >0.105661</td>\n",
       "            </tr>\n",
       "            <tr>\n",
       "                        <th id=\"T_7605c_level0_row3\" class=\"row_heading level0 row3\" >3</th>\n",
       "                        <td id=\"T_7605c_row3_col0\" class=\"data row3 col0\" >Wii</td>\n",
       "                        <td id=\"T_7605c_row3_col1\" class=\"data row3 col1\" >891.180000</td>\n",
       "                        <td id=\"T_7605c_row3_col2\" class=\"data row3 col2\" >0.101105</td>\n",
       "            </tr>\n",
       "            <tr>\n",
       "                        <th id=\"T_7605c_level0_row4\" class=\"row_heading level0 row4\" >4</th>\n",
       "                        <td id=\"T_7605c_row4_col0\" class=\"data row4 col0\" >DS</td>\n",
       "                        <td id=\"T_7605c_row4_col1\" class=\"data row4 col1\" >802.780000</td>\n",
       "                        <td id=\"T_7605c_row4_col2\" class=\"data row4 col2\" >0.091076</td>\n",
       "            </tr>\n",
       "            <tr>\n",
       "                        <th id=\"T_7605c_level0_row5\" class=\"row_heading level0 row5\" >5</th>\n",
       "                        <td id=\"T_7605c_row5_col0\" class=\"data row5 col0\" >PS</td>\n",
       "                        <td id=\"T_7605c_row5_col1\" class=\"data row5 col1\" >727.580000</td>\n",
       "                        <td id=\"T_7605c_row5_col2\" class=\"data row5 col2\" >0.082545</td>\n",
       "            </tr>\n",
       "            <tr>\n",
       "                        <th id=\"T_7605c_level0_row6\" class=\"row_heading level0 row6\" >6</th>\n",
       "                        <td id=\"T_7605c_row6_col0\" class=\"data row6 col0\" >PS4</td>\n",
       "                        <td id=\"T_7605c_row6_col1\" class=\"data row6 col1\" >314.140000</td>\n",
       "                        <td id=\"T_7605c_row6_col2\" class=\"data row6 col2\" >0.035640</td>\n",
       "            </tr>\n",
       "            <tr>\n",
       "                        <th id=\"T_7605c_level0_row7\" class=\"row_heading level0 row7\" >7</th>\n",
       "                        <td id=\"T_7605c_row7_col0\" class=\"data row7 col0\" >GBA</td>\n",
       "                        <td id=\"T_7605c_row7_col1\" class=\"data row7 col1\" >312.880000</td>\n",
       "                        <td id=\"T_7605c_row7_col2\" class=\"data row7 col2\" >0.035497</td>\n",
       "            </tr>\n",
       "            <tr>\n",
       "                        <th id=\"T_7605c_level0_row8\" class=\"row_heading level0 row8\" >8</th>\n",
       "                        <td id=\"T_7605c_row8_col0\" class=\"data row8 col0\" >PSP</td>\n",
       "                        <td id=\"T_7605c_row8_col1\" class=\"data row8 col1\" >289.530000</td>\n",
       "                        <td id=\"T_7605c_row8_col2\" class=\"data row8 col2\" >0.032848</td>\n",
       "            </tr>\n",
       "            <tr>\n",
       "                        <th id=\"T_7605c_level0_row9\" class=\"row_heading level0 row9\" >9</th>\n",
       "                        <td id=\"T_7605c_row9_col0\" class=\"data row9 col0\" >3DS</td>\n",
       "                        <td id=\"T_7605c_row9_col1\" class=\"data row9 col1\" >257.810000</td>\n",
       "                        <td id=\"T_7605c_row9_col2\" class=\"data row9 col2\" >0.029249</td>\n",
       "            </tr>\n",
       "            <tr>\n",
       "                        <th id=\"T_7605c_level0_row10\" class=\"row_heading level0 row10\" >10</th>\n",
       "                        <td id=\"T_7605c_row10_col0\" class=\"data row10 col0\" >PC</td>\n",
       "                        <td id=\"T_7605c_row10_col1\" class=\"data row10 col1\" >255.760000</td>\n",
       "                        <td id=\"T_7605c_row10_col2\" class=\"data row10 col2\" >0.029016</td>\n",
       "            </tr>\n",
       "            <tr>\n",
       "                        <th id=\"T_7605c_level0_row11\" class=\"row_heading level0 row11\" >11</th>\n",
       "                        <td id=\"T_7605c_row11_col0\" class=\"data row11 col0\" >GB</td>\n",
       "                        <td id=\"T_7605c_row11_col1\" class=\"data row11 col1\" >254.430000</td>\n",
       "                        <td id=\"T_7605c_row11_col2\" class=\"data row11 col2\" >0.028865</td>\n",
       "            </tr>\n",
       "            <tr>\n",
       "                        <th id=\"T_7605c_level0_row12\" class=\"row_heading level0 row12\" >12</th>\n",
       "                        <td id=\"T_7605c_row12_col0\" class=\"data row12 col0\" >XB</td>\n",
       "                        <td id=\"T_7605c_row12_col1\" class=\"data row12 col1\" >251.570000</td>\n",
       "                        <td id=\"T_7605c_row12_col2\" class=\"data row12 col2\" >0.028541</td>\n",
       "            </tr>\n",
       "            <tr>\n",
       "                        <th id=\"T_7605c_level0_row13\" class=\"row_heading level0 row13\" >13</th>\n",
       "                        <td id=\"T_7605c_row13_col0\" class=\"data row13 col0\" >NES</td>\n",
       "                        <td id=\"T_7605c_row13_col1\" class=\"data row13 col1\" >251.050000</td>\n",
       "                        <td id=\"T_7605c_row13_col2\" class=\"data row13 col2\" >0.028482</td>\n",
       "            </tr>\n",
       "            <tr>\n",
       "                        <th id=\"T_7605c_level0_row14\" class=\"row_heading level0 row14\" >14</th>\n",
       "                        <td id=\"T_7605c_row14_col0\" class=\"data row14 col0\" >N64</td>\n",
       "                        <td id=\"T_7605c_row14_col1\" class=\"data row14 col1\" >218.010000</td>\n",
       "                        <td id=\"T_7605c_row14_col2\" class=\"data row14 col2\" >0.024734</td>\n",
       "            </tr>\n",
       "            <tr>\n",
       "                        <th id=\"T_7605c_level0_row15\" class=\"row_heading level0 row15\" >15</th>\n",
       "                        <td id=\"T_7605c_row15_col0\" class=\"data row15 col0\" >SNES</td>\n",
       "                        <td id=\"T_7605c_row15_col1\" class=\"data row15 col1\" >200.040000</td>\n",
       "                        <td id=\"T_7605c_row15_col2\" class=\"data row15 col2\" >0.022695</td>\n",
       "            </tr>\n",
       "            <tr>\n",
       "                        <th id=\"T_7605c_level0_row16\" class=\"row_heading level0 row16\" >16</th>\n",
       "                        <td id=\"T_7605c_row16_col0\" class=\"data row16 col0\" >GC</td>\n",
       "                        <td id=\"T_7605c_row16_col1\" class=\"data row16 col1\" >196.730000</td>\n",
       "                        <td id=\"T_7605c_row16_col2\" class=\"data row16 col2\" >0.022319</td>\n",
       "            </tr>\n",
       "            <tr>\n",
       "                        <th id=\"T_7605c_level0_row17\" class=\"row_heading level0 row17\" >17</th>\n",
       "                        <td id=\"T_7605c_row17_col0\" class=\"data row17 col0\" >XOne</td>\n",
       "                        <td id=\"T_7605c_row17_col1\" class=\"data row17 col1\" >159.320000</td>\n",
       "                        <td id=\"T_7605c_row17_col2\" class=\"data row17 col2\" >0.018075</td>\n",
       "            </tr>\n",
       "            <tr>\n",
       "                        <th id=\"T_7605c_level0_row18\" class=\"row_heading level0 row18\" >18</th>\n",
       "                        <td id=\"T_7605c_row18_col0\" class=\"data row18 col0\" >2600</td>\n",
       "                        <td id=\"T_7605c_row18_col1\" class=\"data row18 col1\" >86.480000</td>\n",
       "                        <td id=\"T_7605c_row18_col2\" class=\"data row18 col2\" >0.009811</td>\n",
       "            </tr>\n",
       "            <tr>\n",
       "                        <th id=\"T_7605c_level0_row19\" class=\"row_heading level0 row19\" >19</th>\n",
       "                        <td id=\"T_7605c_row19_col0\" class=\"data row19 col0\" >WiiU</td>\n",
       "                        <td id=\"T_7605c_row19_col1\" class=\"data row19 col1\" >82.190000</td>\n",
       "                        <td id=\"T_7605c_row19_col2\" class=\"data row19 col2\" >0.009325</td>\n",
       "            </tr>\n",
       "            <tr>\n",
       "                        <th id=\"T_7605c_level0_row20\" class=\"row_heading level0 row20\" >20</th>\n",
       "                        <td id=\"T_7605c_row20_col0\" class=\"data row20 col0\" >PSV</td>\n",
       "                        <td id=\"T_7605c_row20_col1\" class=\"data row20 col1\" >53.810000</td>\n",
       "                        <td id=\"T_7605c_row20_col2\" class=\"data row20 col2\" >0.006105</td>\n",
       "            </tr>\n",
       "            <tr>\n",
       "                        <th id=\"T_7605c_level0_row21\" class=\"row_heading level0 row21\" >21</th>\n",
       "                        <td id=\"T_7605c_row21_col0\" class=\"data row21 col0\" >SAT</td>\n",
       "                        <td id=\"T_7605c_row21_col1\" class=\"data row21 col1\" >33.590000</td>\n",
       "                        <td id=\"T_7605c_row21_col2\" class=\"data row21 col2\" >0.003811</td>\n",
       "            </tr>\n",
       "            <tr>\n",
       "                        <th id=\"T_7605c_level0_row22\" class=\"row_heading level0 row22\" >22</th>\n",
       "                        <td id=\"T_7605c_row22_col0\" class=\"data row22 col0\" >GEN</td>\n",
       "                        <td id=\"T_7605c_row22_col1\" class=\"data row22 col1\" >28.350000</td>\n",
       "                        <td id=\"T_7605c_row22_col2\" class=\"data row22 col2\" >0.003216</td>\n",
       "            </tr>\n",
       "            <tr>\n",
       "                        <th id=\"T_7605c_level0_row23\" class=\"row_heading level0 row23\" >23</th>\n",
       "                        <td id=\"T_7605c_row23_col0\" class=\"data row23 col0\" >DC</td>\n",
       "                        <td id=\"T_7605c_row23_col1\" class=\"data row23 col1\" >15.950000</td>\n",
       "                        <td id=\"T_7605c_row23_col2\" class=\"data row23 col2\" >0.001810</td>\n",
       "            </tr>\n",
       "            <tr>\n",
       "                        <th id=\"T_7605c_level0_row24\" class=\"row_heading level0 row24\" >24</th>\n",
       "                        <td id=\"T_7605c_row24_col0\" class=\"data row24 col0\" >SCD</td>\n",
       "                        <td id=\"T_7605c_row24_col1\" class=\"data row24 col1\" >1.860000</td>\n",
       "                        <td id=\"T_7605c_row24_col2\" class=\"data row24 col2\" >0.000211</td>\n",
       "            </tr>\n",
       "            <tr>\n",
       "                        <th id=\"T_7605c_level0_row25\" class=\"row_heading level0 row25\" >25</th>\n",
       "                        <td id=\"T_7605c_row25_col0\" class=\"data row25 col0\" >NG</td>\n",
       "                        <td id=\"T_7605c_row25_col1\" class=\"data row25 col1\" >1.440000</td>\n",
       "                        <td id=\"T_7605c_row25_col2\" class=\"data row25 col2\" >0.000163</td>\n",
       "            </tr>\n",
       "            <tr>\n",
       "                        <th id=\"T_7605c_level0_row26\" class=\"row_heading level0 row26\" >26</th>\n",
       "                        <td id=\"T_7605c_row26_col0\" class=\"data row26 col0\" >WS</td>\n",
       "                        <td id=\"T_7605c_row26_col1\" class=\"data row26 col1\" >1.420000</td>\n",
       "                        <td id=\"T_7605c_row26_col2\" class=\"data row26 col2\" >0.000161</td>\n",
       "            </tr>\n",
       "            <tr>\n",
       "                        <th id=\"T_7605c_level0_row27\" class=\"row_heading level0 row27\" >27</th>\n",
       "                        <td id=\"T_7605c_row27_col0\" class=\"data row27 col0\" >TG16</td>\n",
       "                        <td id=\"T_7605c_row27_col1\" class=\"data row27 col1\" >0.160000</td>\n",
       "                        <td id=\"T_7605c_row27_col2\" class=\"data row27 col2\" >0.000018</td>\n",
       "            </tr>\n",
       "            <tr>\n",
       "                        <th id=\"T_7605c_level0_row28\" class=\"row_heading level0 row28\" >28</th>\n",
       "                        <td id=\"T_7605c_row28_col0\" class=\"data row28 col0\" >3DO</td>\n",
       "                        <td id=\"T_7605c_row28_col1\" class=\"data row28 col1\" >0.100000</td>\n",
       "                        <td id=\"T_7605c_row28_col2\" class=\"data row28 col2\" >0.000011</td>\n",
       "            </tr>\n",
       "            <tr>\n",
       "                        <th id=\"T_7605c_level0_row29\" class=\"row_heading level0 row29\" >29</th>\n",
       "                        <td id=\"T_7605c_row29_col0\" class=\"data row29 col0\" >GG</td>\n",
       "                        <td id=\"T_7605c_row29_col1\" class=\"data row29 col1\" >0.040000</td>\n",
       "                        <td id=\"T_7605c_row29_col2\" class=\"data row29 col2\" >0.000005</td>\n",
       "            </tr>\n",
       "            <tr>\n",
       "                        <th id=\"T_7605c_level0_row30\" class=\"row_heading level0 row30\" >30</th>\n",
       "                        <td id=\"T_7605c_row30_col0\" class=\"data row30 col0\" >PCFX</td>\n",
       "                        <td id=\"T_7605c_row30_col1\" class=\"data row30 col1\" >0.030000</td>\n",
       "                        <td id=\"T_7605c_row30_col2\" class=\"data row30 col2\" >0.000003</td>\n",
       "            </tr>\n",
       "    </tbody></table>"
      ],
      "text/plain": [
       "<pandas.io.formats.style.Styler at 0x7fd3adf27310>"
      ]
     },
     "execution_count": 26,
     "metadata": {},
     "output_type": "execute_result"
    }
   ],
   "source": [
    "total_sales_per_platform = game.pivot_table(\n",
    "    index = 'platform',\n",
    "    values = 'total_sales',\n",
    "    aggfunc = 'sum').sort_values(\n",
    "    by = 'total_sales', ascending = False).reset_index()\n",
    "total_sales_per_platform['share'] = total_sales_per_platform['total_sales'] / total_sales_per_platform['total_sales'].sum()\n",
    "total_sales_per_platform.style.background_gradient(cmap='Oranges')"
   ]
  },
  {
   "cell_type": "markdown",
   "metadata": {},
   "source": [
    "Судя по графику и таблице, на рынке есть очевидные лидеры. PS, PS2 и PS3 находятся среди них, поэтому есть основания предпологать, что популярность PS4 - лишь вопрос времени. В лидерах также X360, Wii и DS."
   ]
  },
  {
   "cell_type": "code",
   "execution_count": 27,
   "metadata": {},
   "outputs": [
    {
     "data": {
      "image/png": "[encoded data removed]",
      "text/plain": [
       "<Figure size 1080x576 with 2 Axes>"
      ]
     },
     "metadata": {},
     "output_type": "display_data"
    }
   ],
   "source": [
    "# количество релизов игр в зависимости от платформы и года\n",
    "total_relaese = game.sort_values(by='total_sales').pivot_table(\n",
    "    index='platform', \n",
    "    columns='year_of_release', \n",
    "    values='total_sales', \n",
    "    aggfunc='count'\n",
    ")\n",
    "fig, ax = plt.subplots(figsize=(15, 8))\n",
    "ax = sns.heatmap(total_relaese,linewidths= .2)\n",
    "ax.set(\n",
    "    title='Тепловая карта количества релизов игр на разных платформах в разные годы', \n",
    "    ylabel='Платформы', \n",
    "    xlabel='Годы'\n",
    ")\n",
    "plt.show()"
   ]
  },
  {
   "cell_type": "markdown",
   "metadata": {},
   "source": [
    "<div class=\"alert alert-block alert-success\">\n",
    "<b>✅Комментарий ревьюера:</b> Очень наглядно </div>"
   ]
  },
  {
   "cell_type": "markdown",
   "metadata": {},
   "source": [
    "<div class=\"alert alert-block alert-warning\">\n",
    "<b>🔁Комментарий ревьюера:</b> \n",
    "    \n",
    "Еще можно попробовать получить примерный срок жизни платформ с помощью расчетов.</div>"
   ]
  },
  {
   "cell_type": "markdown",
   "metadata": {},
   "source": [
    "За редкими исключениями средний срок жизни платформы составляет примерно +-10 лет при успехе.\n",
    "### Определение актуального промежутка времени\n",
    "Учитывая влияние кризисных событий и скорость изменения рынка, лучше выбрать последние 5 лет."
   ]
  },
  {
   "cell_type": "markdown",
   "metadata": {},
   "source": [
    "<div class=\"alert alert-block alert-success\">\n",
    "<b>✅Комментарий ревьюера:</b> Согласен с выбранным актуальным периодом! </div>"
   ]
  },
  {
   "cell_type": "code",
   "execution_count": 28,
   "metadata": {},
   "outputs": [
    {
     "data": {
      "text/html": [
       "<div>\n",
       "<style scoped>\n",
       "    .dataframe tbody tr th:only-of-type {\n",
       "        vertical-align: middle;\n",
       "    }\n",
       "\n",
       "    .dataframe tbody tr th {\n",
       "        vertical-align: top;\n",
       "    }\n",
       "\n",
       "    .dataframe thead th {\n",
       "        text-align: right;\n",
       "    }\n",
       "</style>\n",
       "<table border=\"1\" class=\"dataframe\">\n",
       "  <thead>\n",
       "    <tr style=\"text-align: right;\">\n",
       "      <th></th>\n",
       "      <th>14758</th>\n",
       "      <th>12368</th>\n",
       "      <th>3685</th>\n",
       "      <th>5444</th>\n",
       "      <th>12788</th>\n",
       "      <th>149</th>\n",
       "      <th>7031</th>\n",
       "      <th>6751</th>\n",
       "      <th>3845</th>\n",
       "      <th>13005</th>\n",
       "    </tr>\n",
       "  </thead>\n",
       "  <tbody>\n",
       "    <tr>\n",
       "      <th>name</th>\n",
       "      <td>Samurai Warriors 2</td>\n",
       "      <td>Mirror's Edge Catalyst</td>\n",
       "      <td>F1 2013</td>\n",
       "      <td>NHL 17</td>\n",
       "      <td>Remember Me</td>\n",
       "      <td>The Last of Us</td>\n",
       "      <td>Epic Mickey 2: The Power of Two</td>\n",
       "      <td>Ninja Gaiden 3</td>\n",
       "      <td>Rory McIlroy PGA Tour</td>\n",
       "      <td>WRC 5: FIA World Rally Championship</td>\n",
       "    </tr>\n",
       "    <tr>\n",
       "      <th>platform</th>\n",
       "      <td>PS3</td>\n",
       "      <td>PC</td>\n",
       "      <td>PS3</td>\n",
       "      <td>PS4</td>\n",
       "      <td>PC</td>\n",
       "      <td>PS3</td>\n",
       "      <td>WiiU</td>\n",
       "      <td>X360</td>\n",
       "      <td>PS4</td>\n",
       "      <td>PS4</td>\n",
       "    </tr>\n",
       "    <tr>\n",
       "      <th>year_of_release</th>\n",
       "      <td>2013</td>\n",
       "      <td>2016</td>\n",
       "      <td>2013</td>\n",
       "      <td>2016</td>\n",
       "      <td>2013</td>\n",
       "      <td>2013</td>\n",
       "      <td>2012</td>\n",
       "      <td>2012</td>\n",
       "      <td>2015</td>\n",
       "      <td>2015</td>\n",
       "    </tr>\n",
       "    <tr>\n",
       "      <th>genre</th>\n",
       "      <td>Action</td>\n",
       "      <td>Platform</td>\n",
       "      <td>Racing</td>\n",
       "      <td>Sports</td>\n",
       "      <td>Action</td>\n",
       "      <td>Action</td>\n",
       "      <td>Action</td>\n",
       "      <td>Action</td>\n",
       "      <td>Action</td>\n",
       "      <td>Sports</td>\n",
       "    </tr>\n",
       "    <tr>\n",
       "      <th>na_sales</th>\n",
       "      <td>0.0</td>\n",
       "      <td>0.01</td>\n",
       "      <td>0.01</td>\n",
       "      <td>0.19</td>\n",
       "      <td>0.0</td>\n",
       "      <td>2.41</td>\n",
       "      <td>0.13</td>\n",
       "      <td>0.16</td>\n",
       "      <td>0.18</td>\n",
       "      <td>0.0</td>\n",
       "    </tr>\n",
       "    <tr>\n",
       "      <th>eu_sales</th>\n",
       "      <td>0.0</td>\n",
       "      <td>0.05</td>\n",
       "      <td>0.42</td>\n",
       "      <td>0.08</td>\n",
       "      <td>0.05</td>\n",
       "      <td>2.18</td>\n",
       "      <td>0.07</td>\n",
       "      <td>0.05</td>\n",
       "      <td>0.25</td>\n",
       "      <td>0.05</td>\n",
       "    </tr>\n",
       "    <tr>\n",
       "      <th>jp_sales</th>\n",
       "      <td>0.03</td>\n",
       "      <td>0.0</td>\n",
       "      <td>0.03</td>\n",
       "      <td>0.0</td>\n",
       "      <td>0.0</td>\n",
       "      <td>0.28</td>\n",
       "      <td>0.01</td>\n",
       "      <td>0.03</td>\n",
       "      <td>0.0</td>\n",
       "      <td>0.0</td>\n",
       "    </tr>\n",
       "    <tr>\n",
       "      <th>other_sales</th>\n",
       "      <td>0.0</td>\n",
       "      <td>0.0</td>\n",
       "      <td>0.09</td>\n",
       "      <td>0.06</td>\n",
       "      <td>0.0</td>\n",
       "      <td>0.99</td>\n",
       "      <td>0.02</td>\n",
       "      <td>0.02</td>\n",
       "      <td>0.08</td>\n",
       "      <td>0.01</td>\n",
       "    </tr>\n",
       "    <tr>\n",
       "      <th>critic_score</th>\n",
       "      <td>NaN</td>\n",
       "      <td>74.0</td>\n",
       "      <td>77.0</td>\n",
       "      <td>78.0</td>\n",
       "      <td>65.0</td>\n",
       "      <td>95.0</td>\n",
       "      <td>57.0</td>\n",
       "      <td>58.0</td>\n",
       "      <td>61.0</td>\n",
       "      <td>NaN</td>\n",
       "    </tr>\n",
       "    <tr>\n",
       "      <th>user_score</th>\n",
       "      <td>NaN</td>\n",
       "      <td>4.4</td>\n",
       "      <td>6.3</td>\n",
       "      <td>5.8</td>\n",
       "      <td>7.4</td>\n",
       "      <td>9.1</td>\n",
       "      <td>5.6</td>\n",
       "      <td>4.4</td>\n",
       "      <td>3.7</td>\n",
       "      <td>NaN</td>\n",
       "    </tr>\n",
       "    <tr>\n",
       "      <th>rating</th>\n",
       "      <td>undefined</td>\n",
       "      <td>T</td>\n",
       "      <td>E</td>\n",
       "      <td>E10+</td>\n",
       "      <td>M</td>\n",
       "      <td>M</td>\n",
       "      <td>E</td>\n",
       "      <td>M</td>\n",
       "      <td>E</td>\n",
       "      <td>undefined</td>\n",
       "    </tr>\n",
       "    <tr>\n",
       "      <th>total_sales</th>\n",
       "      <td>0.03</td>\n",
       "      <td>0.06</td>\n",
       "      <td>0.55</td>\n",
       "      <td>0.33</td>\n",
       "      <td>0.05</td>\n",
       "      <td>5.86</td>\n",
       "      <td>0.23</td>\n",
       "      <td>0.26</td>\n",
       "      <td>0.51</td>\n",
       "      <td>0.06</td>\n",
       "    </tr>\n",
       "    <tr>\n",
       "      <th>ESRB_description</th>\n",
       "      <td>Не определен</td>\n",
       "      <td>с 13 лет</td>\n",
       "      <td>Для всех</td>\n",
       "      <td>с 10 лет</td>\n",
       "      <td>с 17 лет</td>\n",
       "      <td>с 17 лет</td>\n",
       "      <td>Для всех</td>\n",
       "      <td>с 17 лет</td>\n",
       "      <td>Для всех</td>\n",
       "      <td>Не определен</td>\n",
       "    </tr>\n",
       "  </tbody>\n",
       "</table>\n",
       "</div>"
      ],
      "text/plain": [
       "                               14758                   12368     3685   \\\n",
       "name              Samurai Warriors 2  Mirror's Edge Catalyst   F1 2013   \n",
       "platform                         PS3                      PC       PS3   \n",
       "year_of_release                 2013                    2016      2013   \n",
       "genre                         Action                Platform    Racing   \n",
       "na_sales                         0.0                    0.01      0.01   \n",
       "eu_sales                         0.0                    0.05      0.42   \n",
       "jp_sales                        0.03                     0.0      0.03   \n",
       "other_sales                      0.0                     0.0      0.09   \n",
       "critic_score                     NaN                    74.0      77.0   \n",
       "user_score                       NaN                     4.4       6.3   \n",
       "rating                     undefined                       T         E   \n",
       "total_sales                     0.03                    0.06      0.55   \n",
       "ESRB_description        Не определен                с 13 лет  Для всех   \n",
       "\n",
       "                     5444         12788           149    \\\n",
       "name                NHL 17  Remember Me  The Last of Us   \n",
       "platform               PS4           PC             PS3   \n",
       "year_of_release       2016         2013            2013   \n",
       "genre               Sports       Action          Action   \n",
       "na_sales              0.19          0.0            2.41   \n",
       "eu_sales              0.08         0.05            2.18   \n",
       "jp_sales               0.0          0.0            0.28   \n",
       "other_sales           0.06          0.0            0.99   \n",
       "critic_score          78.0         65.0            95.0   \n",
       "user_score             5.8          7.4             9.1   \n",
       "rating                E10+            M               M   \n",
       "total_sales           0.33         0.05            5.86   \n",
       "ESRB_description  с 10 лет     с 17 лет        с 17 лет   \n",
       "\n",
       "                                            7031            6751   \\\n",
       "name              Epic Mickey 2: The Power of Two  Ninja Gaiden 3   \n",
       "platform                                     WiiU            X360   \n",
       "year_of_release                              2012            2012   \n",
       "genre                                      Action          Action   \n",
       "na_sales                                     0.13            0.16   \n",
       "eu_sales                                     0.07            0.05   \n",
       "jp_sales                                     0.01            0.03   \n",
       "other_sales                                  0.02            0.02   \n",
       "critic_score                                 57.0            58.0   \n",
       "user_score                                    5.6             4.4   \n",
       "rating                                          E               M   \n",
       "total_sales                                  0.23            0.26   \n",
       "ESRB_description                         Для всех        с 17 лет   \n",
       "\n",
       "                                  3845                                 13005  \n",
       "name              Rory McIlroy PGA Tour  WRC 5: FIA World Rally Championship  \n",
       "platform                            PS4                                  PS4  \n",
       "year_of_release                    2015                                 2015  \n",
       "genre                            Action                               Sports  \n",
       "na_sales                           0.18                                  0.0  \n",
       "eu_sales                           0.25                                 0.05  \n",
       "jp_sales                            0.0                                  0.0  \n",
       "other_sales                        0.08                                 0.01  \n",
       "critic_score                       61.0                                  NaN  \n",
       "user_score                          3.7                                  NaN  \n",
       "rating                                E                            undefined  \n",
       "total_sales                        0.51                                 0.06  \n",
       "ESRB_description               Для всех                         Не определен  "
      ]
     },
     "metadata": {},
     "output_type": "display_data"
    },
    {
     "data": {
      "text/plain": [
       "(2885, 13)"
      ]
     },
     "execution_count": 28,
     "metadata": {},
     "output_type": "execute_result"
    }
   ],
   "source": [
    "actual_g = game.query('year_of_release >= 2012')\n",
    "display(actual_g.sample(10, random_state=10).T)\n",
    "actual_g.shape"
   ]
  },
  {
   "cell_type": "markdown",
   "metadata": {},
   "source": [
    "Выборка сильно уменьшилась после сокращения временного промежутка."
   ]
  },
  {
   "cell_type": "code",
   "execution_count": 29,
   "metadata": {
    "scrolled": true
   },
   "outputs": [
    {
     "data": {
      "text/html": [
       "<style  type=\"text/css\" >\n",
       "#T_47334_row0_col1{\n",
       "            background-color:  #7f2704;\n",
       "            color:  #f1f1f1;\n",
       "        }#T_47334_row1_col1{\n",
       "            background-color:  #993103;\n",
       "            color:  #f1f1f1;\n",
       "        }#T_47334_row2_col1{\n",
       "            background-color:  #da4902;\n",
       "            color:  #f1f1f1;\n",
       "        }#T_47334_row3_col1{\n",
       "            background-color:  #f36f1a;\n",
       "            color:  #000000;\n",
       "        }#T_47334_row4_col1{\n",
       "            background-color:  #fd9040;\n",
       "            color:  #000000;\n",
       "        }#T_47334_row5_col1{\n",
       "            background-color:  #fdd3a9;\n",
       "            color:  #000000;\n",
       "        }#T_47334_row6_col1{\n",
       "            background-color:  #fedebf;\n",
       "            color:  #000000;\n",
       "        }#T_47334_row7_col1{\n",
       "            background-color:  #fee6ce;\n",
       "            color:  #000000;\n",
       "        }#T_47334_row8_col1{\n",
       "            background-color:  #feecd9;\n",
       "            color:  #000000;\n",
       "        }#T_47334_row9_col1{\n",
       "            background-color:  #fff5ea;\n",
       "            color:  #000000;\n",
       "        }#T_47334_row10_col1{\n",
       "            background-color:  #fff5eb;\n",
       "            color:  #000000;\n",
       "        }</style><table id=\"T_47334_\" ><thead>    <tr>        <th class=\"blank level0\" ></th>        <th class=\"col_heading level0 col0\" >platform</th>        <th class=\"col_heading level0 col1\" >total_sales</th>    </tr></thead><tbody>\n",
       "                <tr>\n",
       "                        <th id=\"T_47334_level0_row0\" class=\"row_heading level0 row0\" >0</th>\n",
       "                        <td id=\"T_47334_row0_col0\" class=\"data row0 col0\" >PS4</td>\n",
       "                        <td id=\"T_47334_row0_col1\" class=\"data row0 col1\" >314.140000</td>\n",
       "            </tr>\n",
       "            <tr>\n",
       "                        <th id=\"T_47334_level0_row1\" class=\"row_heading level0 row1\" >1</th>\n",
       "                        <td id=\"T_47334_row1_col0\" class=\"data row1 col0\" >PS3</td>\n",
       "                        <td id=\"T_47334_row1_col1\" class=\"data row1 col1\" >288.780000</td>\n",
       "            </tr>\n",
       "            <tr>\n",
       "                        <th id=\"T_47334_level0_row2\" class=\"row_heading level0 row2\" >2</th>\n",
       "                        <td id=\"T_47334_row2_col0\" class=\"data row2 col0\" >X360</td>\n",
       "                        <td id=\"T_47334_row2_col1\" class=\"data row2 col1\" >236.540000</td>\n",
       "            </tr>\n",
       "            <tr>\n",
       "                        <th id=\"T_47334_level0_row3\" class=\"row_heading level0 row3\" >3</th>\n",
       "                        <td id=\"T_47334_row3_col0\" class=\"data row3 col0\" >3DS</td>\n",
       "                        <td id=\"T_47334_row3_col1\" class=\"data row3 col1\" >194.610000</td>\n",
       "            </tr>\n",
       "            <tr>\n",
       "                        <th id=\"T_47334_level0_row4\" class=\"row_heading level0 row4\" >4</th>\n",
       "                        <td id=\"T_47334_row4_col0\" class=\"data row4 col0\" >XOne</td>\n",
       "                        <td id=\"T_47334_row4_col1\" class=\"data row4 col1\" >159.320000</td>\n",
       "            </tr>\n",
       "            <tr>\n",
       "                        <th id=\"T_47334_level0_row5\" class=\"row_heading level0 row5\" >5</th>\n",
       "                        <td id=\"T_47334_row5_col0\" class=\"data row5 col0\" >WiiU</td>\n",
       "                        <td id=\"T_47334_row5_col1\" class=\"data row5 col1\" >82.190000</td>\n",
       "            </tr>\n",
       "            <tr>\n",
       "                        <th id=\"T_47334_level0_row6\" class=\"row_heading level0 row6\" >6</th>\n",
       "                        <td id=\"T_47334_row6_col0\" class=\"data row6 col0\" >PC</td>\n",
       "                        <td id=\"T_47334_row6_col1\" class=\"data row6 col1\" >62.650000</td>\n",
       "            </tr>\n",
       "            <tr>\n",
       "                        <th id=\"T_47334_level0_row7\" class=\"row_heading level0 row7\" >7</th>\n",
       "                        <td id=\"T_47334_row7_col0\" class=\"data row7 col0\" >PSV</td>\n",
       "                        <td id=\"T_47334_row7_col1\" class=\"data row7 col1\" >49.180000</td>\n",
       "            </tr>\n",
       "            <tr>\n",
       "                        <th id=\"T_47334_level0_row8\" class=\"row_heading level0 row8\" >8</th>\n",
       "                        <td id=\"T_47334_row8_col0\" class=\"data row8 col0\" >Wii</td>\n",
       "                        <td id=\"T_47334_row8_col1\" class=\"data row8 col1\" >35.370000</td>\n",
       "            </tr>\n",
       "            <tr>\n",
       "                        <th id=\"T_47334_level0_row9\" class=\"row_heading level0 row9\" >9</th>\n",
       "                        <td id=\"T_47334_row9_col0\" class=\"data row9 col0\" >DS</td>\n",
       "                        <td id=\"T_47334_row9_col1\" class=\"data row9 col1\" >12.550000</td>\n",
       "            </tr>\n",
       "            <tr>\n",
       "                        <th id=\"T_47334_level0_row10\" class=\"row_heading level0 row10\" >10</th>\n",
       "                        <td id=\"T_47334_row10_col0\" class=\"data row10 col0\" >PSP</td>\n",
       "                        <td id=\"T_47334_row10_col1\" class=\"data row10 col1\" >11.190000</td>\n",
       "            </tr>\n",
       "    </tbody></table>"
      ],
      "text/plain": [
       "<pandas.io.formats.style.Styler at 0x7fd43426b1f0>"
      ]
     },
     "execution_count": 29,
     "metadata": {},
     "output_type": "execute_result"
    }
   ],
   "source": [
    "total_sales_per_platform_ac = actual_g.pivot_table(\n",
    "    index = 'platform',\n",
    "    values = 'total_sales',\n",
    "    aggfunc = 'sum').sort_values(\n",
    "    by = 'total_sales', ascending = False).reset_index()\n",
    "total_sales_per_platform_ac.style.background_gradient(cmap='Oranges')"
   ]
  },
  {
   "cell_type": "markdown",
   "metadata": {},
   "source": [
    "На актуальной выборке лидируют PS4, PS3 и X360.\n",
    "### Определение потенциально прибыльных платформ\n",
    "Очевидно, не беря в рассчёт возможность возникновения новых платформ, среди текущих лидеров самыми популярными в будущем будут PS-платформы; и чем новее, тем популярнее."
   ]
  },
  {
   "cell_type": "code",
   "execution_count": 30,
   "metadata": {},
   "outputs": [
    {
     "data": {
      "image/png": "[encoded data removed]",
      "text/plain": [
       "<Figure size 1080x720 with 1 Axes>"
      ]
     },
     "metadata": {},
     "output_type": "display_data"
    }
   ],
   "source": [
    "# устанавливаем стиль графиков\n",
    "sns.set_style('whitegrid')\n",
    "sns.set_palette('tab20c')\n",
    "# таблица динамики\n",
    "dinamic = actual_g.pivot_table(index='year_of_release',\n",
    "                columns='platform',\n",
    "                values='total_sales',\n",
    "                aggfunc='sum')\n",
    "dinamic.plot(grid=True, figsize=(15, 10))\n",
    "plt.legend()\n",
    "plt.title('Динамика продаж игр на платформах')\n",
    "plt.xlabel('Годы')\n",
    "plt.ylabel('Продажи')\n",
    "plt.show()"
   ]
  },
  {
   "cell_type": "markdown",
   "metadata": {},
   "source": [
    "Исходя из графика динамики продаж, PS4 выглядит достаточно перспективно. Падение популярности PS3 связано именно с ней. X360 была популярной, но за последние годы на ней выходило меньНижше игр, чем раньше. XOne держится на не самом низком уровне. В 2016 году ниже ранее перечисленных платформ по уровню продаж WiiU и 3DS. Остальные ещё ниже и перспектив их взлёта не видно."
   ]
  },
  {
   "cell_type": "markdown",
   "metadata": {},
   "source": [
    "<div class=\"alert alert-block alert-danger\">\n",
    "<b>❌Комментарий ревьюера:</b>\n",
    "    \n",
    "Какие платформы лидируют по продажам, растут или падают? Чтобы выбрать потенциально прибыльные платформы нужно посмотреть динамику продаж по платформам актуального периода.</div>"
   ]
  },
  {
   "cell_type": "markdown",
   "id": "6fc02cdb",
   "metadata": {},
   "source": [
    "<div class=\"alert alert-block alert-success\">\n",
    "<b>✅Комментарий ревьюера 2:</b> Отлично, исправлено!👍  </div>"
   ]
  },
  {
   "cell_type": "code",
   "execution_count": 31,
   "metadata": {},
   "outputs": [
    {
     "name": "stdout",
     "output_type": "stream",
     "text": [
      "Матрица корреляций\n"
     ]
    },
    {
     "data": {
      "text/html": [
       "<style  type=\"text/css\" >\n",
       "#T_c36b0_row0_col0,#T_c36b0_row1_col1,#T_c36b0_row2_col2{\n",
       "            background-color:  #7f2704;\n",
       "            color:  #f1f1f1;\n",
       "        }#T_c36b0_row0_col1,#T_c36b0_row0_col2,#T_c36b0_row2_col0{\n",
       "            background-color:  #fff5eb;\n",
       "            color:  #000000;\n",
       "        }#T_c36b0_row1_col0{\n",
       "            background-color:  #fda159;\n",
       "            color:  #000000;\n",
       "        }#T_c36b0_row1_col2{\n",
       "            background-color:  #f67824;\n",
       "            color:  #000000;\n",
       "        }#T_c36b0_row2_col1{\n",
       "            background-color:  #fdcfa0;\n",
       "            color:  #000000;\n",
       "        }</style><table id=\"T_c36b0_\" ><thead>    <tr>        <th class=\"blank level0\" ></th>        <th class=\"col_heading level0 col0\" >total_sales</th>        <th class=\"col_heading level0 col1\" >critic_score</th>        <th class=\"col_heading level0 col2\" >user_score</th>    </tr></thead><tbody>\n",
       "                <tr>\n",
       "                        <th id=\"T_c36b0_level0_row0\" class=\"row_heading level0 row0\" >total_sales</th>\n",
       "                        <td id=\"T_c36b0_row0_col0\" class=\"data row0 col0\" >1.000000</td>\n",
       "                        <td id=\"T_c36b0_row0_col1\" class=\"data row0 col1\" >0.406568</td>\n",
       "                        <td id=\"T_c36b0_row0_col2\" class=\"data row0 col2\" >-0.031957</td>\n",
       "            </tr>\n",
       "            <tr>\n",
       "                        <th id=\"T_c36b0_level0_row1\" class=\"row_heading level0 row1\" >critic_score</th>\n",
       "                        <td id=\"T_c36b0_row1_col0\" class=\"data row1 col0\" >0.406568</td>\n",
       "                        <td id=\"T_c36b0_row1_col1\" class=\"data row1 col1\" >1.000000</td>\n",
       "                        <td id=\"T_c36b0_row1_col2\" class=\"data row1 col2\" >0.557654</td>\n",
       "            </tr>\n",
       "            <tr>\n",
       "                        <th id=\"T_c36b0_level0_row2\" class=\"row_heading level0 row2\" >user_score</th>\n",
       "                        <td id=\"T_c36b0_row2_col0\" class=\"data row2 col0\" >-0.031957</td>\n",
       "                        <td id=\"T_c36b0_row2_col1\" class=\"data row2 col1\" >0.557654</td>\n",
       "                        <td id=\"T_c36b0_row2_col2\" class=\"data row2 col2\" >1.000000</td>\n",
       "            </tr>\n",
       "    </tbody></table>"
      ],
      "text/plain": [
       "<pandas.io.formats.style.Styler at 0x7fd3b6338970>"
      ]
     },
     "execution_count": 31,
     "metadata": {},
     "output_type": "execute_result"
    }
   ],
   "source": [
    "print(\"Матрица корреляций\")\n",
    "actual_g[actual_g.platform == \"PS4\"][['total_sales', 'critic_score', 'user_score']].corr().style.background_gradient(cmap='Oranges')"
   ]
  },
  {
   "cell_type": "markdown",
   "metadata": {
    "id": "5766e785"
   },
   "source": [
    "<div class=\"alert alert-block alert-danger\">\n",
    "<b>❌Комментарий ревьюера:</b> \n",
    "    \n",
    "Анализ зависимости продаж от оценок пользователей и критиков также нужно проводить по актуальному периоду.\n",
    "</div>"
   ]
  },
  {
   "cell_type": "markdown",
   "metadata": {},
   "source": [
    "<div class=\"alert alert-block alert-info\">\n",
    "<b>🔄Комментарий студента:</b> \n",
    "Исправила\n",
    "</div>"
   ]
  },
  {
   "cell_type": "markdown",
   "id": "6fc02cdb",
   "metadata": {},
   "source": [
    "<div class=\"alert alert-block alert-success\">\n",
    "<b>✅Комментарий ревьюера 2:</b> Отлично, исправлено!👍  </div>"
   ]
  },
  {
   "cell_type": "code",
   "execution_count": 32,
   "metadata": {},
   "outputs": [
    {
     "data": {
      "image/png": "[encoded data removed]",
      "text/plain": [
       "<Figure size 432x288 with 1 Axes>"
      ]
     },
     "metadata": {},
     "output_type": "display_data"
    },
    {
     "data": {
      "image/png": "[encoded data removed]",
      "text/plain": [
       "<Figure size 432x288 with 1 Axes>"
      ]
     },
     "metadata": {},
     "output_type": "display_data"
    }
   ],
   "source": [
    "# устанавливаем стиль графиков\n",
    "sns.set_style('whitegrid')\n",
    "sns.set_palette('Oranges_r')\n",
    "# sns.pairplot(actual_g[actual_g.platform == \"PS4\"][['total_sales', 'critic_score', 'user_score']])\n",
    "sns.scatterplot(data=actual_g[actual_g.platform == \"PS4\"], y=\"total_sales\", x=\"critic_score\")\n",
    "plt.xlabel('Оценки критиков')\n",
    "plt.ylabel('Продажи')\n",
    "plt.show()\n",
    "sns.scatterplot(data=actual_g[actual_g.platform == \"PS4\"], y=\"total_sales\", x=\"user_score\")\n",
    "plt.xlabel('Оценки пользователей')\n",
    "plt.ylabel('Продажи')\n",
    "plt.show()"
   ]
  },
  {
   "cell_type": "markdown",
   "id": "9c5816c8",
   "metadata": {},
   "source": [
    "<div class=\"alert alert-block alert-warning\">\n",
    "<b>🔁Комментарий ревьюера 2:</b> \n",
    "    \n",
    "\n",
    "Не забывай подписывать названия для графиков.</div>"
   ]
  },
  {
   "cell_type": "markdown",
   "metadata": {
    "id": "5766e785"
   },
   "source": [
    "<div class=\"alert alert-block alert-danger\">\n",
    "<b>❌Комментарий ревьюера:</b> \n",
    "    \n",
    "Давай тут лучше построим два отдельных распределения `scatterplot`: для продаж и оценок пользователей, для продаж и оценок критиков. Они будут более наглядными.\n",
    "</div>"
   ]
  },
  {
   "cell_type": "markdown",
   "id": "6fc02cdb",
   "metadata": {},
   "source": [
    "<div class=\"alert alert-block alert-success\">\n",
    "<b>✅Комментарий ревьюера 2:</b> Отлично, исправлено!👍  </div>"
   ]
  },
  {
   "cell_type": "markdown",
   "metadata": {},
   "source": [
    "Есть закономерная картина: чем лучше рейтинг, тем игра лучше, следовательно, больше продаж. Несмотря на это, связь не говорит о чёткой зависимости, т.к. не все игры с высокими оценками хорошо продались. Вероятно, есть и другие факторы: наряду с какими играми выходила игра, её стоимость, хайп, поппулярность платформы."
   ]
  },
  {
   "cell_type": "code",
   "execution_count": 33,
   "metadata": {},
   "outputs": [
    {
     "data": {
      "image/png": "[encoded data removed]",
      "text/plain": [
       "<Figure size 1080x612 with 12 Axes>"
      ]
     },
     "metadata": {},
     "output_type": "display_data"
    }
   ],
   "source": [
    "top_platforms = ['PS4','PS3','X360','3DS', 'XOne','WiiU']\n",
    "\n",
    "rows = len(top_platforms) // 2\n",
    "cols = 2\n",
    "fig, axes = plt.subplots(rows, cols, figsize=(15,8.5))\n",
    "count = 0\n",
    "for r in range(rows):\n",
    "    for c in range(cols):\n",
    "        curr_platform = top_platforms[count]\n",
    "        df_prep = actual_g[(actual_g['platform'] == curr_platform) & (actual_g['user_score'] > 0)].copy()\n",
    "        \n",
    "        df_filtered = df_prep[['total_sales' ,'critic_score', 'user_score']]\n",
    "        sns.set(font_scale=1.0)\n",
    "        ax = sns.heatmap(df_filtered.corr()[['total_sales']].sort_values(by='total_sales', ascending=False), \n",
    "                         cmap=\"Oranges\", annot=True, annot_kws={'size':15}, ax=axes[r,c])\n",
    "        ax.set_title(curr_platform, fontsize=20)\n",
    "        ax.set_yticklabels(ax.get_yticklabels(), rotation=0)\n",
    "        plt.tight_layout(pad=3)\n",
    "        count += 1"
   ]
  },
  {
   "cell_type": "markdown",
   "metadata": {},
   "source": [
    "<div class=\"alert alert-block alert-warning\">\n",
    "<b>🔁Комментарий ревьюера:</b>\n",
    "\n",
    "Для этих платформ было бы здорово тоже построить распределения</div>"
   ]
  },
  {
   "cell_type": "markdown",
   "metadata": {},
   "source": [
    "Исходя из визуализаций, именно оценки пользователей имеют какую-то степень влияния на продажи, в отличие от оценок критиков. Скорее всего, это происходит из-за субъективных факторов: ожидания, критерии оценивания, сюжет.\n",
    "\n",
    "### Общее распределение игр по жанрам"
   ]
  },
  {
   "cell_type": "code",
   "execution_count": 34,
   "metadata": {},
   "outputs": [
    {
     "data": {
      "image/png": "[encoded data removed]",
      "text/plain": [
       "<Figure size 1080x360 with 1 Axes>"
      ]
     },
     "metadata": {},
     "output_type": "display_data"
    },
    {
     "data": {
      "text/html": [
       "<style  type=\"text/css\" >\n",
       "#T_16dc4_row0_col0{\n",
       "            background-color:  #fdd8b2;\n",
       "            color:  #000000;\n",
       "        }#T_16dc4_row0_col1{\n",
       "            background-color:  #e5590a;\n",
       "            color:  #000000;\n",
       "        }#T_16dc4_row0_col2,#T_16dc4_row7_col0,#T_16dc4_row7_col1{\n",
       "            background-color:  #7f2704;\n",
       "            color:  #f1f1f1;\n",
       "        }#T_16dc4_row1_col0,#T_16dc4_row11_col1{\n",
       "            background-color:  #ffeede;\n",
       "            color:  #000000;\n",
       "        }#T_16dc4_row1_col1{\n",
       "            background-color:  #fee6ce;\n",
       "            color:  #000000;\n",
       "        }#T_16dc4_row1_col2{\n",
       "            background-color:  #fb8836;\n",
       "            color:  #000000;\n",
       "        }#T_16dc4_row2_col0{\n",
       "            background-color:  #fdd2a6;\n",
       "            color:  #000000;\n",
       "        }#T_16dc4_row2_col1{\n",
       "            background-color:  #fda660;\n",
       "            color:  #000000;\n",
       "        }#T_16dc4_row2_col2{\n",
       "            background-color:  #fd9243;\n",
       "            color:  #000000;\n",
       "        }#T_16dc4_row3_col0{\n",
       "            background-color:  #fdb77a;\n",
       "            color:  #000000;\n",
       "        }#T_16dc4_row3_col1{\n",
       "            background-color:  #fd9f56;\n",
       "            color:  #000000;\n",
       "        }#T_16dc4_row3_col2{\n",
       "            background-color:  #fdb475;\n",
       "            color:  #000000;\n",
       "        }#T_16dc4_row4_col0{\n",
       "            background-color:  #feebd7;\n",
       "            color:  #000000;\n",
       "        }#T_16dc4_row4_col1{\n",
       "            background-color:  #fee8d2;\n",
       "            color:  #000000;\n",
       "        }#T_16dc4_row4_col2{\n",
       "            background-color:  #fdc189;\n",
       "            color:  #000000;\n",
       "        }#T_16dc4_row5_col0{\n",
       "            background-color:  #fee0c1;\n",
       "            color:  #000000;\n",
       "        }#T_16dc4_row5_col1{\n",
       "            background-color:  #fedcb9;\n",
       "            color:  #000000;\n",
       "        }#T_16dc4_row5_col2{\n",
       "            background-color:  #fdc692;\n",
       "            color:  #000000;\n",
       "        }#T_16dc4_row6_col0{\n",
       "            background-color:  #ffefdf;\n",
       "            color:  #000000;\n",
       "        }#T_16dc4_row6_col1,#T_16dc4_row10_col2{\n",
       "            background-color:  #feeddc;\n",
       "            color:  #000000;\n",
       "        }#T_16dc4_row6_col2{\n",
       "            background-color:  #fdc794;\n",
       "            color:  #000000;\n",
       "        }#T_16dc4_row7_col2{\n",
       "            background-color:  #fdc997;\n",
       "            color:  #000000;\n",
       "        }#T_16dc4_row8_col0{\n",
       "            background-color:  #feecd9;\n",
       "            color:  #000000;\n",
       "        }#T_16dc4_row8_col1{\n",
       "            background-color:  #feead6;\n",
       "            color:  #000000;\n",
       "        }#T_16dc4_row8_col2{\n",
       "            background-color:  #fdce9e;\n",
       "            color:  #000000;\n",
       "        }#T_16dc4_row9_col0{\n",
       "            background-color:  #fff0e2;\n",
       "            color:  #000000;\n",
       "        }#T_16dc4_row9_col1{\n",
       "            background-color:  #fff3e7;\n",
       "            color:  #000000;\n",
       "        }#T_16dc4_row9_col2{\n",
       "            background-color:  #feecda;\n",
       "            color:  #000000;\n",
       "        }#T_16dc4_row10_col0,#T_16dc4_row10_col1,#T_16dc4_row11_col2{\n",
       "            background-color:  #fff5eb;\n",
       "            color:  #000000;\n",
       "        }#T_16dc4_row11_col0{\n",
       "            background-color:  #fdca99;\n",
       "            color:  #000000;\n",
       "        }</style><table id=\"T_16dc4_\" ><thead>    <tr>        <th class=\"blank level0\" ></th>        <th class=\"col_heading level0 col0\" >name</th>        <th class=\"col_heading level0 col1\" >total_sales</th>        <th class=\"col_heading level0 col2\" >ratio</th>    </tr>    <tr>        <th class=\"index_name level0\" >genre</th>        <th class=\"blank\" ></th>        <th class=\"blank\" ></th>        <th class=\"blank\" ></th>    </tr></thead><tbody>\n",
       "                <tr>\n",
       "                        <th id=\"T_16dc4_level0_row0\" class=\"row_heading level0 row0\" >Shooter</th>\n",
       "                        <td id=\"T_16dc4_row0_col0\" class=\"data row0 col0\" >235</td>\n",
       "                        <td id=\"T_16dc4_row0_col1\" class=\"data row0 col1\" >304.730000</td>\n",
       "                        <td id=\"T_16dc4_row0_col2\" class=\"data row0 col2\" >1.296723</td>\n",
       "            </tr>\n",
       "            <tr>\n",
       "                        <th id=\"T_16dc4_level0_row1\" class=\"row_heading level0 row1\" >Platform</th>\n",
       "                        <td id=\"T_16dc4_row1_col0\" class=\"data row1 col0\" >85</td>\n",
       "                        <td id=\"T_16dc4_row1_col1\" class=\"data row1 col1\" >61.000000</td>\n",
       "                        <td id=\"T_16dc4_row1_col2\" class=\"data row1 col2\" >0.717647</td>\n",
       "            </tr>\n",
       "            <tr>\n",
       "                        <th id=\"T_16dc4_level0_row2\" class=\"row_heading level0 row2\" >Sports</th>\n",
       "                        <td id=\"T_16dc4_row2_col0\" class=\"data row2 col0\" >267</td>\n",
       "                        <td id=\"T_16dc4_row2_col1\" class=\"data row2 col1\" >181.060000</td>\n",
       "                        <td id=\"T_16dc4_row2_col2\" class=\"data row2 col2\" >0.678127</td>\n",
       "            </tr>\n",
       "            <tr>\n",
       "                        <th id=\"T_16dc4_level0_row3\" class=\"row_heading level0 row3\" >Role-Playing</th>\n",
       "                        <td id=\"T_16dc4_row3_col0\" class=\"data row3 col0\" >370</td>\n",
       "                        <td id=\"T_16dc4_row3_col1\" class=\"data row3 col1\" >192.800000</td>\n",
       "                        <td id=\"T_16dc4_row3_col2\" class=\"data row3 col2\" >0.521081</td>\n",
       "            </tr>\n",
       "            <tr>\n",
       "                        <th id=\"T_16dc4_level0_row4\" class=\"row_heading level0 row4\" >Racing</th>\n",
       "                        <td id=\"T_16dc4_row4_col0\" class=\"data row4 col0\" >115</td>\n",
       "                        <td id=\"T_16dc4_row4_col1\" class=\"data row4 col1\" >53.500000</td>\n",
       "                        <td id=\"T_16dc4_row4_col2\" class=\"data row4 col2\" >0.465217</td>\n",
       "            </tr>\n",
       "            <tr>\n",
       "                        <th id=\"T_16dc4_level0_row5\" class=\"row_heading level0 row5\" >Misc</th>\n",
       "                        <td id=\"T_16dc4_row5_col0\" class=\"data row5 col0\" >192</td>\n",
       "                        <td id=\"T_16dc4_row5_col1\" class=\"data row5 col1\" >85.040000</td>\n",
       "                        <td id=\"T_16dc4_row5_col2\" class=\"data row5 col2\" >0.442917</td>\n",
       "            </tr>\n",
       "            <tr>\n",
       "                        <th id=\"T_16dc4_level0_row6\" class=\"row_heading level0 row6\" >Simulation</th>\n",
       "                        <td id=\"T_16dc4_row6_col0\" class=\"data row6 col0\" >80</td>\n",
       "                        <td id=\"T_16dc4_row6_col1\" class=\"data row6 col1\" >35.120000</td>\n",
       "                        <td id=\"T_16dc4_row6_col2\" class=\"data row6 col2\" >0.439000</td>\n",
       "            </tr>\n",
       "            <tr>\n",
       "                        <th id=\"T_16dc4_level0_row7\" class=\"row_heading level0 row7\" >Action</th>\n",
       "                        <td id=\"T_16dc4_row7_col0\" class=\"data row7 col0\" >1031</td>\n",
       "                        <td id=\"T_16dc4_row7_col1\" class=\"data row7 col1\" >441.120000</td>\n",
       "                        <td id=\"T_16dc4_row7_col2\" class=\"data row7 col2\" >0.427856</td>\n",
       "            </tr>\n",
       "            <tr>\n",
       "                        <th id=\"T_16dc4_level0_row8\" class=\"row_heading level0 row8\" >Fighting</th>\n",
       "                        <td id=\"T_16dc4_row8_col0\" class=\"data row8 col0\" >109</td>\n",
       "                        <td id=\"T_16dc4_row8_col1\" class=\"data row8 col1\" >44.490000</td>\n",
       "                        <td id=\"T_16dc4_row8_col2\" class=\"data row8 col2\" >0.408165</td>\n",
       "            </tr>\n",
       "            <tr>\n",
       "                        <th id=\"T_16dc4_level0_row9\" class=\"row_heading level0 row9\" >Strategy</th>\n",
       "                        <td id=\"T_16dc4_row9_col0\" class=\"data row9 col0\" >71</td>\n",
       "                        <td id=\"T_16dc4_row9_col1\" class=\"data row9 col1\" >13.340000</td>\n",
       "                        <td id=\"T_16dc4_row9_col2\" class=\"data row9 col2\" >0.187887</td>\n",
       "            </tr>\n",
       "            <tr>\n",
       "                        <th id=\"T_16dc4_level0_row10\" class=\"row_heading level0 row10\" >Puzzle</th>\n",
       "                        <td id=\"T_16dc4_row10_col0\" class=\"data row10 col0\" >28</td>\n",
       "                        <td id=\"T_16dc4_row10_col1\" class=\"data row10 col1\" >4.890000</td>\n",
       "                        <td id=\"T_16dc4_row10_col2\" class=\"data row10 col2\" >0.174643</td>\n",
       "            </tr>\n",
       "            <tr>\n",
       "                        <th id=\"T_16dc4_level0_row11\" class=\"row_heading level0 row11\" >Adventure</th>\n",
       "                        <td id=\"T_16dc4_row11_col0\" class=\"data row11 col0\" >302</td>\n",
       "                        <td id=\"T_16dc4_row11_col1\" class=\"data row11 col1\" >29.430000</td>\n",
       "                        <td id=\"T_16dc4_row11_col2\" class=\"data row11 col2\" >0.097450</td>\n",
       "            </tr>\n",
       "    </tbody></table>"
      ],
      "text/plain": [
       "<pandas.io.formats.style.Styler at 0x7fd3b6654ac0>"
      ]
     },
     "execution_count": 34,
     "metadata": {},
     "output_type": "execute_result"
    }
   ],
   "source": [
    "ax = plt.gca()\n",
    "pivot = actual_g.groupby('genre').agg(\n",
    "    {'name': 'count', 'total_sales': 'sum'})\n",
    "pivot['ratio'] = pivot['total_sales'] / pivot['name']\n",
    "plot1 = pivot['name']\n",
    "plot1.plot(kind='bar', figsize=(15,5), ec='black', ax=ax, width=0.2, color='#FFCA28', position=1)\n",
    "plot2 = pivot['total_sales']\n",
    "plot2.plot(kind='bar', figsize=(15,5), ec='black', ax=ax, width=0.2, color='#EE7700', position=0)\n",
    "ax.legend(['Количество продаж', 'Общая сумма продаж'])\n",
    "plt.show()\n",
    "pivot.sort_values(\n",
    "    by='ratio', ascending=False).style.background_gradient(cmap='Oranges')"
   ]
  },
  {
   "cell_type": "code",
   "execution_count": 35,
   "metadata": {},
   "outputs": [
    {
     "data": {
      "image/png": "[encoded data removed]",
      "text/plain": [
       "<Figure size 1080x432 with 2 Axes>"
      ]
     },
     "metadata": {},
     "output_type": "display_data"
    }
   ],
   "source": [
    "# количество релизов игр в зависимости от жанра и года\n",
    "total_relaese_genre = actual_g.sort_values(by='total_sales').pivot_table(\n",
    "    index='genre', \n",
    "    columns='year_of_release', \n",
    "    values='total_sales', \n",
    "    aggfunc='count'\n",
    ")\n",
    "fig, ax = plt.subplots(figsize=(15, 6))\n",
    "ax = sns.heatmap(total_relaese_genre,linewidths= .2)\n",
    "ax.set(\n",
    "    title='Тепловая карта количества релизов игр разных жанров в разные годы', \n",
    "    ylabel='Жанры', \n",
    "    xlabel='Годы'\n",
    ")\n",
    "plt.show()"
   ]
  },
  {
   "cell_type": "markdown",
   "metadata": {},
   "source": [
    "<div class=\"alert alert-block alert-success\">\n",
    "<b>✅Комментарий ревьюера:</b> Молодец, что учитывала не только суммарные продажи, но и количество выпущенных игр! Это очень важно при определении прибыльности! </div>"
   ]
  },
  {
   "cell_type": "markdown",
   "metadata": {},
   "source": [
    "Поскольку неизвестны денежные единицы, по данным визуализациям можно сделать выводы лишь о межжанровом соотношении показателей. По всем показателям игры в жанре action являются самыми популярными. На втором месте по обще сумме продаж shooter-игры (они же самые рентбельные), а по количеству продаж role-playing-игры. Головоломки являются самыми непопулярными. Приключенческие игры самые нерентабельные.\n",
    "## Портрет пользователя каждого региона"
   ]
  },
  {
   "cell_type": "code",
   "execution_count": 36,
   "metadata": {},
   "outputs": [
    {
     "name": "stdout",
     "output_type": "stream",
     "text": [
      "Cамые популярные платформы (топ-5)\n"
     ]
    },
    {
     "data": {
      "image/png": "[encoded data removed]",
      "text/plain": [
       "<Figure size 1800x432 with 4 Axes>"
      ]
     },
     "metadata": {},
     "output_type": "display_data"
    }
   ],
   "source": [
    "print ('Cамые популярные платформы (топ-5)')\n",
    "fig, axes = plt.subplots(1, 4, figsize=(25,6))\n",
    "\n",
    "top_in_regions_plot('platform', 'na_sales', 0)\n",
    "top_in_regions_plot('platform', 'eu_sales', 1)\n",
    "top_in_regions_plot('platform', 'jp_sales', 2)\n",
    "top_in_regions_plot('platform', 'other_sales', 3)"
   ]
  },
  {
   "cell_type": "code",
   "execution_count": 37,
   "metadata": {},
   "outputs": [
    {
     "name": "stdout",
     "output_type": "stream",
     "text": [
      "Cамые популярные платформы (топ-5)\n"
     ]
    },
    {
     "data": {
      "image/png": "[encoded data removed]",
      "text/plain": [
       "<Figure size 1800x432 with 4 Axes>"
      ]
     },
     "metadata": {},
     "output_type": "display_data"
    }
   ],
   "source": [
    "# устанавливаем стиль графиков\n",
    "sns.set_style('whitegrid')\n",
    "sns.set_palette('Oranges_r')\n",
    "print ('Cамые популярные платформы (топ-5)')\n",
    "fig, axes = plt.subplots(1, 4, figsize=(25,6))\n",
    "\n",
    "top_pie_regions_plot('platform', 'na_sales', 0)\n",
    "top_pie_regions_plot('platform', 'eu_sales', 1)\n",
    "top_pie_regions_plot('platform', 'jp_sales', 2)\n",
    "top_pie_regions_plot('platform', 'other_sales', 3)"
   ]
  },
  {
   "cell_type": "markdown",
   "metadata": {
    "id": "5766e785"
   },
   "source": [
    "<div class=\"alert alert-block alert-danger\">\n",
    "<b>❌Комментарий ревьюера:</b> \n",
    "    \n",
    "В задании нас просят описать различия в долях продаж, поэтому здесь стоит построить круговые диаграммы. Выделить на них топ-5, а остальные платформы объединить в отдельную категорию.\n",
    "</div>"
   ]
  },
  {
   "cell_type": "markdown",
   "id": "6fc02cdb",
   "metadata": {},
   "source": [
    "<div class=\"alert alert-block alert-success\">\n",
    "<b>✅Комментарий ревьюера 2:</b> Отлично, исправлено!👍  </div>"
   ]
  },
  {
   "cell_type": "markdown",
   "metadata": {},
   "source": [
    "<div class=\"alert alert-block alert-info\">\n",
    "<b>🔄Комментарий студента:</b> \n",
    "Как мне раньше писали с советом прочесть книжку Александра Богачева о графиках, в которой пишется, что если много долей и(или) есть похожие по размеру доли, лучше использовать столбиковую диаграмму, вместо круговой\n",
    "    \n",
    "Я, конечно, попробовала вариант с круговыми, но наглядности он поубавил\n",
    "</div>"
   ]
  },
  {
   "cell_type": "markdown",
   "id": "6fc02cdb",
   "metadata": {},
   "source": [
    "<div class=\"alert alert-block alert-success\">\n",
    "<b>✅Комментарий ревьюера 2:</b> \n",
    "\n",
    "Все верно советовали) Здесь у нас не так много долей, а показать их соотношение гораздо нагляднее именно на круговой диаграмме.</div>"
   ]
  },
  {
   "cell_type": "markdown",
   "id": "9c5816c8",
   "metadata": {},
   "source": [
    "<div class=\"alert alert-block alert-warning\">\n",
    "<b>🔁Комментарий ревьюера 2:</b> \n",
    "    \n",
    "\n",
    "\n",
    "Но доли продаж топовых платформ следует считать от общих продаж в регионе, а не среди топ-5. На диаграмме следует также выделить топ-5, а остальные платформы объединить в отдельную категорию.</div>"
   ]
  },
  {
   "cell_type": "markdown",
   "metadata": {},
   "source": [
    "В Северной Америке имели бешеную популярность приставки X360, PS4 и PS3. Вместе с ними XOne и 3DS держатся в топе-5 всех регионов, кроме Японии. PS3 обогнала PS4 по популярности только в Японии, где самой популярной является платформа 3DS, сильно опережающая остальных."
   ]
  },
  {
   "cell_type": "code",
   "execution_count": 38,
   "metadata": {},
   "outputs": [
    {
     "name": "stdout",
     "output_type": "stream",
     "text": [
      "Cамые популярные жанры (топ-5)\n"
     ]
    },
    {
     "data": {
      "image/png": "[encoded data removed]",
      "text/plain": [
       "<Figure size 1800x432 with 4 Axes>"
      ]
     },
     "metadata": {},
     "output_type": "display_data"
    }
   ],
   "source": [
    "print ('Cамые популярные жанры (топ-5)')\n",
    "fig, axes = plt.subplots(1, 4, figsize=(25,6))\n",
    "\n",
    "top_in_regions_plot('genre', 'na_sales', 0)\n",
    "top_in_regions_plot('genre', 'eu_sales', 1)\n",
    "top_in_regions_plot('genre', 'jp_sales', 2)\n",
    "top_in_regions_plot('genre', 'other_sales', 3)"
   ]
  },
  {
   "cell_type": "markdown",
   "metadata": {},
   "source": [
    "<div class=\"alert alert-block alert-warning\">\n",
    "<b>🔁Комментарий ревьюера:</b> \n",
    "    \n",
    "Легенду лучше убрать, так как она дублирует заголовок графика. </div>"
   ]
  },
  {
   "cell_type": "markdown",
   "metadata": {},
   "source": [
    "<div class=\"alert alert-block alert-info\">\n",
    "<b>🔄Комментарий студента:</b> \n",
    "Убрала\n",
    "</div>"
   ]
  },
  {
   "cell_type": "markdown",
   "id": "6fc02cdb",
   "metadata": {},
   "source": [
    "<div class=\"alert alert-block alert-success\">\n",
    "<b>✅Комментарий ревьюера 2:</b> Отлично, исправлено!👍  </div>"
   ]
  },
  {
   "cell_type": "markdown",
   "metadata": {},
   "source": [
    "По популярност жанров снова отличилась Япония. В остальных регионах на первом месте жанр action, дале shooter, sports и role-playing. В Японии - role-playing, action, misc, simulation и fighting."
   ]
  },
  {
   "cell_type": "code",
   "execution_count": 39,
   "metadata": {},
   "outputs": [
    {
     "name": "stdout",
     "output_type": "stream",
     "text": [
      "Cамые популярные возрастные группы в играх (топ-5)\n"
     ]
    },
    {
     "data": {
      "image/png": "[encoded data removed]",
      "text/plain": [
       "<Figure size 1800x432 with 4 Axes>"
      ]
     },
     "metadata": {},
     "output_type": "display_data"
    }
   ],
   "source": [
    "print ('Cамые популярные возрастные группы в играх (топ-5)')\n",
    "fig, axes = plt.subplots(1, 4, figsize=(25,6))\n",
    "\n",
    "top_in_regions_plot('ESRB_description', 'na_sales', 0)\n",
    "top_in_regions_plot('ESRB_description', 'eu_sales', 1)\n",
    "top_in_regions_plot('ESRB_description', 'jp_sales', 2)\n",
    "top_in_regions_plot('ESRB_description', 'other_sales', 3)"
   ]
  },
  {
   "cell_type": "markdown",
   "metadata": {},
   "source": [
    "<div class=\"alert alert-block alert-warning\">\n",
    "<b>🔁Комментарий ревьюера:</b>\n",
    "\n",
    "Как ты думаешь, почему в Японии большинство игр не имеют рейтинга ESRB?</div>\n",
    "\n",
    "<div class=\"alert alert-block alert-info\">\n",
    "<b>🔄Комментарий студента:</b> \n",
    "Ответила\n",
    "</div>"
   ]
  },
  {
   "cell_type": "markdown",
   "id": "6fc02cdb",
   "metadata": {},
   "source": [
    "<div class=\"alert alert-block alert-success\">\n",
    "<b>✅Комментарий ревьюера 2:</b> Отлично, исправлено!👍 В Японии есть своя рейтинговая система CERO </div>"
   ]
  },
  {
   "cell_type": "markdown",
   "metadata": {},
   "source": [
    "Из-за большого числа пропусков данные сложно считать на 100% достоверными. Тем не менее по предварительной оценке, везде, кроме Японии, самые популярные игры для аудитории старше 17 лет, для всех. В Японии у большинства проданных игр не определён возрастной рейтинг. Скорее всего, тк данный рейтинг создан в США, некоторые игры, популярные в Японии, имеют специфический рейтинг, неприменимый в азиатской стране.\n",
    "## Проверка гипотез\n",
    "\n",
    "Для проверки гипотез используем метод `scipy.stats.ttest_ind()`, т.к. в каждой гипотезе проверяются 2 независимые выборки.\n",
    "\n",
    "**Гипотеза: средние пользовательские рейтинги платформ Xbox One и PC одинаковые.**\n",
    "\n",
    "H0: средние пользовательские рейтинги платформ Xbox One и PC одинаковые.\n",
    "\n",
    "H1: средние пользовательские рейтинги платформ Xbox One и PC разные.\n",
    "\n",
    "**alpha=0.05**\n",
    "\n",
    "Тип выдвинутой гипотезы - двусторонняя."
   ]
  },
  {
   "cell_type": "markdown",
   "metadata": {},
   "source": [
    "<div class=\"alert alert-block alert-success\">\n",
    "<b>✅Комментарий ревьюера:</b> Здорово, что формулируешь гипотезы перед проверкой </div>"
   ]
  },
  {
   "cell_type": "code",
   "execution_count": 40,
   "metadata": {},
   "outputs": [],
   "source": [
    "sample_1 = actual_g[actual_g['platform']==\"XOne\"]['user_score'].dropna()\n",
    "sample_2 = actual_g[actual_g['platform']==\"PC\"]['user_score'].dropna()"
   ]
  },
  {
   "cell_type": "markdown",
   "metadata": {},
   "source": [
    "<div class=\"alert alert-block alert-success\">\n",
    "<b>✅Комментарий ревьюера:</b> \n",
    "    \n",
    "Кстати, можно не удалять пропуски из сравниваемых выборок, а передать в ttest_ind аргумент nan_policy с нужным значением, тогда они будут игнорироваться. Подробнее можно почитать [здесь](https://docs.scipy.org/doc/scipy/reference/generated/scipy.stats.ttest_ind.html) </div>"
   ]
  },
  {
   "cell_type": "code",
   "execution_count": 41,
   "metadata": {},
   "outputs": [
    {
     "name": "stdout",
     "output_type": "stream",
     "text": [
      "p-значение: 0.5489537965134912\n",
      "Не получилось отвергнуть нулевую гипотезу\n"
     ]
    }
   ],
   "source": [
    "alpha = .05\n",
    "\n",
    "result_1 = st.ttest_ind(\n",
    "    sample_1, \n",
    "    sample_2,\n",
    "    equal_var = False)\n",
    "\n",
    "print('p-значение:', result_1.pvalue)\n",
    "\n",
    "if (result_1.pvalue < alpha):\n",
    "    print(\"Отвергаем нулевую гипотезу\")\n",
    "else:\n",
    "    print(\"Не получилось отвергнуть нулевую гипотезу\") "
   ]
  },
  {
   "cell_type": "markdown",
   "metadata": {},
   "source": [
    "<div class=\"alert alert-block alert-danger\">\n",
    "<b>❌Комментарий ревьюера:</b> \n",
    "    \n",
    "Мы не можем сказать, что средние пользовательские рейтинги платформ Xbox One и PC одинаковые (можешь убедиться, что они разные). Мы лишь говорим ,что не можем отвергнуть нулевую гипотезу и что с большой долей вероятности средние пользовательские рейтинги платформ XOne и PC не имеют статистически значимых отличий. \n",
    "</div>"
   ]
  },
  {
   "cell_type": "markdown",
   "metadata": {},
   "source": [
    "<div class=\"alert alert-block alert-info\">\n",
    "<b>🔄Комментарий студента:</b> \n",
    "Я и не говорила, что они одинаковые\n",
    "</div>"
   ]
  },
  {
   "cell_type": "markdown",
   "id": "6fc02cdb",
   "metadata": {},
   "source": [
    "<div class=\"alert alert-block alert-success\">\n",
    "<b>✅Комментарий ревьюера 2:</b> Отлично, исправлено!👍  </div>"
   ]
  },
  {
   "cell_type": "markdown",
   "metadata": {},
   "source": [
    "Не получилось отвергнуть нулевую гипотезу о том, что средние пользовательские рейтинги платформ Xbox One и PC одинаковые. С большой долей вероятности средние пользовательские рейтинги платформ XOne и PC не имеют статистически значимых отличий.\n",
    "\n",
    "**Гипотеза: cредние пользовательские рейтинги жанров Action (англ. «действие», экшен-игры) и Sports (англ. «спортивные соревнования») разные.**\n",
    "\n",
    "H0: cредние пользовательские рейтинги жанров Action (англ. «действие», экшен-игры) и Sports (англ. «спортивные соревнования») одинаковые.\n",
    "\n",
    "H1: cредние пользовательские рейтинги жанров Action (англ. «действие», экшен-игры) и Sports (англ. «спортивные соревнования») разные.\n",
    "\n",
    "**alpha=0.05**\n",
    "\n",
    "Нулевая гипотеза, как правило, подразумевает равентво показателей выборок, поэтому саму гипотезу о разности следует добавить в альтернативную."
   ]
  },
  {
   "cell_type": "code",
   "execution_count": 42,
   "metadata": {},
   "outputs": [],
   "source": [
    "sample_3 = actual_g[actual_g['genre']==\"Action\"]['user_score'].dropna()\n",
    "sample_4 = actual_g[actual_g['genre']==\"Sports\"]['user_score'].dropna()"
   ]
  },
  {
   "cell_type": "code",
   "execution_count": 43,
   "metadata": {},
   "outputs": [
    {
     "name": "stdout",
     "output_type": "stream",
     "text": [
      "p-значение: 5.989458066467418e-20\n",
      "Отвергаем нулевую гипотезу\n"
     ]
    }
   ],
   "source": [
    "alpha = .05\n",
    "\n",
    "result_2 = st.ttest_ind(\n",
    "    sample_3, \n",
    "    sample_4,\n",
    "    equal_var = False)\n",
    "\n",
    "print('p-значение:', result_2.pvalue)\n",
    "\n",
    "if (result_2.pvalue < alpha):\n",
    "    print(\"Отвергаем нулевую гипотезу\")\n",
    "else:\n",
    "    print(\"Не получилось отвергнуть нулевую гипотезу\") "
   ]
  },
  {
   "cell_type": "markdown",
   "metadata": {},
   "source": [
    "<div class=\"alert alert-block alert-success\">\n",
    "<b>✅Комментарий ревьюера:</b> Верно</div>"
   ]
  },
  {
   "cell_type": "markdown",
   "metadata": {},
   "source": [
    "Таким образом, остаётся верным утверждение, что средние пользовательские рейтинги жанров Action и Sports отличаются.\n",
    "\n",
    "## Общий вывод\n",
    "\n",
    "Рынок компьютерных игр меняется очень быстро, особенно в последние годы. Данные прошлого века уже, очевидно, не являются актуальными. Тем не менее нулевые годы тоже не будут репрезентативными, тк характеризуют резкую волну набирания популярности данного рынка. После 2008 и 2009 годов наблюдается спад выпуска компьютерныз игр, поскольку после кризиса стало труднее задействовать финансовые ресурсы. Со временем изменился подход к созданию игр, больше внимания стали уделять графике, сюжету, что замедлило релизы новых игр.\n",
    "\n",
    "На рынке есть очевидные лидеры. PS, PS2 и PS3 находятся среди них, поэтому есть основания предпологать, что популярность PS4 - лишь вопрос времени. В лидерах также X360, Wii и DS. За редкими исключениями средний срок жизни платформы составляет примерно +-10 лет при успехе. На актуальной выборке (за последние 5 лет) лидируют PS4, PS3 и X360.\n",
    "\n",
    "Есть закономерная картина: чем лучше рейтинг, тем игра лучше, следовательно, больше продаж. Несмотря на это, связь не говорит о чёткой зависимости, т.к. не все игры с высокими оценками хорошо продались. Вероятно, есть и другие факторы: наряду с какими играми выходила игра, её стоимость, хайп, поппулярность платформы.\n",
    "\n",
    "Исходя из имеющихся данных, именно оценки пользователей имеют какую-то степень влияния на продажи, в отличие от оценок критиков. Скорее всего, это происходит из-за субъективных факторов: ожидания, критерии оценивания, сюжет.\n",
    "\n",
    "По всем показателям игры в жанре action являются самыми популярными. На втором месте по обще сумме продаж shooter-игры (они же самые рентбельные), а по количеству продаж role-playing-игры. Головоломки являются самыми непопулярными. Приключенческие игры самые нерентабельные.\n",
    "\n",
    "В Северной Америке имели бешеную популярность приставки X360, PS4 и PS3. Вместе с ними XOne и 3DS держатся в топе-5 всех регионов, кроме Японии. PS3 обогнала PS4 по популярности только в Японии, где самой популярной является платформа 3DS, сильно опережающая остальных.\n",
    "\n",
    "По популярност жанров снова отличилась Япония. В остальных регионах на первом месте жанр action, дале shooter, sports и role-playing. В Японии - role-playing, action, misc, simulation и fighting.\n",
    "\n",
    "Из-за большого числа пропусков данные сложно считать на 100% достоверными. Тем не менее по предварительной оценке, везде, кроме Японии, самые популярные игры для аудитории старше 17 лет, для всех. В Японии у большинства проданных игр не определён возрастной рейтинг. Скорее всего, тк данный рейтинг создан в США, некоторые игры, популярные в Японии, имеют специфический рейтинг, неприменимый в азиатской стране.\n",
    "\n",
    "Не получилось отвергнуть нулевую гипотезу о том, что средние пользовательские рейтинги платформ Xbox One и PC одинаковые. С большой долей вероятности средние пользовательские рейтинги платформ XOne и PC не имеют статистически значимых отличий. Остаётся верным утверждение, что средние пользовательские рейтинги жанров Action и Sports отличаются.\n",
    "\n",
    "**Таким образом, прослеживается влияние отзывов пользователей на продажи игр. В разных регионах есть определённые предпочтения. У разных платформ есть примерный цикл выпуска игр и популярности.**"
   ]
  },
  {
   "cell_type": "markdown",
   "metadata": {},
   "source": [
    "<div class=\"alert alert-block alert-warning\">\n",
    "<b>🔁Комментарий ревьюера:</b> \n",
    "    \n",
    "Хороший резюмирующий вывод. Еще можно добавить рекомендации отделу маркетинга для проведения рекламной кампании в 2017 году. \n",
    "    \n",
    "\n",
    "\n",
    "**Хочу обратить твое внимание на то, что после исправления замечаний в некоторых пунктах исследования могут измениться результаты, поэтому нужно будет подкорректировать выводы.**</div>"
   ]
  }
 ],
 "metadata": {
  "ExecuteTimeLog": [
   {
    "duration": 1520,
    "start_time": "2024-01-30T13:47:56.182Z"
   },
   {
    "duration": 116,
    "start_time": "2024-01-30T13:53:06.257Z"
   },
   {
    "duration": 188,
    "start_time": "2024-01-30T13:54:01.563Z"
   },
   {
    "duration": 719,
    "start_time": "2024-01-30T13:54:12.908Z"
   },
   {
    "duration": 80,
    "start_time": "2024-01-30T13:55:07.786Z"
   },
   {
    "duration": 68,
    "start_time": "2024-01-30T13:55:39.638Z"
   },
   {
    "duration": 65,
    "start_time": "2024-01-30T13:55:48.757Z"
   },
   {
    "duration": 61,
    "start_time": "2024-01-30T13:56:03.111Z"
   },
   {
    "duration": 68,
    "start_time": "2024-01-30T13:56:05.596Z"
   },
   {
    "duration": 10,
    "start_time": "2024-01-30T13:56:59.227Z"
   },
   {
    "duration": 106,
    "start_time": "2024-01-30T13:57:13.485Z"
   },
   {
    "duration": 87,
    "start_time": "2024-01-30T14:01:42.649Z"
   },
   {
    "duration": 86,
    "start_time": "2024-01-30T14:02:22.824Z"
   },
   {
    "duration": 100,
    "start_time": "2024-01-30T14:02:29.971Z"
   },
   {
    "duration": 4,
    "start_time": "2024-01-30T14:04:28.093Z"
   },
   {
    "duration": 6,
    "start_time": "2024-01-30T14:04:37.714Z"
   },
   {
    "duration": 22,
    "start_time": "2024-01-30T14:10:27.494Z"
   },
   {
    "duration": 94,
    "start_time": "2024-01-30T14:12:17.002Z"
   },
   {
    "duration": 4,
    "start_time": "2024-01-30T14:12:32.709Z"
   },
   {
    "duration": 256,
    "start_time": "2024-01-30T14:12:32.715Z"
   },
   {
    "duration": 84,
    "start_time": "2024-01-30T14:12:32.973Z"
   },
   {
    "duration": 5,
    "start_time": "2024-01-30T14:12:33.059Z"
   },
   {
    "duration": 72,
    "start_time": "2024-01-30T14:12:33.066Z"
   },
   {
    "duration": 90,
    "start_time": "2024-01-30T14:21:01.565Z"
   },
   {
    "duration": 64,
    "start_time": "2024-01-30T14:21:28.195Z"
   },
   {
    "duration": 67,
    "start_time": "2024-01-30T14:21:44.930Z"
   },
   {
    "duration": 11,
    "start_time": "2024-01-30T14:31:32.231Z"
   },
   {
    "duration": 10,
    "start_time": "2024-01-30T14:31:36.365Z"
   },
   {
    "duration": 12,
    "start_time": "2024-01-30T14:31:39.303Z"
   },
   {
    "duration": 19,
    "start_time": "2024-01-30T14:32:14.339Z"
   },
   {
    "duration": 23,
    "start_time": "2024-01-30T14:32:21.687Z"
   },
   {
    "duration": 33,
    "start_time": "2024-01-30T14:34:03.510Z"
   },
   {
    "duration": 19,
    "start_time": "2024-01-30T14:34:14.681Z"
   },
   {
    "duration": 43,
    "start_time": "2024-01-30T14:35:47.957Z"
   },
   {
    "duration": 6,
    "start_time": "2024-01-30T14:36:02.437Z"
   },
   {
    "duration": 21,
    "start_time": "2024-01-30T14:36:03.556Z"
   },
   {
    "duration": 17,
    "start_time": "2024-01-30T14:36:04.751Z"
   },
   {
    "duration": 26,
    "start_time": "2024-01-30T14:41:33.941Z"
   },
   {
    "duration": 8,
    "start_time": "2024-01-30T14:41:54.513Z"
   },
   {
    "duration": 26,
    "start_time": "2024-01-30T14:43:48.206Z"
   },
   {
    "duration": 12,
    "start_time": "2024-01-30T14:46:16.452Z"
   },
   {
    "duration": 15,
    "start_time": "2024-01-30T14:46:27.563Z"
   },
   {
    "duration": 14,
    "start_time": "2024-01-30T14:46:58.869Z"
   },
   {
    "duration": 12,
    "start_time": "2024-01-30T14:47:05.598Z"
   },
   {
    "duration": 5,
    "start_time": "2024-01-30T14:47:05.933Z"
   },
   {
    "duration": 743,
    "start_time": "2024-01-30T14:55:15.019Z"
   },
   {
    "duration": 1287,
    "start_time": "2024-01-30T14:58:29.061Z"
   },
   {
    "duration": 75,
    "start_time": "2024-01-30T14:58:30.350Z"
   },
   {
    "duration": 104,
    "start_time": "2024-01-30T14:58:30.427Z"
   },
   {
    "duration": 19188,
    "start_time": "2024-01-30T14:58:30.533Z"
   },
   {
    "duration": 0,
    "start_time": "2024-01-30T14:58:49.724Z"
   },
   {
    "duration": 0,
    "start_time": "2024-01-30T14:58:49.725Z"
   },
   {
    "duration": 0,
    "start_time": "2024-01-30T14:58:49.727Z"
   },
   {
    "duration": 0,
    "start_time": "2024-01-30T14:58:49.728Z"
   },
   {
    "duration": 0,
    "start_time": "2024-01-30T14:58:49.729Z"
   },
   {
    "duration": 23812,
    "start_time": "2024-01-30T14:59:50.744Z"
   },
   {
    "duration": 25223,
    "start_time": "2024-01-30T15:01:07.724Z"
   },
   {
    "duration": 3,
    "start_time": "2024-01-30T15:02:17.075Z"
   },
   {
    "duration": 82,
    "start_time": "2024-01-30T15:02:17.080Z"
   },
   {
    "duration": 89,
    "start_time": "2024-01-30T15:02:17.164Z"
   },
   {
    "duration": 5,
    "start_time": "2024-01-30T15:02:17.255Z"
   },
   {
    "duration": 48,
    "start_time": "2024-01-30T15:02:17.263Z"
   },
   {
    "duration": 21,
    "start_time": "2024-01-30T15:02:17.314Z"
   },
   {
    "duration": 54,
    "start_time": "2024-01-30T15:02:17.336Z"
   },
   {
    "duration": 13,
    "start_time": "2024-01-30T15:02:17.392Z"
   },
   {
    "duration": 53,
    "start_time": "2024-02-06T14:27:18.741Z"
   },
   {
    "duration": 1473,
    "start_time": "2024-02-06T14:27:30.107Z"
   },
   {
    "duration": 115,
    "start_time": "2024-02-06T14:27:31.582Z"
   },
   {
    "duration": 82,
    "start_time": "2024-02-06T14:27:31.699Z"
   },
   {
    "duration": 5,
    "start_time": "2024-02-06T14:27:31.783Z"
   },
   {
    "duration": 97,
    "start_time": "2024-02-06T14:27:31.790Z"
   },
   {
    "duration": 54,
    "start_time": "2024-02-06T14:27:31.888Z"
   },
   {
    "duration": 37,
    "start_time": "2024-02-06T14:27:31.943Z"
   },
   {
    "duration": 133,
    "start_time": "2024-02-06T14:27:31.982Z"
   },
   {
    "duration": 0,
    "start_time": "2024-02-06T14:27:32.117Z"
   },
   {
    "duration": 1255,
    "start_time": "2024-02-06T14:27:46.834Z"
   },
   {
    "duration": 72,
    "start_time": "2024-02-06T14:27:48.091Z"
   },
   {
    "duration": 94,
    "start_time": "2024-02-06T14:27:48.165Z"
   },
   {
    "duration": 5,
    "start_time": "2024-02-06T14:27:48.261Z"
   },
   {
    "duration": 23,
    "start_time": "2024-02-06T14:27:48.269Z"
   },
   {
    "duration": 41,
    "start_time": "2024-02-06T14:27:48.294Z"
   },
   {
    "duration": 15,
    "start_time": "2024-02-06T14:27:48.336Z"
   },
   {
    "duration": 10,
    "start_time": "2024-02-06T14:27:48.353Z"
   },
   {
    "duration": 5,
    "start_time": "2024-02-06T14:27:48.365Z"
   },
   {
    "duration": 3,
    "start_time": "2024-02-06T14:40:10.936Z"
   },
   {
    "duration": 7,
    "start_time": "2024-02-06T14:40:47.556Z"
   },
   {
    "duration": 5,
    "start_time": "2024-02-06T14:41:19.395Z"
   },
   {
    "duration": 5,
    "start_time": "2024-02-06T14:43:50.975Z"
   },
   {
    "duration": 4,
    "start_time": "2024-02-06T14:46:28.003Z"
   },
   {
    "duration": 16,
    "start_time": "2024-02-06T14:49:22.161Z"
   },
   {
    "duration": 113,
    "start_time": "2024-02-06T14:50:46.092Z"
   },
   {
    "duration": 4,
    "start_time": "2024-02-06T14:50:57.030Z"
   },
   {
    "duration": 7,
    "start_time": "2024-02-06T14:51:40.163Z"
   },
   {
    "duration": 6,
    "start_time": "2024-02-06T14:51:40.939Z"
   },
   {
    "duration": 15,
    "start_time": "2024-02-06T14:59:34.594Z"
   },
   {
    "duration": 22,
    "start_time": "2024-02-06T15:04:36.209Z"
   },
   {
    "duration": 7,
    "start_time": "2024-02-06T15:05:36.741Z"
   },
   {
    "duration": 4,
    "start_time": "2024-02-06T15:13:19.883Z"
   },
   {
    "duration": 3171,
    "start_time": "2024-02-06T15:14:19.235Z"
   },
   {
    "duration": 8,
    "start_time": "2024-02-06T15:14:39.811Z"
   },
   {
    "duration": 18,
    "start_time": "2024-02-06T15:15:44.786Z"
   },
   {
    "duration": 673,
    "start_time": "2024-02-06T15:16:18.211Z"
   },
   {
    "duration": 643,
    "start_time": "2024-02-06T15:16:24.602Z"
   },
   {
    "duration": 2602,
    "start_time": "2024-02-06T15:17:46.422Z"
   },
   {
    "duration": 1229,
    "start_time": "2024-02-06T15:17:49.027Z"
   },
   {
    "duration": 4,
    "start_time": "2024-02-06T15:17:50.258Z"
   },
   {
    "duration": 76,
    "start_time": "2024-02-06T15:17:50.264Z"
   },
   {
    "duration": 98,
    "start_time": "2024-02-06T15:17:50.343Z"
   },
   {
    "duration": 6,
    "start_time": "2024-02-06T15:17:50.443Z"
   },
   {
    "duration": 30,
    "start_time": "2024-02-06T15:17:50.450Z"
   },
   {
    "duration": 669,
    "start_time": "2024-02-06T15:17:50.481Z"
   },
   {
    "duration": 28,
    "start_time": "2024-02-06T15:17:51.152Z"
   },
   {
    "duration": 11,
    "start_time": "2024-02-06T15:17:51.183Z"
   },
   {
    "duration": 6,
    "start_time": "2024-02-06T15:17:51.196Z"
   },
   {
    "duration": 23,
    "start_time": "2024-02-06T15:17:51.204Z"
   },
   {
    "duration": 18,
    "start_time": "2024-02-06T15:17:51.229Z"
   },
   {
    "duration": 10,
    "start_time": "2024-02-06T15:17:51.250Z"
   },
   {
    "duration": 7,
    "start_time": "2024-02-06T15:17:51.261Z"
   },
   {
    "duration": 8,
    "start_time": "2024-02-06T15:17:51.269Z"
   },
   {
    "duration": 19,
    "start_time": "2024-02-06T15:17:51.278Z"
   },
   {
    "duration": 27,
    "start_time": "2024-02-06T15:17:51.299Z"
   },
   {
    "duration": 106,
    "start_time": "2024-02-06T15:21:45.779Z"
   },
   {
    "duration": 5,
    "start_time": "2024-02-06T15:22:29.877Z"
   },
   {
    "duration": 402,
    "start_time": "2024-02-06T15:22:34.900Z"
   },
   {
    "duration": 5,
    "start_time": "2024-02-06T15:28:46.826Z"
   },
   {
    "duration": 417,
    "start_time": "2024-02-06T15:28:51.603Z"
   },
   {
    "duration": 4,
    "start_time": "2024-02-06T15:29:08.159Z"
   },
   {
    "duration": 393,
    "start_time": "2024-02-06T15:29:12.791Z"
   },
   {
    "duration": 4,
    "start_time": "2024-02-06T15:34:31.077Z"
   },
   {
    "duration": 476,
    "start_time": "2024-02-06T15:34:36.136Z"
   },
   {
    "duration": 4,
    "start_time": "2024-02-06T15:34:52.733Z"
   },
   {
    "duration": 19,
    "start_time": "2024-02-06T15:41:39.424Z"
   },
   {
    "duration": 17,
    "start_time": "2024-02-06T15:41:56.239Z"
   },
   {
    "duration": 185,
    "start_time": "2024-02-06T15:42:42.338Z"
   },
   {
    "duration": 9,
    "start_time": "2024-02-06T15:42:47.521Z"
   },
   {
    "duration": 7,
    "start_time": "2024-02-06T15:44:13.420Z"
   },
   {
    "duration": 616,
    "start_time": "2024-02-06T15:44:41.034Z"
   },
   {
    "duration": 625,
    "start_time": "2024-02-06T15:44:49.790Z"
   },
   {
    "duration": 633,
    "start_time": "2024-02-06T15:44:53.905Z"
   },
   {
    "duration": 637,
    "start_time": "2024-02-06T15:44:58.386Z"
   },
   {
    "duration": 630,
    "start_time": "2024-02-06T15:45:02.997Z"
   },
   {
    "duration": 640,
    "start_time": "2024-02-06T15:45:08.372Z"
   },
   {
    "duration": 614,
    "start_time": "2024-02-06T15:45:14.261Z"
   },
   {
    "duration": 644,
    "start_time": "2024-02-06T15:45:17.212Z"
   },
   {
    "duration": 617,
    "start_time": "2024-02-06T15:45:19.922Z"
   },
   {
    "duration": 690,
    "start_time": "2024-02-06T15:45:23.453Z"
   },
   {
    "duration": 595,
    "start_time": "2024-02-06T15:45:25.965Z"
   },
   {
    "duration": 585,
    "start_time": "2024-02-06T15:45:30.798Z"
   },
   {
    "duration": 588,
    "start_time": "2024-02-06T15:45:33.789Z"
   },
   {
    "duration": 576,
    "start_time": "2024-02-06T15:45:38.728Z"
   },
   {
    "duration": 581,
    "start_time": "2024-02-06T15:45:45.049Z"
   },
   {
    "duration": 580,
    "start_time": "2024-02-06T15:45:49.848Z"
   },
   {
    "duration": 659,
    "start_time": "2024-02-06T15:45:56.577Z"
   },
   {
    "duration": 315,
    "start_time": "2024-02-06T15:46:45.928Z"
   },
   {
    "duration": 8,
    "start_time": "2024-02-06T15:48:39.703Z"
   },
   {
    "duration": 9,
    "start_time": "2024-02-06T15:58:02.429Z"
   },
   {
    "duration": 10,
    "start_time": "2024-02-06T15:59:42.689Z"
   },
   {
    "duration": 16,
    "start_time": "2024-02-06T16:01:10.882Z"
   },
   {
    "duration": 28,
    "start_time": "2024-02-06T16:01:18.174Z"
   },
   {
    "duration": 26,
    "start_time": "2024-02-06T16:01:54.447Z"
   },
   {
    "duration": 26,
    "start_time": "2024-02-06T16:01:59.762Z"
   },
   {
    "duration": 29,
    "start_time": "2024-02-06T16:02:08.527Z"
   },
   {
    "duration": 9,
    "start_time": "2024-02-06T16:03:33.512Z"
   },
   {
    "duration": 10,
    "start_time": "2024-02-06T16:14:39.986Z"
   },
   {
    "duration": 19,
    "start_time": "2024-02-06T16:14:48.974Z"
   },
   {
    "duration": 12,
    "start_time": "2024-02-06T16:39:04.064Z"
   },
   {
    "duration": 63,
    "start_time": "2024-02-06T16:39:08.923Z"
   },
   {
    "duration": 520,
    "start_time": "2024-02-06T16:39:30.588Z"
   },
   {
    "duration": 626,
    "start_time": "2024-02-06T16:39:41.776Z"
   },
   {
    "duration": 163,
    "start_time": "2024-02-06T16:40:09.205Z"
   },
   {
    "duration": 500,
    "start_time": "2024-02-06T16:40:14.617Z"
   },
   {
    "duration": 65,
    "start_time": "2024-02-06T16:42:24.465Z"
   },
   {
    "duration": 31,
    "start_time": "2024-02-06T16:48:56.519Z"
   },
   {
    "duration": 29,
    "start_time": "2024-02-06T16:49:26.068Z"
   },
   {
    "duration": 29,
    "start_time": "2024-02-06T16:49:36.258Z"
   },
   {
    "duration": 2518,
    "start_time": "2024-02-06T16:51:00.795Z"
   },
   {
    "duration": 1240,
    "start_time": "2024-02-06T16:51:03.316Z"
   },
   {
    "duration": 4,
    "start_time": "2024-02-06T16:51:04.558Z"
   },
   {
    "duration": 97,
    "start_time": "2024-02-06T16:51:04.564Z"
   },
   {
    "duration": 98,
    "start_time": "2024-02-06T16:51:04.663Z"
   },
   {
    "duration": 6,
    "start_time": "2024-02-06T16:51:04.762Z"
   },
   {
    "duration": 51,
    "start_time": "2024-02-06T16:51:04.770Z"
   },
   {
    "duration": 644,
    "start_time": "2024-02-06T16:51:04.823Z"
   },
   {
    "duration": 17,
    "start_time": "2024-02-06T16:51:05.469Z"
   },
   {
    "duration": 21,
    "start_time": "2024-02-06T16:51:05.488Z"
   },
   {
    "duration": 25,
    "start_time": "2024-02-06T16:51:05.511Z"
   },
   {
    "duration": 29,
    "start_time": "2024-02-06T16:51:05.538Z"
   },
   {
    "duration": 18,
    "start_time": "2024-02-06T16:51:05.569Z"
   },
   {
    "duration": 26,
    "start_time": "2024-02-06T16:51:05.589Z"
   },
   {
    "duration": 35,
    "start_time": "2024-02-06T16:51:05.617Z"
   },
   {
    "duration": 35,
    "start_time": "2024-02-06T16:51:05.654Z"
   },
   {
    "duration": 9,
    "start_time": "2024-02-06T16:51:05.691Z"
   },
   {
    "duration": 17,
    "start_time": "2024-02-06T16:51:05.702Z"
   },
   {
    "duration": 27,
    "start_time": "2024-02-06T16:51:05.721Z"
   },
   {
    "duration": 24,
    "start_time": "2024-02-06T16:51:05.750Z"
   },
   {
    "duration": 414,
    "start_time": "2024-02-06T16:51:05.775Z"
   },
   {
    "duration": 344,
    "start_time": "2024-02-06T16:51:06.191Z"
   },
   {
    "duration": 18,
    "start_time": "2024-02-06T16:51:06.536Z"
   },
   {
    "duration": 533,
    "start_time": "2024-02-06T16:51:06.556Z"
   },
   {
    "duration": 33,
    "start_time": "2024-02-06T16:51:07.091Z"
   },
   {
    "duration": 1802,
    "start_time": "2024-02-06T17:29:55.669Z"
   },
   {
    "duration": 2587,
    "start_time": "2024-02-06T17:30:19.296Z"
   },
   {
    "duration": 1181,
    "start_time": "2024-02-06T17:30:21.886Z"
   },
   {
    "duration": 4,
    "start_time": "2024-02-06T17:30:23.069Z"
   },
   {
    "duration": 108,
    "start_time": "2024-02-06T17:30:23.075Z"
   },
   {
    "duration": 88,
    "start_time": "2024-02-06T17:30:23.186Z"
   },
   {
    "duration": 6,
    "start_time": "2024-02-06T17:30:23.276Z"
   },
   {
    "duration": 49,
    "start_time": "2024-02-06T17:30:23.284Z"
   },
   {
    "duration": 617,
    "start_time": "2024-02-06T17:30:23.334Z"
   },
   {
    "duration": 17,
    "start_time": "2024-02-06T17:30:23.953Z"
   },
   {
    "duration": 16,
    "start_time": "2024-02-06T17:30:23.971Z"
   },
   {
    "duration": 5,
    "start_time": "2024-02-06T17:30:23.989Z"
   },
   {
    "duration": 14,
    "start_time": "2024-02-06T17:30:23.996Z"
   },
   {
    "duration": 6,
    "start_time": "2024-02-06T17:30:24.023Z"
   },
   {
    "duration": 7,
    "start_time": "2024-02-06T17:30:24.031Z"
   },
   {
    "duration": 8,
    "start_time": "2024-02-06T17:30:24.040Z"
   },
   {
    "duration": 26,
    "start_time": "2024-02-06T17:30:24.050Z"
   },
   {
    "duration": 11,
    "start_time": "2024-02-06T17:30:24.077Z"
   },
   {
    "duration": 36,
    "start_time": "2024-02-06T17:30:24.089Z"
   },
   {
    "duration": 14,
    "start_time": "2024-02-06T17:30:24.127Z"
   },
   {
    "duration": 9,
    "start_time": "2024-02-06T17:30:24.142Z"
   },
   {
    "duration": 428,
    "start_time": "2024-02-06T17:30:24.152Z"
   },
   {
    "duration": 346,
    "start_time": "2024-02-06T17:30:24.582Z"
   },
   {
    "duration": 19,
    "start_time": "2024-02-06T17:30:24.930Z"
   },
   {
    "duration": 534,
    "start_time": "2024-02-06T17:30:24.951Z"
   },
   {
    "duration": 39,
    "start_time": "2024-02-06T17:30:25.487Z"
   },
   {
    "duration": 1864,
    "start_time": "2024-02-06T17:30:25.527Z"
   },
   {
    "duration": 1814,
    "start_time": "2024-02-06T17:31:02.332Z"
   },
   {
    "duration": 107,
    "start_time": "2024-02-06T17:34:36.906Z"
   },
   {
    "duration": 9,
    "start_time": "2024-02-06T17:34:40.610Z"
   },
   {
    "duration": 12,
    "start_time": "2024-02-06T17:34:43.617Z"
   },
   {
    "duration": 12,
    "start_time": "2024-02-06T17:35:09.159Z"
   },
   {
    "duration": 13,
    "start_time": "2024-02-06T17:35:34.127Z"
   },
   {
    "duration": 12,
    "start_time": "2024-02-06T17:35:38.091Z"
   },
   {
    "duration": 17,
    "start_time": "2024-02-06T17:37:46.928Z"
   },
   {
    "duration": 2313,
    "start_time": "2024-02-06T17:40:24.877Z"
   },
   {
    "duration": 2196,
    "start_time": "2024-02-06T17:40:34.562Z"
   },
   {
    "duration": 16,
    "start_time": "2024-02-06T17:43:20.958Z"
   },
   {
    "duration": 23,
    "start_time": "2024-02-06T17:43:26.291Z"
   },
   {
    "duration": 297,
    "start_time": "2024-02-06T18:11:51.675Z"
   },
   {
    "duration": 265,
    "start_time": "2024-02-06T18:12:06.886Z"
   },
   {
    "duration": 279,
    "start_time": "2024-02-06T18:12:19.529Z"
   },
   {
    "duration": 395,
    "start_time": "2024-02-06T18:13:17.888Z"
   },
   {
    "duration": 40,
    "start_time": "2024-02-06T18:13:31.899Z"
   },
   {
    "duration": 41,
    "start_time": "2024-02-06T18:13:35.864Z"
   },
   {
    "duration": 298,
    "start_time": "2024-02-06T18:13:39.812Z"
   },
   {
    "duration": 270,
    "start_time": "2024-02-06T18:19:50.755Z"
   },
   {
    "duration": 5,
    "start_time": "2024-02-06T18:34:43.529Z"
   },
   {
    "duration": 493,
    "start_time": "2024-02-06T18:35:09.537Z"
   },
   {
    "duration": 5,
    "start_time": "2024-02-06T18:36:39.129Z"
   },
   {
    "duration": 482,
    "start_time": "2024-02-06T18:36:42.588Z"
   },
   {
    "duration": 466,
    "start_time": "2024-02-06T18:37:34.041Z"
   },
   {
    "duration": 600,
    "start_time": "2024-02-06T18:37:44.665Z"
   },
   {
    "duration": 641,
    "start_time": "2024-02-06T18:44:18.876Z"
   },
   {
    "duration": 633,
    "start_time": "2024-02-06T18:44:27.019Z"
   },
   {
    "duration": 5,
    "start_time": "2024-02-06T18:49:41.888Z"
   },
   {
    "duration": 631,
    "start_time": "2024-02-06T18:50:04.389Z"
   },
   {
    "duration": 494,
    "start_time": "2024-02-06T18:50:32.586Z"
   },
   {
    "duration": 618,
    "start_time": "2024-02-06T18:50:39.424Z"
   },
   {
    "duration": 599,
    "start_time": "2024-02-06T18:50:54.493Z"
   },
   {
    "duration": 190,
    "start_time": "2024-02-06T19:07:41.410Z"
   },
   {
    "duration": 19,
    "start_time": "2024-02-06T19:08:14.714Z"
   },
   {
    "duration": 18,
    "start_time": "2024-02-06T19:08:19.528Z"
   },
   {
    "duration": 16,
    "start_time": "2024-02-06T19:08:31.167Z"
   },
   {
    "duration": 34,
    "start_time": "2024-02-06T19:08:45.299Z"
   },
   {
    "duration": 23,
    "start_time": "2024-02-06T19:08:51.608Z"
   },
   {
    "duration": 93,
    "start_time": "2024-02-06T19:09:20.610Z"
   },
   {
    "duration": 86,
    "start_time": "2024-02-06T19:09:41.144Z"
   },
   {
    "duration": 3280,
    "start_time": "2024-02-07T10:21:00.450Z"
   },
   {
    "duration": 1349,
    "start_time": "2024-02-07T10:21:03.732Z"
   },
   {
    "duration": 6,
    "start_time": "2024-02-07T10:21:05.083Z"
   },
   {
    "duration": 29,
    "start_time": "2024-02-07T10:21:05.092Z"
   },
   {
    "duration": 207,
    "start_time": "2024-02-07T10:21:05.123Z"
   },
   {
    "duration": 94,
    "start_time": "2024-02-07T10:21:05.332Z"
   },
   {
    "duration": 6,
    "start_time": "2024-02-07T10:21:05.428Z"
   },
   {
    "duration": 50,
    "start_time": "2024-02-07T10:21:05.436Z"
   },
   {
    "duration": 670,
    "start_time": "2024-02-07T10:21:05.488Z"
   },
   {
    "duration": 26,
    "start_time": "2024-02-07T10:21:06.161Z"
   },
   {
    "duration": 9,
    "start_time": "2024-02-07T10:21:06.189Z"
   },
   {
    "duration": 10,
    "start_time": "2024-02-07T10:21:06.200Z"
   },
   {
    "duration": 8,
    "start_time": "2024-02-07T10:21:06.212Z"
   },
   {
    "duration": 8,
    "start_time": "2024-02-07T10:21:06.221Z"
   },
   {
    "duration": 7,
    "start_time": "2024-02-07T10:21:06.231Z"
   },
   {
    "duration": 10,
    "start_time": "2024-02-07T10:21:06.240Z"
   },
   {
    "duration": 53,
    "start_time": "2024-02-07T10:21:06.252Z"
   },
   {
    "duration": 10,
    "start_time": "2024-02-07T10:21:06.307Z"
   },
   {
    "duration": 8,
    "start_time": "2024-02-07T10:21:06.318Z"
   },
   {
    "duration": 17,
    "start_time": "2024-02-07T10:21:06.328Z"
   },
   {
    "duration": 13,
    "start_time": "2024-02-07T10:21:06.347Z"
   },
   {
    "duration": 327,
    "start_time": "2024-02-07T10:21:06.362Z"
   },
   {
    "duration": 290,
    "start_time": "2024-02-07T10:21:06.690Z"
   },
   {
    "duration": 57,
    "start_time": "2024-02-07T10:21:06.986Z"
   },
   {
    "duration": 496,
    "start_time": "2024-02-07T10:21:07.045Z"
   },
   {
    "duration": 22,
    "start_time": "2024-02-07T10:21:07.542Z"
   },
   {
    "duration": 32,
    "start_time": "2024-02-07T10:21:07.566Z"
   },
   {
    "duration": 16,
    "start_time": "2024-02-07T10:21:07.601Z"
   },
   {
    "duration": 1769,
    "start_time": "2024-02-07T10:21:07.619Z"
   },
   {
    "duration": 2135,
    "start_time": "2024-02-07T10:21:09.390Z"
   },
   {
    "duration": 266,
    "start_time": "2024-02-07T10:21:11.527Z"
   },
   {
    "duration": 673,
    "start_time": "2024-02-07T10:21:11.794Z"
   },
   {
    "duration": 574,
    "start_time": "2024-02-07T10:21:12.468Z"
   },
   {
    "duration": 5,
    "start_time": "2024-02-07T10:36:39.655Z"
   },
   {
    "duration": 6,
    "start_time": "2024-02-07T10:37:01.431Z"
   },
   {
    "duration": 5,
    "start_time": "2024-02-07T10:37:33.022Z"
   },
   {
    "duration": 4,
    "start_time": "2024-02-07T10:47:41.355Z"
   },
   {
    "duration": 90,
    "start_time": "2024-02-07T10:47:50.510Z"
   },
   {
    "duration": 80,
    "start_time": "2024-02-07T10:48:11.874Z"
   },
   {
    "duration": 74,
    "start_time": "2024-02-07T10:48:19.556Z"
   },
   {
    "duration": 27,
    "start_time": "2024-02-07T10:51:38.104Z"
   },
   {
    "duration": 284,
    "start_time": "2024-02-07T11:10:23.092Z"
   },
   {
    "duration": 533,
    "start_time": "2024-02-07T11:10:35.743Z"
   },
   {
    "duration": 1025,
    "start_time": "2024-02-07T11:11:13.688Z"
   },
   {
    "duration": 1034,
    "start_time": "2024-02-07T11:11:56.845Z"
   },
   {
    "duration": 23,
    "start_time": "2024-02-07T11:21:37.262Z"
   },
   {
    "duration": 18,
    "start_time": "2024-02-07T11:21:54.686Z"
   },
   {
    "duration": 20,
    "start_time": "2024-02-07T11:22:29.589Z"
   },
   {
    "duration": 26,
    "start_time": "2024-02-07T11:36:31.147Z"
   },
   {
    "duration": 394,
    "start_time": "2024-02-07T13:07:21.008Z"
   },
   {
    "duration": 498,
    "start_time": "2024-02-07T13:07:59.398Z"
   },
   {
    "duration": 347,
    "start_time": "2024-02-07T13:09:04.919Z"
   },
   {
    "duration": 2541,
    "start_time": "2024-02-07T13:10:49.203Z"
   },
   {
    "duration": 1179,
    "start_time": "2024-02-07T13:10:51.746Z"
   },
   {
    "duration": 5,
    "start_time": "2024-02-07T13:10:52.926Z"
   },
   {
    "duration": 5,
    "start_time": "2024-02-07T13:10:52.933Z"
   },
   {
    "duration": 76,
    "start_time": "2024-02-07T13:10:52.940Z"
   },
   {
    "duration": 103,
    "start_time": "2024-02-07T13:10:53.018Z"
   },
   {
    "duration": 5,
    "start_time": "2024-02-07T13:10:53.124Z"
   },
   {
    "duration": 25,
    "start_time": "2024-02-07T13:10:53.131Z"
   },
   {
    "duration": 657,
    "start_time": "2024-02-07T13:10:53.157Z"
   },
   {
    "duration": 17,
    "start_time": "2024-02-07T13:10:53.815Z"
   },
   {
    "duration": 15,
    "start_time": "2024-02-07T13:10:53.834Z"
   },
   {
    "duration": 23,
    "start_time": "2024-02-07T13:10:53.851Z"
   },
   {
    "duration": 14,
    "start_time": "2024-02-07T13:10:53.876Z"
   },
   {
    "duration": 10,
    "start_time": "2024-02-07T13:10:53.895Z"
   },
   {
    "duration": 9,
    "start_time": "2024-02-07T13:10:53.908Z"
   },
   {
    "duration": 12,
    "start_time": "2024-02-07T13:10:53.920Z"
   },
   {
    "duration": 73,
    "start_time": "2024-02-07T13:10:53.934Z"
   },
   {
    "duration": 16,
    "start_time": "2024-02-07T13:10:54.009Z"
   },
   {
    "duration": 18,
    "start_time": "2024-02-07T13:10:54.028Z"
   },
   {
    "duration": 33,
    "start_time": "2024-02-07T13:10:54.048Z"
   },
   {
    "duration": 17,
    "start_time": "2024-02-07T13:10:54.084Z"
   },
   {
    "duration": 15,
    "start_time": "2024-02-07T13:10:54.103Z"
   },
   {
    "duration": 453,
    "start_time": "2024-02-07T13:10:54.120Z"
   },
   {
    "duration": 345,
    "start_time": "2024-02-07T13:10:54.574Z"
   },
   {
    "duration": 79,
    "start_time": "2024-02-07T13:10:54.920Z"
   },
   {
    "duration": 1048,
    "start_time": "2024-02-07T13:10:55.001Z"
   },
   {
    "duration": 97,
    "start_time": "2024-02-07T13:10:56.051Z"
   },
   {
    "duration": 17,
    "start_time": "2024-02-07T13:10:56.150Z"
   },
   {
    "duration": 29,
    "start_time": "2024-02-07T13:10:56.169Z"
   },
   {
    "duration": 1792,
    "start_time": "2024-02-07T13:10:56.200Z"
   },
   {
    "duration": 2292,
    "start_time": "2024-02-07T13:10:57.993Z"
   },
   {
    "duration": 284,
    "start_time": "2024-02-07T13:11:00.287Z"
   },
   {
    "duration": 710,
    "start_time": "2024-02-07T13:11:00.573Z"
   },
   {
    "duration": 608,
    "start_time": "2024-02-07T13:11:01.285Z"
   },
   {
    "duration": 398,
    "start_time": "2024-02-07T13:13:59.180Z"
   },
   {
    "duration": 276,
    "start_time": "2024-02-07T13:36:10.012Z"
   },
   {
    "duration": 293,
    "start_time": "2024-02-07T13:36:46.752Z"
   },
   {
    "duration": 290,
    "start_time": "2024-02-07T13:38:07.662Z"
   },
   {
    "duration": 289,
    "start_time": "2024-02-07T13:38:45.516Z"
   },
   {
    "duration": 5,
    "start_time": "2024-02-07T13:47:33.333Z"
   },
   {
    "duration": 668,
    "start_time": "2024-02-07T13:47:40.400Z"
   },
   {
    "duration": 570,
    "start_time": "2024-02-07T13:47:46.532Z"
   },
   {
    "duration": 10,
    "start_time": "2024-02-07T14:06:06.107Z"
   },
   {
    "duration": 2239,
    "start_time": "2024-02-07T14:06:21.497Z"
   },
   {
    "duration": 1039,
    "start_time": "2024-02-07T14:06:23.738Z"
   },
   {
    "duration": 4,
    "start_time": "2024-02-07T14:06:24.779Z"
   },
   {
    "duration": 7,
    "start_time": "2024-02-07T14:06:24.786Z"
   },
   {
    "duration": 97,
    "start_time": "2024-02-07T14:06:24.795Z"
   },
   {
    "duration": 94,
    "start_time": "2024-02-07T14:06:24.894Z"
   },
   {
    "duration": 5,
    "start_time": "2024-02-07T14:06:24.990Z"
   },
   {
    "duration": 34,
    "start_time": "2024-02-07T14:06:24.997Z"
   },
   {
    "duration": 592,
    "start_time": "2024-02-07T14:06:25.033Z"
   },
   {
    "duration": 23,
    "start_time": "2024-02-07T14:06:25.627Z"
   },
   {
    "duration": 17,
    "start_time": "2024-02-07T14:06:25.652Z"
   },
   {
    "duration": 6,
    "start_time": "2024-02-07T14:06:25.671Z"
   },
   {
    "duration": 10,
    "start_time": "2024-02-07T14:06:25.678Z"
   },
   {
    "duration": 6,
    "start_time": "2024-02-07T14:06:25.690Z"
   },
   {
    "duration": 11,
    "start_time": "2024-02-07T14:06:25.697Z"
   },
   {
    "duration": 10,
    "start_time": "2024-02-07T14:06:25.709Z"
   },
   {
    "duration": 25,
    "start_time": "2024-02-07T14:06:25.721Z"
   },
   {
    "duration": 7,
    "start_time": "2024-02-07T14:06:25.748Z"
   },
   {
    "duration": 21,
    "start_time": "2024-02-07T14:06:25.757Z"
   },
   {
    "duration": 12,
    "start_time": "2024-02-07T14:06:25.779Z"
   },
   {
    "duration": 32,
    "start_time": "2024-02-07T14:06:25.792Z"
   },
   {
    "duration": 12,
    "start_time": "2024-02-07T14:06:25.825Z"
   },
   {
    "duration": 365,
    "start_time": "2024-02-07T14:06:25.839Z"
   },
   {
    "duration": 298,
    "start_time": "2024-02-07T14:06:26.206Z"
   },
   {
    "duration": 74,
    "start_time": "2024-02-07T14:06:26.505Z"
   },
   {
    "duration": 879,
    "start_time": "2024-02-07T14:06:26.580Z"
   },
   {
    "duration": 85,
    "start_time": "2024-02-07T14:06:27.460Z"
   },
   {
    "duration": 16,
    "start_time": "2024-02-07T14:06:27.546Z"
   },
   {
    "duration": 29,
    "start_time": "2024-02-07T14:06:27.563Z"
   },
   {
    "duration": 1602,
    "start_time": "2024-02-07T14:06:27.594Z"
   },
   {
    "duration": 2043,
    "start_time": "2024-02-07T14:06:29.197Z"
   },
   {
    "duration": 352,
    "start_time": "2024-02-07T14:06:31.243Z"
   },
   {
    "duration": 540,
    "start_time": "2024-02-07T14:06:31.597Z"
   },
   {
    "duration": 565,
    "start_time": "2024-02-07T14:06:32.139Z"
   },
   {
    "duration": 535,
    "start_time": "2024-02-07T14:08:49.266Z"
   },
   {
    "duration": 547,
    "start_time": "2024-02-07T14:09:03.058Z"
   },
   {
    "duration": 10,
    "start_time": "2024-02-07T14:09:53.630Z"
   },
   {
    "duration": 547,
    "start_time": "2024-02-07T14:09:59.226Z"
   },
   {
    "duration": 654,
    "start_time": "2024-02-07T14:10:11.153Z"
   },
   {
    "duration": 2386,
    "start_time": "2024-02-07T14:10:29.621Z"
   },
   {
    "duration": 1084,
    "start_time": "2024-02-07T14:10:32.008Z"
   },
   {
    "duration": 5,
    "start_time": "2024-02-07T14:10:33.093Z"
   },
   {
    "duration": 37,
    "start_time": "2024-02-07T14:10:33.099Z"
   },
   {
    "duration": 79,
    "start_time": "2024-02-07T14:10:33.138Z"
   },
   {
    "duration": 108,
    "start_time": "2024-02-07T14:10:33.219Z"
   },
   {
    "duration": 5,
    "start_time": "2024-02-07T14:10:33.328Z"
   },
   {
    "duration": 35,
    "start_time": "2024-02-07T14:10:33.335Z"
   },
   {
    "duration": 608,
    "start_time": "2024-02-07T14:10:33.387Z"
   },
   {
    "duration": 16,
    "start_time": "2024-02-07T14:10:33.996Z"
   },
   {
    "duration": 14,
    "start_time": "2024-02-07T14:10:34.013Z"
   },
   {
    "duration": 8,
    "start_time": "2024-02-07T14:10:34.029Z"
   },
   {
    "duration": 7,
    "start_time": "2024-02-07T14:10:34.038Z"
   },
   {
    "duration": 8,
    "start_time": "2024-02-07T14:10:34.047Z"
   },
   {
    "duration": 10,
    "start_time": "2024-02-07T14:10:34.056Z"
   },
   {
    "duration": 5,
    "start_time": "2024-02-07T14:10:34.088Z"
   },
   {
    "duration": 26,
    "start_time": "2024-02-07T14:10:34.095Z"
   },
   {
    "duration": 8,
    "start_time": "2024-02-07T14:10:34.123Z"
   },
   {
    "duration": 11,
    "start_time": "2024-02-07T14:10:34.132Z"
   },
   {
    "duration": 6,
    "start_time": "2024-02-07T14:10:34.144Z"
   },
   {
    "duration": 36,
    "start_time": "2024-02-07T14:10:34.151Z"
   },
   {
    "duration": 8,
    "start_time": "2024-02-07T14:10:34.189Z"
   },
   {
    "duration": 427,
    "start_time": "2024-02-07T14:10:34.199Z"
   },
   {
    "duration": 313,
    "start_time": "2024-02-07T14:10:34.627Z"
   },
   {
    "duration": 68,
    "start_time": "2024-02-07T14:10:34.942Z"
   },
   {
    "duration": 931,
    "start_time": "2024-02-07T14:10:35.011Z"
   },
   {
    "duration": 91,
    "start_time": "2024-02-07T14:10:35.944Z"
   },
   {
    "duration": 19,
    "start_time": "2024-02-07T14:10:36.037Z"
   },
   {
    "duration": 29,
    "start_time": "2024-02-07T14:10:36.058Z"
   },
   {
    "duration": 1642,
    "start_time": "2024-02-07T14:10:36.089Z"
   },
   {
    "duration": 2014,
    "start_time": "2024-02-07T14:10:37.733Z"
   },
   {
    "duration": 374,
    "start_time": "2024-02-07T14:10:39.748Z"
   },
   {
    "duration": 528,
    "start_time": "2024-02-07T14:10:40.123Z"
   },
   {
    "duration": 560,
    "start_time": "2024-02-07T14:10:40.653Z"
   },
   {
    "duration": 550,
    "start_time": "2024-02-07T14:10:41.216Z"
   },
   {
    "duration": 9,
    "start_time": "2024-02-07T14:14:27.172Z"
   },
   {
    "duration": 562,
    "start_time": "2024-02-07T14:14:35.963Z"
   },
   {
    "duration": 2451,
    "start_time": "2024-02-07T14:14:49.207Z"
   },
   {
    "duration": 1187,
    "start_time": "2024-02-07T14:14:51.660Z"
   },
   {
    "duration": 5,
    "start_time": "2024-02-07T14:14:52.849Z"
   },
   {
    "duration": 39,
    "start_time": "2024-02-07T14:14:52.857Z"
   },
   {
    "duration": 91,
    "start_time": "2024-02-07T14:14:52.898Z"
   },
   {
    "duration": 108,
    "start_time": "2024-02-07T14:14:52.990Z"
   },
   {
    "duration": 5,
    "start_time": "2024-02-07T14:14:53.099Z"
   },
   {
    "duration": 114,
    "start_time": "2024-02-07T14:14:53.106Z"
   },
   {
    "duration": 727,
    "start_time": "2024-02-07T14:14:53.222Z"
   },
   {
    "duration": 16,
    "start_time": "2024-02-07T14:14:53.952Z"
   },
   {
    "duration": 21,
    "start_time": "2024-02-07T14:14:53.970Z"
   },
   {
    "duration": 19,
    "start_time": "2024-02-07T14:14:53.992Z"
   },
   {
    "duration": 16,
    "start_time": "2024-02-07T14:14:54.013Z"
   },
   {
    "duration": 28,
    "start_time": "2024-02-07T14:14:54.031Z"
   },
   {
    "duration": 30,
    "start_time": "2024-02-07T14:14:54.061Z"
   },
   {
    "duration": 19,
    "start_time": "2024-02-07T14:14:54.093Z"
   },
   {
    "duration": 46,
    "start_time": "2024-02-07T14:14:54.114Z"
   },
   {
    "duration": 11,
    "start_time": "2024-02-07T14:14:54.162Z"
   },
   {
    "duration": 15,
    "start_time": "2024-02-07T14:14:54.174Z"
   },
   {
    "duration": 27,
    "start_time": "2024-02-07T14:14:54.192Z"
   },
   {
    "duration": 53,
    "start_time": "2024-02-07T14:14:54.221Z"
   },
   {
    "duration": 12,
    "start_time": "2024-02-07T14:14:54.277Z"
   },
   {
    "duration": 447,
    "start_time": "2024-02-07T14:14:54.291Z"
   },
   {
    "duration": 334,
    "start_time": "2024-02-07T14:14:54.740Z"
   },
   {
    "duration": 79,
    "start_time": "2024-02-07T14:14:55.075Z"
   },
   {
    "duration": 1023,
    "start_time": "2024-02-07T14:14:55.155Z"
   },
   {
    "duration": 92,
    "start_time": "2024-02-07T14:14:56.179Z"
   },
   {
    "duration": 22,
    "start_time": "2024-02-07T14:14:56.275Z"
   },
   {
    "duration": 24,
    "start_time": "2024-02-07T14:14:56.299Z"
   },
   {
    "duration": 1819,
    "start_time": "2024-02-07T14:14:56.325Z"
   },
   {
    "duration": 2196,
    "start_time": "2024-02-07T14:14:58.146Z"
   },
   {
    "duration": 397,
    "start_time": "2024-02-07T14:15:00.344Z"
   },
   {
    "duration": 615,
    "start_time": "2024-02-07T14:15:00.743Z"
   },
   {
    "duration": 611,
    "start_time": "2024-02-07T14:15:01.359Z"
   },
   {
    "duration": 573,
    "start_time": "2024-02-07T14:15:01.972Z"
   },
   {
    "duration": 9,
    "start_time": "2024-02-07T14:15:41.292Z"
   },
   {
    "duration": 20,
    "start_time": "2024-02-07T14:15:50.923Z"
   },
   {
    "duration": 552,
    "start_time": "2024-02-07T14:15:55.456Z"
   },
   {
    "duration": 571,
    "start_time": "2024-02-07T14:16:01.703Z"
   },
   {
    "duration": 7,
    "start_time": "2024-02-07T14:34:52.542Z"
   },
   {
    "duration": 100,
    "start_time": "2024-02-07T14:39:21.317Z"
   },
   {
    "duration": 5,
    "start_time": "2024-02-07T14:39:32.445Z"
   },
   {
    "duration": 6,
    "start_time": "2024-02-07T14:39:42.239Z"
   },
   {
    "duration": 6,
    "start_time": "2024-02-07T14:44:26.372Z"
   },
   {
    "duration": 6,
    "start_time": "2024-02-07T14:45:08.480Z"
   },
   {
    "duration": 2396,
    "start_time": "2024-02-07T14:59:08.863Z"
   },
   {
    "duration": 1237,
    "start_time": "2024-02-07T14:59:11.263Z"
   },
   {
    "duration": 5,
    "start_time": "2024-02-07T14:59:12.501Z"
   },
   {
    "duration": 27,
    "start_time": "2024-02-07T14:59:12.508Z"
   },
   {
    "duration": 104,
    "start_time": "2024-02-07T14:59:12.537Z"
   },
   {
    "duration": 87,
    "start_time": "2024-02-07T14:59:12.642Z"
   },
   {
    "duration": 5,
    "start_time": "2024-02-07T14:59:12.731Z"
   },
   {
    "duration": 48,
    "start_time": "2024-02-07T14:59:12.738Z"
   },
   {
    "duration": 612,
    "start_time": "2024-02-07T14:59:12.788Z"
   },
   {
    "duration": 16,
    "start_time": "2024-02-07T14:59:13.402Z"
   },
   {
    "duration": 10,
    "start_time": "2024-02-07T14:59:13.420Z"
   },
   {
    "duration": 17,
    "start_time": "2024-02-07T14:59:13.431Z"
   },
   {
    "duration": 12,
    "start_time": "2024-02-07T14:59:13.450Z"
   },
   {
    "duration": 9,
    "start_time": "2024-02-07T14:59:13.466Z"
   },
   {
    "duration": 7,
    "start_time": "2024-02-07T14:59:13.487Z"
   },
   {
    "duration": 16,
    "start_time": "2024-02-07T14:59:13.496Z"
   },
   {
    "duration": 43,
    "start_time": "2024-02-07T14:59:13.514Z"
   },
   {
    "duration": 9,
    "start_time": "2024-02-07T14:59:13.559Z"
   },
   {
    "duration": 5,
    "start_time": "2024-02-07T14:59:13.570Z"
   },
   {
    "duration": 14,
    "start_time": "2024-02-07T14:59:13.576Z"
   },
   {
    "duration": 14,
    "start_time": "2024-02-07T14:59:13.592Z"
   },
   {
    "duration": 10,
    "start_time": "2024-02-07T14:59:13.608Z"
   },
   {
    "duration": 416,
    "start_time": "2024-02-07T14:59:13.620Z"
   },
   {
    "duration": 339,
    "start_time": "2024-02-07T14:59:14.038Z"
   },
   {
    "duration": 86,
    "start_time": "2024-02-07T14:59:14.379Z"
   },
   {
    "duration": 980,
    "start_time": "2024-02-07T14:59:14.466Z"
   },
   {
    "duration": 98,
    "start_time": "2024-02-07T14:59:15.448Z"
   },
   {
    "duration": 18,
    "start_time": "2024-02-07T14:59:15.548Z"
   },
   {
    "duration": 32,
    "start_time": "2024-02-07T14:59:15.568Z"
   },
   {
    "duration": 2412,
    "start_time": "2024-02-07T15:00:49.442Z"
   },
   {
    "duration": 1149,
    "start_time": "2024-02-07T15:00:51.856Z"
   },
   {
    "duration": 5,
    "start_time": "2024-02-07T15:00:53.007Z"
   },
   {
    "duration": 15,
    "start_time": "2024-02-07T15:00:53.014Z"
   },
   {
    "duration": 80,
    "start_time": "2024-02-07T15:00:53.030Z"
   },
   {
    "duration": 119,
    "start_time": "2024-02-07T15:00:53.112Z"
   },
   {
    "duration": 6,
    "start_time": "2024-02-07T15:00:53.233Z"
   },
   {
    "duration": 53,
    "start_time": "2024-02-07T15:00:53.241Z"
   },
   {
    "duration": 668,
    "start_time": "2024-02-07T15:00:53.296Z"
   },
   {
    "duration": 33,
    "start_time": "2024-02-07T15:00:53.969Z"
   },
   {
    "duration": 11,
    "start_time": "2024-02-07T15:00:54.004Z"
   },
   {
    "duration": 40,
    "start_time": "2024-02-07T15:00:54.017Z"
   },
   {
    "duration": 10,
    "start_time": "2024-02-07T15:00:54.059Z"
   },
   {
    "duration": 8,
    "start_time": "2024-02-07T15:00:54.070Z"
   },
   {
    "duration": 14,
    "start_time": "2024-02-07T15:00:54.081Z"
   },
   {
    "duration": 11,
    "start_time": "2024-02-07T15:00:54.097Z"
   },
   {
    "duration": 26,
    "start_time": "2024-02-07T15:00:54.110Z"
   },
   {
    "duration": 9,
    "start_time": "2024-02-07T15:00:54.138Z"
   },
   {
    "duration": 4,
    "start_time": "2024-02-07T15:00:54.149Z"
   },
   {
    "duration": 34,
    "start_time": "2024-02-07T15:00:54.155Z"
   },
   {
    "duration": 29,
    "start_time": "2024-02-07T15:00:54.191Z"
   },
   {
    "duration": 11,
    "start_time": "2024-02-07T15:00:54.222Z"
   },
   {
    "duration": 467,
    "start_time": "2024-02-07T15:00:54.235Z"
   },
   {
    "duration": 346,
    "start_time": "2024-02-07T15:00:54.705Z"
   },
   {
    "duration": 69,
    "start_time": "2024-02-07T15:00:55.052Z"
   },
   {
    "duration": 1001,
    "start_time": "2024-02-07T15:00:55.123Z"
   },
   {
    "duration": 101,
    "start_time": "2024-02-07T15:00:56.126Z"
   },
   {
    "duration": 20,
    "start_time": "2024-02-07T15:00:56.230Z"
   },
   {
    "duration": 37,
    "start_time": "2024-02-07T15:00:56.252Z"
   },
   {
    "duration": 1773,
    "start_time": "2024-02-07T15:00:56.291Z"
   },
   {
    "duration": 2243,
    "start_time": "2024-02-07T15:00:58.067Z"
   },
   {
    "duration": 435,
    "start_time": "2024-02-07T15:01:00.312Z"
   },
   {
    "duration": 586,
    "start_time": "2024-02-07T15:01:00.749Z"
   },
   {
    "duration": 633,
    "start_time": "2024-02-07T15:01:01.336Z"
   },
   {
    "duration": 591,
    "start_time": "2024-02-07T15:01:01.970Z"
   },
   {
    "duration": 6,
    "start_time": "2024-02-07T15:01:02.562Z"
   },
   {
    "duration": 120,
    "start_time": "2024-02-07T15:01:02.570Z"
   },
   {
    "duration": 95,
    "start_time": "2024-02-07T15:01:02.691Z"
   },
   {
    "duration": 28,
    "start_time": "2024-02-07T15:01:02.787Z"
   },
   {
    "duration": 2489,
    "start_time": "2024-02-07T15:05:28.277Z"
   },
   {
    "duration": 1242,
    "start_time": "2024-02-07T15:05:30.769Z"
   },
   {
    "duration": 5,
    "start_time": "2024-02-07T15:05:32.013Z"
   },
   {
    "duration": 44,
    "start_time": "2024-02-07T15:05:32.019Z"
   },
   {
    "duration": 110,
    "start_time": "2024-02-07T15:05:32.065Z"
   },
   {
    "duration": 87,
    "start_time": "2024-02-07T15:05:32.177Z"
   },
   {
    "duration": 23,
    "start_time": "2024-02-07T15:05:32.266Z"
   },
   {
    "duration": 49,
    "start_time": "2024-02-07T15:05:32.290Z"
   },
   {
    "duration": 648,
    "start_time": "2024-02-07T15:05:32.341Z"
   },
   {
    "duration": 16,
    "start_time": "2024-02-07T15:05:32.990Z"
   },
   {
    "duration": 12,
    "start_time": "2024-02-07T15:05:33.008Z"
   },
   {
    "duration": 9,
    "start_time": "2024-02-07T15:05:33.021Z"
   },
   {
    "duration": 10,
    "start_time": "2024-02-07T15:05:33.031Z"
   },
   {
    "duration": 21,
    "start_time": "2024-02-07T15:05:33.043Z"
   },
   {
    "duration": 19,
    "start_time": "2024-02-07T15:05:33.065Z"
   },
   {
    "duration": 7,
    "start_time": "2024-02-07T15:05:33.086Z"
   },
   {
    "duration": 27,
    "start_time": "2024-02-07T15:05:33.095Z"
   },
   {
    "duration": 10,
    "start_time": "2024-02-07T15:05:33.124Z"
   },
   {
    "duration": 5,
    "start_time": "2024-02-07T15:05:33.136Z"
   },
   {
    "duration": 5,
    "start_time": "2024-02-07T15:05:33.143Z"
   },
   {
    "duration": 46,
    "start_time": "2024-02-07T15:05:33.150Z"
   },
   {
    "duration": 9,
    "start_time": "2024-02-07T15:05:33.198Z"
   },
   {
    "duration": 406,
    "start_time": "2024-02-07T15:05:33.208Z"
   },
   {
    "duration": 340,
    "start_time": "2024-02-07T15:05:33.615Z"
   },
   {
    "duration": 65,
    "start_time": "2024-02-07T15:05:33.957Z"
   },
   {
    "duration": 975,
    "start_time": "2024-02-07T15:05:34.024Z"
   },
   {
    "duration": 95,
    "start_time": "2024-02-07T15:05:35.001Z"
   },
   {
    "duration": 17,
    "start_time": "2024-02-07T15:05:35.098Z"
   },
   {
    "duration": 28,
    "start_time": "2024-02-07T15:05:35.117Z"
   },
   {
    "duration": 1692,
    "start_time": "2024-02-07T15:05:35.147Z"
   },
   {
    "duration": 2111,
    "start_time": "2024-02-07T15:05:36.841Z"
   },
   {
    "duration": 374,
    "start_time": "2024-02-07T15:05:38.953Z"
   },
   {
    "duration": 554,
    "start_time": "2024-02-07T15:05:39.328Z"
   },
   {
    "duration": 574,
    "start_time": "2024-02-07T15:05:39.887Z"
   },
   {
    "duration": 597,
    "start_time": "2024-02-07T15:05:40.463Z"
   },
   {
    "duration": 6,
    "start_time": "2024-02-07T15:05:41.061Z"
   },
   {
    "duration": 21,
    "start_time": "2024-02-07T15:05:41.068Z"
   },
   {
    "duration": 26,
    "start_time": "2024-02-07T15:05:41.090Z"
   },
   {
    "duration": 5,
    "start_time": "2024-02-07T15:05:41.118Z"
   },
   {
    "duration": 25,
    "start_time": "2024-02-07T15:42:31.339Z"
   },
   {
    "duration": 810,
    "start_time": "2024-02-07T15:45:37.822Z"
   },
   {
    "duration": 873,
    "start_time": "2024-02-07T15:45:52.860Z"
   },
   {
    "duration": 833,
    "start_time": "2024-02-07T15:46:03.934Z"
   },
   {
    "duration": 460,
    "start_time": "2024-02-07T15:46:25.616Z"
   },
   {
    "duration": 2377,
    "start_time": "2024-02-07T15:49:49.121Z"
   },
   {
    "duration": 1118,
    "start_time": "2024-02-07T15:49:51.500Z"
   },
   {
    "duration": 4,
    "start_time": "2024-02-07T15:49:52.620Z"
   },
   {
    "duration": 15,
    "start_time": "2024-02-07T15:49:52.625Z"
   },
   {
    "duration": 83,
    "start_time": "2024-02-07T15:49:52.641Z"
   },
   {
    "duration": 88,
    "start_time": "2024-02-07T15:49:52.725Z"
   },
   {
    "duration": 5,
    "start_time": "2024-02-07T15:49:52.815Z"
   },
   {
    "duration": 46,
    "start_time": "2024-02-07T15:49:52.821Z"
   },
   {
    "duration": 661,
    "start_time": "2024-02-07T15:49:52.868Z"
   },
   {
    "duration": 16,
    "start_time": "2024-02-07T15:49:53.531Z"
   },
   {
    "duration": 14,
    "start_time": "2024-02-07T15:49:53.549Z"
   },
   {
    "duration": 13,
    "start_time": "2024-02-07T15:49:53.565Z"
   },
   {
    "duration": 20,
    "start_time": "2024-02-07T15:49:53.580Z"
   },
   {
    "duration": 18,
    "start_time": "2024-02-07T15:49:53.604Z"
   },
   {
    "duration": 37,
    "start_time": "2024-02-07T15:49:53.624Z"
   },
   {
    "duration": 27,
    "start_time": "2024-02-07T15:49:53.663Z"
   },
   {
    "duration": 52,
    "start_time": "2024-02-07T15:49:53.692Z"
   },
   {
    "duration": 10,
    "start_time": "2024-02-07T15:49:53.746Z"
   },
   {
    "duration": 26,
    "start_time": "2024-02-07T15:49:53.758Z"
   },
   {
    "duration": 26,
    "start_time": "2024-02-07T15:49:53.786Z"
   },
   {
    "duration": 46,
    "start_time": "2024-02-07T15:49:53.813Z"
   },
   {
    "duration": 22,
    "start_time": "2024-02-07T15:49:53.861Z"
   },
   {
    "duration": 399,
    "start_time": "2024-02-07T15:49:53.884Z"
   },
   {
    "duration": 381,
    "start_time": "2024-02-07T15:49:54.284Z"
   },
   {
    "duration": 68,
    "start_time": "2024-02-07T15:49:54.667Z"
   },
   {
    "duration": 976,
    "start_time": "2024-02-07T15:49:54.737Z"
   },
   {
    "duration": 84,
    "start_time": "2024-02-07T15:49:55.714Z"
   },
   {
    "duration": 16,
    "start_time": "2024-02-07T15:49:55.799Z"
   },
   {
    "duration": 40,
    "start_time": "2024-02-07T15:49:55.816Z"
   },
   {
    "duration": 1695,
    "start_time": "2024-02-07T15:49:55.857Z"
   },
   {
    "duration": 2122,
    "start_time": "2024-02-07T15:49:57.553Z"
   },
   {
    "duration": 380,
    "start_time": "2024-02-07T15:49:59.676Z"
   },
   {
    "duration": 407,
    "start_time": "2024-02-07T15:50:00.058Z"
   },
   {
    "duration": 582,
    "start_time": "2024-02-07T15:50:00.467Z"
   },
   {
    "duration": 589,
    "start_time": "2024-02-07T15:50:01.050Z"
   },
   {
    "duration": 601,
    "start_time": "2024-02-07T15:50:01.641Z"
   },
   {
    "duration": 5,
    "start_time": "2024-02-07T15:50:02.244Z"
   },
   {
    "duration": 63,
    "start_time": "2024-02-07T15:50:02.251Z"
   },
   {
    "duration": 69,
    "start_time": "2024-02-07T15:50:02.316Z"
   },
   {
    "duration": 47,
    "start_time": "2024-02-07T15:50:02.387Z"
   },
   {
    "duration": 3787,
    "start_time": "2024-02-07T17:46:46.260Z"
   },
   {
    "duration": 1163,
    "start_time": "2024-02-07T17:46:50.049Z"
   },
   {
    "duration": 4,
    "start_time": "2024-02-07T17:46:51.214Z"
   },
   {
    "duration": 18,
    "start_time": "2024-02-07T17:46:51.219Z"
   },
   {
    "duration": 232,
    "start_time": "2024-02-07T17:46:51.239Z"
   },
   {
    "duration": 83,
    "start_time": "2024-02-07T17:46:51.473Z"
   },
   {
    "duration": 5,
    "start_time": "2024-02-07T17:46:51.557Z"
   },
   {
    "duration": 21,
    "start_time": "2024-02-07T17:46:51.580Z"
   },
   {
    "duration": 692,
    "start_time": "2024-02-07T17:46:51.602Z"
   },
   {
    "duration": 17,
    "start_time": "2024-02-07T17:46:52.295Z"
   },
   {
    "duration": 12,
    "start_time": "2024-02-07T17:46:52.314Z"
   },
   {
    "duration": 6,
    "start_time": "2024-02-07T17:46:52.328Z"
   },
   {
    "duration": 12,
    "start_time": "2024-02-07T17:46:52.336Z"
   },
   {
    "duration": 30,
    "start_time": "2024-02-07T17:46:52.352Z"
   },
   {
    "duration": 8,
    "start_time": "2024-02-07T17:46:52.384Z"
   },
   {
    "duration": 10,
    "start_time": "2024-02-07T17:46:52.393Z"
   },
   {
    "duration": 26,
    "start_time": "2024-02-07T17:46:52.404Z"
   },
   {
    "duration": 9,
    "start_time": "2024-02-07T17:46:52.431Z"
   },
   {
    "duration": 14,
    "start_time": "2024-02-07T17:46:52.441Z"
   },
   {
    "duration": 23,
    "start_time": "2024-02-07T17:46:52.457Z"
   },
   {
    "duration": 21,
    "start_time": "2024-02-07T17:46:52.482Z"
   },
   {
    "duration": 8,
    "start_time": "2024-02-07T17:46:52.505Z"
   },
   {
    "duration": 426,
    "start_time": "2024-02-07T17:46:52.515Z"
   },
   {
    "duration": 346,
    "start_time": "2024-02-07T17:46:52.942Z"
   },
   {
    "duration": 61,
    "start_time": "2024-02-07T17:46:53.290Z"
   },
   {
    "duration": 999,
    "start_time": "2024-02-07T17:46:53.353Z"
   },
   {
    "duration": 98,
    "start_time": "2024-02-07T17:46:54.354Z"
   },
   {
    "duration": 29,
    "start_time": "2024-02-07T17:46:54.453Z"
   },
   {
    "duration": 18,
    "start_time": "2024-02-07T17:46:54.484Z"
   },
   {
    "duration": 1734,
    "start_time": "2024-02-07T17:46:54.503Z"
   },
   {
    "duration": 2142,
    "start_time": "2024-02-07T17:46:56.239Z"
   },
   {
    "duration": 407,
    "start_time": "2024-02-07T17:46:58.382Z"
   },
   {
    "duration": 369,
    "start_time": "2024-02-07T17:46:58.791Z"
   },
   {
    "duration": 580,
    "start_time": "2024-02-07T17:46:59.162Z"
   },
   {
    "duration": 611,
    "start_time": "2024-02-07T17:46:59.744Z"
   },
   {
    "duration": 626,
    "start_time": "2024-02-07T17:47:00.357Z"
   },
   {
    "duration": 5,
    "start_time": "2024-02-07T17:47:00.985Z"
   },
   {
    "duration": 21,
    "start_time": "2024-02-07T17:47:00.992Z"
   },
   {
    "duration": 56,
    "start_time": "2024-02-07T17:47:01.015Z"
   },
   {
    "duration": 23,
    "start_time": "2024-02-07T17:47:01.073Z"
   },
   {
    "duration": 2597,
    "start_time": "2024-02-07T17:59:22.900Z"
   },
   {
    "duration": 1224,
    "start_time": "2024-02-07T17:59:25.500Z"
   },
   {
    "duration": 5,
    "start_time": "2024-02-07T17:59:26.726Z"
   },
   {
    "duration": 6,
    "start_time": "2024-02-07T17:59:26.733Z"
   },
   {
    "duration": 80,
    "start_time": "2024-02-07T17:59:26.741Z"
   },
   {
    "duration": 100,
    "start_time": "2024-02-07T17:59:26.823Z"
   },
   {
    "duration": 6,
    "start_time": "2024-02-07T17:59:26.924Z"
   },
   {
    "duration": 21,
    "start_time": "2024-02-07T17:59:26.932Z"
   },
   {
    "duration": 665,
    "start_time": "2024-02-07T17:59:26.954Z"
   },
   {
    "duration": 19,
    "start_time": "2024-02-07T17:59:27.621Z"
   },
   {
    "duration": 9,
    "start_time": "2024-02-07T17:59:27.642Z"
   },
   {
    "duration": 12,
    "start_time": "2024-02-07T17:59:27.653Z"
   },
   {
    "duration": 5,
    "start_time": "2024-02-07T17:59:27.680Z"
   },
   {
    "duration": 7,
    "start_time": "2024-02-07T17:59:27.689Z"
   },
   {
    "duration": 15,
    "start_time": "2024-02-07T17:59:27.697Z"
   },
   {
    "duration": 12,
    "start_time": "2024-02-07T17:59:27.714Z"
   },
   {
    "duration": 24,
    "start_time": "2024-02-07T17:59:27.728Z"
   },
   {
    "duration": 26,
    "start_time": "2024-02-07T17:59:27.754Z"
   },
   {
    "duration": 5,
    "start_time": "2024-02-07T17:59:27.782Z"
   },
   {
    "duration": 5,
    "start_time": "2024-02-07T17:59:27.789Z"
   },
   {
    "duration": 14,
    "start_time": "2024-02-07T17:59:27.795Z"
   },
   {
    "duration": 12,
    "start_time": "2024-02-07T17:59:27.810Z"
   },
   {
    "duration": 434,
    "start_time": "2024-02-07T17:59:27.823Z"
   },
   {
    "duration": 348,
    "start_time": "2024-02-07T17:59:28.258Z"
   },
   {
    "duration": 76,
    "start_time": "2024-02-07T17:59:28.608Z"
   },
   {
    "duration": 975,
    "start_time": "2024-02-07T17:59:28.686Z"
   },
   {
    "duration": 98,
    "start_time": "2024-02-07T17:59:29.662Z"
   },
   {
    "duration": 24,
    "start_time": "2024-02-07T17:59:29.762Z"
   },
   {
    "duration": 16,
    "start_time": "2024-02-07T17:59:29.788Z"
   },
   {
    "duration": 1776,
    "start_time": "2024-02-07T17:59:29.805Z"
   },
   {
    "duration": 2193,
    "start_time": "2024-02-07T17:59:31.583Z"
   },
   {
    "duration": 381,
    "start_time": "2024-02-07T17:59:33.777Z"
   },
   {
    "duration": 405,
    "start_time": "2024-02-07T17:59:34.159Z"
   },
   {
    "duration": 573,
    "start_time": "2024-02-07T17:59:34.565Z"
   },
   {
    "duration": 595,
    "start_time": "2024-02-07T17:59:35.139Z"
   },
   {
    "duration": 591,
    "start_time": "2024-02-07T17:59:35.736Z"
   },
   {
    "duration": 6,
    "start_time": "2024-02-07T17:59:36.329Z"
   },
   {
    "duration": 19,
    "start_time": "2024-02-07T17:59:36.337Z"
   },
   {
    "duration": 27,
    "start_time": "2024-02-07T17:59:36.357Z"
   },
   {
    "duration": 7,
    "start_time": "2024-02-07T17:59:36.386Z"
   },
   {
    "duration": 2528,
    "start_time": "2024-02-07T17:59:52.677Z"
   },
   {
    "duration": 1190,
    "start_time": "2024-02-07T17:59:55.207Z"
   },
   {
    "duration": 4,
    "start_time": "2024-02-07T17:59:56.399Z"
   },
   {
    "duration": 30,
    "start_time": "2024-02-07T17:59:56.405Z"
   },
   {
    "duration": 99,
    "start_time": "2024-02-07T17:59:56.437Z"
   },
   {
    "duration": 92,
    "start_time": "2024-02-07T17:59:56.538Z"
   },
   {
    "duration": 6,
    "start_time": "2024-02-07T17:59:56.631Z"
   },
   {
    "duration": 43,
    "start_time": "2024-02-07T17:59:56.638Z"
   },
   {
    "duration": 634,
    "start_time": "2024-02-07T17:59:56.683Z"
   },
   {
    "duration": 16,
    "start_time": "2024-02-07T17:59:57.319Z"
   },
   {
    "duration": 26,
    "start_time": "2024-02-07T17:59:57.337Z"
   },
   {
    "duration": 16,
    "start_time": "2024-02-07T17:59:57.365Z"
   },
   {
    "duration": 6,
    "start_time": "2024-02-07T17:59:57.383Z"
   },
   {
    "duration": 31,
    "start_time": "2024-02-07T17:59:57.392Z"
   },
   {
    "duration": 13,
    "start_time": "2024-02-07T17:59:57.425Z"
   },
   {
    "duration": 11,
    "start_time": "2024-02-07T17:59:57.439Z"
   },
   {
    "duration": 40,
    "start_time": "2024-02-07T17:59:57.452Z"
   },
   {
    "duration": 9,
    "start_time": "2024-02-07T17:59:57.494Z"
   },
   {
    "duration": 15,
    "start_time": "2024-02-07T17:59:57.504Z"
   },
   {
    "duration": 10,
    "start_time": "2024-02-07T17:59:57.520Z"
   },
   {
    "duration": 27,
    "start_time": "2024-02-07T17:59:57.531Z"
   },
   {
    "duration": 10,
    "start_time": "2024-02-07T17:59:57.559Z"
   },
   {
    "duration": 411,
    "start_time": "2024-02-07T17:59:57.571Z"
   },
   {
    "duration": 349,
    "start_time": "2024-02-07T17:59:57.983Z"
   },
   {
    "duration": 70,
    "start_time": "2024-02-07T17:59:58.333Z"
   },
   {
    "duration": 962,
    "start_time": "2024-02-07T17:59:58.405Z"
   },
   {
    "duration": 96,
    "start_time": "2024-02-07T17:59:59.369Z"
   },
   {
    "duration": 29,
    "start_time": "2024-02-07T17:59:59.466Z"
   },
   {
    "duration": 20,
    "start_time": "2024-02-07T17:59:59.496Z"
   },
   {
    "duration": 1825,
    "start_time": "2024-02-07T17:59:59.517Z"
   },
   {
    "duration": 2188,
    "start_time": "2024-02-07T18:00:01.343Z"
   },
   {
    "duration": 394,
    "start_time": "2024-02-07T18:00:03.533Z"
   },
   {
    "duration": 439,
    "start_time": "2024-02-07T18:00:03.929Z"
   },
   {
    "duration": 585,
    "start_time": "2024-02-07T18:00:04.370Z"
   },
   {
    "duration": 599,
    "start_time": "2024-02-07T18:00:04.956Z"
   },
   {
    "duration": 601,
    "start_time": "2024-02-07T18:00:05.556Z"
   },
   {
    "duration": 7,
    "start_time": "2024-02-07T18:00:06.159Z"
   },
   {
    "duration": 14,
    "start_time": "2024-02-07T18:00:06.167Z"
   },
   {
    "duration": 23,
    "start_time": "2024-02-07T18:00:06.183Z"
   },
   {
    "duration": 23,
    "start_time": "2024-02-07T18:00:06.207Z"
   },
   {
    "duration": 49,
    "start_time": "2024-02-08T07:59:06.208Z"
   },
   {
    "duration": 3296,
    "start_time": "2024-02-08T07:59:12.495Z"
   },
   {
    "duration": 1299,
    "start_time": "2024-02-08T07:59:15.793Z"
   },
   {
    "duration": 4,
    "start_time": "2024-02-08T07:59:17.094Z"
   },
   {
    "duration": 26,
    "start_time": "2024-02-08T07:59:17.100Z"
   },
   {
    "duration": 226,
    "start_time": "2024-02-08T07:59:17.129Z"
   },
   {
    "duration": 80,
    "start_time": "2024-02-08T07:59:17.356Z"
   },
   {
    "duration": 5,
    "start_time": "2024-02-08T07:59:17.437Z"
   },
   {
    "duration": 46,
    "start_time": "2024-02-08T07:59:17.444Z"
   },
   {
    "duration": 695,
    "start_time": "2024-02-08T07:59:17.491Z"
   },
   {
    "duration": 15,
    "start_time": "2024-02-08T07:59:18.188Z"
   },
   {
    "duration": 28,
    "start_time": "2024-02-08T07:59:18.204Z"
   },
   {
    "duration": 18,
    "start_time": "2024-02-08T07:59:18.234Z"
   },
   {
    "duration": 16,
    "start_time": "2024-02-08T07:59:18.253Z"
   },
   {
    "duration": 6,
    "start_time": "2024-02-08T07:59:18.274Z"
   },
   {
    "duration": 10,
    "start_time": "2024-02-08T07:59:18.281Z"
   },
   {
    "duration": 11,
    "start_time": "2024-02-08T07:59:18.292Z"
   },
   {
    "duration": 26,
    "start_time": "2024-02-08T07:59:18.304Z"
   },
   {
    "duration": 7,
    "start_time": "2024-02-08T07:59:18.331Z"
   },
   {
    "duration": 5,
    "start_time": "2024-02-08T07:59:18.340Z"
   },
   {
    "duration": 8,
    "start_time": "2024-02-08T07:59:18.359Z"
   },
   {
    "duration": 14,
    "start_time": "2024-02-08T07:59:18.369Z"
   },
   {
    "duration": 13,
    "start_time": "2024-02-08T07:59:18.385Z"
   },
   {
    "duration": 395,
    "start_time": "2024-02-08T07:59:18.399Z"
   },
   {
    "duration": 342,
    "start_time": "2024-02-08T07:59:18.796Z"
   },
   {
    "duration": 72,
    "start_time": "2024-02-08T07:59:19.140Z"
   },
   {
    "duration": 2966,
    "start_time": "2024-02-08T07:59:19.213Z"
   },
   {
    "duration": 17,
    "start_time": "2024-02-08T07:59:22.181Z"
   },
   {
    "duration": 16,
    "start_time": "2024-02-08T07:59:22.199Z"
   },
   {
    "duration": 358,
    "start_time": "2024-02-08T07:59:22.216Z"
   },
   {
    "duration": 15,
    "start_time": "2024-02-08T07:59:22.576Z"
   },
   {
    "duration": 2505,
    "start_time": "2024-02-08T07:59:22.593Z"
   },
   {
    "duration": 2141,
    "start_time": "2024-02-08T07:59:25.099Z"
   },
   {
    "duration": 290,
    "start_time": "2024-02-08T07:59:27.241Z"
   },
   {
    "duration": 390,
    "start_time": "2024-02-08T07:59:27.532Z"
   },
   {
    "duration": 552,
    "start_time": "2024-02-08T07:59:27.924Z"
   },
   {
    "duration": 578,
    "start_time": "2024-02-08T07:59:28.478Z"
   },
   {
    "duration": 573,
    "start_time": "2024-02-08T07:59:29.057Z"
   },
   {
    "duration": 5,
    "start_time": "2024-02-08T07:59:29.632Z"
   },
   {
    "duration": 6,
    "start_time": "2024-02-08T07:59:29.639Z"
   },
   {
    "duration": 13,
    "start_time": "2024-02-08T07:59:29.646Z"
   },
   {
    "duration": 15,
    "start_time": "2024-02-08T07:59:29.664Z"
   },
   {
    "duration": 442,
    "start_time": "2024-02-08T08:00:10.349Z"
   },
   {
    "duration": 71,
    "start_time": "2024-02-08T08:01:02.179Z"
   },
   {
    "duration": 349,
    "start_time": "2024-02-08T08:01:06.134Z"
   },
   {
    "duration": 370,
    "start_time": "2024-02-08T08:02:00.358Z"
   },
   {
    "duration": 338,
    "start_time": "2024-02-08T08:03:04.345Z"
   },
   {
    "duration": 1700,
    "start_time": "2024-02-08T08:03:40.030Z"
   },
   {
    "duration": 1574,
    "start_time": "2024-02-08T08:03:45.732Z"
   },
   {
    "duration": 946,
    "start_time": "2024-02-08T08:07:23.735Z"
   },
   {
    "duration": 163,
    "start_time": "2024-02-08T08:15:47.080Z"
   },
   {
    "duration": 408,
    "start_time": "2024-02-08T08:16:20.230Z"
   },
   {
    "duration": 486,
    "start_time": "2024-02-08T08:16:57.641Z"
   },
   {
    "duration": 73,
    "start_time": "2024-02-08T08:17:37.003Z"
   },
   {
    "duration": 386,
    "start_time": "2024-02-08T08:46:22.185Z"
   },
   {
    "duration": 577,
    "start_time": "2024-02-08T08:46:24.978Z"
   },
   {
    "duration": 428,
    "start_time": "2024-02-08T08:46:33.950Z"
   },
   {
    "duration": 80,
    "start_time": "2024-02-08T08:47:09.061Z"
   },
   {
    "duration": 398,
    "start_time": "2024-02-08T08:48:15.830Z"
   },
   {
    "duration": 285,
    "start_time": "2024-02-08T08:48:32.163Z"
   },
   {
    "duration": 484,
    "start_time": "2024-02-08T08:49:24.118Z"
   },
   {
    "duration": 446,
    "start_time": "2024-02-08T08:49:43.127Z"
   },
   {
    "duration": 479,
    "start_time": "2024-02-08T08:50:05.750Z"
   },
   {
    "duration": 360,
    "start_time": "2024-02-08T08:51:02.089Z"
   },
   {
    "duration": 17,
    "start_time": "2024-02-08T08:51:57.434Z"
   },
   {
    "duration": 259,
    "start_time": "2024-02-08T08:52:03.756Z"
   },
   {
    "duration": 258,
    "start_time": "2024-02-08T08:52:09.698Z"
   },
   {
    "duration": 274,
    "start_time": "2024-02-08T08:53:02.935Z"
   },
   {
    "duration": 235,
    "start_time": "2024-02-08T08:53:14.436Z"
   },
   {
    "duration": 261,
    "start_time": "2024-02-08T08:53:26.922Z"
   },
   {
    "duration": 279,
    "start_time": "2024-02-08T08:55:10.074Z"
   },
   {
    "duration": 386,
    "start_time": "2024-02-08T08:55:20.307Z"
   },
   {
    "duration": 412,
    "start_time": "2024-02-08T08:56:39.034Z"
   },
   {
    "duration": 210,
    "start_time": "2024-02-08T08:56:52.135Z"
   },
   {
    "duration": 199,
    "start_time": "2024-02-08T08:57:16.582Z"
   },
   {
    "duration": 233,
    "start_time": "2024-02-08T08:58:04.687Z"
   },
   {
    "duration": 205,
    "start_time": "2024-02-08T08:59:04.244Z"
   },
   {
    "duration": 218,
    "start_time": "2024-02-08T08:59:30.090Z"
   },
   {
    "duration": 325,
    "start_time": "2024-02-08T09:01:54.724Z"
   },
   {
    "duration": 4,
    "start_time": "2024-02-08T09:06:18.085Z"
   },
   {
    "duration": 360,
    "start_time": "2024-02-08T09:10:47.508Z"
   },
   {
    "duration": 420,
    "start_time": "2024-02-08T09:10:55.218Z"
   },
   {
    "duration": 315,
    "start_time": "2024-02-08T09:11:40.410Z"
   },
   {
    "duration": 311,
    "start_time": "2024-02-08T09:12:04.877Z"
   },
   {
    "duration": 293,
    "start_time": "2024-02-08T09:13:14.541Z"
   },
   {
    "duration": 226,
    "start_time": "2024-02-08T09:13:58.381Z"
   },
   {
    "duration": 230,
    "start_time": "2024-02-08T09:14:07.874Z"
   },
   {
    "duration": 231,
    "start_time": "2024-02-08T09:14:24.280Z"
   },
   {
    "duration": 228,
    "start_time": "2024-02-08T09:14:42.951Z"
   },
   {
    "duration": 218,
    "start_time": "2024-02-08T09:14:47.920Z"
   },
   {
    "duration": 395,
    "start_time": "2024-02-08T09:14:53.173Z"
   },
   {
    "duration": 71,
    "start_time": "2024-02-08T09:16:55.771Z"
   },
   {
    "duration": 233,
    "start_time": "2024-02-08T09:17:15.356Z"
   },
   {
    "duration": 238,
    "start_time": "2024-02-08T09:18:54.471Z"
   },
   {
    "duration": 237,
    "start_time": "2024-02-08T09:19:04.421Z"
   },
   {
    "duration": 218,
    "start_time": "2024-02-08T09:21:05.832Z"
   },
   {
    "duration": 238,
    "start_time": "2024-02-08T09:21:32.018Z"
   },
   {
    "duration": 204,
    "start_time": "2024-02-08T09:21:38.984Z"
   },
   {
    "duration": 207,
    "start_time": "2024-02-08T09:22:55.211Z"
   },
   {
    "duration": 219,
    "start_time": "2024-02-08T09:23:35.709Z"
   },
   {
    "duration": 415,
    "start_time": "2024-02-08T09:23:48.100Z"
   },
   {
    "duration": 217,
    "start_time": "2024-02-08T09:24:22.027Z"
   },
   {
    "duration": 386,
    "start_time": "2024-02-08T09:24:25.713Z"
   },
   {
    "duration": 451,
    "start_time": "2024-02-08T09:24:32.263Z"
   },
   {
    "duration": 5,
    "start_time": "2024-02-08T09:34:42.771Z"
   },
   {
    "duration": 483,
    "start_time": "2024-02-08T09:34:47.454Z"
   },
   {
    "duration": 5,
    "start_time": "2024-02-08T09:35:56.061Z"
   },
   {
    "duration": 463,
    "start_time": "2024-02-08T09:35:59.484Z"
   },
   {
    "duration": 5,
    "start_time": "2024-02-08T09:36:12.227Z"
   },
   {
    "duration": 544,
    "start_time": "2024-02-08T09:36:15.127Z"
   },
   {
    "duration": 4,
    "start_time": "2024-02-08T09:38:23.143Z"
   },
   {
    "duration": 459,
    "start_time": "2024-02-08T09:38:27.259Z"
   },
   {
    "duration": 481,
    "start_time": "2024-02-08T09:38:37.227Z"
   },
   {
    "duration": 5,
    "start_time": "2024-02-08T10:00:22.861Z"
   },
   {
    "duration": 592,
    "start_time": "2024-02-08T10:00:26.304Z"
   },
   {
    "duration": 5,
    "start_time": "2024-02-08T10:00:36.486Z"
   },
   {
    "duration": 516,
    "start_time": "2024-02-08T10:00:39.376Z"
   },
   {
    "duration": 3,
    "start_time": "2024-02-08T10:02:27.299Z"
   },
   {
    "duration": 4,
    "start_time": "2024-02-08T10:02:28.041Z"
   },
   {
    "duration": 491,
    "start_time": "2024-02-08T10:02:30.845Z"
   },
   {
    "duration": 3,
    "start_time": "2024-02-08T10:06:28.288Z"
   },
   {
    "duration": 5,
    "start_time": "2024-02-08T10:07:45.050Z"
   },
   {
    "duration": 469,
    "start_time": "2024-02-08T10:07:48.621Z"
   },
   {
    "duration": 512,
    "start_time": "2024-02-08T10:08:21.369Z"
   },
   {
    "duration": 618,
    "start_time": "2024-02-08T10:08:25.869Z"
   },
   {
    "duration": 5,
    "start_time": "2024-02-08T10:08:36.966Z"
   },
   {
    "duration": 2317,
    "start_time": "2024-02-08T10:08:42.926Z"
   },
   {
    "duration": 4,
    "start_time": "2024-02-08T10:08:45.245Z"
   },
   {
    "duration": 42,
    "start_time": "2024-02-08T10:08:45.251Z"
   },
   {
    "duration": 16,
    "start_time": "2024-02-08T10:08:45.295Z"
   },
   {
    "duration": 91,
    "start_time": "2024-02-08T10:08:45.313Z"
   },
   {
    "duration": 89,
    "start_time": "2024-02-08T10:08:45.405Z"
   },
   {
    "duration": 5,
    "start_time": "2024-02-08T10:08:45.495Z"
   },
   {
    "duration": 21,
    "start_time": "2024-02-08T10:08:45.501Z"
   },
   {
    "duration": 665,
    "start_time": "2024-02-08T10:08:45.524Z"
   },
   {
    "duration": 16,
    "start_time": "2024-02-08T10:08:46.191Z"
   },
   {
    "duration": 9,
    "start_time": "2024-02-08T10:08:46.208Z"
   },
   {
    "duration": 5,
    "start_time": "2024-02-08T10:08:46.218Z"
   },
   {
    "duration": 24,
    "start_time": "2024-02-08T10:08:46.224Z"
   },
   {
    "duration": 17,
    "start_time": "2024-02-08T10:08:46.250Z"
   },
   {
    "duration": 24,
    "start_time": "2024-02-08T10:08:46.268Z"
   },
   {
    "duration": 25,
    "start_time": "2024-02-08T10:08:46.293Z"
   },
   {
    "duration": 36,
    "start_time": "2024-02-08T10:08:46.320Z"
   },
   {
    "duration": 10,
    "start_time": "2024-02-08T10:08:46.358Z"
   },
   {
    "duration": 17,
    "start_time": "2024-02-08T10:08:46.370Z"
   },
   {
    "duration": 9,
    "start_time": "2024-02-08T10:08:46.389Z"
   },
   {
    "duration": 29,
    "start_time": "2024-02-08T10:08:46.399Z"
   },
   {
    "duration": 8,
    "start_time": "2024-02-08T10:08:46.430Z"
   },
   {
    "duration": 377,
    "start_time": "2024-02-08T10:08:46.440Z"
   },
   {
    "duration": 327,
    "start_time": "2024-02-08T10:08:46.819Z"
   },
   {
    "duration": 41,
    "start_time": "2024-02-08T10:08:47.148Z"
   },
   {
    "duration": 1006,
    "start_time": "2024-02-08T10:08:47.190Z"
   },
   {
    "duration": 18,
    "start_time": "2024-02-08T10:08:48.197Z"
   },
   {
    "duration": 41,
    "start_time": "2024-02-08T10:08:48.217Z"
   },
   {
    "duration": 390,
    "start_time": "2024-02-08T10:08:48.260Z"
   },
   {
    "duration": 22,
    "start_time": "2024-02-08T10:08:48.651Z"
   },
   {
    "duration": 484,
    "start_time": "2024-02-08T10:08:48.675Z"
   },
   {
    "duration": 2146,
    "start_time": "2024-02-08T10:08:49.160Z"
   },
   {
    "duration": 289,
    "start_time": "2024-02-08T10:08:51.308Z"
   },
   {
    "duration": 348,
    "start_time": "2024-02-08T10:08:51.599Z"
   },
   {
    "duration": 481,
    "start_time": "2024-02-08T10:08:51.949Z"
   },
   {
    "duration": 515,
    "start_time": "2024-02-08T10:08:52.432Z"
   },
   {
    "duration": 614,
    "start_time": "2024-02-08T10:08:52.949Z"
   },
   {
    "duration": 7,
    "start_time": "2024-02-08T10:08:53.564Z"
   },
   {
    "duration": 14,
    "start_time": "2024-02-08T10:08:53.573Z"
   },
   {
    "duration": 6,
    "start_time": "2024-02-08T10:08:53.588Z"
   },
   {
    "duration": 12,
    "start_time": "2024-02-08T10:08:53.597Z"
   },
   {
    "duration": 68,
    "start_time": "2024-02-08T10:11:53.233Z"
   },
   {
    "duration": 80,
    "start_time": "2024-02-08T10:12:30.070Z"
   },
   {
    "duration": 6,
    "start_time": "2024-02-08T10:12:36.849Z"
   },
   {
    "duration": 212,
    "start_time": "2024-02-08T10:12:40.163Z"
   },
   {
    "duration": 74,
    "start_time": "2024-02-08T10:13:26.831Z"
   },
   {
    "duration": 85,
    "start_time": "2024-02-08T10:13:32.073Z"
   },
   {
    "duration": 5,
    "start_time": "2024-02-08T10:13:35.254Z"
   },
   {
    "duration": 7,
    "start_time": "2024-02-08T10:14:14.854Z"
   },
   {
    "duration": 526,
    "start_time": "2024-02-08T10:14:18.445Z"
   },
   {
    "duration": 4,
    "start_time": "2024-02-08T10:16:35.888Z"
   },
   {
    "duration": 455,
    "start_time": "2024-02-08T10:16:42.073Z"
   },
   {
    "duration": 5,
    "start_time": "2024-02-08T10:16:53.948Z"
   },
   {
    "duration": 502,
    "start_time": "2024-02-08T10:16:57.057Z"
   },
   {
    "duration": 4,
    "start_time": "2024-02-08T10:27:48.645Z"
   },
   {
    "duration": 483,
    "start_time": "2024-02-08T10:27:51.450Z"
   },
   {
    "duration": 5,
    "start_time": "2024-02-08T10:28:37.323Z"
   },
   {
    "duration": 4,
    "start_time": "2024-02-08T10:28:55.257Z"
   },
   {
    "duration": 554,
    "start_time": "2024-02-08T10:29:30.996Z"
   },
   {
    "duration": 4,
    "start_time": "2024-02-08T10:29:56.390Z"
   },
   {
    "duration": 447,
    "start_time": "2024-02-08T10:30:00.543Z"
   },
   {
    "duration": 5,
    "start_time": "2024-02-08T10:30:20.274Z"
   },
   {
    "duration": 452,
    "start_time": "2024-02-08T10:30:25.982Z"
   },
   {
    "duration": 5,
    "start_time": "2024-02-08T10:30:52.880Z"
   },
   {
    "duration": 4,
    "start_time": "2024-02-08T10:30:53.329Z"
   },
   {
    "duration": 402,
    "start_time": "2024-02-08T10:30:57.854Z"
   },
   {
    "duration": 3,
    "start_time": "2024-02-08T10:31:21.823Z"
   },
   {
    "duration": 415,
    "start_time": "2024-02-08T10:31:27.206Z"
   },
   {
    "duration": 4,
    "start_time": "2024-02-08T10:32:08.038Z"
   },
   {
    "duration": 426,
    "start_time": "2024-02-08T10:32:12.848Z"
   },
   {
    "duration": 308,
    "start_time": "2024-02-08T10:33:51.718Z"
   },
   {
    "duration": 4,
    "start_time": "2024-02-08T10:34:52.123Z"
   },
   {
    "duration": 397,
    "start_time": "2024-02-08T10:34:56.065Z"
   },
   {
    "duration": 4,
    "start_time": "2024-02-08T10:35:44.966Z"
   },
   {
    "duration": 303,
    "start_time": "2024-02-08T10:35:49.517Z"
   },
   {
    "duration": 4,
    "start_time": "2024-02-08T10:36:37.181Z"
   },
   {
    "duration": 319,
    "start_time": "2024-02-08T10:36:41.107Z"
   },
   {
    "duration": 315,
    "start_time": "2024-02-08T10:36:44.953Z"
   },
   {
    "duration": 79,
    "start_time": "2024-02-08T10:38:39.042Z"
   },
   {
    "duration": 4,
    "start_time": "2024-02-08T10:38:42.420Z"
   },
   {
    "duration": 482,
    "start_time": "2024-02-08T10:38:47.112Z"
   },
   {
    "duration": 4,
    "start_time": "2024-02-08T10:42:18.394Z"
   },
   {
    "duration": 430,
    "start_time": "2024-02-08T10:42:23.475Z"
   },
   {
    "duration": 4,
    "start_time": "2024-02-08T10:47:23.875Z"
   },
   {
    "duration": 435,
    "start_time": "2024-02-08T10:47:28.284Z"
   },
   {
    "duration": 4,
    "start_time": "2024-02-08T10:48:28.031Z"
   },
   {
    "duration": 440,
    "start_time": "2024-02-08T10:48:32.571Z"
   },
   {
    "duration": 4,
    "start_time": "2024-02-08T10:50:44.029Z"
   },
   {
    "duration": 421,
    "start_time": "2024-02-08T10:50:48.853Z"
   },
   {
    "duration": 4,
    "start_time": "2024-02-08T10:50:58.274Z"
   },
   {
    "duration": 461,
    "start_time": "2024-02-08T10:51:01.700Z"
   },
   {
    "duration": 4,
    "start_time": "2024-02-08T11:01:16.402Z"
   },
   {
    "duration": 537,
    "start_time": "2024-02-08T11:01:22.210Z"
   },
   {
    "duration": 443,
    "start_time": "2024-02-08T11:02:37.269Z"
   },
   {
    "duration": 460,
    "start_time": "2024-02-08T11:02:40.124Z"
   },
   {
    "duration": 4,
    "start_time": "2024-02-08T11:02:56.667Z"
   },
   {
    "duration": 455,
    "start_time": "2024-02-08T11:03:01.812Z"
   },
   {
    "duration": 222,
    "start_time": "2024-02-08T11:10:19.016Z"
   },
   {
    "duration": 174,
    "start_time": "2024-02-08T11:10:31.461Z"
   },
   {
    "duration": 17,
    "start_time": "2024-02-08T11:11:38.623Z"
   },
   {
    "duration": 168,
    "start_time": "2024-02-08T11:12:09.099Z"
   },
   {
    "duration": 426,
    "start_time": "2024-02-08T11:12:22.748Z"
   },
   {
    "duration": 8,
    "start_time": "2024-02-08T11:14:07.398Z"
   },
   {
    "duration": 876,
    "start_time": "2024-02-08T11:14:19.623Z"
   },
   {
    "duration": 963,
    "start_time": "2024-02-08T11:15:17.050Z"
   },
   {
    "duration": 909,
    "start_time": "2024-02-08T11:15:24.478Z"
   },
   {
    "duration": 325,
    "start_time": "2024-02-08T11:16:11.534Z"
   },
   {
    "duration": 4,
    "start_time": "2024-02-08T11:21:48.893Z"
   },
   {
    "duration": 1082,
    "start_time": "2024-02-08T11:21:52.914Z"
   },
   {
    "duration": 4,
    "start_time": "2024-02-08T11:22:49.551Z"
   },
   {
    "duration": 424,
    "start_time": "2024-02-08T11:22:54.225Z"
   },
   {
    "duration": 4,
    "start_time": "2024-02-08T11:23:08.619Z"
   },
   {
    "duration": 438,
    "start_time": "2024-02-08T11:23:13.335Z"
   },
   {
    "duration": 4,
    "start_time": "2024-02-08T11:26:42.688Z"
   },
   {
    "duration": 410,
    "start_time": "2024-02-08T11:26:47.062Z"
   },
   {
    "duration": 4,
    "start_time": "2024-02-08T11:27:00.684Z"
   },
   {
    "duration": 451,
    "start_time": "2024-02-08T11:27:04.168Z"
   },
   {
    "duration": 555,
    "start_time": "2024-02-08T11:32:26.517Z"
   },
   {
    "duration": 453,
    "start_time": "2024-02-08T11:37:04.242Z"
   },
   {
    "duration": 434,
    "start_time": "2024-02-08T11:37:09.717Z"
   },
   {
    "duration": 22,
    "start_time": "2024-02-08T11:40:35.106Z"
   },
   {
    "duration": 674,
    "start_time": "2024-02-08T11:40:49.008Z"
   },
   {
    "duration": 672,
    "start_time": "2024-02-08T11:42:48.095Z"
   },
   {
    "duration": 624,
    "start_time": "2024-02-08T11:42:56.885Z"
   },
   {
    "duration": 489,
    "start_time": "2024-02-08T11:43:09.929Z"
   },
   {
    "duration": 2347,
    "start_time": "2024-02-08T11:46:33.901Z"
   },
   {
    "duration": 1202,
    "start_time": "2024-02-08T11:46:36.250Z"
   },
   {
    "duration": 6,
    "start_time": "2024-02-08T11:46:37.453Z"
   },
   {
    "duration": 5,
    "start_time": "2024-02-08T11:46:37.460Z"
   },
   {
    "duration": 6,
    "start_time": "2024-02-08T11:46:37.467Z"
   },
   {
    "duration": 75,
    "start_time": "2024-02-08T11:46:37.475Z"
   },
   {
    "duration": 79,
    "start_time": "2024-02-08T11:46:37.551Z"
   },
   {
    "duration": 5,
    "start_time": "2024-02-08T11:46:37.631Z"
   },
   {
    "duration": 20,
    "start_time": "2024-02-08T11:46:37.659Z"
   },
   {
    "duration": 612,
    "start_time": "2024-02-08T11:46:37.680Z"
   },
   {
    "duration": 17,
    "start_time": "2024-02-08T11:46:38.293Z"
   },
   {
    "duration": 11,
    "start_time": "2024-02-08T11:46:38.311Z"
   },
   {
    "duration": 13,
    "start_time": "2024-02-08T11:46:38.323Z"
   },
   {
    "duration": 4,
    "start_time": "2024-02-08T11:46:38.339Z"
   },
   {
    "duration": 27,
    "start_time": "2024-02-08T11:46:38.344Z"
   },
   {
    "duration": 7,
    "start_time": "2024-02-08T11:46:38.373Z"
   },
   {
    "duration": 7,
    "start_time": "2024-02-08T11:46:38.381Z"
   },
   {
    "duration": 22,
    "start_time": "2024-02-08T11:46:38.389Z"
   },
   {
    "duration": 8,
    "start_time": "2024-02-08T11:46:38.412Z"
   },
   {
    "duration": 4,
    "start_time": "2024-02-08T11:46:38.421Z"
   },
   {
    "duration": 4,
    "start_time": "2024-02-08T11:46:38.427Z"
   },
   {
    "duration": 41,
    "start_time": "2024-02-08T11:46:38.432Z"
   },
   {
    "duration": 20,
    "start_time": "2024-02-08T11:46:38.474Z"
   },
   {
    "duration": 393,
    "start_time": "2024-02-08T11:46:38.496Z"
   },
   {
    "duration": 335,
    "start_time": "2024-02-08T11:46:38.890Z"
   },
   {
    "duration": 72,
    "start_time": "2024-02-08T11:46:39.226Z"
   },
   {
    "duration": 950,
    "start_time": "2024-02-08T11:46:39.299Z"
   },
   {
    "duration": 100,
    "start_time": "2024-02-08T11:46:40.250Z"
   },
   {
    "duration": 24,
    "start_time": "2024-02-08T11:46:40.352Z"
   },
   {
    "duration": 373,
    "start_time": "2024-02-08T11:46:40.378Z"
   },
   {
    "duration": 20,
    "start_time": "2024-02-08T11:46:40.753Z"
   },
   {
    "duration": 342,
    "start_time": "2024-02-08T11:46:40.774Z"
   },
   {
    "duration": 2197,
    "start_time": "2024-02-08T11:46:41.117Z"
   },
   {
    "duration": 281,
    "start_time": "2024-02-08T11:46:43.315Z"
   },
   {
    "duration": 366,
    "start_time": "2024-02-08T11:46:43.598Z"
   },
   {
    "duration": 564,
    "start_time": "2024-02-08T11:46:43.965Z"
   },
   {
    "duration": 485,
    "start_time": "2024-02-08T11:46:44.532Z"
   },
   {
    "duration": 535,
    "start_time": "2024-02-08T11:46:45.018Z"
   },
   {
    "duration": 542,
    "start_time": "2024-02-08T11:46:45.554Z"
   },
   {
    "duration": 7,
    "start_time": "2024-02-08T11:46:46.098Z"
   },
   {
    "duration": 6,
    "start_time": "2024-02-08T11:46:46.109Z"
   },
   {
    "duration": 9,
    "start_time": "2024-02-08T11:46:46.117Z"
   },
   {
    "duration": 9,
    "start_time": "2024-02-08T11:46:46.128Z"
   },
   {
    "duration": 3028,
    "start_time": "2024-02-08T14:03:43.594Z"
   },
   {
    "duration": 1129,
    "start_time": "2024-02-08T14:03:46.624Z"
   },
   {
    "duration": 4,
    "start_time": "2024-02-08T14:03:47.755Z"
   },
   {
    "duration": 19,
    "start_time": "2024-02-08T14:03:47.761Z"
   },
   {
    "duration": 6,
    "start_time": "2024-02-08T14:03:47.782Z"
   },
   {
    "duration": 115,
    "start_time": "2024-02-08T14:03:47.789Z"
   },
   {
    "duration": 76,
    "start_time": "2024-02-08T14:03:47.906Z"
   },
   {
    "duration": 5,
    "start_time": "2024-02-08T14:03:47.984Z"
   },
   {
    "duration": 39,
    "start_time": "2024-02-08T14:03:47.991Z"
   },
   {
    "duration": 633,
    "start_time": "2024-02-08T14:03:48.033Z"
   },
   {
    "duration": 16,
    "start_time": "2024-02-08T14:03:48.669Z"
   },
   {
    "duration": 8,
    "start_time": "2024-02-08T14:03:48.686Z"
   },
   {
    "duration": 24,
    "start_time": "2024-02-08T14:03:48.695Z"
   },
   {
    "duration": 6,
    "start_time": "2024-02-08T14:03:48.720Z"
   },
   {
    "duration": 11,
    "start_time": "2024-02-08T14:03:48.727Z"
   },
   {
    "duration": 8,
    "start_time": "2024-02-08T14:03:48.739Z"
   },
   {
    "duration": 6,
    "start_time": "2024-02-08T14:03:48.748Z"
   },
   {
    "duration": 24,
    "start_time": "2024-02-08T14:03:48.756Z"
   },
   {
    "duration": 8,
    "start_time": "2024-02-08T14:03:48.781Z"
   },
   {
    "duration": 4,
    "start_time": "2024-02-08T14:03:48.818Z"
   },
   {
    "duration": 6,
    "start_time": "2024-02-08T14:03:48.824Z"
   },
   {
    "duration": 14,
    "start_time": "2024-02-08T14:03:48.831Z"
   },
   {
    "duration": 9,
    "start_time": "2024-02-08T14:03:48.847Z"
   },
   {
    "duration": 413,
    "start_time": "2024-02-08T14:03:48.857Z"
   },
   {
    "duration": 312,
    "start_time": "2024-02-08T14:03:49.271Z"
   },
   {
    "duration": 78,
    "start_time": "2024-02-08T14:03:49.585Z"
   },
   {
    "duration": 920,
    "start_time": "2024-02-08T14:03:49.665Z"
   },
   {
    "duration": 105,
    "start_time": "2024-02-08T14:03:50.588Z"
   },
   {
    "duration": 25,
    "start_time": "2024-02-08T14:03:50.695Z"
   },
   {
    "duration": 364,
    "start_time": "2024-02-08T14:03:50.722Z"
   },
   {
    "duration": 20,
    "start_time": "2024-02-08T14:03:51.088Z"
   },
   {
    "duration": 360,
    "start_time": "2024-02-08T14:03:51.118Z"
   },
   {
    "duration": 1999,
    "start_time": "2024-02-08T14:03:51.480Z"
   },
   {
    "duration": 279,
    "start_time": "2024-02-08T14:03:53.481Z"
   },
   {
    "duration": 366,
    "start_time": "2024-02-08T14:03:53.761Z"
   },
   {
    "duration": 571,
    "start_time": "2024-02-08T14:03:54.129Z"
   },
   {
    "duration": 475,
    "start_time": "2024-02-08T14:03:54.702Z"
   },
   {
    "duration": 550,
    "start_time": "2024-02-08T14:03:55.179Z"
   },
   {
    "duration": 514,
    "start_time": "2024-02-08T14:03:55.731Z"
   },
   {
    "duration": 6,
    "start_time": "2024-02-08T14:03:56.247Z"
   },
   {
    "duration": 5,
    "start_time": "2024-02-08T14:03:56.255Z"
   },
   {
    "duration": 9,
    "start_time": "2024-02-08T14:03:56.262Z"
   },
   {
    "duration": 9,
    "start_time": "2024-02-08T14:03:56.272Z"
   }
  ],
  "kernelspec": {
   "display_name": "Python 3 (ipykernel)",
   "language": "python",
   "name": "python3"
  },
  "language_info": {
   "codemirror_mode": {
    "name": "ipython",
    "version": 3
   },
   "file_extension": ".py",
   "mimetype": "text/x-python",
   "name": "python",
   "nbconvert_exporter": "python",
   "pygments_lexer": "ipython3",
   "version": "3.9.5"
  },
  "toc": {
   "base_numbering": "",
   "nav_menu": {},
   "number_sections": false,
   "sideBar": true,
   "skip_h1_title": true,
   "title_cell": "Содержание",
   "title_sidebar": "Содержание",
   "toc_cell": true,
   "toc_position": {
    "height": "calc(100% - 180px)",
    "left": "10px",
    "top": "150px",
    "width": "165px"
   },
   "toc_section_display": true,
   "toc_window_display": true
  }
 },
 "nbformat": 4,
 "nbformat_minor": 2
}

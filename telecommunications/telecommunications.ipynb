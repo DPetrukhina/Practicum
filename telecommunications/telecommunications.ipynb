{
 "cells": [
  {
   "cell_type": "markdown",
   "id": "1760133f",
   "metadata": {},
   "source": [
    "# Исследование уровня потребительской лояльности телекоммуникационной компании\n",
    "\n",
    "Цель исследования - определить текущий уровень потребительской лояльности (NPS) среди клиентов из России.\n",
    "К задачам исследования можно отнести ответы на следующие вопросы:\n",
    "- Как распределены участники опроса по возрасту и полу? Каких пользователей больше: новых или старых? Пользователи из каких городов активнее участвовали в опросе?\n",
    "- Какие группы пользователей наиболее лояльны к сервису? Какие менее?\n",
    "- Какой общий NPS среди всех опрошенных?\n",
    "- Как можно описать клиентов, которые относятся к группе cторонников (англ. promoters)?"
   ]
  },
  {
   "cell_type": "code",
   "execution_count": 1,
   "id": "fc7efa54",
   "metadata": {},
   "outputs": [],
   "source": [
    "# импорт библиотек и функций\n",
    "import os\n",
    "import pandas as pd\n",
    "import numpy as np\n",
    "\n",
    "from sqlalchemy import create_engine"
   ]
  },
  {
   "cell_type": "code",
   "execution_count": 2,
   "id": "0017f8e7",
   "metadata": {},
   "outputs": [],
   "source": [
    "# подключаемся к БД\n",
    "path_to_db_local = 'telecomm_csi.db'\n",
    "path_to_db_platform = '/datasets/telecomm_csi.db'\n",
    "path_to_db = None\n",
    "\n",
    "if os.path.exists(path_to_db_local):\n",
    "    path_to_db = path_to_db_local\n",
    "elif os.path.exists(path_to_db_platform):\n",
    "    path_to_db = path_to_db_platform\n",
    "else:\n",
    "    raise Exception('Файл с базой данных SQLite не найден!')\n",
    "\n",
    "if path_to_db:\n",
    "    engine = create_engine(f'sqlite:///{path_to_db}', echo=False)"
   ]
  },
  {
   "cell_type": "markdown",
   "id": "cb34a8b3",
   "metadata": {},
   "source": [
    "Предварительно увидев, что в поле `age` имеются пропуски, с помощью оператора `WHERE` исключим их. 0,11% удаленных строк - это незначительный процент, который не повлияет на дальнейшее исследование."
   ]
  },
  {
   "cell_type": "code",
   "execution_count": 3,
   "id": "84ebad43",
   "metadata": {},
   "outputs": [],
   "source": [
    "# формируем sql-запрос, который выгрузит нужные поля\n",
    "query = \"\"\"\n",
    "SELECT u.user_id,\n",
    "       u.lt_day,\n",
    "       CASE \n",
    "           WHEN u.lt_day <= 365 THEN 'Новый'\n",
    "           ELSE 'Существующий'\n",
    "           END AS is_new,\n",
    "       u.age,\n",
    "       CASE \n",
    "           WHEN u.gender_segment == 1 THEN 'Женщина'\n",
    "           WHEN u.gender_segment == 0 THEN 'Мужчина'\n",
    "           ELSE 'Не указан'\n",
    "           END AS gender_segment,\n",
    "       u.os_name,\n",
    "       u.cpe_type_name,\n",
    "       l.country,\n",
    "       l.city,\n",
    "       SUBSTR(age.title, 4) AS age_segment,\n",
    "       SUBSTR(t.title, 4) AS traffic_segment,\n",
    "       SUBSTR(lt.title, 4) AS lifetime_segment,\n",
    "       u.nps_score,\n",
    "       CASE \n",
    "           WHEN u.nps_score >= 9 THEN 'Cторонник'\n",
    "           WHEN u.nps_score >= 7 THEN 'Нейтрал'\n",
    "           ELSE 'Критик'\n",
    "           END AS nps_group\n",
    "FROM user AS u\n",
    "LEFT JOIN location AS l ON u.location_id=l.location_id\n",
    "LEFT JOIN age_segment AS age ON u.age_gr_id=age.age_gr_id\n",
    "LEFT JOIN traffic_segment AS t ON u.tr_gr_id=t.tr_gr_id\n",
    "LEFT JOIN lifetime_segment AS lt ON u.lt_gr_id=lt.lt_gr_id\n",
    "WHERE u.age IS NOT NULL;\n",
    "\"\"\""
   ]
  },
  {
   "cell_type": "code",
   "execution_count": 4,
   "id": "3965faf2",
   "metadata": {},
   "outputs": [
    {
     "data": {
      "text/html": [
       "<div>\n",
       "<style scoped>\n",
       "    .dataframe tbody tr th:only-of-type {\n",
       "        vertical-align: middle;\n",
       "    }\n",
       "\n",
       "    .dataframe tbody tr th {\n",
       "        vertical-align: top;\n",
       "    }\n",
       "\n",
       "    .dataframe thead th {\n",
       "        text-align: right;\n",
       "    }\n",
       "</style>\n",
       "<table border=\"1\" class=\"dataframe\">\n",
       "  <thead>\n",
       "    <tr style=\"text-align: right;\">\n",
       "      <th></th>\n",
       "      <th>user_id</th>\n",
       "      <th>lt_day</th>\n",
       "      <th>is_new</th>\n",
       "      <th>age</th>\n",
       "      <th>gender_segment</th>\n",
       "      <th>os_name</th>\n",
       "      <th>cpe_type_name</th>\n",
       "      <th>country</th>\n",
       "      <th>city</th>\n",
       "      <th>age_segment</th>\n",
       "      <th>traffic_segment</th>\n",
       "      <th>lifetime_segment</th>\n",
       "      <th>nps_score</th>\n",
       "      <th>nps_group</th>\n",
       "    </tr>\n",
       "  </thead>\n",
       "  <tbody>\n",
       "    <tr>\n",
       "      <th>0</th>\n",
       "      <td>A001A2</td>\n",
       "      <td>2320</td>\n",
       "      <td>Существующий</td>\n",
       "      <td>45.0</td>\n",
       "      <td>Женщина</td>\n",
       "      <td>ANDROID</td>\n",
       "      <td>SMARTPHONE</td>\n",
       "      <td>Россия</td>\n",
       "      <td>Уфа</td>\n",
       "      <td>45-54</td>\n",
       "      <td>1-5</td>\n",
       "      <td>36+</td>\n",
       "      <td>10</td>\n",
       "      <td>Cторонник</td>\n",
       "    </tr>\n",
       "    <tr>\n",
       "      <th>1</th>\n",
       "      <td>A001WF</td>\n",
       "      <td>2344</td>\n",
       "      <td>Существующий</td>\n",
       "      <td>53.0</td>\n",
       "      <td>Мужчина</td>\n",
       "      <td>ANDROID</td>\n",
       "      <td>SMARTPHONE</td>\n",
       "      <td>Россия</td>\n",
       "      <td>Киров</td>\n",
       "      <td>45-54</td>\n",
       "      <td>1-5</td>\n",
       "      <td>36+</td>\n",
       "      <td>10</td>\n",
       "      <td>Cторонник</td>\n",
       "    </tr>\n",
       "    <tr>\n",
       "      <th>2</th>\n",
       "      <td>A003Q7</td>\n",
       "      <td>467</td>\n",
       "      <td>Существующий</td>\n",
       "      <td>57.0</td>\n",
       "      <td>Мужчина</td>\n",
       "      <td>ANDROID</td>\n",
       "      <td>SMARTPHONE</td>\n",
       "      <td>Россия</td>\n",
       "      <td>Москва</td>\n",
       "      <td>55-64</td>\n",
       "      <td>20-25</td>\n",
       "      <td>13-24</td>\n",
       "      <td>10</td>\n",
       "      <td>Cторонник</td>\n",
       "    </tr>\n",
       "    <tr>\n",
       "      <th>3</th>\n",
       "      <td>A004TB</td>\n",
       "      <td>4190</td>\n",
       "      <td>Существующий</td>\n",
       "      <td>44.0</td>\n",
       "      <td>Женщина</td>\n",
       "      <td>IOS</td>\n",
       "      <td>SMARTPHONE</td>\n",
       "      <td>Россия</td>\n",
       "      <td>РостовнаДону</td>\n",
       "      <td>35-44</td>\n",
       "      <td>0.1-1</td>\n",
       "      <td>36+</td>\n",
       "      <td>10</td>\n",
       "      <td>Cторонник</td>\n",
       "    </tr>\n",
       "    <tr>\n",
       "      <th>4</th>\n",
       "      <td>A004XT</td>\n",
       "      <td>1163</td>\n",
       "      <td>Существующий</td>\n",
       "      <td>24.0</td>\n",
       "      <td>Мужчина</td>\n",
       "      <td>ANDROID</td>\n",
       "      <td>SMARTPHONE</td>\n",
       "      <td>Россия</td>\n",
       "      <td>Рязань</td>\n",
       "      <td>16-24</td>\n",
       "      <td>5-10</td>\n",
       "      <td>36+</td>\n",
       "      <td>10</td>\n",
       "      <td>Cторонник</td>\n",
       "    </tr>\n",
       "  </tbody>\n",
       "</table>\n",
       "</div>"
      ],
      "text/plain": [
       "  user_id  lt_day        is_new   age gender_segment  os_name cpe_type_name  \\\n",
       "0  A001A2    2320  Существующий  45.0        Женщина  ANDROID    SMARTPHONE   \n",
       "1  A001WF    2344  Существующий  53.0        Мужчина  ANDROID    SMARTPHONE   \n",
       "2  A003Q7     467  Существующий  57.0        Мужчина  ANDROID    SMARTPHONE   \n",
       "3  A004TB    4190  Существующий  44.0        Женщина      IOS    SMARTPHONE   \n",
       "4  A004XT    1163  Существующий  24.0        Мужчина  ANDROID    SMARTPHONE   \n",
       "\n",
       "  country          city age_segment traffic_segment lifetime_segment  \\\n",
       "0  Россия           Уфа       45-54             1-5              36+   \n",
       "1  Россия         Киров       45-54             1-5              36+   \n",
       "2  Россия        Москва       55-64           20-25            13-24   \n",
       "3  Россия  РостовнаДону       35-44           0.1-1              36+   \n",
       "4  Россия        Рязань       16-24            5-10              36+   \n",
       "\n",
       "   nps_score  nps_group  \n",
       "0         10  Cторонник  \n",
       "1         10  Cторонник  \n",
       "2         10  Cторонник  \n",
       "3         10  Cторонник  \n",
       "4         10  Cторонник  "
      ]
     },
     "execution_count": 4,
     "metadata": {},
     "output_type": "execute_result"
    }
   ],
   "source": [
    "# выполняем запрос, сохраняем результат выполнения в DataFrame и выводим первые 5 строк на экран\n",
    "df = pd.read_sql(query, engine)\n",
    "df.head(5)"
   ]
  },
  {
   "cell_type": "code",
   "execution_count": 5,
   "id": "b5f84d51",
   "metadata": {},
   "outputs": [
    {
     "name": "stdout",
     "output_type": "stream",
     "text": [
      "<class 'pandas.core.frame.DataFrame'>\n",
      "RangeIndex: 501939 entries, 0 to 501938\n",
      "Data columns (total 14 columns):\n",
      " #   Column            Non-Null Count   Dtype  \n",
      "---  ------            --------------   -----  \n",
      " 0   user_id           501939 non-null  object \n",
      " 1   lt_day            501939 non-null  int64  \n",
      " 2   is_new            501939 non-null  object \n",
      " 3   age               501939 non-null  float64\n",
      " 4   gender_segment    501939 non-null  object \n",
      " 5   os_name           501939 non-null  object \n",
      " 6   cpe_type_name     501939 non-null  object \n",
      " 7   country           501939 non-null  object \n",
      " 8   city              501939 non-null  object \n",
      " 9   age_segment       501939 non-null  object \n",
      " 10  traffic_segment   501939 non-null  object \n",
      " 11  lifetime_segment  501939 non-null  object \n",
      " 12  nps_score         501939 non-null  int64  \n",
      " 13  nps_group         501939 non-null  object \n",
      "dtypes: float64(1), int64(2), object(11)\n",
      "memory usage: 53.6+ MB\n"
     ]
    }
   ],
   "source": [
    "# изучим DataFrame\n",
    "df.info()"
   ]
  },
  {
   "cell_type": "markdown",
   "id": "19228753",
   "metadata": {},
   "source": [
    "В таблице 14 столбцов с данными разных типов:\n",
    "\n",
    "* `user_id` — идентификатор клиента;\n",
    "* `lt_day` — количество дней «жизни» клиента;\n",
    "* `is_new` — поле хранит информацию о том, является ли клиент новым;\n",
    "* `age` — возраст;\n",
    "* `gender_segment` — пол;\n",
    "* `os_name` — тип операционной системы;\n",
    "* `cpe_type_name` — тип устройства;\n",
    "* `country` — страна проживания;\n",
    "* `city` — город проживания;\n",
    "* `age_segment` — возрастной сегмент;\n",
    "* `traffic_segment` — сегмент по объёму потребляемого трафика;\n",
    "* `lifetime_segment` — сегмент по количеству дней «жизни»;\n",
    "* `nps_score` — оценка клиента в NPS-опросе;\n",
    "* `nps_group` — поле хранит информацию о том, к какой группе относится оценка клиента в опросе."
   ]
  },
  {
   "cell_type": "code",
   "execution_count": 6,
   "id": "9db04858",
   "metadata": {},
   "outputs": [],
   "source": [
    "# сохраним DataFrame в csv-файл\n",
    "df.to_csv('telecomm_csi_tableau.csv', index=False)"
   ]
  },
  {
   "cell_type": "markdown",
   "id": "8eae582f",
   "metadata": {},
   "source": [
    "## [Ссылка на дашборды и презентацию на сайте Tableau Public](https://public.tableau.com/views/_16927819625830/sheet16?:language=en-US&publish=yes&:display_count=n&:origin=viz_share_link)"
   ]
  }
 ],
 "metadata": {
  "ExecuteTimeLog": [
   {
    "duration": 524,
    "start_time": "2023-08-23T07:44:55.019Z"
   },
   {
    "duration": 85,
    "start_time": "2023-08-23T07:44:57.440Z"
   },
   {
    "duration": 5,
    "start_time": "2023-08-23T07:44:59.035Z"
   },
   {
    "duration": 816,
    "start_time": "2023-08-23T07:45:00.530Z"
   },
   {
    "duration": 3,
    "start_time": "2023-08-23T07:45:33.546Z"
   },
   {
    "duration": 6191,
    "start_time": "2023-08-23T07:45:38.535Z"
   },
   {
    "duration": 642,
    "start_time": "2023-08-23T07:46:56.299Z"
   },
   {
    "duration": 4,
    "start_time": "2023-08-23T07:49:03.387Z"
   },
   {
    "duration": 5915,
    "start_time": "2023-08-23T07:49:03.802Z"
   },
   {
    "duration": 609,
    "start_time": "2023-08-23T07:49:25.186Z"
   },
   {
    "duration": 6,
    "start_time": "2023-08-23T07:50:06.975Z"
   },
   {
    "duration": 6294,
    "start_time": "2023-08-23T07:50:07.564Z"
   },
   {
    "duration": 663,
    "start_time": "2023-08-23T07:50:13.860Z"
   },
   {
    "duration": 4,
    "start_time": "2023-08-23T07:51:10.703Z"
   },
   {
    "duration": 6296,
    "start_time": "2023-08-23T07:51:11.186Z"
   },
   {
    "duration": 655,
    "start_time": "2023-08-23T07:51:17.484Z"
   },
   {
    "duration": 4987,
    "start_time": "2023-08-23T07:52:48.690Z"
   },
   {
    "duration": 4733,
    "start_time": "2023-08-23T07:57:09.518Z"
   },
   {
    "duration": 63,
    "start_time": "2023-08-23T07:58:54.886Z"
   },
   {
    "duration": 15,
    "start_time": "2023-08-23T07:59:06.392Z"
   },
   {
    "duration": 4490,
    "start_time": "2023-08-23T08:00:13.368Z"
   },
   {
    "duration": 12,
    "start_time": "2023-08-23T08:06:39.124Z"
   },
   {
    "duration": 4399,
    "start_time": "2023-08-23T08:16:18.958Z"
   },
   {
    "duration": 465,
    "start_time": "2023-08-25T13:20:28.588Z"
   },
   {
    "duration": 116,
    "start_time": "2023-08-25T13:20:29.055Z"
   },
   {
    "duration": 3,
    "start_time": "2023-08-25T13:20:29.173Z"
   },
   {
    "duration": 5750,
    "start_time": "2023-08-25T13:20:29.178Z"
   },
   {
    "duration": 545,
    "start_time": "2023-08-25T13:20:34.933Z"
   },
   {
    "duration": 4550,
    "start_time": "2023-08-25T13:20:35.481Z"
   }
  ],
  "kernelspec": {
   "display_name": "Python 3 (ipykernel)",
   "language": "python",
   "name": "python3"
  },
  "language_info": {
   "codemirror_mode": {
    "name": "ipython",
    "version": 3
   },
   "file_extension": ".py",
   "mimetype": "text/x-python",
   "name": "python",
   "nbconvert_exporter": "python",
   "pygments_lexer": "ipython3",
   "version": "3.9.5"
  },
  "toc": {
   "base_numbering": 1,
   "nav_menu": {},
   "number_sections": false,
   "sideBar": true,
   "skip_h1_title": true,
   "title_cell": "Table of Contents",
   "title_sidebar": "Contents",
   "toc_cell": false,
   "toc_position": {
    "height": "calc(100% - 180px)",
    "left": "10px",
    "top": "150px",
    "width": "210.7px"
   },
   "toc_section_display": true,
   "toc_window_display": true
  }
 },
 "nbformat": 4,
 "nbformat_minor": 5
}

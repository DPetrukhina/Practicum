{
 "cells": [
  {
   "cell_type": "markdown",
   "id": "4ec2bf2f",
   "metadata": {},
   "source": [
    "# Анализ сервиса аренды самокатов GoFast\n",
    "\n",
    "## Описание проекта\n",
    "Цель проекта: проанализировать данные сервиса аренды самокатов GoFast и проверить некоторые гипотезы, которые могут помочь бизнесу вырасти.\n",
    "### Вводная информация\n",
    "Чтобы совершать поездки по городу, пользователи сервиса GoFast пользуются мобильным приложением. Сервисом можно пользоваться:\n",
    "   * без подписки\n",
    "- абонентская плата отсутствует;\n",
    "- стоимость одной минуты поездки — 8 рублей;\n",
    "- стоимость старта (начала поездки) — 50 рублей;\n",
    "   * с подпиской Ultra\n",
    "- абонентская плата — 199 рублей в месяц;\n",
    "- стоимость одной минуты поездки — 6 рублей;\n",
    "- стоимость старта — бесплатно.\n",
    "\n",
    "### Данные таблиц\n",
    "\n",
    "Пользователи — `users_go.csv`\n",
    "\n",
    "* `user_id` — уникальный идентификатор пользователя;\n",
    "* `name` — имя пользователя;\n",
    "* `age` — возраст пользователя;\n",
    "* `city` — город пользователя;\n",
    "* `subscription_type` — тип подписки (`free`, `ultra`).\n",
    "\n",
    "Поездки — `rides_go.csv`\n",
    "\n",
    "* `user_id` — уникальный идентификатор пользователя;\n",
    "* `distance` — расстояние, которое пользователь проехал в текущей сессии (в метрах);\n",
    "* `duration` — продолжительность сессии (в минутах) — время с того момента, как пользователь нажал кнопку «Начать поездку» до момента, как он нажал кнопку «Завершить поездку»;\n",
    "* `date` — дата совершения поездки.\n",
    "\n",
    "Подписки — `subscriptions_go.csv`\n",
    "\n",
    "* `subscription_type` — тип подписки;\n",
    "* `minute_price` — стоимость одной минуты поездки по данной подписке;\n",
    "* `start_ride_price` — стоимость начала поездки;\n",
    "* `subscription_fee` — стоимость ежемесячного платёж."
   ]
  },
  {
   "cell_type": "markdown",
   "id": "a5df5f84",
   "metadata": {
    "toc": true
   },
   "source": [
    "<h1>Содержание<span class=\"tocSkip\"></span></h1>\n",
    "<div class=\"toc\"><ul class=\"toc-item\"><li><span><a href=\"#Описание-проекта\" data-toc-modified-id=\"Описание-проекта-1\">Описание проекта</a></span><ul class=\"toc-item\"><li><span><a href=\"#Вводная-информация\" data-toc-modified-id=\"Вводная-информация-1.1\">Вводная информация</a></span></li><li><span><a href=\"#Данные-таблиц\" data-toc-modified-id=\"Данные-таблиц-1.2\">Данные таблиц</a></span></li></ul></li><li><span><a href=\"#Шаг-1.-Загрузка-данных\" data-toc-modified-id=\"Шаг-1.-Загрузка-данных-2\">Шаг 1. Загрузка данных</a></span></li><li><span><a href=\"#Шаг-2.-Предобработка-данных\" data-toc-modified-id=\"Шаг-2.-Предобработка-данных-3\">Шаг 2. Предобработка данных</a></span></li><li><span><a href=\"#Шаг-3.-Исследовательский-анализ-данных\" data-toc-modified-id=\"Шаг-3.-Исследовательский-анализ-данных-4\">Шаг 3. Исследовательский анализ данных</a></span><ul class=\"toc-item\"><li><span><a href=\"#Функции\" data-toc-modified-id=\"Функции-4.1\">Функции</a></span></li><li><span><a href=\"#Города-пользователей\" data-toc-modified-id=\"Города-пользователей-4.2\">Города пользователей</a></span></li><li><span><a href=\"#Типы-подписок-пользоватлей\" data-toc-modified-id=\"Типы-подписок-пользоватлей-4.3\">Типы подписок пользоватлей</a></span></li><li><span><a href=\"#Распределение-пользователей-по-возрастам\" data-toc-modified-id=\"Распределение-пользователей-по-возрастам-4.4\">Распределение пользователей по возрастам</a></span></li><li><span><a href=\"#Распределение-количества-поездок-по-их-дистанции\" data-toc-modified-id=\"Распределение-количества-поездок-по-их-дистанции-4.5\">Распределение количества поездок по их дистанции</a></span></li><li><span><a href=\"#Распределение-количества-поездок-по-их-продолжительности\" data-toc-modified-id=\"Распределение-количества-поездок-по-их-продолжительности-4.6\">Распределение количества поездок по их продолжительности</a></span></li></ul></li><li><span><a href=\"#Шаг-4.-Объединение-данных\" data-toc-modified-id=\"Шаг-4.-Объединение-данных-5\">Шаг 4. Объединение данных</a></span><ul class=\"toc-item\"><li><span><a href=\"#Анализ-объединённых-данных\" data-toc-modified-id=\"Анализ-объединённых-данных-5.1\">Анализ объединённых данных</a></span></li></ul></li><li><span><a href=\"#Шаг-5.-Подсчёт-выручки\" data-toc-modified-id=\"Шаг-5.-Подсчёт-выручки-6\">Шаг 5. Подсчёт выручки</a></span></li><li><span><a href=\"#Шаг-6.-Проверка-гипотез\" data-toc-modified-id=\"Шаг-6.-Проверка-гипотез-7\">Шаг 6. Проверка гипотез</a></span><ul class=\"toc-item\"><li><span><a href=\"#Гипотеза-1\" data-toc-modified-id=\"Гипотеза-1-7.1\">Гипотеза 1</a></span></li><li><span><a href=\"#Гипотеза-2\" data-toc-modified-id=\"Гипотеза-2-7.2\">Гипотеза 2</a></span></li><li><span><a href=\"#Гипотеза-3\" data-toc-modified-id=\"Гипотеза-3-7.3\">Гипотеза 3</a></span></li><li><span><a href=\"#Ситуация\" data-toc-modified-id=\"Ситуация-7.4\">Ситуация</a></span></li></ul></li><li><span><a href=\"#Шаг-7.-Распределения\" data-toc-modified-id=\"Шаг-7.-Распределения-8\">Шаг 7. Распределения</a></span></li><li><span><a href=\"#Шаг-8.-Общий-вывод\" data-toc-modified-id=\"Шаг-8.-Общий-вывод-9\">Шаг 8. Общий вывод</a></span></li></ul></div>"
   ]
  },
  {
   "cell_type": "markdown",
   "id": "c42cbe00",
   "metadata": {},
   "source": [
    "## Шаг 1. Загрузка данных"
   ]
  },
  {
   "cell_type": "code",
   "execution_count": 1,
   "id": "72576667",
   "metadata": {},
   "outputs": [],
   "source": [
    "# импорт библиотек\n",
    "import pandas as pd\n",
    "import numpy as np\n",
    "import matplotlib.pyplot as plt\n",
    "import seaborn as sns\n",
    "import plotly.express as px\n",
    "from scipy import stats as st\n",
    "from scipy.stats import binom, norm\n",
    "from math import factorial\n",
    "from math import sqrt\n",
    "pd.set_option('display.max_columns', None) # снимаем ограничение на количество столбцов\n",
    "pd.set_option('display.max_colwidth', None) # снимаем ограничение на ширину столбцов"
   ]
  },
  {
   "cell_type": "code",
   "execution_count": 2,
   "id": "eff9f206",
   "metadata": {},
   "outputs": [],
   "source": [
    "# загрузка таблиц\n",
    "users = pd.read_csv('/datasets/users_go.csv')\n",
    "riders = pd.read_csv('/datasets/rides_go.csv')\n",
    "subs = pd.read_csv('/datasets/subscriptions_go.csv')"
   ]
  },
  {
   "cell_type": "code",
   "execution_count": 3,
   "id": "3977d59f",
   "metadata": {
    "scrolled": true
   },
   "outputs": [
    {
     "data": {
      "text/html": [
       "<div>\n",
       "<style scoped>\n",
       "    .dataframe tbody tr th:only-of-type {\n",
       "        vertical-align: middle;\n",
       "    }\n",
       "\n",
       "    .dataframe tbody tr th {\n",
       "        vertical-align: top;\n",
       "    }\n",
       "\n",
       "    .dataframe thead th {\n",
       "        text-align: right;\n",
       "    }\n",
       "</style>\n",
       "<table border=\"1\" class=\"dataframe\">\n",
       "  <thead>\n",
       "    <tr style=\"text-align: right;\">\n",
       "      <th></th>\n",
       "      <th>user_id</th>\n",
       "      <th>name</th>\n",
       "      <th>age</th>\n",
       "      <th>city</th>\n",
       "      <th>subscription_type</th>\n",
       "    </tr>\n",
       "  </thead>\n",
       "  <tbody>\n",
       "    <tr>\n",
       "      <th>0</th>\n",
       "      <td>1</td>\n",
       "      <td>Кира</td>\n",
       "      <td>22</td>\n",
       "      <td>Тюмень</td>\n",
       "      <td>ultra</td>\n",
       "    </tr>\n",
       "    <tr>\n",
       "      <th>1</th>\n",
       "      <td>2</td>\n",
       "      <td>Станислав</td>\n",
       "      <td>31</td>\n",
       "      <td>Омск</td>\n",
       "      <td>ultra</td>\n",
       "    </tr>\n",
       "    <tr>\n",
       "      <th>2</th>\n",
       "      <td>3</td>\n",
       "      <td>Алексей</td>\n",
       "      <td>20</td>\n",
       "      <td>Москва</td>\n",
       "      <td>ultra</td>\n",
       "    </tr>\n",
       "    <tr>\n",
       "      <th>3</th>\n",
       "      <td>4</td>\n",
       "      <td>Константин</td>\n",
       "      <td>26</td>\n",
       "      <td>Ростов-на-Дону</td>\n",
       "      <td>ultra</td>\n",
       "    </tr>\n",
       "    <tr>\n",
       "      <th>4</th>\n",
       "      <td>5</td>\n",
       "      <td>Адель</td>\n",
       "      <td>28</td>\n",
       "      <td>Омск</td>\n",
       "      <td>ultra</td>\n",
       "    </tr>\n",
       "  </tbody>\n",
       "</table>\n",
       "</div>"
      ],
      "text/plain": [
       "   user_id        name  age            city subscription_type\n",
       "0        1        Кира   22          Тюмень             ultra\n",
       "1        2   Станислав   31            Омск             ultra\n",
       "2        3     Алексей   20          Москва             ultra\n",
       "3        4  Константин   26  Ростов-на-Дону             ultra\n",
       "4        5       Адель   28            Омск             ultra"
      ]
     },
     "metadata": {},
     "output_type": "display_data"
    },
    {
     "name": "stdout",
     "output_type": "stream",
     "text": [
      "<class 'pandas.core.frame.DataFrame'>\n",
      "RangeIndex: 1565 entries, 0 to 1564\n",
      "Data columns (total 5 columns):\n",
      " #   Column             Non-Null Count  Dtype \n",
      "---  ------             --------------  ----- \n",
      " 0   user_id            1565 non-null   int64 \n",
      " 1   name               1565 non-null   object\n",
      " 2   age                1565 non-null   int64 \n",
      " 3   city               1565 non-null   object\n",
      " 4   subscription_type  1565 non-null   object\n",
      "dtypes: int64(2), object(3)\n",
      "memory usage: 61.3+ KB\n"
     ]
    },
    {
     "data": {
      "text/plain": [
       "None"
      ]
     },
     "metadata": {},
     "output_type": "display_data"
    },
    {
     "data": {
      "text/html": [
       "<div>\n",
       "<style scoped>\n",
       "    .dataframe tbody tr th:only-of-type {\n",
       "        vertical-align: middle;\n",
       "    }\n",
       "\n",
       "    .dataframe tbody tr th {\n",
       "        vertical-align: top;\n",
       "    }\n",
       "\n",
       "    .dataframe thead th {\n",
       "        text-align: right;\n",
       "    }\n",
       "</style>\n",
       "<table border=\"1\" class=\"dataframe\">\n",
       "  <thead>\n",
       "    <tr style=\"text-align: right;\">\n",
       "      <th></th>\n",
       "      <th>user_id</th>\n",
       "      <th>age</th>\n",
       "    </tr>\n",
       "  </thead>\n",
       "  <tbody>\n",
       "    <tr>\n",
       "      <th>count</th>\n",
       "      <td>1565.000000</td>\n",
       "      <td>1565.000000</td>\n",
       "    </tr>\n",
       "    <tr>\n",
       "      <th>mean</th>\n",
       "      <td>762.633866</td>\n",
       "      <td>24.922045</td>\n",
       "    </tr>\n",
       "    <tr>\n",
       "      <th>std</th>\n",
       "      <td>443.260155</td>\n",
       "      <td>4.553496</td>\n",
       "    </tr>\n",
       "    <tr>\n",
       "      <th>min</th>\n",
       "      <td>1.000000</td>\n",
       "      <td>12.000000</td>\n",
       "    </tr>\n",
       "    <tr>\n",
       "      <th>25%</th>\n",
       "      <td>378.000000</td>\n",
       "      <td>22.000000</td>\n",
       "    </tr>\n",
       "    <tr>\n",
       "      <th>50%</th>\n",
       "      <td>762.000000</td>\n",
       "      <td>25.000000</td>\n",
       "    </tr>\n",
       "    <tr>\n",
       "      <th>75%</th>\n",
       "      <td>1146.000000</td>\n",
       "      <td>28.000000</td>\n",
       "    </tr>\n",
       "    <tr>\n",
       "      <th>max</th>\n",
       "      <td>1534.000000</td>\n",
       "      <td>43.000000</td>\n",
       "    </tr>\n",
       "  </tbody>\n",
       "</table>\n",
       "</div>"
      ],
      "text/plain": [
       "           user_id          age\n",
       "count  1565.000000  1565.000000\n",
       "mean    762.633866    24.922045\n",
       "std     443.260155     4.553496\n",
       "min       1.000000    12.000000\n",
       "25%     378.000000    22.000000\n",
       "50%     762.000000    25.000000\n",
       "75%    1146.000000    28.000000\n",
       "max    1534.000000    43.000000"
      ]
     },
     "metadata": {},
     "output_type": "display_data"
    },
    {
     "data": {
      "image/png": "[encoded data removed]",
      "text/plain": [
       "<Figure size 576x360 with 1 Axes>"
      ]
     },
     "metadata": {},
     "output_type": "display_data"
    }
   ],
   "source": [
    "display(users.head())\n",
    "display(users.info())\n",
    "display(users.describe())\n",
    "\n",
    "# устанавливаем стиль графиков\n",
    "sns.set_style('whitegrid')\n",
    "sns.set_palette('summer')\n",
    "\n",
    "users['age'].hist(figsize=(8, 5))\n",
    "plt.show()"
   ]
  },
  {
   "cell_type": "markdown",
   "id": "de84cc87",
   "metadata": {},
   "source": [
    "Таблица `users` состоит из 5 колонок, не имеет пропусков. Все типы данных соответствуют необходимым. Данные возраста имеют нормальное распределение. Самые многочисленные категории пользователей в возрасте от 20 до 30 лет (минимальный возраст - 12 лет, а максимальный - 43 года)."
   ]
  },
  {
   "cell_type": "code",
   "execution_count": 4,
   "id": "ce82ee1c",
   "metadata": {
    "scrolled": true
   },
   "outputs": [
    {
     "data": {
      "text/html": [
       "<div>\n",
       "<style scoped>\n",
       "    .dataframe tbody tr th:only-of-type {\n",
       "        vertical-align: middle;\n",
       "    }\n",
       "\n",
       "    .dataframe tbody tr th {\n",
       "        vertical-align: top;\n",
       "    }\n",
       "\n",
       "    .dataframe thead th {\n",
       "        text-align: right;\n",
       "    }\n",
       "</style>\n",
       "<table border=\"1\" class=\"dataframe\">\n",
       "  <thead>\n",
       "    <tr style=\"text-align: right;\">\n",
       "      <th></th>\n",
       "      <th>user_id</th>\n",
       "      <th>distance</th>\n",
       "      <th>duration</th>\n",
       "      <th>date</th>\n",
       "    </tr>\n",
       "  </thead>\n",
       "  <tbody>\n",
       "    <tr>\n",
       "      <th>0</th>\n",
       "      <td>1</td>\n",
       "      <td>4409.919140</td>\n",
       "      <td>25.599769</td>\n",
       "      <td>2021-01-01</td>\n",
       "    </tr>\n",
       "    <tr>\n",
       "      <th>1</th>\n",
       "      <td>1</td>\n",
       "      <td>2617.592153</td>\n",
       "      <td>15.816871</td>\n",
       "      <td>2021-01-18</td>\n",
       "    </tr>\n",
       "    <tr>\n",
       "      <th>2</th>\n",
       "      <td>1</td>\n",
       "      <td>754.159807</td>\n",
       "      <td>6.232113</td>\n",
       "      <td>2021-04-20</td>\n",
       "    </tr>\n",
       "    <tr>\n",
       "      <th>3</th>\n",
       "      <td>1</td>\n",
       "      <td>2694.783254</td>\n",
       "      <td>18.511000</td>\n",
       "      <td>2021-08-11</td>\n",
       "    </tr>\n",
       "    <tr>\n",
       "      <th>4</th>\n",
       "      <td>1</td>\n",
       "      <td>4028.687306</td>\n",
       "      <td>26.265803</td>\n",
       "      <td>2021-08-28</td>\n",
       "    </tr>\n",
       "  </tbody>\n",
       "</table>\n",
       "</div>"
      ],
      "text/plain": [
       "   user_id     distance   duration        date\n",
       "0        1  4409.919140  25.599769  2021-01-01\n",
       "1        1  2617.592153  15.816871  2021-01-18\n",
       "2        1   754.159807   6.232113  2021-04-20\n",
       "3        1  2694.783254  18.511000  2021-08-11\n",
       "4        1  4028.687306  26.265803  2021-08-28"
      ]
     },
     "metadata": {},
     "output_type": "display_data"
    },
    {
     "name": "stdout",
     "output_type": "stream",
     "text": [
      "<class 'pandas.core.frame.DataFrame'>\n",
      "RangeIndex: 18068 entries, 0 to 18067\n",
      "Data columns (total 4 columns):\n",
      " #   Column    Non-Null Count  Dtype  \n",
      "---  ------    --------------  -----  \n",
      " 0   user_id   18068 non-null  int64  \n",
      " 1   distance  18068 non-null  float64\n",
      " 2   duration  18068 non-null  float64\n",
      " 3   date      18068 non-null  object \n",
      "dtypes: float64(2), int64(1), object(1)\n",
      "memory usage: 564.8+ KB\n"
     ]
    },
    {
     "data": {
      "text/plain": [
       "None"
      ]
     },
     "metadata": {},
     "output_type": "display_data"
    },
    {
     "data": {
      "text/html": [
       "<div>\n",
       "<style scoped>\n",
       "    .dataframe tbody tr th:only-of-type {\n",
       "        vertical-align: middle;\n",
       "    }\n",
       "\n",
       "    .dataframe tbody tr th {\n",
       "        vertical-align: top;\n",
       "    }\n",
       "\n",
       "    .dataframe thead th {\n",
       "        text-align: right;\n",
       "    }\n",
       "</style>\n",
       "<table border=\"1\" class=\"dataframe\">\n",
       "  <thead>\n",
       "    <tr style=\"text-align: right;\">\n",
       "      <th></th>\n",
       "      <th>user_id</th>\n",
       "      <th>distance</th>\n",
       "      <th>duration</th>\n",
       "    </tr>\n",
       "  </thead>\n",
       "  <tbody>\n",
       "    <tr>\n",
       "      <th>count</th>\n",
       "      <td>18068.000000</td>\n",
       "      <td>18068.000000</td>\n",
       "      <td>18068.000000</td>\n",
       "    </tr>\n",
       "    <tr>\n",
       "      <th>mean</th>\n",
       "      <td>842.869936</td>\n",
       "      <td>3070.659976</td>\n",
       "      <td>17.805011</td>\n",
       "    </tr>\n",
       "    <tr>\n",
       "      <th>std</th>\n",
       "      <td>434.734317</td>\n",
       "      <td>1116.831209</td>\n",
       "      <td>6.091051</td>\n",
       "    </tr>\n",
       "    <tr>\n",
       "      <th>min</th>\n",
       "      <td>1.000000</td>\n",
       "      <td>0.855683</td>\n",
       "      <td>0.500000</td>\n",
       "    </tr>\n",
       "    <tr>\n",
       "      <th>25%</th>\n",
       "      <td>487.000000</td>\n",
       "      <td>2543.226360</td>\n",
       "      <td>13.597563</td>\n",
       "    </tr>\n",
       "    <tr>\n",
       "      <th>50%</th>\n",
       "      <td>889.000000</td>\n",
       "      <td>3133.609994</td>\n",
       "      <td>17.678395</td>\n",
       "    </tr>\n",
       "    <tr>\n",
       "      <th>75%</th>\n",
       "      <td>1213.250000</td>\n",
       "      <td>3776.222735</td>\n",
       "      <td>21.724800</td>\n",
       "    </tr>\n",
       "    <tr>\n",
       "      <th>max</th>\n",
       "      <td>1534.000000</td>\n",
       "      <td>7211.007745</td>\n",
       "      <td>40.823963</td>\n",
       "    </tr>\n",
       "  </tbody>\n",
       "</table>\n",
       "</div>"
      ],
      "text/plain": [
       "            user_id      distance      duration\n",
       "count  18068.000000  18068.000000  18068.000000\n",
       "mean     842.869936   3070.659976     17.805011\n",
       "std      434.734317   1116.831209      6.091051\n",
       "min        1.000000      0.855683      0.500000\n",
       "25%      487.000000   2543.226360     13.597563\n",
       "50%      889.000000   3133.609994     17.678395\n",
       "75%     1213.250000   3776.222735     21.724800\n",
       "max     1534.000000   7211.007745     40.823963"
      ]
     },
     "metadata": {},
     "output_type": "display_data"
    },
    {
     "data": {
      "image/png": "[encoded data removed]",
      "text/plain": [
       "<Figure size 1008x576 with 2 Axes>"
      ]
     },
     "metadata": {},
     "output_type": "display_data"
    }
   ],
   "source": [
    "display(riders.head())\n",
    "display(riders.info())\n",
    "display(riders.describe())\n",
    "riders[['distance', 'duration', 'date']].hist(figsize=(14, 8))\n",
    "plt.show()"
   ]
  },
  {
   "cell_type": "markdown",
   "id": "a7791b15",
   "metadata": {},
   "source": [
    "Таблица с данными о поездках содержит 4 колонки, не имеет пропусков. Столбец с информацией о дате поездки нуждается в изменении типа данных. Данные о расстоянии и времени 1 поездки имеют нормальное распределение. В среднем пользователи проезжают чуть больше 3 км за 1 поездку, а времени на это затрачивается от 15 до 20 минут."
   ]
  },
  {
   "cell_type": "code",
   "execution_count": 5,
   "id": "3a7650cd",
   "metadata": {},
   "outputs": [
    {
     "data": {
      "text/html": [
       "<div>\n",
       "<style scoped>\n",
       "    .dataframe tbody tr th:only-of-type {\n",
       "        vertical-align: middle;\n",
       "    }\n",
       "\n",
       "    .dataframe tbody tr th {\n",
       "        vertical-align: top;\n",
       "    }\n",
       "\n",
       "    .dataframe thead th {\n",
       "        text-align: right;\n",
       "    }\n",
       "</style>\n",
       "<table border=\"1\" class=\"dataframe\">\n",
       "  <thead>\n",
       "    <tr style=\"text-align: right;\">\n",
       "      <th></th>\n",
       "      <th>subscription_type</th>\n",
       "      <th>minute_price</th>\n",
       "      <th>start_ride_price</th>\n",
       "      <th>subscription_fee</th>\n",
       "    </tr>\n",
       "  </thead>\n",
       "  <tbody>\n",
       "    <tr>\n",
       "      <th>0</th>\n",
       "      <td>free</td>\n",
       "      <td>8</td>\n",
       "      <td>50</td>\n",
       "      <td>0</td>\n",
       "    </tr>\n",
       "    <tr>\n",
       "      <th>1</th>\n",
       "      <td>ultra</td>\n",
       "      <td>6</td>\n",
       "      <td>0</td>\n",
       "      <td>199</td>\n",
       "    </tr>\n",
       "  </tbody>\n",
       "</table>\n",
       "</div>"
      ],
      "text/plain": [
       "  subscription_type  minute_price  start_ride_price  subscription_fee\n",
       "0              free             8                50                 0\n",
       "1             ultra             6                 0               199"
      ]
     },
     "metadata": {},
     "output_type": "display_data"
    },
    {
     "name": "stdout",
     "output_type": "stream",
     "text": [
      "<class 'pandas.core.frame.DataFrame'>\n",
      "RangeIndex: 2 entries, 0 to 1\n",
      "Data columns (total 4 columns):\n",
      " #   Column             Non-Null Count  Dtype \n",
      "---  ------             --------------  ----- \n",
      " 0   subscription_type  2 non-null      object\n",
      " 1   minute_price       2 non-null      int64 \n",
      " 2   start_ride_price   2 non-null      int64 \n",
      " 3   subscription_fee   2 non-null      int64 \n",
      "dtypes: int64(3), object(1)\n",
      "memory usage: 192.0+ bytes\n"
     ]
    },
    {
     "data": {
      "text/plain": [
       "None"
      ]
     },
     "metadata": {},
     "output_type": "display_data"
    },
    {
     "data": {
      "text/html": [
       "<div>\n",
       "<style scoped>\n",
       "    .dataframe tbody tr th:only-of-type {\n",
       "        vertical-align: middle;\n",
       "    }\n",
       "\n",
       "    .dataframe tbody tr th {\n",
       "        vertical-align: top;\n",
       "    }\n",
       "\n",
       "    .dataframe thead th {\n",
       "        text-align: right;\n",
       "    }\n",
       "</style>\n",
       "<table border=\"1\" class=\"dataframe\">\n",
       "  <thead>\n",
       "    <tr style=\"text-align: right;\">\n",
       "      <th></th>\n",
       "      <th>minute_price</th>\n",
       "      <th>start_ride_price</th>\n",
       "      <th>subscription_fee</th>\n",
       "    </tr>\n",
       "  </thead>\n",
       "  <tbody>\n",
       "    <tr>\n",
       "      <th>count</th>\n",
       "      <td>2.000000</td>\n",
       "      <td>2.000000</td>\n",
       "      <td>2.000000</td>\n",
       "    </tr>\n",
       "    <tr>\n",
       "      <th>mean</th>\n",
       "      <td>7.000000</td>\n",
       "      <td>25.000000</td>\n",
       "      <td>99.500000</td>\n",
       "    </tr>\n",
       "    <tr>\n",
       "      <th>std</th>\n",
       "      <td>1.414214</td>\n",
       "      <td>35.355339</td>\n",
       "      <td>140.714249</td>\n",
       "    </tr>\n",
       "    <tr>\n",
       "      <th>min</th>\n",
       "      <td>6.000000</td>\n",
       "      <td>0.000000</td>\n",
       "      <td>0.000000</td>\n",
       "    </tr>\n",
       "    <tr>\n",
       "      <th>25%</th>\n",
       "      <td>6.500000</td>\n",
       "      <td>12.500000</td>\n",
       "      <td>49.750000</td>\n",
       "    </tr>\n",
       "    <tr>\n",
       "      <th>50%</th>\n",
       "      <td>7.000000</td>\n",
       "      <td>25.000000</td>\n",
       "      <td>99.500000</td>\n",
       "    </tr>\n",
       "    <tr>\n",
       "      <th>75%</th>\n",
       "      <td>7.500000</td>\n",
       "      <td>37.500000</td>\n",
       "      <td>149.250000</td>\n",
       "    </tr>\n",
       "    <tr>\n",
       "      <th>max</th>\n",
       "      <td>8.000000</td>\n",
       "      <td>50.000000</td>\n",
       "      <td>199.000000</td>\n",
       "    </tr>\n",
       "  </tbody>\n",
       "</table>\n",
       "</div>"
      ],
      "text/plain": [
       "       minute_price  start_ride_price  subscription_fee\n",
       "count      2.000000          2.000000          2.000000\n",
       "mean       7.000000         25.000000         99.500000\n",
       "std        1.414214         35.355339        140.714249\n",
       "min        6.000000          0.000000          0.000000\n",
       "25%        6.500000         12.500000         49.750000\n",
       "50%        7.000000         25.000000         99.500000\n",
       "75%        7.500000         37.500000        149.250000\n",
       "max        8.000000         50.000000        199.000000"
      ]
     },
     "metadata": {},
     "output_type": "display_data"
    }
   ],
   "source": [
    "display(subs.head())\n",
    "display(subs.info())\n",
    "display(subs.describe())"
   ]
  },
  {
   "cell_type": "markdown",
   "id": "5388948e",
   "metadata": {},
   "source": [
    "Таблица с информацией о типах подписки содержит 4 столбца и всего лишь 2 строки, соответствующие информации о 2 типах подписок. Соответственно, пропусков нет и смысла строить распределения тоже нет."
   ]
  },
  {
   "cell_type": "markdown",
   "id": "e95ebca7",
   "metadata": {},
   "source": [
    "## Шаг 2. Предобработка данных\n",
    "\n",
    "Исходя из представленной информации, пропусков в данных нет. Необходимо исправить тип данных для поля с датой, добавить столбец с номером месяца и исследовать дубликаты."
   ]
  },
  {
   "cell_type": "code",
   "execution_count": 6,
   "id": "af6d202c",
   "metadata": {},
   "outputs": [
    {
     "data": {
      "text/plain": [
       "user_id              int64\n",
       "distance           float64\n",
       "duration           float64\n",
       "date        datetime64[ns]\n",
       "dtype: object"
      ]
     },
     "execution_count": 6,
     "metadata": {},
     "output_type": "execute_result"
    }
   ],
   "source": [
    "riders['date'] = pd.to_datetime(riders['date'], format='%Y-%m-%d')\n",
    "riders.dtypes"
   ]
  },
  {
   "cell_type": "code",
   "execution_count": 7,
   "id": "877dbac0",
   "metadata": {},
   "outputs": [
    {
     "data": {
      "text/html": [
       "<div>\n",
       "<style scoped>\n",
       "    .dataframe tbody tr th:only-of-type {\n",
       "        vertical-align: middle;\n",
       "    }\n",
       "\n",
       "    .dataframe tbody tr th {\n",
       "        vertical-align: top;\n",
       "    }\n",
       "\n",
       "    .dataframe thead th {\n",
       "        text-align: right;\n",
       "    }\n",
       "</style>\n",
       "<table border=\"1\" class=\"dataframe\">\n",
       "  <thead>\n",
       "    <tr style=\"text-align: right;\">\n",
       "      <th></th>\n",
       "      <th>user_id</th>\n",
       "      <th>distance</th>\n",
       "      <th>duration</th>\n",
       "      <th>date</th>\n",
       "      <th>month</th>\n",
       "      <th>month_cal</th>\n",
       "    </tr>\n",
       "  </thead>\n",
       "  <tbody>\n",
       "    <tr>\n",
       "      <th>0</th>\n",
       "      <td>1</td>\n",
       "      <td>4409.919140</td>\n",
       "      <td>25.599769</td>\n",
       "      <td>2021-01-01</td>\n",
       "      <td>1</td>\n",
       "      <td>2021-01-01</td>\n",
       "    </tr>\n",
       "    <tr>\n",
       "      <th>1</th>\n",
       "      <td>1</td>\n",
       "      <td>2617.592153</td>\n",
       "      <td>15.816871</td>\n",
       "      <td>2021-01-18</td>\n",
       "      <td>1</td>\n",
       "      <td>2021-01-01</td>\n",
       "    </tr>\n",
       "    <tr>\n",
       "      <th>2</th>\n",
       "      <td>1</td>\n",
       "      <td>754.159807</td>\n",
       "      <td>6.232113</td>\n",
       "      <td>2021-04-20</td>\n",
       "      <td>4</td>\n",
       "      <td>2021-04-01</td>\n",
       "    </tr>\n",
       "  </tbody>\n",
       "</table>\n",
       "</div>"
      ],
      "text/plain": [
       "   user_id     distance   duration       date  month  month_cal\n",
       "0        1  4409.919140  25.599769 2021-01-01      1 2021-01-01\n",
       "1        1  2617.592153  15.816871 2021-01-18      1 2021-01-01\n",
       "2        1   754.159807   6.232113 2021-04-20      4 2021-04-01"
      ]
     },
     "metadata": {},
     "output_type": "display_data"
    },
    {
     "data": {
      "text/plain": [
       "user_id               int64\n",
       "distance            float64\n",
       "duration            float64\n",
       "date         datetime64[ns]\n",
       "month                 int64\n",
       "month_cal    datetime64[ns]\n",
       "dtype: object"
      ]
     },
     "execution_count": 7,
     "metadata": {},
     "output_type": "execute_result"
    }
   ],
   "source": [
    "riders['month'] = riders['date'].dt.month\n",
    "riders['month_cal'] = riders['date'].dt.to_period('M').dt.to_timestamp()\n",
    "display(riders.head(3))\n",
    "riders.dtypes"
   ]
  },
  {
   "cell_type": "markdown",
   "id": "e0c960c8",
   "metadata": {},
   "source": [
    "Теперь все типы данных соответствуют необходимым. Проверим явные дубликаты."
   ]
  },
  {
   "cell_type": "code",
   "execution_count": 8,
   "id": "5c525b1c",
   "metadata": {},
   "outputs": [
    {
     "data": {
      "text/plain": [
       "31"
      ]
     },
     "metadata": {},
     "output_type": "display_data"
    },
    {
     "data": {
      "text/plain": [
       "0"
      ]
     },
     "metadata": {},
     "output_type": "display_data"
    },
    {
     "data": {
      "text/plain": [
       "0"
      ]
     },
     "execution_count": 8,
     "metadata": {},
     "output_type": "execute_result"
    }
   ],
   "source": [
    "display(users.duplicated().sum())\n",
    "display(riders.duplicated().sum())\n",
    "subs.duplicated().sum()"
   ]
  },
  {
   "cell_type": "markdown",
   "id": "93509440",
   "metadata": {},
   "source": [
    "Необходимо удалить явные дубликаты."
   ]
  },
  {
   "cell_type": "code",
   "execution_count": 9,
   "id": "04807650",
   "metadata": {},
   "outputs": [],
   "source": [
    "users.drop_duplicates(inplace=True)"
   ]
  },
  {
   "cell_type": "code",
   "execution_count": 10,
   "id": "9cf723df",
   "metadata": {
    "scrolled": true
   },
   "outputs": [
    {
     "data": {
      "text/plain": [
       "array(['Кира', 'Станислав', 'Алексей', 'Константин', 'Адель', 'Регина',\n",
       "       'Игорь', 'Юрий', 'Ян', 'Валерий', 'Агата', 'Марк', 'Ева',\n",
       "       'Антонина', 'Валерия', 'Амалия', 'Даниил', 'Аделина', 'Святогор',\n",
       "       'Борис', 'Вероника', 'Ростислав', 'Назар', 'Эдуард', 'Василий',\n",
       "       'Денис', 'Тамара', 'Николай', 'Эвелина', 'Федор', 'Руслан', 'Иван',\n",
       "       'Любовь', 'Ярослава', 'Майя', 'Ильдар', 'Данила', 'Нина',\n",
       "       'Стефания', 'Ясмина', 'Дмитрий', 'Александр', 'Одиссей', 'Арсений',\n",
       "       'Алла', 'Таисия', 'Максим', 'Юлиана', 'Павел', 'Карина', 'Алиса',\n",
       "       'Лидия', 'Рамиль', 'Родион', 'Ника', 'Оксана', 'Анастасия',\n",
       "       'Маргарита', 'Вера', 'Тимур', 'Никита', 'Лев', 'Влад', 'Артур',\n",
       "       'Анна', 'Ольга', 'Вячеслав', 'Ксения', 'Виталина', 'Владислав',\n",
       "       'Тамерлан', 'Амина', 'Вадим', 'Олеся', 'Зарина', 'Егор', 'Гордей',\n",
       "       'Лилия', 'Святослав', 'Роберт', 'Амир', 'Влада', 'Богдан',\n",
       "       'Полина', 'Марат', 'Елисей', 'Макар', 'Алина', 'Глеб', 'Андрей',\n",
       "       'Альбина', 'Людмила', 'Марсель', 'Милена', 'Диана', 'Дарина',\n",
       "       'Данил', 'Артемий', 'Лиана', 'Альберт', 'Герман', 'Жанна', 'Нелли',\n",
       "       'Евгения', 'Ариана', 'Самира', 'Захар', 'Эльвира', 'Екатерина',\n",
       "       'Инна', 'Демид', 'Яна', 'Михаил', 'Татьяна', 'Степан', 'Мелания',\n",
       "       'Тимофей', 'Ирина', 'Анжелика', 'Владислава', 'Елизавета',\n",
       "       'Мадина', 'Снежана', 'Даниэль', 'Рустам', 'Каролина', 'Ангелина',\n",
       "       'Владимир', 'Виктория', 'Валентина', 'Семен', 'Арина', 'Лариса',\n",
       "       'Есения', 'Галина', 'Кирилл', 'Игнат', 'Виталий', 'Эмилия',\n",
       "       'Виолетта', 'Яромир', 'Софья', 'Мирослава', 'Евгений', 'Варвара',\n",
       "       'Платон', 'Наталия', 'Анатолий', 'Кристина', 'Всеволод', 'Дарья',\n",
       "       'Наташа', 'Мария', 'Марина', 'Василиса', 'Юлия', 'Илья', 'Злата',\n",
       "       'Роман', 'Наталья', 'Элина', 'Арсен', 'Айдар', 'Алия', 'Виктор',\n",
       "       'Мирон', 'Ульяна', 'Георгий', 'Петр', 'Эльмира', 'Олег', 'Дамир',\n",
       "       'Самир', 'Ярослав', 'Камилла', 'Сергей', 'Эмиль', 'Радмир',\n",
       "       'Савелий', 'Елена', 'Антон', 'Мирослав', 'София', 'Тихон', 'Артём',\n",
       "       'Давид', 'Григорий', 'Алёна', 'Светлана', 'Леонид', 'Александра',\n",
       "       'Василина', 'Милана', 'Матвей'], dtype=object)"
      ]
     },
     "execution_count": 10,
     "metadata": {},
     "output_type": "execute_result"
    }
   ],
   "source": [
    "users.name.unique()"
   ]
  },
  {
   "cell_type": "markdown",
   "id": "8a853f53",
   "metadata": {},
   "source": [
    "Данные имён не содержат некорректных значений."
   ]
  },
  {
   "cell_type": "code",
   "execution_count": 11,
   "id": "c060b5f5",
   "metadata": {},
   "outputs": [
    {
     "data": {
      "text/plain": [
       "array([22, 31, 20, 26, 28, 25, 23, 21, 18, 27, 24, 29, 32, 14, 19, 30, 17,\n",
       "       12, 35, 33, 13, 15, 37, 16, 34, 38, 36, 39, 43])"
      ]
     },
     "execution_count": 11,
     "metadata": {},
     "output_type": "execute_result"
    }
   ],
   "source": [
    "users.age.unique()"
   ]
  },
  {
   "cell_type": "code",
   "execution_count": 12,
   "id": "2ebe8b40",
   "metadata": {},
   "outputs": [
    {
     "data": {
      "text/plain": [
       "29"
      ]
     },
     "execution_count": 12,
     "metadata": {},
     "output_type": "execute_result"
    }
   ],
   "source": [
    "users.age.nunique()"
   ]
  },
  {
   "cell_type": "markdown",
   "id": "9ad7496f",
   "metadata": {},
   "source": [
    "Данные имён не содержат некорректных значений (выбросов)."
   ]
  },
  {
   "cell_type": "code",
   "execution_count": 13,
   "id": "0ebe0df8",
   "metadata": {},
   "outputs": [
    {
     "data": {
      "text/plain": [
       "array(['Тюмень', 'Омск', 'Москва', 'Ростов-на-Дону', 'Краснодар',\n",
       "       'Пятигорск', 'Екатеринбург', 'Сочи'], dtype=object)"
      ]
     },
     "execution_count": 13,
     "metadata": {},
     "output_type": "execute_result"
    }
   ],
   "source": [
    "users.city.unique()"
   ]
  },
  {
   "cell_type": "markdown",
   "id": "1915c682",
   "metadata": {},
   "source": [
    "Пользователи 8 городов уже пользуются сервисом."
   ]
  },
  {
   "cell_type": "code",
   "execution_count": 14,
   "id": "2905e89a",
   "metadata": {},
   "outputs": [
    {
     "name": "stdout",
     "output_type": "stream",
     "text": [
      "Минимальная дата : 2021-01-01 00:00:00\n",
      "Максимальная дата: 2021-12-30 00:00:00\n"
     ]
    }
   ],
   "source": [
    "print('Минимальная дата :', riders['date'].min())\n",
    "print('Максимальная дата:', riders['date'].max())"
   ]
  },
  {
   "cell_type": "markdown",
   "id": "8f4346b6",
   "metadata": {},
   "source": [
    "Данные содержат информацию за 1 календарный год. Проверим выбросы по логическому критерию."
   ]
  },
  {
   "cell_type": "code",
   "execution_count": 15,
   "id": "4a086205",
   "metadata": {},
   "outputs": [
    {
     "data": {
      "image/png": "[encoded data removed]",
      "text/plain": [
       "<Figure size 432x432 with 3 Axes>"
      ]
     },
     "metadata": {},
     "output_type": "display_data"
    }
   ],
   "source": [
    "sns.jointplot(x='duration', y='distance', data=riders)\n",
    "plt.show()"
   ]
  },
  {
   "cell_type": "markdown",
   "id": "620912f1",
   "metadata": {},
   "source": [
    "Область слева сверху явно выделяется среди остальных."
   ]
  },
  {
   "cell_type": "code",
   "execution_count": 16,
   "id": "26bc3825",
   "metadata": {},
   "outputs": [
    {
     "data": {
      "text/html": [
       "<div>\n",
       "<style scoped>\n",
       "    .dataframe tbody tr th:only-of-type {\n",
       "        vertical-align: middle;\n",
       "    }\n",
       "\n",
       "    .dataframe tbody tr th {\n",
       "        vertical-align: top;\n",
       "    }\n",
       "\n",
       "    .dataframe thead th {\n",
       "        text-align: right;\n",
       "    }\n",
       "</style>\n",
       "<table border=\"1\" class=\"dataframe\">\n",
       "  <thead>\n",
       "    <tr style=\"text-align: right;\">\n",
       "      <th></th>\n",
       "      <th>user_id</th>\n",
       "      <th>distance</th>\n",
       "      <th>duration</th>\n",
       "      <th>date</th>\n",
       "      <th>month</th>\n",
       "      <th>month_cal</th>\n",
       "    </tr>\n",
       "  </thead>\n",
       "  <tbody>\n",
       "    <tr>\n",
       "      <th>6531</th>\n",
       "      <td>701</td>\n",
       "      <td>4196.445201</td>\n",
       "      <td>0.5</td>\n",
       "      <td>2021-08-31</td>\n",
       "      <td>8</td>\n",
       "      <td>2021-08-01</td>\n",
       "    </tr>\n",
       "    <tr>\n",
       "      <th>6570</th>\n",
       "      <td>704</td>\n",
       "      <td>4830.824371</td>\n",
       "      <td>0.5</td>\n",
       "      <td>2021-10-14</td>\n",
       "      <td>10</td>\n",
       "      <td>2021-10-01</td>\n",
       "    </tr>\n",
       "    <tr>\n",
       "      <th>6680</th>\n",
       "      <td>712</td>\n",
       "      <td>4684.004397</td>\n",
       "      <td>0.5</td>\n",
       "      <td>2021-03-04</td>\n",
       "      <td>3</td>\n",
       "      <td>2021-03-01</td>\n",
       "    </tr>\n",
       "    <tr>\n",
       "      <th>6695</th>\n",
       "      <td>713</td>\n",
       "      <td>5215.642710</td>\n",
       "      <td>0.5</td>\n",
       "      <td>2021-02-25</td>\n",
       "      <td>2</td>\n",
       "      <td>2021-02-01</td>\n",
       "    </tr>\n",
       "    <tr>\n",
       "      <th>6768</th>\n",
       "      <td>718</td>\n",
       "      <td>5197.436649</td>\n",
       "      <td>0.5</td>\n",
       "      <td>2021-02-11</td>\n",
       "      <td>2</td>\n",
       "      <td>2021-02-01</td>\n",
       "    </tr>\n",
       "    <tr>\n",
       "      <th>...</th>\n",
       "      <td>...</td>\n",
       "      <td>...</td>\n",
       "      <td>...</td>\n",
       "      <td>...</td>\n",
       "      <td>...</td>\n",
       "      <td>...</td>\n",
       "    </tr>\n",
       "    <tr>\n",
       "      <th>17004</th>\n",
       "      <td>1460</td>\n",
       "      <td>5531.335845</td>\n",
       "      <td>0.5</td>\n",
       "      <td>2021-01-19</td>\n",
       "      <td>1</td>\n",
       "      <td>2021-01-01</td>\n",
       "    </tr>\n",
       "    <tr>\n",
       "      <th>17242</th>\n",
       "      <td>1477</td>\n",
       "      <td>6724.932981</td>\n",
       "      <td>0.5</td>\n",
       "      <td>2021-01-12</td>\n",
       "      <td>1</td>\n",
       "      <td>2021-01-01</td>\n",
       "    </tr>\n",
       "    <tr>\n",
       "      <th>17314</th>\n",
       "      <td>1483</td>\n",
       "      <td>4445.481070</td>\n",
       "      <td>0.5</td>\n",
       "      <td>2021-03-06</td>\n",
       "      <td>3</td>\n",
       "      <td>2021-03-01</td>\n",
       "    </tr>\n",
       "    <tr>\n",
       "      <th>17505</th>\n",
       "      <td>1496</td>\n",
       "      <td>5722.551787</td>\n",
       "      <td>0.5</td>\n",
       "      <td>2021-02-14</td>\n",
       "      <td>2</td>\n",
       "      <td>2021-02-01</td>\n",
       "    </tr>\n",
       "    <tr>\n",
       "      <th>17909</th>\n",
       "      <td>1524</td>\n",
       "      <td>4103.998874</td>\n",
       "      <td>0.5</td>\n",
       "      <td>2021-06-18</td>\n",
       "      <td>6</td>\n",
       "      <td>2021-06-01</td>\n",
       "    </tr>\n",
       "  </tbody>\n",
       "</table>\n",
       "<p>95 rows × 6 columns</p>\n",
       "</div>"
      ],
      "text/plain": [
       "       user_id     distance  duration       date  month  month_cal\n",
       "6531       701  4196.445201       0.5 2021-08-31      8 2021-08-01\n",
       "6570       704  4830.824371       0.5 2021-10-14     10 2021-10-01\n",
       "6680       712  4684.004397       0.5 2021-03-04      3 2021-03-01\n",
       "6695       713  5215.642710       0.5 2021-02-25      2 2021-02-01\n",
       "6768       718  5197.436649       0.5 2021-02-11      2 2021-02-01\n",
       "...        ...          ...       ...        ...    ...        ...\n",
       "17004     1460  5531.335845       0.5 2021-01-19      1 2021-01-01\n",
       "17242     1477  6724.932981       0.5 2021-01-12      1 2021-01-01\n",
       "17314     1483  4445.481070       0.5 2021-03-06      3 2021-03-01\n",
       "17505     1496  5722.551787       0.5 2021-02-14      2 2021-02-01\n",
       "17909     1524  4103.998874       0.5 2021-06-18      6 2021-06-01\n",
       "\n",
       "[95 rows x 6 columns]"
      ]
     },
     "execution_count": 16,
     "metadata": {},
     "output_type": "execute_result"
    }
   ],
   "source": [
    "not_rides = riders.query('distance>=4000 & duration<5')\n",
    "not_rides"
   ]
  },
  {
   "cell_type": "markdown",
   "id": "09e10493",
   "metadata": {},
   "source": [
    "Либо неекоторые пользователи ужитрились ровно за поминуты проехать от 4 до 6 км, либо наблюдались очевидные сбои в работе сервиса (например, попытки поехать на почти разряженном самокате)."
   ]
  },
  {
   "cell_type": "code",
   "execution_count": 17,
   "id": "f712eba7",
   "metadata": {},
   "outputs": [
    {
     "name": "stdout",
     "output_type": "stream",
     "text": [
      "Доля выбросов в процентах составляет: 0.53%\n"
     ]
    }
   ],
   "source": [
    "not_rides_share = not_rides.shape[0] / riders.shape[0]\n",
    "print(f'Доля выбросов в процентах составляет: {not_rides_share :.2%}')"
   ]
  },
  {
   "cell_type": "markdown",
   "id": "274e7bb0",
   "metadata": {},
   "source": [
    "Несмотря на явную некорректность данных (возможно, сбои), нецелесообразно удалять данные, так как за них также начислялась плата, и удаление повлияет на выручку."
   ]
  },
  {
   "cell_type": "markdown",
   "id": "212593c7",
   "metadata": {},
   "source": [
    "## Шаг 3. Исследовательский анализ данных\n",
    "### Функции"
   ]
  },
  {
   "cell_type": "code",
   "execution_count": 18,
   "id": "f7b58071",
   "metadata": {},
   "outputs": [],
   "source": [
    "# функция группировки значений\n",
    "def quality_group(table, column):\n",
    "    result = table.groupby([column])[column].agg(['count']).sort_values(by='count')\n",
    "    result['percent'] = round(result['count'] / result['count'].sum(), 4)*100\n",
    "    return result"
   ]
  },
  {
   "cell_type": "code",
   "execution_count": 19,
   "id": "7bf39fb7",
   "metadata": {},
   "outputs": [],
   "source": [
    "# функция визуализации столбцов с качественными данными\n",
    "def quality_viz(table, column, xlabel, ylabel, title):\n",
    "    gr = quality_group(table, column)\n",
    "    gr.columns = {'Количество':'count', 'Доля':'percent'}\n",
    "    plt.barh(\n",
    "        gr.index, \n",
    "        gr['Количество'].values\n",
    "    )\n",
    "    plt.gca().set(xlabel=f'${xlabel}$', ylabel=f'${ylabel}$')\n",
    "    plt.title(f'{title}')\n",
    "    plt.show()\n",
    "    print('Значения датафрейма:')\n",
    "    print(gr)"
   ]
  },
  {
   "cell_type": "code",
   "execution_count": 20,
   "id": "3040fa61",
   "metadata": {},
   "outputs": [],
   "source": [
    "# функция визуализации столбцов с количественными данными\n",
    "def quantity_viz(table, column, bins_num, xlabel, ylabel, title):\n",
    "    table[column].hist(bins=bins_num, figsize=(14,6))\n",
    "    plt.gca().set(xlabel=f'${xlabel}$', ylabel=f'${ylabel}$')\n",
    "    plt.title(f'{title}')\n",
    "    plt.show()\n",
    "    print('Описательная статистика датафрейма:')\n",
    "    print(table[column].describe())"
   ]
  },
  {
   "cell_type": "markdown",
   "id": "42e8ccee",
   "metadata": {},
   "source": [
    "### Города пользователей"
   ]
  },
  {
   "cell_type": "code",
   "execution_count": 21,
   "id": "b1b541da",
   "metadata": {},
   "outputs": [
    {
     "data": {
      "image/png": "[encoded data removed]",
      "text/plain": [
       "<Figure size 432x288 with 1 Axes>"
      ]
     },
     "metadata": {},
     "output_type": "display_data"
    },
    {
     "name": "stdout",
     "output_type": "stream",
     "text": [
      "Значения датафрейма:\n",
      "                Количество   Доля\n",
      "city                             \n",
      "Москва                 168  10.95\n",
      "Тюмень                 180  11.73\n",
      "Омск                   183  11.93\n",
      "Сочи                   189  12.32\n",
      "Краснодар              193  12.58\n",
      "Ростов-на-Дону         198  12.91\n",
      "Екатеринбург           204  13.30\n",
      "Пятигорск              219  14.28\n"
     ]
    }
   ],
   "source": [
    "quality_viz(\n",
    "    users, \n",
    "    'city', \n",
    "    'Количество', \n",
    "    'Города', \n",
    "    'Количество использований сервиса в разных городах'\n",
    ")"
   ]
  },
  {
   "cell_type": "markdown",
   "id": "291e161a",
   "metadata": {},
   "source": [
    "Большинство пользователей сервиса сосредоточено в Пятигорске, а меньше всего - в Москве."
   ]
  },
  {
   "cell_type": "markdown",
   "id": "29c6f5ba",
   "metadata": {},
   "source": [
    "### Типы подписок пользоватлей"
   ]
  },
  {
   "cell_type": "code",
   "execution_count": 22,
   "id": "68bbe35b",
   "metadata": {},
   "outputs": [
    {
     "data": {
      "image/png": "[encoded data removed]",
      "text/plain": [
       "<Figure size 432x288 with 1 Axes>"
      ]
     },
     "metadata": {},
     "output_type": "display_data"
    },
    {
     "name": "stdout",
     "output_type": "stream",
     "text": [
      "Значения датафрейма:\n",
      "                   Количество   Доля\n",
      "subscription_type                   \n",
      "ultra                     699  45.57\n",
      "free                      835  54.43\n"
     ]
    }
   ],
   "source": [
    "quality_viz(\n",
    "    users, \n",
    "    'subscription_type', \n",
    "    'Количество', \n",
    "    'Подписки', \n",
    "    'Количество использований разного типа подписок'\n",
    ")"
   ]
  },
  {
   "cell_type": "markdown",
   "id": "accc903f",
   "metadata": {},
   "source": [
    "У большинства пользователей нет платной подписки."
   ]
  },
  {
   "cell_type": "markdown",
   "id": "a1d238a7",
   "metadata": {},
   "source": [
    "### Распределение пользователей по возрастам"
   ]
  },
  {
   "cell_type": "code",
   "execution_count": 23,
   "id": "be498dc2",
   "metadata": {},
   "outputs": [
    {
     "data": {
      "image/png": "[encoded data removed]",
      "text/plain": [
       "<Figure size 1008x432 with 1 Axes>"
      ]
     },
     "metadata": {},
     "output_type": "display_data"
    },
    {
     "name": "stdout",
     "output_type": "stream",
     "text": [
      "Описательная статистика датафрейма:\n",
      "count    1534.000000\n",
      "mean       24.903520\n",
      "std         4.572367\n",
      "min        12.000000\n",
      "25%        22.000000\n",
      "50%        25.000000\n",
      "75%        28.000000\n",
      "max        43.000000\n",
      "Name: age, dtype: float64\n"
     ]
    }
   ],
   "source": [
    "quantity_viz(\n",
    "    users, \n",
    "    'age', \n",
    "    users['age'].max()-users['age'].min(), \n",
    "    'Возраст', \n",
    "    'Пользователей',\n",
    "    'Распределение пользователей по возрастам' \n",
    ")"
   ]
  },
  {
   "cell_type": "markdown",
   "id": "f36dd426",
   "metadata": {},
   "source": [
    "Около половины пользователей в возрасте от 22 до 28 лет. Средний возраст пользователей составляет почти 25 лет."
   ]
  },
  {
   "cell_type": "markdown",
   "id": "77951368",
   "metadata": {},
   "source": [
    "### Распределение количества поездок по их дистанции"
   ]
  },
  {
   "cell_type": "code",
   "execution_count": 24,
   "id": "e4b73190",
   "metadata": {},
   "outputs": [
    {
     "data": {
      "image/png": "[encoded data removed]",
      "text/plain": [
       "<Figure size 1008x432 with 1 Axes>"
      ]
     },
     "metadata": {},
     "output_type": "display_data"
    },
    {
     "name": "stdout",
     "output_type": "stream",
     "text": [
      "Описательная статистика датафрейма:\n",
      "count    18068.000000\n",
      "mean      3070.659976\n",
      "std       1116.831209\n",
      "min          0.855683\n",
      "25%       2543.226360\n",
      "50%       3133.609994\n",
      "75%       3776.222735\n",
      "max       7211.007745\n",
      "Name: distance, dtype: float64\n"
     ]
    }
   ],
   "source": [
    "quantity_viz(\n",
    "    riders, \n",
    "    'distance', \n",
    "    int((riders['distance'].max()-riders['distance'].min()) / 100), \n",
    "    'Дистанция', \n",
    "    'Поездки', \n",
    "    'Распределение количества поездок по их дистанции' \n",
    ")"
   ]
  },
  {
   "cell_type": "markdown",
   "id": "d0981928",
   "metadata": {},
   "source": [
    "Основные типы дистанций поездок пользователей сосредоточены в интервалах от 0 до 1.3 км и от 1.8 км до 4.6 км. Для более далёких дистанций удобнее пользоваться общественным транспортом или идти пешком. Некоторые поездки совершаются не в качестве маршрута от точки до точки, а в качестве прогулочного маршрута."
   ]
  },
  {
   "cell_type": "markdown",
   "id": "127d0379",
   "metadata": {},
   "source": [
    "### Распределение количества поездок по их продолжительности"
   ]
  },
  {
   "cell_type": "code",
   "execution_count": 25,
   "id": "7cbb94ea",
   "metadata": {},
   "outputs": [
    {
     "data": {
      "image/png": "[encoded data removed]",
      "text/plain": [
       "<Figure size 1008x432 with 1 Axes>"
      ]
     },
     "metadata": {},
     "output_type": "display_data"
    },
    {
     "name": "stdout",
     "output_type": "stream",
     "text": [
      "Описательная статистика датафрейма:\n",
      "count    18068.000000\n",
      "mean        17.805011\n",
      "std          6.091051\n",
      "min          0.500000\n",
      "25%         13.597563\n",
      "50%         17.678395\n",
      "75%         21.724800\n",
      "max         40.823963\n",
      "Name: duration, dtype: float64\n"
     ]
    }
   ],
   "source": [
    "quantity_viz(\n",
    "    riders, \n",
    "    'duration', \n",
    "    int((riders['duration'].max()-riders['duration'].min())), \n",
    "    'Продолжительность', \n",
    "    'Поездки', \n",
    "    'Распределение количества поездок по их продолжительности' \n",
    ")"
   ]
  },
  {
   "cell_type": "markdown",
   "id": "bcc2d99a",
   "metadata": {},
   "source": [
    "Поездки меньше 5 минут связаны со сбоями или же необходимостью быстро добраться до близкой точки, остальные же скорее ориентированы на более дальние передвижения или прогулочные маршруты. Самая продолжительная поездка длилась почти 41 минуту. Стандартный интервал времени - 15-20 минут."
   ]
  },
  {
   "cell_type": "markdown",
   "id": "4ef51331",
   "metadata": {},
   "source": [
    "## Шаг 4. Объединение данных"
   ]
  },
  {
   "cell_type": "code",
   "execution_count": 26,
   "id": "6bf288b5",
   "metadata": {},
   "outputs": [
    {
     "data": {
      "text/html": [
       "<div>\n",
       "<style scoped>\n",
       "    .dataframe tbody tr th:only-of-type {\n",
       "        vertical-align: middle;\n",
       "    }\n",
       "\n",
       "    .dataframe tbody tr th {\n",
       "        vertical-align: top;\n",
       "    }\n",
       "\n",
       "    .dataframe thead th {\n",
       "        text-align: right;\n",
       "    }\n",
       "</style>\n",
       "<table border=\"1\" class=\"dataframe\">\n",
       "  <thead>\n",
       "    <tr style=\"text-align: right;\">\n",
       "      <th></th>\n",
       "      <th>user_id</th>\n",
       "      <th>name</th>\n",
       "      <th>age</th>\n",
       "      <th>city</th>\n",
       "      <th>subscription_type</th>\n",
       "      <th>distance</th>\n",
       "      <th>duration</th>\n",
       "      <th>date</th>\n",
       "      <th>month</th>\n",
       "      <th>month_cal</th>\n",
       "      <th>minute_price</th>\n",
       "      <th>start_ride_price</th>\n",
       "      <th>subscription_fee</th>\n",
       "    </tr>\n",
       "  </thead>\n",
       "  <tbody>\n",
       "    <tr>\n",
       "      <th>11238</th>\n",
       "      <td>1047</td>\n",
       "      <td>Дмитрий</td>\n",
       "      <td>23</td>\n",
       "      <td>Сочи</td>\n",
       "      <td>free</td>\n",
       "      <td>3984.064985</td>\n",
       "      <td>21.865632</td>\n",
       "      <td>2021-04-14</td>\n",
       "      <td>4</td>\n",
       "      <td>2021-04-01</td>\n",
       "      <td>8</td>\n",
       "      <td>50</td>\n",
       "      <td>0</td>\n",
       "    </tr>\n",
       "    <tr>\n",
       "      <th>4787</th>\n",
       "      <td>515</td>\n",
       "      <td>Руслан</td>\n",
       "      <td>23</td>\n",
       "      <td>Екатеринбург</td>\n",
       "      <td>ultra</td>\n",
       "      <td>3074.222179</td>\n",
       "      <td>19.296889</td>\n",
       "      <td>2021-06-03</td>\n",
       "      <td>6</td>\n",
       "      <td>2021-06-01</td>\n",
       "      <td>6</td>\n",
       "      <td>0</td>\n",
       "      <td>199</td>\n",
       "    </tr>\n",
       "    <tr>\n",
       "      <th>6705</th>\n",
       "      <td>713</td>\n",
       "      <td>Святослав</td>\n",
       "      <td>30</td>\n",
       "      <td>Краснодар</td>\n",
       "      <td>free</td>\n",
       "      <td>2223.170062</td>\n",
       "      <td>17.940378</td>\n",
       "      <td>2021-11-19</td>\n",
       "      <td>11</td>\n",
       "      <td>2021-11-01</td>\n",
       "      <td>8</td>\n",
       "      <td>50</td>\n",
       "      <td>0</td>\n",
       "    </tr>\n",
       "    <tr>\n",
       "      <th>1764</th>\n",
       "      <td>191</td>\n",
       "      <td>Марсель</td>\n",
       "      <td>23</td>\n",
       "      <td>Омск</td>\n",
       "      <td>ultra</td>\n",
       "      <td>2883.026586</td>\n",
       "      <td>19.653138</td>\n",
       "      <td>2021-09-20</td>\n",
       "      <td>9</td>\n",
       "      <td>2021-09-01</td>\n",
       "      <td>6</td>\n",
       "      <td>0</td>\n",
       "      <td>199</td>\n",
       "    </tr>\n",
       "    <tr>\n",
       "      <th>18054</th>\n",
       "      <td>1533</td>\n",
       "      <td>Степан</td>\n",
       "      <td>22</td>\n",
       "      <td>Краснодар</td>\n",
       "      <td>free</td>\n",
       "      <td>3414.448028</td>\n",
       "      <td>25.657792</td>\n",
       "      <td>2021-11-09</td>\n",
       "      <td>11</td>\n",
       "      <td>2021-11-01</td>\n",
       "      <td>8</td>\n",
       "      <td>50</td>\n",
       "      <td>0</td>\n",
       "    </tr>\n",
       "  </tbody>\n",
       "</table>\n",
       "</div>"
      ],
      "text/plain": [
       "       user_id       name  age          city subscription_type     distance  \\\n",
       "11238     1047    Дмитрий   23          Сочи              free  3984.064985   \n",
       "4787       515     Руслан   23  Екатеринбург             ultra  3074.222179   \n",
       "6705       713  Святослав   30     Краснодар              free  2223.170062   \n",
       "1764       191    Марсель   23          Омск             ultra  2883.026586   \n",
       "18054     1533     Степан   22     Краснодар              free  3414.448028   \n",
       "\n",
       "        duration       date  month  month_cal  minute_price  start_ride_price  \\\n",
       "11238  21.865632 2021-04-14      4 2021-04-01             8                50   \n",
       "4787   19.296889 2021-06-03      6 2021-06-01             6                 0   \n",
       "6705   17.940378 2021-11-19     11 2021-11-01             8                50   \n",
       "1764   19.653138 2021-09-20      9 2021-09-01             6                 0   \n",
       "18054  25.657792 2021-11-09     11 2021-11-01             8                50   \n",
       "\n",
       "       subscription_fee  \n",
       "11238                 0  \n",
       "4787                199  \n",
       "6705                  0  \n",
       "1764                199  \n",
       "18054                 0  "
      ]
     },
     "metadata": {},
     "output_type": "display_data"
    },
    {
     "name": "stdout",
     "output_type": "stream",
     "text": [
      "<class 'pandas.core.frame.DataFrame'>\n",
      "Int64Index: 18068 entries, 0 to 18067\n",
      "Data columns (total 13 columns):\n",
      " #   Column             Non-Null Count  Dtype         \n",
      "---  ------             --------------  -----         \n",
      " 0   user_id            18068 non-null  int64         \n",
      " 1   name               18068 non-null  object        \n",
      " 2   age                18068 non-null  int64         \n",
      " 3   city               18068 non-null  object        \n",
      " 4   subscription_type  18068 non-null  object        \n",
      " 5   distance           18068 non-null  float64       \n",
      " 6   duration           18068 non-null  float64       \n",
      " 7   date               18068 non-null  datetime64[ns]\n",
      " 8   month              18068 non-null  int64         \n",
      " 9   month_cal          18068 non-null  datetime64[ns]\n",
      " 10  minute_price       18068 non-null  int64         \n",
      " 11  start_ride_price   18068 non-null  int64         \n",
      " 12  subscription_fee   18068 non-null  int64         \n",
      "dtypes: datetime64[ns](2), float64(2), int64(6), object(3)\n",
      "memory usage: 1.9+ MB\n"
     ]
    }
   ],
   "source": [
    "data = users.merge(riders, on='user_id').merge(subs, on='subscription_type')\n",
    "display(data.sample(5, random_state=5))\n",
    "data.info()"
   ]
  },
  {
   "cell_type": "markdown",
   "id": "0d373867",
   "metadata": {},
   "source": [
    "Витрина данных содержит 12 столбцов и 18 068 записей."
   ]
  },
  {
   "cell_type": "code",
   "execution_count": 27,
   "id": "0d2be9fd",
   "metadata": {},
   "outputs": [
    {
     "data": {
      "text/html": [
       "<div>\n",
       "<style scoped>\n",
       "    .dataframe tbody tr th:only-of-type {\n",
       "        vertical-align: middle;\n",
       "    }\n",
       "\n",
       "    .dataframe tbody tr th {\n",
       "        vertical-align: top;\n",
       "    }\n",
       "\n",
       "    .dataframe thead th {\n",
       "        text-align: right;\n",
       "    }\n",
       "</style>\n",
       "<table border=\"1\" class=\"dataframe\">\n",
       "  <thead>\n",
       "    <tr style=\"text-align: right;\">\n",
       "      <th></th>\n",
       "      <th>user_id</th>\n",
       "      <th>age</th>\n",
       "      <th>distance</th>\n",
       "      <th>duration</th>\n",
       "      <th>month</th>\n",
       "      <th>minute_price</th>\n",
       "      <th>start_ride_price</th>\n",
       "      <th>subscription_fee</th>\n",
       "    </tr>\n",
       "  </thead>\n",
       "  <tbody>\n",
       "    <tr>\n",
       "      <th>count</th>\n",
       "      <td>11568.000000</td>\n",
       "      <td>11568.000000</td>\n",
       "      <td>11568.000000</td>\n",
       "      <td>11568.000000</td>\n",
       "      <td>11568.000000</td>\n",
       "      <td>11568.0</td>\n",
       "      <td>11568.0</td>\n",
       "      <td>11568.0</td>\n",
       "    </tr>\n",
       "    <tr>\n",
       "      <th>mean</th>\n",
       "      <td>1120.527230</td>\n",
       "      <td>24.893326</td>\n",
       "      <td>3045.495282</td>\n",
       "      <td>17.390909</td>\n",
       "      <td>6.522994</td>\n",
       "      <td>8.0</td>\n",
       "      <td>50.0</td>\n",
       "      <td>0.0</td>\n",
       "    </tr>\n",
       "    <tr>\n",
       "      <th>std</th>\n",
       "      <td>241.165628</td>\n",
       "      <td>4.481100</td>\n",
       "      <td>1246.173806</td>\n",
       "      <td>6.326803</td>\n",
       "      <td>3.449770</td>\n",
       "      <td>0.0</td>\n",
       "      <td>0.0</td>\n",
       "      <td>0.0</td>\n",
       "    </tr>\n",
       "    <tr>\n",
       "      <th>min</th>\n",
       "      <td>700.000000</td>\n",
       "      <td>12.000000</td>\n",
       "      <td>0.855683</td>\n",
       "      <td>0.500000</td>\n",
       "      <td>1.000000</td>\n",
       "      <td>8.0</td>\n",
       "      <td>50.0</td>\n",
       "      <td>0.0</td>\n",
       "    </tr>\n",
       "    <tr>\n",
       "      <th>25%</th>\n",
       "      <td>915.000000</td>\n",
       "      <td>22.000000</td>\n",
       "      <td>2366.562689</td>\n",
       "      <td>12.958437</td>\n",
       "      <td>4.000000</td>\n",
       "      <td>8.0</td>\n",
       "      <td>50.0</td>\n",
       "      <td>0.0</td>\n",
       "    </tr>\n",
       "    <tr>\n",
       "      <th>50%</th>\n",
       "      <td>1123.000000</td>\n",
       "      <td>25.000000</td>\n",
       "      <td>3114.648465</td>\n",
       "      <td>17.326890</td>\n",
       "      <td>7.000000</td>\n",
       "      <td>8.0</td>\n",
       "      <td>50.0</td>\n",
       "      <td>0.0</td>\n",
       "    </tr>\n",
       "    <tr>\n",
       "      <th>75%</th>\n",
       "      <td>1328.000000</td>\n",
       "      <td>28.000000</td>\n",
       "      <td>3905.697894</td>\n",
       "      <td>21.594071</td>\n",
       "      <td>9.000000</td>\n",
       "      <td>8.0</td>\n",
       "      <td>50.0</td>\n",
       "      <td>0.0</td>\n",
       "    </tr>\n",
       "    <tr>\n",
       "      <th>max</th>\n",
       "      <td>1534.000000</td>\n",
       "      <td>43.000000</td>\n",
       "      <td>7211.007745</td>\n",
       "      <td>34.948498</td>\n",
       "      <td>12.000000</td>\n",
       "      <td>8.0</td>\n",
       "      <td>50.0</td>\n",
       "      <td>0.0</td>\n",
       "    </tr>\n",
       "  </tbody>\n",
       "</table>\n",
       "</div>"
      ],
      "text/plain": [
       "            user_id           age      distance      duration         month  \\\n",
       "count  11568.000000  11568.000000  11568.000000  11568.000000  11568.000000   \n",
       "mean    1120.527230     24.893326   3045.495282     17.390909      6.522994   \n",
       "std      241.165628      4.481100   1246.173806      6.326803      3.449770   \n",
       "min      700.000000     12.000000      0.855683      0.500000      1.000000   \n",
       "25%      915.000000     22.000000   2366.562689     12.958437      4.000000   \n",
       "50%     1123.000000     25.000000   3114.648465     17.326890      7.000000   \n",
       "75%     1328.000000     28.000000   3905.697894     21.594071      9.000000   \n",
       "max     1534.000000     43.000000   7211.007745     34.948498     12.000000   \n",
       "\n",
       "       minute_price  start_ride_price  subscription_fee  \n",
       "count       11568.0           11568.0           11568.0  \n",
       "mean            8.0              50.0               0.0  \n",
       "std             0.0               0.0               0.0  \n",
       "min             8.0              50.0               0.0  \n",
       "25%             8.0              50.0               0.0  \n",
       "50%             8.0              50.0               0.0  \n",
       "75%             8.0              50.0               0.0  \n",
       "max             8.0              50.0               0.0  "
      ]
     },
     "metadata": {},
     "output_type": "display_data"
    },
    {
     "data": {
      "text/html": [
       "<div>\n",
       "<style scoped>\n",
       "    .dataframe tbody tr th:only-of-type {\n",
       "        vertical-align: middle;\n",
       "    }\n",
       "\n",
       "    .dataframe tbody tr th {\n",
       "        vertical-align: top;\n",
       "    }\n",
       "\n",
       "    .dataframe thead th {\n",
       "        text-align: right;\n",
       "    }\n",
       "</style>\n",
       "<table border=\"1\" class=\"dataframe\">\n",
       "  <thead>\n",
       "    <tr style=\"text-align: right;\">\n",
       "      <th></th>\n",
       "      <th>user_id</th>\n",
       "      <th>name</th>\n",
       "      <th>age</th>\n",
       "      <th>city</th>\n",
       "      <th>subscription_type</th>\n",
       "      <th>distance</th>\n",
       "      <th>duration</th>\n",
       "      <th>date</th>\n",
       "      <th>month</th>\n",
       "      <th>month_cal</th>\n",
       "      <th>minute_price</th>\n",
       "      <th>start_ride_price</th>\n",
       "      <th>subscription_fee</th>\n",
       "    </tr>\n",
       "  </thead>\n",
       "  <tbody>\n",
       "    <tr>\n",
       "      <th>16647</th>\n",
       "      <td>1432</td>\n",
       "      <td>Федор</td>\n",
       "      <td>23</td>\n",
       "      <td>Тюмень</td>\n",
       "      <td>free</td>\n",
       "      <td>3565.105045</td>\n",
       "      <td>20.454331</td>\n",
       "      <td>2021-03-13</td>\n",
       "      <td>3</td>\n",
       "      <td>2021-03-01</td>\n",
       "      <td>8</td>\n",
       "      <td>50</td>\n",
       "      <td>0</td>\n",
       "    </tr>\n",
       "    <tr>\n",
       "      <th>12371</th>\n",
       "      <td>1130</td>\n",
       "      <td>Мария</td>\n",
       "      <td>22</td>\n",
       "      <td>Ростов-на-Дону</td>\n",
       "      <td>free</td>\n",
       "      <td>987.618579</td>\n",
       "      <td>7.116326</td>\n",
       "      <td>2021-03-01</td>\n",
       "      <td>3</td>\n",
       "      <td>2021-03-01</td>\n",
       "      <td>8</td>\n",
       "      <td>50</td>\n",
       "      <td>0</td>\n",
       "    </tr>\n",
       "    <tr>\n",
       "      <th>14236</th>\n",
       "      <td>1260</td>\n",
       "      <td>Одиссей</td>\n",
       "      <td>26</td>\n",
       "      <td>Москва</td>\n",
       "      <td>free</td>\n",
       "      <td>5237.070637</td>\n",
       "      <td>17.474141</td>\n",
       "      <td>2021-08-30</td>\n",
       "      <td>8</td>\n",
       "      <td>2021-08-01</td>\n",
       "      <td>8</td>\n",
       "      <td>50</td>\n",
       "      <td>0</td>\n",
       "    </tr>\n",
       "    <tr>\n",
       "      <th>14318</th>\n",
       "      <td>1266</td>\n",
       "      <td>Альберт</td>\n",
       "      <td>22</td>\n",
       "      <td>Пятигорск</td>\n",
       "      <td>free</td>\n",
       "      <td>4846.025990</td>\n",
       "      <td>29.432869</td>\n",
       "      <td>2021-03-27</td>\n",
       "      <td>3</td>\n",
       "      <td>2021-03-01</td>\n",
       "      <td>8</td>\n",
       "      <td>50</td>\n",
       "      <td>0</td>\n",
       "    </tr>\n",
       "    <tr>\n",
       "      <th>6933</th>\n",
       "      <td>729</td>\n",
       "      <td>Арсен</td>\n",
       "      <td>27</td>\n",
       "      <td>Екатеринбург</td>\n",
       "      <td>free</td>\n",
       "      <td>3197.284798</td>\n",
       "      <td>10.105077</td>\n",
       "      <td>2021-11-13</td>\n",
       "      <td>11</td>\n",
       "      <td>2021-11-01</td>\n",
       "      <td>8</td>\n",
       "      <td>50</td>\n",
       "      <td>0</td>\n",
       "    </tr>\n",
       "  </tbody>\n",
       "</table>\n",
       "</div>"
      ],
      "text/plain": [
       "       user_id     name  age            city subscription_type     distance  \\\n",
       "16647     1432    Федор   23          Тюмень              free  3565.105045   \n",
       "12371     1130    Мария   22  Ростов-на-Дону              free   987.618579   \n",
       "14236     1260  Одиссей   26          Москва              free  5237.070637   \n",
       "14318     1266  Альберт   22       Пятигорск              free  4846.025990   \n",
       "6933       729    Арсен   27    Екатеринбург              free  3197.284798   \n",
       "\n",
       "        duration       date  month  month_cal  minute_price  start_ride_price  \\\n",
       "16647  20.454331 2021-03-13      3 2021-03-01             8                50   \n",
       "12371   7.116326 2021-03-01      3 2021-03-01             8                50   \n",
       "14236  17.474141 2021-08-30      8 2021-08-01             8                50   \n",
       "14318  29.432869 2021-03-27      3 2021-03-01             8                50   \n",
       "6933   10.105077 2021-11-13     11 2021-11-01             8                50   \n",
       "\n",
       "       subscription_fee  \n",
       "16647                 0  \n",
       "12371                 0  \n",
       "14236                 0  \n",
       "14318                 0  \n",
       "6933                  0  "
      ]
     },
     "execution_count": 27,
     "metadata": {},
     "output_type": "execute_result"
    }
   ],
   "source": [
    "# создание таблицы с поездками пользователей без подписки\n",
    "free = data.query(\"subscription_type == 'free'\") \n",
    "display(free.describe())\n",
    "free.sample(5, random_state=5)"
   ]
  },
  {
   "cell_type": "code",
   "execution_count": 28,
   "id": "86efe24b",
   "metadata": {},
   "outputs": [
    {
     "data": {
      "text/html": [
       "<div>\n",
       "<style scoped>\n",
       "    .dataframe tbody tr th:only-of-type {\n",
       "        vertical-align: middle;\n",
       "    }\n",
       "\n",
       "    .dataframe tbody tr th {\n",
       "        vertical-align: top;\n",
       "    }\n",
       "\n",
       "    .dataframe thead th {\n",
       "        text-align: right;\n",
       "    }\n",
       "</style>\n",
       "<table border=\"1\" class=\"dataframe\">\n",
       "  <thead>\n",
       "    <tr style=\"text-align: right;\">\n",
       "      <th></th>\n",
       "      <th>user_id</th>\n",
       "      <th>age</th>\n",
       "      <th>distance</th>\n",
       "      <th>duration</th>\n",
       "      <th>month</th>\n",
       "      <th>minute_price</th>\n",
       "      <th>start_ride_price</th>\n",
       "      <th>subscription_fee</th>\n",
       "    </tr>\n",
       "  </thead>\n",
       "  <tbody>\n",
       "    <tr>\n",
       "      <th>count</th>\n",
       "      <td>6500.000000</td>\n",
       "      <td>6500.000000</td>\n",
       "      <td>6500.000000</td>\n",
       "      <td>6500.000000</td>\n",
       "      <td>6500.000000</td>\n",
       "      <td>6500.0</td>\n",
       "      <td>6500.0</td>\n",
       "      <td>6500.0</td>\n",
       "    </tr>\n",
       "    <tr>\n",
       "      <th>mean</th>\n",
       "      <td>348.725385</td>\n",
       "      <td>24.892615</td>\n",
       "      <td>3115.445388</td>\n",
       "      <td>18.541985</td>\n",
       "      <td>6.422308</td>\n",
       "      <td>6.0</td>\n",
       "      <td>0.0</td>\n",
       "      <td>199.0</td>\n",
       "    </tr>\n",
       "    <tr>\n",
       "      <th>std</th>\n",
       "      <td>201.099339</td>\n",
       "      <td>4.757208</td>\n",
       "      <td>836.895330</td>\n",
       "      <td>5.572048</td>\n",
       "      <td>3.414616</td>\n",
       "      <td>0.0</td>\n",
       "      <td>0.0</td>\n",
       "      <td>0.0</td>\n",
       "    </tr>\n",
       "    <tr>\n",
       "      <th>min</th>\n",
       "      <td>1.000000</td>\n",
       "      <td>12.000000</td>\n",
       "      <td>244.210438</td>\n",
       "      <td>3.760353</td>\n",
       "      <td>1.000000</td>\n",
       "      <td>6.0</td>\n",
       "      <td>0.0</td>\n",
       "      <td>199.0</td>\n",
       "    </tr>\n",
       "    <tr>\n",
       "      <th>25%</th>\n",
       "      <td>175.000000</td>\n",
       "      <td>22.000000</td>\n",
       "      <td>2785.444017</td>\n",
       "      <td>14.524654</td>\n",
       "      <td>4.000000</td>\n",
       "      <td>6.0</td>\n",
       "      <td>0.0</td>\n",
       "      <td>199.0</td>\n",
       "    </tr>\n",
       "    <tr>\n",
       "      <th>50%</th>\n",
       "      <td>351.000000</td>\n",
       "      <td>25.000000</td>\n",
       "      <td>3148.637229</td>\n",
       "      <td>18.178153</td>\n",
       "      <td>6.000000</td>\n",
       "      <td>6.0</td>\n",
       "      <td>0.0</td>\n",
       "      <td>199.0</td>\n",
       "    </tr>\n",
       "    <tr>\n",
       "      <th>75%</th>\n",
       "      <td>525.000000</td>\n",
       "      <td>28.000000</td>\n",
       "      <td>3560.574425</td>\n",
       "      <td>21.884129</td>\n",
       "      <td>9.000000</td>\n",
       "      <td>6.0</td>\n",
       "      <td>0.0</td>\n",
       "      <td>199.0</td>\n",
       "    </tr>\n",
       "    <tr>\n",
       "      <th>max</th>\n",
       "      <td>699.000000</td>\n",
       "      <td>38.000000</td>\n",
       "      <td>5699.769662</td>\n",
       "      <td>40.823963</td>\n",
       "      <td>12.000000</td>\n",
       "      <td>6.0</td>\n",
       "      <td>0.0</td>\n",
       "      <td>199.0</td>\n",
       "    </tr>\n",
       "  </tbody>\n",
       "</table>\n",
       "</div>"
      ],
      "text/plain": [
       "           user_id          age     distance     duration        month  \\\n",
       "count  6500.000000  6500.000000  6500.000000  6500.000000  6500.000000   \n",
       "mean    348.725385    24.892615  3115.445388    18.541985     6.422308   \n",
       "std     201.099339     4.757208   836.895330     5.572048     3.414616   \n",
       "min       1.000000    12.000000   244.210438     3.760353     1.000000   \n",
       "25%     175.000000    22.000000  2785.444017    14.524654     4.000000   \n",
       "50%     351.000000    25.000000  3148.637229    18.178153     6.000000   \n",
       "75%     525.000000    28.000000  3560.574425    21.884129     9.000000   \n",
       "max     699.000000    38.000000  5699.769662    40.823963    12.000000   \n",
       "\n",
       "       minute_price  start_ride_price  subscription_fee  \n",
       "count        6500.0            6500.0            6500.0  \n",
       "mean            6.0               0.0             199.0  \n",
       "std             0.0               0.0               0.0  \n",
       "min             6.0               0.0             199.0  \n",
       "25%             6.0               0.0             199.0  \n",
       "50%             6.0               0.0             199.0  \n",
       "75%             6.0               0.0             199.0  \n",
       "max             6.0               0.0             199.0  "
      ]
     },
     "metadata": {},
     "output_type": "display_data"
    },
    {
     "data": {
      "text/html": [
       "<div>\n",
       "<style scoped>\n",
       "    .dataframe tbody tr th:only-of-type {\n",
       "        vertical-align: middle;\n",
       "    }\n",
       "\n",
       "    .dataframe tbody tr th {\n",
       "        vertical-align: top;\n",
       "    }\n",
       "\n",
       "    .dataframe thead th {\n",
       "        text-align: right;\n",
       "    }\n",
       "</style>\n",
       "<table border=\"1\" class=\"dataframe\">\n",
       "  <thead>\n",
       "    <tr style=\"text-align: right;\">\n",
       "      <th></th>\n",
       "      <th>user_id</th>\n",
       "      <th>name</th>\n",
       "      <th>age</th>\n",
       "      <th>city</th>\n",
       "      <th>subscription_type</th>\n",
       "      <th>distance</th>\n",
       "      <th>duration</th>\n",
       "      <th>date</th>\n",
       "      <th>month</th>\n",
       "      <th>month_cal</th>\n",
       "      <th>minute_price</th>\n",
       "      <th>start_ride_price</th>\n",
       "      <th>subscription_fee</th>\n",
       "    </tr>\n",
       "  </thead>\n",
       "  <tbody>\n",
       "    <tr>\n",
       "      <th>2361</th>\n",
       "      <td>251</td>\n",
       "      <td>Василий</td>\n",
       "      <td>20</td>\n",
       "      <td>Сочи</td>\n",
       "      <td>ultra</td>\n",
       "      <td>2510.175651</td>\n",
       "      <td>20.171930</td>\n",
       "      <td>2021-04-14</td>\n",
       "      <td>4</td>\n",
       "      <td>2021-04-01</td>\n",
       "      <td>6</td>\n",
       "      <td>0</td>\n",
       "      <td>199</td>\n",
       "    </tr>\n",
       "    <tr>\n",
       "      <th>1170</th>\n",
       "      <td>125</td>\n",
       "      <td>Андрей</td>\n",
       "      <td>20</td>\n",
       "      <td>Тюмень</td>\n",
       "      <td>ultra</td>\n",
       "      <td>2629.937807</td>\n",
       "      <td>17.069087</td>\n",
       "      <td>2021-08-25</td>\n",
       "      <td>8</td>\n",
       "      <td>2021-08-01</td>\n",
       "      <td>6</td>\n",
       "      <td>0</td>\n",
       "      <td>199</td>\n",
       "    </tr>\n",
       "    <tr>\n",
       "      <th>3196</th>\n",
       "      <td>346</td>\n",
       "      <td>Родион</td>\n",
       "      <td>22</td>\n",
       "      <td>Тюмень</td>\n",
       "      <td>ultra</td>\n",
       "      <td>3419.323760</td>\n",
       "      <td>23.781494</td>\n",
       "      <td>2021-09-28</td>\n",
       "      <td>9</td>\n",
       "      <td>2021-09-01</td>\n",
       "      <td>6</td>\n",
       "      <td>0</td>\n",
       "      <td>199</td>\n",
       "    </tr>\n",
       "    <tr>\n",
       "      <th>1701</th>\n",
       "      <td>184</td>\n",
       "      <td>Эльвира</td>\n",
       "      <td>15</td>\n",
       "      <td>Пятигорск</td>\n",
       "      <td>ultra</td>\n",
       "      <td>3778.142903</td>\n",
       "      <td>23.437583</td>\n",
       "      <td>2021-04-20</td>\n",
       "      <td>4</td>\n",
       "      <td>2021-04-01</td>\n",
       "      <td>6</td>\n",
       "      <td>0</td>\n",
       "      <td>199</td>\n",
       "    </tr>\n",
       "    <tr>\n",
       "      <th>1367</th>\n",
       "      <td>147</td>\n",
       "      <td>Артемий</td>\n",
       "      <td>28</td>\n",
       "      <td>Ростов-на-Дону</td>\n",
       "      <td>ultra</td>\n",
       "      <td>4151.389212</td>\n",
       "      <td>32.160258</td>\n",
       "      <td>2021-11-28</td>\n",
       "      <td>11</td>\n",
       "      <td>2021-11-01</td>\n",
       "      <td>6</td>\n",
       "      <td>0</td>\n",
       "      <td>199</td>\n",
       "    </tr>\n",
       "  </tbody>\n",
       "</table>\n",
       "</div>"
      ],
      "text/plain": [
       "      user_id     name  age            city subscription_type     distance  \\\n",
       "2361      251  Василий   20            Сочи             ultra  2510.175651   \n",
       "1170      125   Андрей   20          Тюмень             ultra  2629.937807   \n",
       "3196      346   Родион   22          Тюмень             ultra  3419.323760   \n",
       "1701      184  Эльвира   15       Пятигорск             ultra  3778.142903   \n",
       "1367      147  Артемий   28  Ростов-на-Дону             ultra  4151.389212   \n",
       "\n",
       "       duration       date  month  month_cal  minute_price  start_ride_price  \\\n",
       "2361  20.171930 2021-04-14      4 2021-04-01             6                 0   \n",
       "1170  17.069087 2021-08-25      8 2021-08-01             6                 0   \n",
       "3196  23.781494 2021-09-28      9 2021-09-01             6                 0   \n",
       "1701  23.437583 2021-04-20      4 2021-04-01             6                 0   \n",
       "1367  32.160258 2021-11-28     11 2021-11-01             6                 0   \n",
       "\n",
       "      subscription_fee  \n",
       "2361               199  \n",
       "1170               199  \n",
       "3196               199  \n",
       "1701               199  \n",
       "1367               199  "
      ]
     },
     "execution_count": 28,
     "metadata": {},
     "output_type": "execute_result"
    }
   ],
   "source": [
    "# создание таблицы с поездками пользователей с подпиской\n",
    "ultra = data.query(\"subscription_type == 'ultra'\")\n",
    "display(ultra.describe())\n",
    "ultra.sample(5, random_state=5)"
   ]
  },
  {
   "cell_type": "markdown",
   "id": "f6ab71dc",
   "metadata": {},
   "source": [
    "Пользователей без подписки больше на пару сотен, но поездок у таких пользователей больше почти в 2 раза. Сбои по времени поездок связаны только с пользователями без подписки.\n",
    "\n",
    "### Анализ объединённых данных"
   ]
  },
  {
   "cell_type": "code",
   "execution_count": 29,
   "id": "b21c1de9",
   "metadata": {},
   "outputs": [
    {
     "data": {
      "image/png": "[encoded data removed]",
      "text/plain": [
       "<Figure size 1008x432 with 1 Axes>"
      ]
     },
     "metadata": {},
     "output_type": "display_data"
    }
   ],
   "source": [
    "fig, ax = plt.subplots(1, 1)\n",
    "fig.set_size_inches(14, 6)\n",
    "ax.hist(free['duration'],label=\"Без подписки\", bins=40, alpha=.5)\n",
    "ax.hist(ultra['duration'],label=\"Подписка Ultra\", bins=40, alpha=.5)\n",
    "ax.set_title('Соотношение между пользователями и временем поездок')\n",
    "ax.set_xlabel('Длительность, мин')\n",
    "ax.set_ylabel('К-во пользователей')\n",
    "ax.legend()\n",
    "plt.show()"
   ]
  },
  {
   "cell_type": "markdown",
   "id": "3a02b25d",
   "metadata": {},
   "source": [
    "Типы распределений похожи, а различаются распределения по каличеству данных."
   ]
  },
  {
   "cell_type": "code",
   "execution_count": 30,
   "id": "11512d30",
   "metadata": {},
   "outputs": [
    {
     "data": {
      "image/png": "[encoded data removed]",
      "text/plain": [
       "<Figure size 1008x432 with 1 Axes>"
      ]
     },
     "metadata": {},
     "output_type": "display_data"
    }
   ],
   "source": [
    "fig, ax = plt.subplots(1, 1)\n",
    "fig.set_size_inches(14, 6)\n",
    "ax.hist(free['distance'],label=\"Без подписки\", bins=100, alpha=.5)\n",
    "ax.hist(ultra['distance'],label=\"Подписка Ultra\", bins=100, alpha=.5)\n",
    "ax.set_title('Соотношение между пользователями и дистанцией поездок')\n",
    "ax.set_xlabel('Дистанция, м')\n",
    "ax.set_ylabel('К-во пользователей')\n",
    "ax.legend()\n",
    "plt.show()"
   ]
  },
  {
   "cell_type": "markdown",
   "id": "a12e1572",
   "metadata": {},
   "source": [
    "По дистанции поездок есть интересные особенности. Как уже было сказано, аномально короткие дистанции связаны с пользователями без подписки. Возможно, дело не в разряженных самокатах, а в неудачных попытках авторизации в сервисе пользователей без подписки. Пользователи с подпиской чаще предпочитали поездки с расстоянием примерно от 2.5 до 3.5 км, а, следовательно, брали подписку, рассчитывая свои целенаправленные спланированные поездки. У пользователей без подписки этот интервал шире (примерно от 2 до 4.6 км).\n",
    "\n",
    "Как и в предыдущем случае, высоты границ распределений связаны с разным размером выборок."
   ]
  },
  {
   "cell_type": "code",
   "execution_count": 31,
   "id": "0399e848",
   "metadata": {
    "scrolled": true
   },
   "outputs": [
    {
     "data": {
      "image/png": "[encoded data removed]",
      "text/plain": [
       "<Figure size 1008x432 with 1 Axes>"
      ]
     },
     "metadata": {},
     "output_type": "display_data"
    }
   ],
   "source": [
    "fig, ax = plt.subplots(1, 1)\n",
    "fig.set_size_inches(14, 6)\n",
    "ax.hist(free['age'],label=\"Без подписки\", bins=29, alpha=.5)\n",
    "ax.hist(ultra['age'],label=\"Подписка Ultra\", bins=29, alpha=.5)\n",
    "ax.set_title('Соотношение между пользователями с подпиской и без неё по возрасту')\n",
    "ax.set_xlabel('Возраст')\n",
    "ax.set_ylabel('К-во пользователей')\n",
    "ax.legend()\n",
    "plt.show()"
   ]
  },
  {
   "cell_type": "markdown",
   "id": "f158a20b",
   "metadata": {},
   "source": [
    "Распределение по возрастам тоже подверглось влиянию соотношения величин групп пользователей с подпиской и без неё. Некоторые возраста пользователей конкретных категорий отсутствуют. Среди пользователей конкретных возрастов есть преобладания пользователей с подпиской, но они редки."
   ]
  },
  {
   "cell_type": "markdown",
   "id": "402d620f",
   "metadata": {},
   "source": [
    "## Шаг 5. Подсчёт выручки\n",
    "\n",
    "Создадим сводую таблицу для удобного расчёта помесячной выручки с пользователей."
   ]
  },
  {
   "cell_type": "code",
   "execution_count": 32,
   "id": "6073c9c6",
   "metadata": {},
   "outputs": [
    {
     "data": {
      "text/html": [
       "<div>\n",
       "<style scoped>\n",
       "    .dataframe tbody tr th:only-of-type {\n",
       "        vertical-align: middle;\n",
       "    }\n",
       "\n",
       "    .dataframe tbody tr th {\n",
       "        vertical-align: top;\n",
       "    }\n",
       "\n",
       "    .dataframe thead th {\n",
       "        text-align: right;\n",
       "    }\n",
       "</style>\n",
       "<table border=\"1\" class=\"dataframe\">\n",
       "  <thead>\n",
       "    <tr style=\"text-align: right;\">\n",
       "      <th></th>\n",
       "      <th></th>\n",
       "      <th>distance</th>\n",
       "      <th>duration</th>\n",
       "      <th>minute_price</th>\n",
       "      <th>count</th>\n",
       "      <th>start_ride_price</th>\n",
       "      <th>subscription_fee</th>\n",
       "    </tr>\n",
       "    <tr>\n",
       "      <th>user_id</th>\n",
       "      <th>month_cal</th>\n",
       "      <th></th>\n",
       "      <th></th>\n",
       "      <th></th>\n",
       "      <th></th>\n",
       "      <th></th>\n",
       "      <th></th>\n",
       "    </tr>\n",
       "  </thead>\n",
       "  <tbody>\n",
       "    <tr>\n",
       "      <th rowspan=\"5\" valign=\"top\">1</th>\n",
       "      <th>2021-01-01</th>\n",
       "      <td>7027.511294</td>\n",
       "      <td>42.0</td>\n",
       "      <td>6</td>\n",
       "      <td>2</td>\n",
       "      <td>0</td>\n",
       "      <td>199</td>\n",
       "    </tr>\n",
       "    <tr>\n",
       "      <th>2021-04-01</th>\n",
       "      <td>754.159807</td>\n",
       "      <td>7.0</td>\n",
       "      <td>6</td>\n",
       "      <td>1</td>\n",
       "      <td>0</td>\n",
       "      <td>199</td>\n",
       "    </tr>\n",
       "    <tr>\n",
       "      <th>2021-08-01</th>\n",
       "      <td>6723.470560</td>\n",
       "      <td>45.0</td>\n",
       "      <td>6</td>\n",
       "      <td>2</td>\n",
       "      <td>0</td>\n",
       "      <td>199</td>\n",
       "    </tr>\n",
       "    <tr>\n",
       "      <th>2021-10-01</th>\n",
       "      <td>5809.911100</td>\n",
       "      <td>32.0</td>\n",
       "      <td>6</td>\n",
       "      <td>2</td>\n",
       "      <td>0</td>\n",
       "      <td>199</td>\n",
       "    </tr>\n",
       "    <tr>\n",
       "      <th>2021-11-01</th>\n",
       "      <td>7003.499363</td>\n",
       "      <td>54.0</td>\n",
       "      <td>6</td>\n",
       "      <td>3</td>\n",
       "      <td>0</td>\n",
       "      <td>199</td>\n",
       "    </tr>\n",
       "    <tr>\n",
       "      <th>...</th>\n",
       "      <th>...</th>\n",
       "      <td>...</td>\n",
       "      <td>...</td>\n",
       "      <td>...</td>\n",
       "      <td>...</td>\n",
       "      <td>...</td>\n",
       "      <td>...</td>\n",
       "    </tr>\n",
       "    <tr>\n",
       "      <th rowspan=\"5\" valign=\"top\">1534</th>\n",
       "      <th>2021-06-01</th>\n",
       "      <td>3409.468534</td>\n",
       "      <td>25.0</td>\n",
       "      <td>8</td>\n",
       "      <td>2</td>\n",
       "      <td>50</td>\n",
       "      <td>0</td>\n",
       "    </tr>\n",
       "    <tr>\n",
       "      <th>2021-08-01</th>\n",
       "      <td>7622.453034</td>\n",
       "      <td>48.0</td>\n",
       "      <td>8</td>\n",
       "      <td>2</td>\n",
       "      <td>50</td>\n",
       "      <td>0</td>\n",
       "    </tr>\n",
       "    <tr>\n",
       "      <th>2021-09-01</th>\n",
       "      <td>4928.173852</td>\n",
       "      <td>23.0</td>\n",
       "      <td>8</td>\n",
       "      <td>1</td>\n",
       "      <td>50</td>\n",
       "      <td>0</td>\n",
       "    </tr>\n",
       "    <tr>\n",
       "      <th>2021-11-01</th>\n",
       "      <td>13350.015305</td>\n",
       "      <td>77.0</td>\n",
       "      <td>8</td>\n",
       "      <td>4</td>\n",
       "      <td>50</td>\n",
       "      <td>0</td>\n",
       "    </tr>\n",
       "    <tr>\n",
       "      <th>2021-12-01</th>\n",
       "      <td>2371.711192</td>\n",
       "      <td>16.0</td>\n",
       "      <td>8</td>\n",
       "      <td>1</td>\n",
       "      <td>50</td>\n",
       "      <td>0</td>\n",
       "    </tr>\n",
       "  </tbody>\n",
       "</table>\n",
       "<p>11331 rows × 6 columns</p>\n",
       "</div>"
      ],
      "text/plain": [
       "                        distance  duration  minute_price  count  \\\n",
       "user_id month_cal                                                 \n",
       "1       2021-01-01   7027.511294      42.0             6      2   \n",
       "        2021-04-01    754.159807       7.0             6      1   \n",
       "        2021-08-01   6723.470560      45.0             6      2   \n",
       "        2021-10-01   5809.911100      32.0             6      2   \n",
       "        2021-11-01   7003.499363      54.0             6      3   \n",
       "...                          ...       ...           ...    ...   \n",
       "1534    2021-06-01   3409.468534      25.0             8      2   \n",
       "        2021-08-01   7622.453034      48.0             8      2   \n",
       "        2021-09-01   4928.173852      23.0             8      1   \n",
       "        2021-11-01  13350.015305      77.0             8      4   \n",
       "        2021-12-01   2371.711192      16.0             8      1   \n",
       "\n",
       "                    start_ride_price  subscription_fee  \n",
       "user_id month_cal                                       \n",
       "1       2021-01-01                 0               199  \n",
       "        2021-04-01                 0               199  \n",
       "        2021-08-01                 0               199  \n",
       "        2021-10-01                 0               199  \n",
       "        2021-11-01                 0               199  \n",
       "...                              ...               ...  \n",
       "1534    2021-06-01                50                 0  \n",
       "        2021-08-01                50                 0  \n",
       "        2021-09-01                50                 0  \n",
       "        2021-11-01                50                 0  \n",
       "        2021-12-01                50                 0  \n",
       "\n",
       "[11331 rows x 6 columns]"
      ]
     },
     "execution_count": 32,
     "metadata": {},
     "output_type": "execute_result"
    }
   ],
   "source": [
    "total_data = data.pivot_table(\n",
    "    index=('user_id', 'month_cal'), \n",
    "    values=[\n",
    "        'distance', \n",
    "        'duration',\n",
    "        'name',\n",
    "        'minute_price', \n",
    "        'start_ride_price', \n",
    "        'subscription_fee',\n",
    "    ], \n",
    "    aggfunc = {'name' : len,\n",
    "               'distance': sum, \n",
    "               'duration' : sum, \n",
    "               'minute_price' : min, \n",
    "               'start_ride_price' : min, \n",
    "               'subscription_fee': min})\n",
    "total_data.rename(columns = {'name' : 'count'}, inplace = True)\n",
    "total_data['duration'] = np.ceil(total_data['duration']) # округление продолжительности поездок\n",
    "total_data"
   ]
  },
  {
   "cell_type": "markdown",
   "id": "70d54748",
   "metadata": {},
   "source": [
    "Помесячная выручка считается по формуле: стоимость старта поездки ×  количество поездок +\n",
    "стоимость одной минуты поездки × общая продолжительность всех поездок в минутах + стоимость подписки."
   ]
  },
  {
   "cell_type": "code",
   "execution_count": 33,
   "id": "1445de7c",
   "metadata": {},
   "outputs": [
    {
     "data": {
      "text/html": [
       "<div>\n",
       "<style scoped>\n",
       "    .dataframe tbody tr th:only-of-type {\n",
       "        vertical-align: middle;\n",
       "    }\n",
       "\n",
       "    .dataframe tbody tr th {\n",
       "        vertical-align: top;\n",
       "    }\n",
       "\n",
       "    .dataframe thead th {\n",
       "        text-align: right;\n",
       "    }\n",
       "</style>\n",
       "<table border=\"1\" class=\"dataframe\">\n",
       "  <thead>\n",
       "    <tr style=\"text-align: right;\">\n",
       "      <th></th>\n",
       "      <th></th>\n",
       "      <th>distance</th>\n",
       "      <th>duration</th>\n",
       "      <th>minute_price</th>\n",
       "      <th>count</th>\n",
       "      <th>start_ride_price</th>\n",
       "      <th>subscription_fee</th>\n",
       "      <th>month_income</th>\n",
       "    </tr>\n",
       "    <tr>\n",
       "      <th>user_id</th>\n",
       "      <th>month_cal</th>\n",
       "      <th></th>\n",
       "      <th></th>\n",
       "      <th></th>\n",
       "      <th></th>\n",
       "      <th></th>\n",
       "      <th></th>\n",
       "      <th></th>\n",
       "    </tr>\n",
       "  </thead>\n",
       "  <tbody>\n",
       "    <tr>\n",
       "      <th rowspan=\"5\" valign=\"top\">1</th>\n",
       "      <th>2021-01-01</th>\n",
       "      <td>7027.511294</td>\n",
       "      <td>42.0</td>\n",
       "      <td>6</td>\n",
       "      <td>2</td>\n",
       "      <td>0</td>\n",
       "      <td>199</td>\n",
       "      <td>451.0</td>\n",
       "    </tr>\n",
       "    <tr>\n",
       "      <th>2021-04-01</th>\n",
       "      <td>754.159807</td>\n",
       "      <td>7.0</td>\n",
       "      <td>6</td>\n",
       "      <td>1</td>\n",
       "      <td>0</td>\n",
       "      <td>199</td>\n",
       "      <td>241.0</td>\n",
       "    </tr>\n",
       "    <tr>\n",
       "      <th>2021-08-01</th>\n",
       "      <td>6723.470560</td>\n",
       "      <td>45.0</td>\n",
       "      <td>6</td>\n",
       "      <td>2</td>\n",
       "      <td>0</td>\n",
       "      <td>199</td>\n",
       "      <td>469.0</td>\n",
       "    </tr>\n",
       "    <tr>\n",
       "      <th>2021-10-01</th>\n",
       "      <td>5809.911100</td>\n",
       "      <td>32.0</td>\n",
       "      <td>6</td>\n",
       "      <td>2</td>\n",
       "      <td>0</td>\n",
       "      <td>199</td>\n",
       "      <td>391.0</td>\n",
       "    </tr>\n",
       "    <tr>\n",
       "      <th>2021-11-01</th>\n",
       "      <td>7003.499363</td>\n",
       "      <td>54.0</td>\n",
       "      <td>6</td>\n",
       "      <td>3</td>\n",
       "      <td>0</td>\n",
       "      <td>199</td>\n",
       "      <td>523.0</td>\n",
       "    </tr>\n",
       "    <tr>\n",
       "      <th>...</th>\n",
       "      <th>...</th>\n",
       "      <td>...</td>\n",
       "      <td>...</td>\n",
       "      <td>...</td>\n",
       "      <td>...</td>\n",
       "      <td>...</td>\n",
       "      <td>...</td>\n",
       "      <td>...</td>\n",
       "    </tr>\n",
       "    <tr>\n",
       "      <th rowspan=\"5\" valign=\"top\">1534</th>\n",
       "      <th>2021-06-01</th>\n",
       "      <td>3409.468534</td>\n",
       "      <td>25.0</td>\n",
       "      <td>8</td>\n",
       "      <td>2</td>\n",
       "      <td>50</td>\n",
       "      <td>0</td>\n",
       "      <td>300.0</td>\n",
       "    </tr>\n",
       "    <tr>\n",
       "      <th>2021-08-01</th>\n",
       "      <td>7622.453034</td>\n",
       "      <td>48.0</td>\n",
       "      <td>8</td>\n",
       "      <td>2</td>\n",
       "      <td>50</td>\n",
       "      <td>0</td>\n",
       "      <td>484.0</td>\n",
       "    </tr>\n",
       "    <tr>\n",
       "      <th>2021-09-01</th>\n",
       "      <td>4928.173852</td>\n",
       "      <td>23.0</td>\n",
       "      <td>8</td>\n",
       "      <td>1</td>\n",
       "      <td>50</td>\n",
       "      <td>0</td>\n",
       "      <td>234.0</td>\n",
       "    </tr>\n",
       "    <tr>\n",
       "      <th>2021-11-01</th>\n",
       "      <td>13350.015305</td>\n",
       "      <td>77.0</td>\n",
       "      <td>8</td>\n",
       "      <td>4</td>\n",
       "      <td>50</td>\n",
       "      <td>0</td>\n",
       "      <td>816.0</td>\n",
       "    </tr>\n",
       "    <tr>\n",
       "      <th>2021-12-01</th>\n",
       "      <td>2371.711192</td>\n",
       "      <td>16.0</td>\n",
       "      <td>8</td>\n",
       "      <td>1</td>\n",
       "      <td>50</td>\n",
       "      <td>0</td>\n",
       "      <td>178.0</td>\n",
       "    </tr>\n",
       "  </tbody>\n",
       "</table>\n",
       "<p>11331 rows × 7 columns</p>\n",
       "</div>"
      ],
      "text/plain": [
       "                        distance  duration  minute_price  count  \\\n",
       "user_id month_cal                                                 \n",
       "1       2021-01-01   7027.511294      42.0             6      2   \n",
       "        2021-04-01    754.159807       7.0             6      1   \n",
       "        2021-08-01   6723.470560      45.0             6      2   \n",
       "        2021-10-01   5809.911100      32.0             6      2   \n",
       "        2021-11-01   7003.499363      54.0             6      3   \n",
       "...                          ...       ...           ...    ...   \n",
       "1534    2021-06-01   3409.468534      25.0             8      2   \n",
       "        2021-08-01   7622.453034      48.0             8      2   \n",
       "        2021-09-01   4928.173852      23.0             8      1   \n",
       "        2021-11-01  13350.015305      77.0             8      4   \n",
       "        2021-12-01   2371.711192      16.0             8      1   \n",
       "\n",
       "                    start_ride_price  subscription_fee  month_income  \n",
       "user_id month_cal                                                     \n",
       "1       2021-01-01                 0               199         451.0  \n",
       "        2021-04-01                 0               199         241.0  \n",
       "        2021-08-01                 0               199         469.0  \n",
       "        2021-10-01                 0               199         391.0  \n",
       "        2021-11-01                 0               199         523.0  \n",
       "...                              ...               ...           ...  \n",
       "1534    2021-06-01                50                 0         300.0  \n",
       "        2021-08-01                50                 0         484.0  \n",
       "        2021-09-01                50                 0         234.0  \n",
       "        2021-11-01                50                 0         816.0  \n",
       "        2021-12-01                50                 0         178.0  \n",
       "\n",
       "[11331 rows x 7 columns]"
      ]
     },
     "execution_count": 33,
     "metadata": {},
     "output_type": "execute_result"
    }
   ],
   "source": [
    "# рассчёт помесячной выручки\n",
    "total_data['month_income'] = (total_data['start_ride_price'] * total_data['count']) + (\n",
    "    total_data['minute_price'] * total_data['duration']) + total_data['subscription_fee']\n",
    "total_data"
   ]
  },
  {
   "cell_type": "code",
   "execution_count": 34,
   "id": "a79a8b77",
   "metadata": {},
   "outputs": [
    {
     "data": {
      "text/html": [
       "<div>\n",
       "<style scoped>\n",
       "    .dataframe tbody tr th:only-of-type {\n",
       "        vertical-align: middle;\n",
       "    }\n",
       "\n",
       "    .dataframe tbody tr th {\n",
       "        vertical-align: top;\n",
       "    }\n",
       "\n",
       "    .dataframe thead th {\n",
       "        text-align: right;\n",
       "    }\n",
       "</style>\n",
       "<table border=\"1\" class=\"dataframe\">\n",
       "  <thead>\n",
       "    <tr style=\"text-align: right;\">\n",
       "      <th>subscription_fee</th>\n",
       "      <th>0</th>\n",
       "      <th>199</th>\n",
       "    </tr>\n",
       "    <tr>\n",
       "      <th>month_cal</th>\n",
       "      <th></th>\n",
       "      <th></th>\n",
       "    </tr>\n",
       "  </thead>\n",
       "  <tbody>\n",
       "    <tr>\n",
       "      <th>2021-01-01</th>\n",
       "      <td>192362.0</td>\n",
       "      <td>143502.0</td>\n",
       "    </tr>\n",
       "    <tr>\n",
       "      <th>2021-02-01</th>\n",
       "      <td>164504.0</td>\n",
       "      <td>124266.0</td>\n",
       "    </tr>\n",
       "    <tr>\n",
       "      <th>2021-03-01</th>\n",
       "      <td>185638.0</td>\n",
       "      <td>142074.0</td>\n",
       "    </tr>\n",
       "    <tr>\n",
       "      <th>2021-04-01</th>\n",
       "      <td>183934.0</td>\n",
       "      <td>136826.0</td>\n",
       "    </tr>\n",
       "    <tr>\n",
       "      <th>2021-05-01</th>\n",
       "      <td>186334.0</td>\n",
       "      <td>148647.0</td>\n",
       "    </tr>\n",
       "    <tr>\n",
       "      <th>2021-06-01</th>\n",
       "      <td>190488.0</td>\n",
       "      <td>143342.0</td>\n",
       "    </tr>\n",
       "    <tr>\n",
       "      <th>2021-07-01</th>\n",
       "      <td>183558.0</td>\n",
       "      <td>142896.0</td>\n",
       "    </tr>\n",
       "    <tr>\n",
       "      <th>2021-08-01</th>\n",
       "      <td>185404.0</td>\n",
       "      <td>138096.0</td>\n",
       "    </tr>\n",
       "    <tr>\n",
       "      <th>2021-09-01</th>\n",
       "      <td>192100.0</td>\n",
       "      <td>128863.0</td>\n",
       "    </tr>\n",
       "    <tr>\n",
       "      <th>2021-10-01</th>\n",
       "      <td>179732.0</td>\n",
       "      <td>133446.0</td>\n",
       "    </tr>\n",
       "    <tr>\n",
       "      <th>2021-11-01</th>\n",
       "      <td>177604.0</td>\n",
       "      <td>126096.0</td>\n",
       "    </tr>\n",
       "    <tr>\n",
       "      <th>2021-12-01</th>\n",
       "      <td>193422.0</td>\n",
       "      <td>130543.0</td>\n",
       "    </tr>\n",
       "  </tbody>\n",
       "</table>\n",
       "</div>"
      ],
      "text/plain": [
       "subscription_fee       0         199\n",
       "month_cal                           \n",
       "2021-01-01        192362.0  143502.0\n",
       "2021-02-01        164504.0  124266.0\n",
       "2021-03-01        185638.0  142074.0\n",
       "2021-04-01        183934.0  136826.0\n",
       "2021-05-01        186334.0  148647.0\n",
       "2021-06-01        190488.0  143342.0\n",
       "2021-07-01        183558.0  142896.0\n",
       "2021-08-01        185404.0  138096.0\n",
       "2021-09-01        192100.0  128863.0\n",
       "2021-10-01        179732.0  133446.0\n",
       "2021-11-01        177604.0  126096.0\n",
       "2021-12-01        193422.0  130543.0"
      ]
     },
     "metadata": {},
     "output_type": "display_data"
    },
    {
     "data": {
      "image/png": "[encoded data removed]",
      "text/plain": [
       "<Figure size 1080x720 with 1 Axes>"
      ]
     },
     "metadata": {},
     "output_type": "display_data"
    },
    {
     "name": "stdout",
     "output_type": "stream",
     "text": [
      "Средняя суммарная ежемесячная выручка c пользователей без подписки \n",
      "за анализируемый период времени: 184590.0 рублей\n",
      "\n",
      "Средняя суммарная ежемесячная выручка c пользователей с подпиской \n",
      "за анализируемый период времени: 136549.75 рублей\n",
      "\n",
      "Суммарная выручка c пользователей без подписки \n",
      "за анализируемый период времени: 2215080.0 рублей\n",
      "\n",
      "Суммарная выручка c пользователей с подпиской \n",
      "за анализируемый период времени: 1638597.0 рублей\n"
     ]
    }
   ],
   "source": [
    "total_data_new = total_data.pivot_table(index='month_cal',\n",
    "                columns='subscription_fee',\n",
    "                values='month_income',\n",
    "                aggfunc='sum')\n",
    "display(total_data_new)\n",
    "total_data_new.plot(grid=True, figsize=(15, 10))\n",
    "plt.legend(['Без подписки', 'С подпиской Ultra'])\n",
    "plt.title('Динамика выручки по месяцам относительно пользователей с подпиской и без неё')\n",
    "plt.xlabel('Дата')\n",
    "plt.ylabel('Выручка')\n",
    "plt.show()\n",
    "print('''Средняя суммарная ежемесячная выручка c пользователей без подписки \n",
    "за анализируемый период времени:''', round(total_data_new[0].mean(),2), 'рублей')\n",
    "print()\n",
    "print('''Средняя суммарная ежемесячная выручка c пользователей с подпиской \n",
    "за анализируемый период времени:''', round(total_data_new[199].mean(),2), 'рублей')\n",
    "print()\n",
    "print('''Суммарная выручка c пользователей без подписки \n",
    "за анализируемый период времени:''', round(total_data_new[0].sum(),2), 'рублей')\n",
    "print()\n",
    "print('''Суммарная выручка c пользователей с подпиской \n",
    "за анализируемый период времени:''', round(total_data_new[199].sum(),2), 'рублей')"
   ]
  },
  {
   "cell_type": "code",
   "execution_count": 35,
   "id": "856b99be",
   "metadata": {},
   "outputs": [
    {
     "name": "stdout",
     "output_type": "stream",
     "text": [
      "Общая выручка за анализируемый период времени: 3853677.0 рублей\n",
      "Средняя ежемесячная выручка по пользователям за анализируемый период времени: 340.1 рублей\n"
     ]
    }
   ],
   "source": [
    "print('Общая выручка за анализируемый период времени:', total_data.month_income.sum(), 'рублей')\n",
    "print('Средняя ежемесячная выручка по пользователям за анализируемый период времени:',\n",
    "      round(total_data.month_income.mean(),2), 'рублей')"
   ]
  },
  {
   "cell_type": "markdown",
   "id": "ddc668bc",
   "metadata": {},
   "source": [
    "**В среднем, пользователи без подписки приносят больше денег компании.**"
   ]
  },
  {
   "cell_type": "markdown",
   "id": "41545ac0",
   "metadata": {},
   "source": [
    "## Шаг 6. Проверка гипотез\n",
    "### Гипотеза 1\n",
    "Важно понять, тратят ли пользователи с подпиской больше времени на поездки? Если да, то пользователи с подпиской могут быть «выгоднее» для компании.\n",
    "\n",
    "**Гипотеза Н0**: Средняя продолжительность поездок с подпиской и без неё равна.\n",
    "\n",
    "**Гипотеза Н1**: Средняя продолжительность поездок с подпиской БОЛЬШЕ, чем без подписки.\n",
    "\n",
    "*alpha = 0.05*"
   ]
  },
  {
   "cell_type": "code",
   "execution_count": 36,
   "id": "23ea867b",
   "metadata": {},
   "outputs": [
    {
     "name": "stdout",
     "output_type": "stream",
     "text": [
      "Средняя продолжительность поездок у пользователей с подпиской 18.54198516280583\n",
      "Средняя продолжительность поездок у пользователей без подписки 17.39090929866399\n",
      "p-значение 5.6757813771289775e-37\n",
      "Отвергаем нулевую гипотезу\n"
     ]
    }
   ],
   "source": [
    "ultra_du = ultra['duration'] \n",
    "free_du = free['duration']\n",
    "\n",
    "# две независимые выборки\n",
    "results = st.ttest_ind(ultra_du, free_du, equal_var=False, alternative = 'greater') \n",
    "\n",
    "alpha = 0.05\n",
    "\n",
    "print('Средняя продолжительность поездок у пользователей с подпиской', ultra['duration'].mean())\n",
    "print('Средняя продолжительность поездок у пользователей без подписки', free['duration'].mean())\n",
    "print('p-значение',results.pvalue)\n",
    "\n",
    "if results.pvalue < alpha:\n",
    "    print('Отвергаем нулевую гипотезу')\n",
    "else:\n",
    "    print('Не удалось отвергнуть нулевую гипотезу')"
   ]
  },
  {
   "cell_type": "markdown",
   "id": "08127fdf",
   "metadata": {},
   "source": [
    "Средняя продолжительность поездок у пользователей с подпиской больше. "
   ]
  },
  {
   "cell_type": "markdown",
   "id": "46f58601",
   "metadata": {},
   "source": [
    "### Гипотеза 2\n",
    "Расстояние одной поездки в 3130 метров — оптимальное с точки зрения износа самоката. Можно ли сказать, что среднее расстояние, которое проезжают пользователи с подпиской за одну поездку, не превышает 3130 метров?\n",
    "\n",
    "**Гипотеза Н0**: Среднее расстояние , которое проезжают пользователи с подпиской за одну поездку, равно 3130 метрам.\n",
    "\n",
    "**Гипотеза Н1**: Среднее расстояние , которое проезжают пользователи с подпиской за одну поездку, БОЛЬШЕ 3130 метров.\n",
    "\n",
    "*alpha = 0.05*"
   ]
  },
  {
   "cell_type": "code",
   "execution_count": 37,
   "id": "34dbc0a7",
   "metadata": {},
   "outputs": [
    {
     "name": "stdout",
     "output_type": "stream",
     "text": [
      "Средняя продолжительность поездок у пользователей с подпиской 3115.4453880370247\n",
      "p-значение 0.9195368847849785\n",
      "Не удалось отвергнуть нулевую гипотезу\n"
     ]
    }
   ],
   "source": [
    "ultra_dist = ultra.distance\n",
    "interested_value = 3130.0\n",
    "\n",
    "# одна выборка\n",
    "results = st.ttest_1samp(ultra_dist, interested_value, alternative='greater') \n",
    "\n",
    "alpha = 0.05\n",
    "\n",
    "print('Средняя продолжительность поездок у пользователей с подпиской', ultra['distance'].mean())\n",
    "print('p-значение',results.pvalue)\n",
    "\n",
    "if results.pvalue < alpha:\n",
    "    print('Отвергаем нулевую гипотезу')\n",
    "else:\n",
    "    print('Не удалось отвергнуть нулевую гипотезу')"
   ]
  },
  {
   "cell_type": "markdown",
   "id": "6f362bba",
   "metadata": {},
   "source": [
    "Среднее расстояние , которое проезжают пользователи с подпиской за одну поездку, примерно равно 3130 метрам."
   ]
  },
  {
   "cell_type": "markdown",
   "id": "3258a371",
   "metadata": {},
   "source": [
    "### Гипотеза 3\n",
    "Будет ли помесячная выручка от пользователей с подпиской по месяцам выше, чем выручка от пользователей без подписки. \n",
    "\n",
    "**Гипотеза Н0**: Помесячная выручка от пользователей с подпиской по месяцам равна выручке от пользователей без подписки.\n",
    "\n",
    "**Гипотеза Н1**: Помесячная выручка от пользователей с подпиской по месяцам ВЫШЕ, чем выручка от пользователей без подписки.\n",
    "\n",
    "*alpha = 0.05*"
   ]
  },
  {
   "cell_type": "code",
   "execution_count": 38,
   "id": "a4ffa607",
   "metadata": {},
   "outputs": [
    {
     "name": "stdout",
     "output_type": "stream",
     "text": [
      "Средняя ежемесячная выручка c пользователей без подписки \n",
      "за анализируемый период времени: 325.84 рублей\n",
      "\n",
      "Средняя ежемесячная выручка c пользователей с подпиской \n",
      "за анализируемый период времени: 361.48 рублей\n",
      "\n",
      "p-значение 1.0718729651261336e-44\n",
      "Отвергаем нулевую гипотезу\n"
     ]
    }
   ],
   "source": [
    "ultra_inc = total_data.loc[total_data.subscription_fee > 0, 'month_income'] \n",
    "\n",
    "free_inc = total_data.loc[total_data.subscription_fee == 0, 'month_income'] \n",
    "\n",
    "# две независимые выборки\n",
    "results = st.ttest_ind(ultra_inc, free_inc, equal_var=False, alternative = 'greater') \n",
    "\n",
    "alpha = 0.05\n",
    "\n",
    "print('''Средняя ежемесячная выручка c пользователей без подписки \n",
    "за анализируемый период времени:''', round(total_data.loc[total_data.subscription_fee == 0, 'month_income'].mean(),2), 'рублей')\n",
    "print()\n",
    "print('''Средняя ежемесячная выручка c пользователей с подпиской \n",
    "за анализируемый период времени:''', round(total_data.loc[total_data.subscription_fee > 0, 'month_income'].mean(),2), 'рублей')\n",
    "print()\n",
    "print('p-значение',results.pvalue)\n",
    "\n",
    "if results.pvalue < alpha:\n",
    "    print('Отвергаем нулевую гипотезу')\n",
    "else:\n",
    "    print('Не удалось отвергнуть нулевую гипотезу')"
   ]
  },
  {
   "cell_type": "markdown",
   "id": "0eb4b2a0",
   "metadata": {},
   "source": [
    "Помесячная выручка от пользователей с подпиской по месяцам выше, чем выручка от пользователей без подписки."
   ]
  },
  {
   "cell_type": "markdown",
   "id": "1f390b6c",
   "metadata": {},
   "source": [
    "### Ситуация\n",
    "Представьте такую ситуацию: техническая команда сервиса обновила сервера, с которыми взаимодействует мобильное приложение. Она надеется, что из-за этого количество обращений в техподдержку значимо снизилось. Некоторый файл содержит для каждого пользователя данные о количестве обращений до обновления и после него. Какой тест вам понадобился бы для проверки этой гипотезы?\n",
    "\n",
    "ОТВЕТ: воспользуемся гипотезой о равенстве средних для зависимых (парных) выборок, поскольку одну выборку тестируют до и после обновления.\n",
    "\n",
    "**Гипотеза H0**: Среднее количество обращений до обновления сервиса равно среднему количеству обращений после обновления.\n",
    "\n",
    "**Гипотеза H1**: Среднее количество обращений до обновления сервиса больше среднего количества обращений после обновления."
   ]
  },
  {
   "cell_type": "markdown",
   "id": "61213c5e",
   "metadata": {},
   "source": [
    "## Шаг 7. Распределения\n",
    "\n",
    "Отделу маркетинга GoFast поставили задачу: нужно провести акцию с раздачей промокодов на один бесплатный месяц подписки, в рамках которой как минимум 100 существующих клиентов должны продлить эту подписку. То есть по завершении периода действия подписки пользователь может либо отказаться от неё, либо продлить, совершив соответствующий платёж. \n",
    "\n",
    "Эта акция уже проводилась ранее и по итогу выяснилось, что после бесплатного пробного периода подписку продлевают 10 % пользователей. Выясните, какое минимальное количество промокодов нужно разослать, чтобы вероятность не выполнить план была примерно 5 %. Подберите параметры распределения, описывающего эту ситуацию, постройте график распределения и сформулируйте ответ на вопрос о количестве промокодов."
   ]
  },
  {
   "cell_type": "code",
   "execution_count": 39,
   "id": "a23ea30d",
   "metadata": {},
   "outputs": [
    {
     "name": "stdout",
     "output_type": "stream",
     "text": [
      "Минимальное число промокодов 1161\n"
     ]
    }
   ],
   "source": [
    "k=99\n",
    "p=0.1\n",
    "prob=[]\n",
    "for n in range (1,10000):\n",
    "    prob.append(binom.cdf(k, n, p))\n",
    "    if binom.cdf(k, n, p) <= 0.05:\n",
    "        print(\"Минимальное число промокодов\",n) \n",
    "        break"
   ]
  },
  {
   "cell_type": "code",
   "execution_count": 40,
   "id": "807d9242",
   "metadata": {
    "scrolled": true
   },
   "outputs": [
    {
     "data": {
      "image/png": "[encoded data removed]",
      "text/plain": [
       "<Figure size 432x288 with 1 Axes>"
      ]
     },
     "metadata": {},
     "output_type": "display_data"
    },
    {
     "data": {
      "text/plain": [
       "100.02841955223582"
      ]
     },
     "execution_count": 40,
     "metadata": {},
     "output_type": "execute_result"
    }
   ],
   "source": [
    "# функция расчета количества успешных экспериментов Бернулли\n",
    "# путем аппроксимации биномиального распределения нормальным\n",
    "def cnsbe(n, p, x):\n",
    "    # параметры биноминального распределения:\n",
    "    # n - количество экспериментов\n",
    "    # p - вероятность успеха\n",
    "    # x - вероятность расчитываемого значения\n",
    "    \n",
    "    # расчет параметров нормального распределения\n",
    "    mu = n * p\n",
    "    sigma = (n * p * (1 - p))**.5\n",
    "    # расчет нормального распределения\n",
    "    distr = st.norm(mu, sigma)\n",
    "    \n",
    "    # расчет значения для заданной вероятности x\n",
    "    result = distr.ppf(x)\n",
    "    \n",
    "    # построение графика\n",
    "    arange = np.arange(\n",
    "        (mu - 3 * sigma), \n",
    "        (mu + 3 * sigma), \n",
    "        1\n",
    "    )\n",
    "    plt.plot(arange, st.norm.pdf(arange, mu, sigma), 'b-')\n",
    "    plt.axvline(x=result, color='red')\n",
    "    plt.show()\n",
    "    \n",
    "    return result\n",
    "cnsbe(1169, .1, .05)"
   ]
  },
  {
   "cell_type": "markdown",
   "id": "50327286",
   "metadata": {},
   "source": [
    "**Два рассчёта с разной степенью точности говорят о необходимости раздачи примерно от 1161 до 1172 промокодов.**"
   ]
  },
  {
   "cell_type": "markdown",
   "id": "039449f4",
   "metadata": {},
   "source": [
    "Отдел маркетинга рассылает клиентам push-уведомления в мобильном приложении. Клиенты могут открыть его или не открывать. Известно, что уведомления открывают около 40 % получивших клиентов. Отдел планирует разослать 1 млн уведомлений. С помощью аппроксимации постройте примерный график распределения и оцените вероятность того, что уведомление откроют не более 399,5 тыс. пользователей."
   ]
  },
  {
   "cell_type": "code",
   "execution_count": 41,
   "id": "8963148b",
   "metadata": {},
   "outputs": [
    {
     "data": {
      "image/png": "[encoded data removed]",
      "text/plain": [
       "<Figure size 432x288 with 1 Axes>"
      ]
     },
     "metadata": {},
     "output_type": "display_data"
    },
    {
     "name": "stdout",
     "output_type": "stream",
     "text": [
      "Вероятность примерно равна 15.37 %\n"
     ]
    }
   ],
   "source": [
    "# функция расчета вероятности проведения успешных экспериментов Бернули\n",
    "# путем аппроксимации биномиального распределения нормальным\n",
    "def cpsbe(n, p, x):\n",
    "    # параметры биноминального распределения:\n",
    "    # n - количество экспериментов\n",
    "    # p - вероятность успеха\n",
    "    # x - заданное значение, для которого расчитывается вероятность\n",
    "    \n",
    "    # расчет параметров нормального распределения\n",
    "    mu = n * p\n",
    "    sigma = (n * p * (1 - p))**.5\n",
    "    # расчет нормального распределения\n",
    "    distr = st.norm(mu, sigma)\n",
    "    \n",
    "    # расчет вероятности для заданного значения x\n",
    "    result = distr.cdf(x)\n",
    "    \n",
    "    # построение графика\n",
    "    arange = np.arange(\n",
    "        (mu - 3 * sigma), \n",
    "        (mu + 3 * sigma), \n",
    "        1\n",
    "    )\n",
    "    plt.plot(arange, st.norm.pdf(arange, mu, sigma), 'b-')\n",
    "    plt.axvline(x=x, color='red')\n",
    "    plt.show()\n",
    "    \n",
    "    return print(f'Вероятность примерно равна {round(result*100, 2)} %')\n",
    "cpsbe(1000000, .4, 399500)"
   ]
  },
  {
   "cell_type": "markdown",
   "id": "93382935",
   "metadata": {},
   "source": [
    "**Вероятность того, что уведомление откроют не более 399,5 тыс. пользователей равна 15.37%.**"
   ]
  },
  {
   "cell_type": "markdown",
   "id": "d7ff7621",
   "metadata": {},
   "source": [
    "## Шаг 8. Общий вывод\n",
    "\n",
    "Цель проекта достигнута: проанализированы данные сервиса аренды самокатов GoFast и проверены некоторые гипотезы о возможностях для роста доходов компании.\n",
    "\n",
    "* Большинство пользователей сервиса сосредоточено в Пятигорске, а меньше всего - в Москве. Пользователей с подпиской 699 (45.57%), а пользователей без подписки 835 (54.43%), то есть разница в 136 пользователей. Около половины пользователей в возрасте от 22 до 28 лет. Средний возраст пользователей составляет почти 25 лет.\n",
    "\n",
    "\n",
    "* Основные типы дистанций поездок пользователей сосредоточены в интервалах от 0 до 1.3 км и от 1.8 км до 4.6 км. Для более далёких дистанций удобнее пользоваться общественным транспортом или идти пешком. Некоторые поездки совершаются не в качестве маршрута от точки до точки, а в качестве прогулочного маршрута.\n",
    "\n",
    "\n",
    "* Поездки меньше 5 минут связаны со сбоями или же необходимостью быстро добраться до близкой точки, остальные же скорее ориентированы на более дальние передвижения или прогулочные маршруты. Самая продолжительная поездка длилась почти 41 минуту. Стандартный интервал времени - 15-20 минут.\n",
    "\n",
    "\n",
    "* Пользователей без подписки больше на пару сотен, но поездок у таких пользователей больше почти в 2 раза. Сбои по времени поездок связаны только с пользователями без подписки.\n",
    "\n",
    "\n",
    "* Возможно, дело не в разряженных самокатах, а в неудачных попытках авторизации в сервисе пользователей без подписки. Пользователи с подпиской чаще предпочитали поездки с расстоянием примерно от 2.5 до 3.5 км, а, следовательно, брали подписку, рассчитывая свои целенаправленные спланированные поездки. У пользователей без подписки этот интервал шире (примерно от 2 до 4.6 км).\n",
    "\n",
    "\n",
    "*Средняя суммарная ежемесячная выручка c пользователей без подписки \n",
    "за анализируемый период времени: 184 590.00 рублей*\n",
    "\n",
    "*Средняя суммарная ежемесячная выручка c пользователей с подпиской \n",
    "за анализируемый период времени: 136 549.75 рублей*\n",
    "\n",
    "*Суммарная выручка c пользователей без подписки \n",
    "за анализируемый период времени: 2 215 080.00 рублей*\n",
    "\n",
    "*Суммарная выручка c пользователей с подпиской \n",
    "за анализируемый период времени: 1 638 597.00 рублей*\n",
    "\n",
    "*Общая выручка за анализируемый период времени: 3 853 677.00 рублей*\n",
    "\n",
    "*Средняя ежемесячная выручка по пользователям за анализируемый период времени: 340.10 рублей*\n",
    "\n",
    "**В среднем, пользователи без подписки приносят больше денег компании.**\n",
    "\n",
    "* Средняя продолжительность поездок у пользователей с подпиской больше.\n",
    "\n",
    "\n",
    "* Среднее расстояние , которое проезжают пользователи с подпиской за одну поездку, примерно равно 3130 метрам.\n",
    "\n",
    "*Средняя ежемесячная выручка c пользователей без подписки \n",
    "за анализируемый период времени: 325.84 рублей*\n",
    "\n",
    "*Средняя ежемесячная выручка c пользователей с подпиской \n",
    "за анализируемый период времени: 361.48 рублей*\n",
    "\n",
    "* Помесячная выручка от пользователей с подпиской по месяцам выше, чем выручка от пользователей без подписки.\n",
    "\n",
    "**Ситуация: \"Представьте такую ситуацию: техническая команда сервиса обновила сервера, с которыми взаимодействует мобильное приложение. Она надеется, что из-за этого количество обращений в техподдержку значимо снизилось. Некоторый файл содержит для каждого пользователя данные о количестве обращений до обновления и после него. Какой тест вам понадобился бы для проверки этой гипотезы?\"**\n",
    "\n",
    "ОТВЕТ: воспользуемся гипотезой о равенстве средних для зависимых (парных) выборок, поскольку одну выборку тестируют до и после обновления.\n",
    "\n",
    "* Требуется разослать 1161-1172 промокода, которые приводят к продлению подписки с вероятностью 10%, чтобы 100 клиентов продлили подписку с вероятностью неуспеха не более 5%.\n",
    "\n",
    "\n",
    "* **Вероятность того, что уведомление откроют не более 399,5 тыс. пользователей равна 15.37%.**"
   ]
  }
 ],
 "metadata": {
  "ExecuteTimeLog": [
   {
    "duration": 1457,
    "start_time": "2023-12-11T14:14:00.259Z"
   },
   {
    "duration": 304,
    "start_time": "2023-12-11T14:16:57.527Z"
   },
   {
    "duration": 14,
    "start_time": "2023-12-11T14:17:18.599Z"
   },
   {
    "duration": 9,
    "start_time": "2023-12-11T14:17:33.821Z"
   },
   {
    "duration": 8,
    "start_time": "2023-12-11T14:17:43.681Z"
   },
   {
    "duration": 12,
    "start_time": "2023-12-11T14:18:03.277Z"
   },
   {
    "duration": 17,
    "start_time": "2023-12-11T14:22:41.269Z"
   },
   {
    "duration": 16,
    "start_time": "2023-12-11T14:22:44.893Z"
   },
   {
    "duration": 15,
    "start_time": "2023-12-11T14:23:03.492Z"
   },
   {
    "duration": 13,
    "start_time": "2023-12-11T14:27:14.631Z"
   },
   {
    "duration": 112,
    "start_time": "2023-12-11T14:27:42.594Z"
   },
   {
    "duration": 14,
    "start_time": "2023-12-11T14:27:46.189Z"
   },
   {
    "duration": 11,
    "start_time": "2023-12-11T14:29:04.578Z"
   },
   {
    "duration": 10,
    "start_time": "2023-12-11T14:29:14.604Z"
   },
   {
    "duration": 6,
    "start_time": "2023-12-11T14:32:13.397Z"
   },
   {
    "duration": 8,
    "start_time": "2023-12-11T14:32:28.176Z"
   },
   {
    "duration": 6,
    "start_time": "2023-12-11T14:32:38.571Z"
   },
   {
    "duration": 5,
    "start_time": "2023-12-11T14:33:07.119Z"
   },
   {
    "duration": 14,
    "start_time": "2023-12-11T14:33:43.341Z"
   },
   {
    "duration": 4,
    "start_time": "2023-12-11T14:33:53.112Z"
   },
   {
    "duration": 97,
    "start_time": "2023-12-11T14:33:53.118Z"
   },
   {
    "duration": 16,
    "start_time": "2023-12-11T14:33:53.216Z"
   },
   {
    "duration": 28,
    "start_time": "2023-12-11T14:33:53.234Z"
   },
   {
    "duration": 32,
    "start_time": "2023-12-11T14:33:53.264Z"
   },
   {
    "duration": 9,
    "start_time": "2023-12-11T14:33:53.298Z"
   },
   {
    "duration": 25,
    "start_time": "2023-12-11T14:33:53.308Z"
   },
   {
    "duration": 46,
    "start_time": "2023-12-11T14:33:53.335Z"
   },
   {
    "duration": 10,
    "start_time": "2023-12-11T14:33:53.383Z"
   },
   {
    "duration": 21,
    "start_time": "2023-12-11T14:33:53.394Z"
   },
   {
    "duration": 15,
    "start_time": "2023-12-11T14:33:53.417Z"
   },
   {
    "duration": 6,
    "start_time": "2023-12-11T14:35:59.815Z"
   },
   {
    "duration": 5,
    "start_time": "2023-12-11T14:36:23.155Z"
   },
   {
    "duration": 4,
    "start_time": "2023-12-11T14:36:32.475Z"
   },
   {
    "duration": 11,
    "start_time": "2023-12-11T14:38:46.138Z"
   },
   {
    "duration": 18,
    "start_time": "2023-12-11T14:39:02.063Z"
   },
   {
    "duration": 40,
    "start_time": "2023-12-11T14:39:17.852Z"
   },
   {
    "duration": 24,
    "start_time": "2023-12-11T14:40:46.727Z"
   },
   {
    "duration": 17,
    "start_time": "2023-12-11T14:41:00.128Z"
   },
   {
    "duration": 34,
    "start_time": "2023-12-11T14:41:13.864Z"
   },
   {
    "duration": 16,
    "start_time": "2023-12-11T14:41:21.399Z"
   },
   {
    "duration": 16,
    "start_time": "2023-12-11T14:41:44.936Z"
   },
   {
    "duration": 24,
    "start_time": "2023-12-11T14:43:16.804Z"
   },
   {
    "duration": 28,
    "start_time": "2023-12-11T14:43:23.386Z"
   },
   {
    "duration": 36,
    "start_time": "2023-12-11T14:43:58.590Z"
   },
   {
    "duration": 34,
    "start_time": "2023-12-11T14:44:17.823Z"
   },
   {
    "duration": 15,
    "start_time": "2023-12-11T14:45:32.651Z"
   },
   {
    "duration": 15,
    "start_time": "2023-12-11T14:45:39.588Z"
   },
   {
    "duration": 43,
    "start_time": "2023-12-12T10:01:15.134Z"
   },
   {
    "duration": 1388,
    "start_time": "2023-12-12T10:01:20.772Z"
   },
   {
    "duration": 195,
    "start_time": "2023-12-12T10:01:22.165Z"
   },
   {
    "duration": 35,
    "start_time": "2023-12-12T10:01:22.361Z"
   },
   {
    "duration": 42,
    "start_time": "2023-12-12T10:01:22.398Z"
   },
   {
    "duration": 47,
    "start_time": "2023-12-12T10:01:22.443Z"
   },
   {
    "duration": 9,
    "start_time": "2023-12-12T10:01:22.491Z"
   },
   {
    "duration": 9,
    "start_time": "2023-12-12T10:01:22.501Z"
   },
   {
    "duration": 11,
    "start_time": "2023-12-12T10:01:22.512Z"
   },
   {
    "duration": 4,
    "start_time": "2023-12-12T10:01:22.525Z"
   },
   {
    "duration": 5,
    "start_time": "2023-12-12T10:01:22.565Z"
   },
   {
    "duration": 5,
    "start_time": "2023-12-12T10:01:22.571Z"
   },
   {
    "duration": 6,
    "start_time": "2023-12-12T10:01:22.578Z"
   },
   {
    "duration": 4,
    "start_time": "2023-12-12T10:01:22.586Z"
   },
   {
    "duration": 85,
    "start_time": "2023-12-12T10:01:22.592Z"
   },
   {
    "duration": 0,
    "start_time": "2023-12-12T10:01:22.679Z"
   },
   {
    "duration": 0,
    "start_time": "2023-12-12T10:01:22.681Z"
   },
   {
    "duration": 0,
    "start_time": "2023-12-12T10:01:22.682Z"
   },
   {
    "duration": 5,
    "start_time": "2023-12-12T10:01:54.865Z"
   },
   {
    "duration": 8,
    "start_time": "2023-12-12T10:02:12.198Z"
   },
   {
    "duration": 10,
    "start_time": "2023-12-12T10:02:29.146Z"
   },
   {
    "duration": 11,
    "start_time": "2023-12-12T10:02:53.781Z"
   },
   {
    "duration": 8,
    "start_time": "2023-12-12T10:06:07.290Z"
   },
   {
    "duration": 5,
    "start_time": "2023-12-12T10:06:14.503Z"
   },
   {
    "duration": 3,
    "start_time": "2023-12-12T10:07:08.104Z"
   },
   {
    "duration": 84,
    "start_time": "2023-12-12T10:07:08.109Z"
   },
   {
    "duration": 26,
    "start_time": "2023-12-12T10:07:08.195Z"
   },
   {
    "duration": 29,
    "start_time": "2023-12-12T10:07:08.223Z"
   },
   {
    "duration": 34,
    "start_time": "2023-12-12T10:07:08.254Z"
   },
   {
    "duration": 8,
    "start_time": "2023-12-12T10:07:08.289Z"
   },
   {
    "duration": 32,
    "start_time": "2023-12-12T10:07:08.298Z"
   },
   {
    "duration": 17,
    "start_time": "2023-12-12T10:07:08.332Z"
   },
   {
    "duration": 4,
    "start_time": "2023-12-12T10:07:08.350Z"
   },
   {
    "duration": 15,
    "start_time": "2023-12-12T10:07:08.356Z"
   },
   {
    "duration": 10,
    "start_time": "2023-12-12T10:07:08.372Z"
   },
   {
    "duration": 52,
    "start_time": "2023-12-12T10:07:08.384Z"
   },
   {
    "duration": 11,
    "start_time": "2023-12-12T10:07:08.437Z"
   },
   {
    "duration": 20,
    "start_time": "2023-12-12T10:07:08.450Z"
   },
   {
    "duration": 86,
    "start_time": "2023-12-12T10:07:08.471Z"
   },
   {
    "duration": 16,
    "start_time": "2023-12-12T10:07:08.559Z"
   },
   {
    "duration": 16,
    "start_time": "2023-12-12T10:07:08.576Z"
   },
   {
    "duration": 425,
    "start_time": "2023-12-12T10:11:37.106Z"
   },
   {
    "duration": 338,
    "start_time": "2023-12-12T10:12:14.092Z"
   },
   {
    "duration": 401,
    "start_time": "2023-12-12T10:12:39.934Z"
   },
   {
    "duration": 447,
    "start_time": "2023-12-12T10:12:52.411Z"
   },
   {
    "duration": 413,
    "start_time": "2023-12-12T10:13:01.228Z"
   },
   {
    "duration": 418,
    "start_time": "2023-12-12T10:13:12.566Z"
   },
   {
    "duration": 406,
    "start_time": "2023-12-12T10:13:18.467Z"
   },
   {
    "duration": 411,
    "start_time": "2023-12-12T10:13:30.533Z"
   },
   {
    "duration": 541,
    "start_time": "2023-12-12T10:13:38.507Z"
   },
   {
    "duration": 186,
    "start_time": "2023-12-12T10:14:48.389Z"
   },
   {
    "duration": 182,
    "start_time": "2023-12-12T10:14:55.755Z"
   },
   {
    "duration": 147,
    "start_time": "2023-12-12T10:15:07.140Z"
   },
   {
    "duration": 156,
    "start_time": "2023-12-12T10:15:16.830Z"
   },
   {
    "duration": 4,
    "start_time": "2023-12-12T10:48:56.297Z"
   },
   {
    "duration": 74,
    "start_time": "2023-12-12T10:48:56.303Z"
   },
   {
    "duration": 150,
    "start_time": "2023-12-12T10:48:56.379Z"
   },
   {
    "duration": 296,
    "start_time": "2023-12-12T10:48:56.531Z"
   },
   {
    "duration": 38,
    "start_time": "2023-12-12T10:48:56.829Z"
   },
   {
    "duration": 9,
    "start_time": "2023-12-12T10:48:56.869Z"
   },
   {
    "duration": 26,
    "start_time": "2023-12-12T10:48:56.879Z"
   },
   {
    "duration": 13,
    "start_time": "2023-12-12T10:48:56.907Z"
   },
   {
    "duration": 5,
    "start_time": "2023-12-12T10:48:56.922Z"
   },
   {
    "duration": 5,
    "start_time": "2023-12-12T10:48:56.928Z"
   },
   {
    "duration": 4,
    "start_time": "2023-12-12T10:48:56.934Z"
   },
   {
    "duration": 5,
    "start_time": "2023-12-12T10:48:56.965Z"
   },
   {
    "duration": 6,
    "start_time": "2023-12-12T10:48:56.971Z"
   },
   {
    "duration": 3,
    "start_time": "2023-12-12T10:48:56.978Z"
   },
   {
    "duration": 5,
    "start_time": "2023-12-12T10:48:56.982Z"
   },
   {
    "duration": 12,
    "start_time": "2023-12-12T10:48:56.989Z"
   },
   {
    "duration": 25,
    "start_time": "2023-12-12T10:48:57.002Z"
   },
   {
    "duration": 53,
    "start_time": "2023-12-12T10:48:57.029Z"
   },
   {
    "duration": 31,
    "start_time": "2023-12-12T10:48:57.083Z"
   },
   {
    "duration": 246,
    "start_time": "2023-12-12T10:54:26.045Z"
   },
   {
    "duration": 265,
    "start_time": "2023-12-12T10:54:58.907Z"
   },
   {
    "duration": 176,
    "start_time": "2023-12-12T10:55:06.033Z"
   },
   {
    "duration": 172,
    "start_time": "2023-12-12T10:55:14.041Z"
   },
   {
    "duration": 72,
    "start_time": "2023-12-12T10:55:31.595Z"
   },
   {
    "duration": 67,
    "start_time": "2023-12-12T10:55:37.536Z"
   },
   {
    "duration": 150,
    "start_time": "2023-12-12T10:56:02.048Z"
   },
   {
    "duration": 4,
    "start_time": "2023-12-12T10:56:29.510Z"
   },
   {
    "duration": 171,
    "start_time": "2023-12-12T10:56:30.141Z"
   },
   {
    "duration": 4,
    "start_time": "2023-12-12T10:58:06.693Z"
   },
   {
    "duration": 187,
    "start_time": "2023-12-12T11:05:27.933Z"
   },
   {
    "duration": 3,
    "start_time": "2023-12-12T11:05:37.223Z"
   },
   {
    "duration": 89,
    "start_time": "2023-12-12T11:05:37.228Z"
   },
   {
    "duration": 172,
    "start_time": "2023-12-12T11:05:37.319Z"
   },
   {
    "duration": 430,
    "start_time": "2023-12-12T11:05:37.492Z"
   },
   {
    "duration": 42,
    "start_time": "2023-12-12T11:05:37.924Z"
   },
   {
    "duration": 8,
    "start_time": "2023-12-12T11:05:37.968Z"
   },
   {
    "duration": 13,
    "start_time": "2023-12-12T11:05:37.978Z"
   },
   {
    "duration": 28,
    "start_time": "2023-12-12T11:05:37.992Z"
   },
   {
    "duration": 4,
    "start_time": "2023-12-12T11:05:38.022Z"
   },
   {
    "duration": 8,
    "start_time": "2023-12-12T11:05:38.027Z"
   },
   {
    "duration": 12,
    "start_time": "2023-12-12T11:05:38.036Z"
   },
   {
    "duration": 16,
    "start_time": "2023-12-12T11:05:38.049Z"
   },
   {
    "duration": 4,
    "start_time": "2023-12-12T11:05:38.067Z"
   },
   {
    "duration": 10,
    "start_time": "2023-12-12T11:05:38.073Z"
   },
   {
    "duration": 9,
    "start_time": "2023-12-12T11:05:38.084Z"
   },
   {
    "duration": 15,
    "start_time": "2023-12-12T11:05:38.094Z"
   },
   {
    "duration": 193,
    "start_time": "2023-12-12T11:05:38.111Z"
   },
   {
    "duration": 16,
    "start_time": "2023-12-12T11:05:38.306Z"
   },
   {
    "duration": 42,
    "start_time": "2023-12-12T11:05:38.324Z"
   },
   {
    "duration": 15,
    "start_time": "2023-12-12T11:05:38.368Z"
   },
   {
    "duration": 19,
    "start_time": "2023-12-12T11:05:38.384Z"
   },
   {
    "duration": 187,
    "start_time": "2023-12-12T11:09:56.506Z"
   },
   {
    "duration": 374,
    "start_time": "2023-12-12T11:10:13.012Z"
   },
   {
    "duration": 412,
    "start_time": "2023-12-12T11:10:35.616Z"
   },
   {
    "duration": 311,
    "start_time": "2023-12-12T11:11:14.530Z"
   },
   {
    "duration": 392,
    "start_time": "2023-12-12T11:12:00.183Z"
   },
   {
    "duration": 1545,
    "start_time": "2023-12-12T11:13:50.375Z"
   },
   {
    "duration": 301,
    "start_time": "2023-12-12T11:14:18.598Z"
   },
   {
    "duration": 545,
    "start_time": "2023-12-12T11:14:40.255Z"
   },
   {
    "duration": 308,
    "start_time": "2023-12-12T11:15:20.037Z"
   },
   {
    "duration": 168,
    "start_time": "2023-12-12T11:15:59.881Z"
   },
   {
    "duration": 4,
    "start_time": "2023-12-12T11:20:04.639Z"
   },
   {
    "duration": 8,
    "start_time": "2023-12-12T11:20:35.846Z"
   },
   {
    "duration": 12,
    "start_time": "2023-12-12T11:20:48.435Z"
   },
   {
    "duration": 4,
    "start_time": "2023-12-12T11:21:28.690Z"
   },
   {
    "duration": 73,
    "start_time": "2023-12-12T11:21:28.695Z"
   },
   {
    "duration": 185,
    "start_time": "2023-12-12T11:21:28.770Z"
   },
   {
    "duration": 336,
    "start_time": "2023-12-12T11:21:28.957Z"
   },
   {
    "duration": 27,
    "start_time": "2023-12-12T11:21:29.295Z"
   },
   {
    "duration": 9,
    "start_time": "2023-12-12T11:21:29.323Z"
   },
   {
    "duration": 34,
    "start_time": "2023-12-12T11:21:29.333Z"
   },
   {
    "duration": 12,
    "start_time": "2023-12-12T11:21:29.369Z"
   },
   {
    "duration": 5,
    "start_time": "2023-12-12T11:21:29.382Z"
   },
   {
    "duration": 4,
    "start_time": "2023-12-12T11:21:29.388Z"
   },
   {
    "duration": 8,
    "start_time": "2023-12-12T11:21:29.394Z"
   },
   {
    "duration": 8,
    "start_time": "2023-12-12T11:21:29.403Z"
   },
   {
    "duration": 7,
    "start_time": "2023-12-12T11:21:29.412Z"
   },
   {
    "duration": 3,
    "start_time": "2023-12-12T11:21:29.422Z"
   },
   {
    "duration": 125,
    "start_time": "2023-12-12T11:21:29.427Z"
   },
   {
    "duration": 4,
    "start_time": "2023-12-12T11:21:29.554Z"
   },
   {
    "duration": 5,
    "start_time": "2023-12-12T11:21:29.565Z"
   },
   {
    "duration": 177,
    "start_time": "2023-12-12T11:21:29.572Z"
   },
   {
    "duration": 177,
    "start_time": "2023-12-12T11:21:29.751Z"
   },
   {
    "duration": 1573,
    "start_time": "2023-12-12T11:21:29.930Z"
   },
   {
    "duration": 0,
    "start_time": "2023-12-12T11:21:31.505Z"
   },
   {
    "duration": 0,
    "start_time": "2023-12-12T11:21:31.507Z"
   },
   {
    "duration": 0,
    "start_time": "2023-12-12T11:21:31.508Z"
   },
   {
    "duration": 4,
    "start_time": "2023-12-12T11:22:18.207Z"
   },
   {
    "duration": 1229,
    "start_time": "2023-12-12T11:22:21.078Z"
   },
   {
    "duration": 85,
    "start_time": "2023-12-12T11:25:43.243Z"
   },
   {
    "duration": 79,
    "start_time": "2023-12-12T11:25:53.366Z"
   },
   {
    "duration": 80,
    "start_time": "2023-12-12T11:26:30.188Z"
   },
   {
    "duration": 4,
    "start_time": "2023-12-12T11:28:23.041Z"
   },
   {
    "duration": 143,
    "start_time": "2023-12-12T11:28:26.606Z"
   },
   {
    "duration": 4,
    "start_time": "2023-12-12T11:29:08.545Z"
   },
   {
    "duration": 146,
    "start_time": "2023-12-12T11:29:11.150Z"
   },
   {
    "duration": 3,
    "start_time": "2023-12-12T11:29:26.798Z"
   },
   {
    "duration": 141,
    "start_time": "2023-12-12T11:29:29.385Z"
   },
   {
    "duration": 3,
    "start_time": "2023-12-12T11:29:41.232Z"
   },
   {
    "duration": 178,
    "start_time": "2023-12-12T11:29:43.054Z"
   },
   {
    "duration": 4,
    "start_time": "2023-12-12T11:31:40.516Z"
   },
   {
    "duration": 190,
    "start_time": "2023-12-12T11:31:42.364Z"
   },
   {
    "duration": 175,
    "start_time": "2023-12-12T11:31:45.934Z"
   },
   {
    "duration": 3,
    "start_time": "2023-12-12T11:35:40.089Z"
   },
   {
    "duration": 3,
    "start_time": "2023-12-12T11:36:03.545Z"
   },
   {
    "duration": 309,
    "start_time": "2023-12-12T11:38:16.763Z"
   },
   {
    "duration": 4,
    "start_time": "2023-12-12T11:39:19.463Z"
   },
   {
    "duration": 219,
    "start_time": "2023-12-12T11:39:22.616Z"
   },
   {
    "duration": 4,
    "start_time": "2023-12-12T11:39:41.365Z"
   },
   {
    "duration": 251,
    "start_time": "2023-12-12T11:39:44.206Z"
   },
   {
    "duration": 4,
    "start_time": "2023-12-12T11:39:55.844Z"
   },
   {
    "duration": 220,
    "start_time": "2023-12-12T11:39:59.186Z"
   },
   {
    "duration": 4,
    "start_time": "2023-12-12T11:40:19.349Z"
   },
   {
    "duration": 234,
    "start_time": "2023-12-12T11:40:23.350Z"
   },
   {
    "duration": 75,
    "start_time": "2023-12-12T11:40:52.960Z"
   },
   {
    "duration": 4,
    "start_time": "2023-12-12T11:40:57.384Z"
   },
   {
    "duration": 122,
    "start_time": "2023-12-12T11:41:00.779Z"
   },
   {
    "duration": 75,
    "start_time": "2023-12-12T11:41:50.190Z"
   },
   {
    "duration": 124,
    "start_time": "2023-12-12T11:42:26.539Z"
   },
   {
    "duration": 3,
    "start_time": "2023-12-12T11:42:47.311Z"
   },
   {
    "duration": 179,
    "start_time": "2023-12-12T11:42:50.952Z"
   },
   {
    "duration": 4,
    "start_time": "2023-12-12T11:45:01.744Z"
   },
   {
    "duration": 341,
    "start_time": "2023-12-12T11:45:05.994Z"
   },
   {
    "duration": 3,
    "start_time": "2023-12-12T11:45:46.263Z"
   },
   {
    "duration": 238,
    "start_time": "2023-12-12T11:45:49.292Z"
   },
   {
    "duration": 301,
    "start_time": "2023-12-12T11:47:04.676Z"
   },
   {
    "duration": 311,
    "start_time": "2023-12-12T11:47:33.107Z"
   },
   {
    "duration": 284,
    "start_time": "2023-12-12T11:48:06.562Z"
   },
   {
    "duration": 4,
    "start_time": "2023-12-12T11:49:12.054Z"
   },
   {
    "duration": 323,
    "start_time": "2023-12-12T11:49:17.196Z"
   },
   {
    "duration": 293,
    "start_time": "2023-12-12T11:49:20.972Z"
   },
   {
    "duration": 274,
    "start_time": "2023-12-12T11:51:22.646Z"
   },
   {
    "duration": 294,
    "start_time": "2023-12-12T11:56:59.715Z"
   },
   {
    "duration": 25,
    "start_time": "2023-12-12T11:57:08.848Z"
   },
   {
    "duration": 15,
    "start_time": "2023-12-12T11:57:11.284Z"
   },
   {
    "duration": 15,
    "start_time": "2023-12-12T11:57:13.388Z"
   },
   {
    "duration": 50,
    "start_time": "2023-12-12T11:58:16.456Z"
   },
   {
    "duration": 40,
    "start_time": "2023-12-12T11:58:44.361Z"
   },
   {
    "duration": 24,
    "start_time": "2023-12-12T11:59:53.177Z"
   },
   {
    "duration": 760,
    "start_time": "2023-12-12T12:05:05.351Z"
   },
   {
    "duration": 799,
    "start_time": "2023-12-12T12:05:16.434Z"
   },
   {
    "duration": 632,
    "start_time": "2023-12-12T12:06:33.039Z"
   },
   {
    "duration": 677,
    "start_time": "2023-12-12T12:07:24.174Z"
   },
   {
    "duration": 427,
    "start_time": "2023-12-12T12:07:46.761Z"
   },
   {
    "duration": 17,
    "start_time": "2023-12-12T12:07:55.999Z"
   },
   {
    "duration": 795,
    "start_time": "2023-12-12T12:08:02.161Z"
   },
   {
    "duration": 688,
    "start_time": "2023-12-12T12:08:17.911Z"
   },
   {
    "duration": 708,
    "start_time": "2023-12-12T12:08:27.676Z"
   },
   {
    "duration": 700,
    "start_time": "2023-12-12T12:08:32.876Z"
   },
   {
    "duration": 2005,
    "start_time": "2023-12-12T12:09:03.438Z"
   },
   {
    "duration": 713,
    "start_time": "2023-12-12T12:09:15.686Z"
   },
   {
    "duration": 50,
    "start_time": "2023-12-12T12:10:58.001Z"
   },
   {
    "duration": 62,
    "start_time": "2023-12-12T12:11:04.572Z"
   },
   {
    "duration": 46,
    "start_time": "2023-12-12T12:11:23.058Z"
   },
   {
    "duration": 171,
    "start_time": "2023-12-12T12:23:40.298Z"
   },
   {
    "duration": 309,
    "start_time": "2023-12-12T12:24:22.301Z"
   },
   {
    "duration": 16,
    "start_time": "2023-12-12T12:28:43.014Z"
   },
   {
    "duration": 14,
    "start_time": "2023-12-12T12:31:17.845Z"
   },
   {
    "duration": 3,
    "start_time": "2023-12-12T12:32:13.443Z"
   },
   {
    "duration": 6,
    "start_time": "2023-12-12T12:33:39.862Z"
   },
   {
    "duration": 8,
    "start_time": "2023-12-12T12:33:52.338Z"
   },
   {
    "duration": 1138,
    "start_time": "2023-12-12T13:18:47.601Z"
   },
   {
    "duration": 67,
    "start_time": "2023-12-12T13:18:48.741Z"
   },
   {
    "duration": 207,
    "start_time": "2023-12-12T13:18:48.810Z"
   },
   {
    "duration": 349,
    "start_time": "2023-12-12T13:18:49.018Z"
   },
   {
    "duration": 26,
    "start_time": "2023-12-12T13:18:49.369Z"
   },
   {
    "duration": 9,
    "start_time": "2023-12-12T13:18:49.396Z"
   },
   {
    "duration": 22,
    "start_time": "2023-12-12T13:18:49.406Z"
   },
   {
    "duration": 12,
    "start_time": "2023-12-12T13:18:49.430Z"
   },
   {
    "duration": 5,
    "start_time": "2023-12-12T13:18:49.466Z"
   },
   {
    "duration": 5,
    "start_time": "2023-12-12T13:18:49.472Z"
   },
   {
    "duration": 10,
    "start_time": "2023-12-12T13:18:49.479Z"
   },
   {
    "duration": 10,
    "start_time": "2023-12-12T13:18:49.490Z"
   },
   {
    "duration": 11,
    "start_time": "2023-12-12T13:18:49.502Z"
   },
   {
    "duration": 699,
    "start_time": "2023-12-12T13:18:49.516Z"
   },
   {
    "duration": 15,
    "start_time": "2023-12-12T13:18:50.216Z"
   },
   {
    "duration": 7,
    "start_time": "2023-12-12T13:18:50.233Z"
   },
   {
    "duration": 13,
    "start_time": "2023-12-12T13:18:50.242Z"
   },
   {
    "duration": 3,
    "start_time": "2023-12-12T13:18:50.257Z"
   },
   {
    "duration": 9,
    "start_time": "2023-12-12T13:18:50.261Z"
   },
   {
    "duration": 16,
    "start_time": "2023-12-12T13:18:50.271Z"
   },
   {
    "duration": 327,
    "start_time": "2023-12-12T13:18:50.288Z"
   },
   {
    "duration": 185,
    "start_time": "2023-12-12T13:18:50.616Z"
   },
   {
    "duration": 247,
    "start_time": "2023-12-12T13:18:50.802Z"
   },
   {
    "duration": 293,
    "start_time": "2023-12-12T13:18:51.050Z"
   },
   {
    "duration": 263,
    "start_time": "2023-12-12T13:18:51.344Z"
   },
   {
    "duration": 25,
    "start_time": "2023-12-12T13:18:51.608Z"
   },
   {
    "duration": 59,
    "start_time": "2023-12-12T13:18:51.635Z"
   },
   {
    "duration": 39,
    "start_time": "2023-12-12T13:18:51.696Z"
   },
   {
    "duration": 749,
    "start_time": "2023-12-12T13:19:09.367Z"
   },
   {
    "duration": 55092,
    "start_time": "2023-12-12T13:21:54.194Z"
   },
   {
    "duration": 3059,
    "start_time": "2023-12-12T13:24:32.189Z"
   },
   {
    "duration": 13587,
    "start_time": "2023-12-12T13:24:55.594Z"
   },
   {
    "duration": 14182,
    "start_time": "2023-12-12T13:26:13.715Z"
   },
   {
    "duration": 233,
    "start_time": "2023-12-12T13:39:44.472Z"
   },
   {
    "duration": 187,
    "start_time": "2023-12-12T13:41:55.465Z"
   },
   {
    "duration": 218,
    "start_time": "2023-12-12T13:42:07.332Z"
   },
   {
    "duration": 294,
    "start_time": "2023-12-12T13:44:01.457Z"
   },
   {
    "duration": 297,
    "start_time": "2023-12-12T13:44:21.896Z"
   },
   {
    "duration": 202,
    "start_time": "2023-12-12T13:45:13.888Z"
   },
   {
    "duration": 316,
    "start_time": "2023-12-12T13:46:28.870Z"
   },
   {
    "duration": 12,
    "start_time": "2023-12-12T13:46:46.896Z"
   },
   {
    "duration": 292,
    "start_time": "2023-12-12T13:49:18.293Z"
   },
   {
    "duration": 269,
    "start_time": "2023-12-12T13:49:35.795Z"
   },
   {
    "duration": 327,
    "start_time": "2023-12-12T13:50:01.764Z"
   },
   {
    "duration": 322,
    "start_time": "2023-12-12T13:51:37.028Z"
   },
   {
    "duration": 540,
    "start_time": "2023-12-12T13:52:11.940Z"
   },
   {
    "duration": 316,
    "start_time": "2023-12-12T13:54:17.509Z"
   },
   {
    "duration": 241,
    "start_time": "2023-12-12T13:56:31.969Z"
   },
   {
    "duration": 341,
    "start_time": "2023-12-12T13:56:47.824Z"
   },
   {
    "duration": 441,
    "start_time": "2023-12-12T13:57:33.860Z"
   },
   {
    "duration": 491,
    "start_time": "2023-12-12T13:57:41.096Z"
   },
   {
    "duration": 380,
    "start_time": "2023-12-12T13:58:06.394Z"
   },
   {
    "duration": 583,
    "start_time": "2023-12-12T13:58:22.536Z"
   },
   {
    "duration": 320,
    "start_time": "2023-12-12T13:58:40.850Z"
   },
   {
    "duration": 567,
    "start_time": "2023-12-12T13:59:40.989Z"
   },
   {
    "duration": 9,
    "start_time": "2023-12-12T14:00:09.042Z"
   },
   {
    "duration": 326,
    "start_time": "2023-12-12T14:00:13.933Z"
   },
   {
    "duration": 50,
    "start_time": "2023-12-12T16:27:20.484Z"
   },
   {
    "duration": 52,
    "start_time": "2023-12-12T16:27:45.979Z"
   },
   {
    "duration": 55,
    "start_time": "2023-12-12T16:30:28.137Z"
   },
   {
    "duration": 1109,
    "start_time": "2023-12-12T16:36:48.258Z"
   },
   {
    "duration": 82,
    "start_time": "2023-12-12T16:37:24.003Z"
   },
   {
    "duration": 76,
    "start_time": "2023-12-12T16:37:50.461Z"
   },
   {
    "duration": 3,
    "start_time": "2023-12-12T16:38:16.900Z"
   },
   {
    "duration": 67,
    "start_time": "2023-12-12T16:38:16.905Z"
   },
   {
    "duration": 192,
    "start_time": "2023-12-12T16:38:16.974Z"
   },
   {
    "duration": 359,
    "start_time": "2023-12-12T16:38:17.167Z"
   },
   {
    "duration": 44,
    "start_time": "2023-12-12T16:38:17.528Z"
   },
   {
    "duration": 8,
    "start_time": "2023-12-12T16:38:17.573Z"
   },
   {
    "duration": 14,
    "start_time": "2023-12-12T16:38:17.582Z"
   },
   {
    "duration": 11,
    "start_time": "2023-12-12T16:38:17.597Z"
   },
   {
    "duration": 4,
    "start_time": "2023-12-12T16:38:17.609Z"
   },
   {
    "duration": 9,
    "start_time": "2023-12-12T16:38:17.615Z"
   },
   {
    "duration": 10,
    "start_time": "2023-12-12T16:38:17.626Z"
   },
   {
    "duration": 6,
    "start_time": "2023-12-12T16:38:17.637Z"
   },
   {
    "duration": 24,
    "start_time": "2023-12-12T16:38:17.644Z"
   },
   {
    "duration": 699,
    "start_time": "2023-12-12T16:38:17.671Z"
   },
   {
    "duration": 15,
    "start_time": "2023-12-12T16:38:18.372Z"
   },
   {
    "duration": 9,
    "start_time": "2023-12-12T16:38:18.388Z"
   },
   {
    "duration": 22,
    "start_time": "2023-12-12T16:38:18.398Z"
   },
   {
    "duration": 848,
    "start_time": "2023-12-12T16:38:18.421Z"
   },
   {
    "duration": 3,
    "start_time": "2023-12-12T16:38:19.271Z"
   },
   {
    "duration": 22,
    "start_time": "2023-12-12T16:38:19.275Z"
   },
   {
    "duration": 15,
    "start_time": "2023-12-12T16:38:19.299Z"
   },
   {
    "duration": 206,
    "start_time": "2023-12-12T16:38:19.316Z"
   },
   {
    "duration": 198,
    "start_time": "2023-12-12T16:38:19.523Z"
   },
   {
    "duration": 252,
    "start_time": "2023-12-12T16:38:19.722Z"
   },
   {
    "duration": 295,
    "start_time": "2023-12-12T16:38:19.975Z"
   },
   {
    "duration": 262,
    "start_time": "2023-12-12T16:38:20.271Z"
   },
   {
    "duration": 31,
    "start_time": "2023-12-12T16:38:20.535Z"
   },
   {
    "duration": 41,
    "start_time": "2023-12-12T16:38:20.568Z"
   },
   {
    "duration": 61,
    "start_time": "2023-12-12T16:38:20.611Z"
   },
   {
    "duration": 12738,
    "start_time": "2023-12-12T16:38:20.673Z"
   },
   {
    "duration": 541,
    "start_time": "2023-12-12T16:38:33.413Z"
   },
   {
    "duration": 497,
    "start_time": "2023-12-12T16:38:33.956Z"
   },
   {
    "duration": 369,
    "start_time": "2023-12-12T16:38:34.455Z"
   },
   {
    "duration": 72,
    "start_time": "2023-12-12T16:38:34.826Z"
   },
   {
    "duration": 10,
    "start_time": "2023-12-12T16:39:02.445Z"
   },
   {
    "duration": 8,
    "start_time": "2023-12-12T16:39:14.735Z"
   },
   {
    "duration": 159,
    "start_time": "2023-12-12T16:39:30.869Z"
   },
   {
    "duration": 166,
    "start_time": "2023-12-12T16:39:54.432Z"
   },
   {
    "duration": 106,
    "start_time": "2023-12-12T16:41:36.222Z"
   },
   {
    "duration": 104,
    "start_time": "2023-12-12T16:42:59.673Z"
   },
   {
    "duration": 109,
    "start_time": "2023-12-12T16:44:07.635Z"
   },
   {
    "duration": 892,
    "start_time": "2023-12-12T16:44:29.021Z"
   },
   {
    "duration": 1354,
    "start_time": "2023-12-12T19:54:57.978Z"
   },
   {
    "duration": 194,
    "start_time": "2023-12-12T19:54:59.334Z"
   },
   {
    "duration": 189,
    "start_time": "2023-12-12T19:54:59.529Z"
   },
   {
    "duration": 338,
    "start_time": "2023-12-12T19:54:59.719Z"
   },
   {
    "duration": 31,
    "start_time": "2023-12-12T19:55:00.058Z"
   },
   {
    "duration": 55,
    "start_time": "2023-12-12T19:55:00.091Z"
   },
   {
    "duration": 34,
    "start_time": "2023-12-12T19:55:00.148Z"
   },
   {
    "duration": 62,
    "start_time": "2023-12-12T19:55:00.184Z"
   },
   {
    "duration": 38,
    "start_time": "2023-12-12T19:55:00.247Z"
   },
   {
    "duration": 79,
    "start_time": "2023-12-12T19:55:00.287Z"
   },
   {
    "duration": 184,
    "start_time": "2023-12-12T19:55:00.367Z"
   },
   {
    "duration": 162,
    "start_time": "2023-12-12T19:55:00.552Z"
   },
   {
    "duration": 292,
    "start_time": "2023-12-12T19:55:00.715Z"
   },
   {
    "duration": 1134,
    "start_time": "2023-12-12T19:55:01.009Z"
   },
   {
    "duration": 16,
    "start_time": "2023-12-12T19:55:02.144Z"
   },
   {
    "duration": 21,
    "start_time": "2023-12-12T19:55:02.161Z"
   },
   {
    "duration": 40,
    "start_time": "2023-12-12T19:55:02.183Z"
   },
   {
    "duration": 737,
    "start_time": "2023-12-12T19:55:02.224Z"
   },
   {
    "duration": 4,
    "start_time": "2023-12-12T19:55:02.964Z"
   },
   {
    "duration": 36,
    "start_time": "2023-12-12T19:55:02.969Z"
   },
   {
    "duration": 10,
    "start_time": "2023-12-12T19:55:03.006Z"
   },
   {
    "duration": 269,
    "start_time": "2023-12-12T19:55:03.017Z"
   },
   {
    "duration": 169,
    "start_time": "2023-12-12T19:55:03.288Z"
   },
   {
    "duration": 238,
    "start_time": "2023-12-12T19:55:03.465Z"
   },
   {
    "duration": 293,
    "start_time": "2023-12-12T19:55:03.704Z"
   },
   {
    "duration": 338,
    "start_time": "2023-12-12T19:55:03.999Z"
   },
   {
    "duration": 30,
    "start_time": "2023-12-12T19:55:04.339Z"
   },
   {
    "duration": 40,
    "start_time": "2023-12-12T19:55:04.372Z"
   },
   {
    "duration": 53,
    "start_time": "2023-12-12T19:55:04.414Z"
   },
   {
    "duration": 12575,
    "start_time": "2023-12-12T19:55:04.469Z"
   },
   {
    "duration": 414,
    "start_time": "2023-12-12T19:55:17.045Z"
   },
   {
    "duration": 471,
    "start_time": "2023-12-12T19:55:17.461Z"
   },
   {
    "duration": 339,
    "start_time": "2023-12-12T19:55:17.934Z"
   },
   {
    "duration": 877,
    "start_time": "2023-12-12T19:55:18.275Z"
   },
   {
    "duration": 4,
    "start_time": "2023-12-12T19:55:19.153Z"
   },
   {
    "duration": 882,
    "start_time": "2023-12-12T19:56:27.587Z"
   },
   {
    "duration": 875,
    "start_time": "2023-12-12T19:57:04.515Z"
   },
   {
    "duration": 3,
    "start_time": "2023-12-12T20:03:26.573Z"
   },
   {
    "duration": 19,
    "start_time": "2023-12-12T20:12:28.611Z"
   },
   {
    "duration": 18,
    "start_time": "2023-12-12T20:13:36.725Z"
   },
   {
    "duration": 21,
    "start_time": "2023-12-12T20:13:52.149Z"
   },
   {
    "duration": 20,
    "start_time": "2023-12-12T20:14:02.260Z"
   },
   {
    "duration": 91,
    "start_time": "2023-12-12T20:14:57.416Z"
   },
   {
    "duration": 17,
    "start_time": "2023-12-12T20:15:00.822Z"
   },
   {
    "duration": 3,
    "start_time": "2023-12-12T20:15:23.824Z"
   },
   {
    "duration": 92,
    "start_time": "2023-12-12T20:15:23.829Z"
   },
   {
    "duration": 173,
    "start_time": "2023-12-12T20:15:23.923Z"
   },
   {
    "duration": 354,
    "start_time": "2023-12-12T20:15:24.098Z"
   },
   {
    "duration": 33,
    "start_time": "2023-12-12T20:15:24.454Z"
   },
   {
    "duration": 9,
    "start_time": "2023-12-12T20:15:24.489Z"
   },
   {
    "duration": 16,
    "start_time": "2023-12-12T20:15:24.499Z"
   },
   {
    "duration": 21,
    "start_time": "2023-12-12T20:15:24.517Z"
   },
   {
    "duration": 9,
    "start_time": "2023-12-12T20:15:24.540Z"
   },
   {
    "duration": 18,
    "start_time": "2023-12-12T20:15:24.566Z"
   },
   {
    "duration": 36,
    "start_time": "2023-12-12T20:15:24.586Z"
   },
   {
    "duration": 21,
    "start_time": "2023-12-12T20:15:24.624Z"
   },
   {
    "duration": 24,
    "start_time": "2023-12-12T20:15:24.647Z"
   },
   {
    "duration": 765,
    "start_time": "2023-12-12T20:15:24.673Z"
   },
   {
    "duration": 15,
    "start_time": "2023-12-12T20:15:25.440Z"
   },
   {
    "duration": 50,
    "start_time": "2023-12-12T20:15:25.456Z"
   },
   {
    "duration": 65,
    "start_time": "2023-12-12T20:15:25.508Z"
   },
   {
    "duration": 702,
    "start_time": "2023-12-12T20:15:25.574Z"
   },
   {
    "duration": 3,
    "start_time": "2023-12-12T20:15:26.278Z"
   },
   {
    "duration": 5,
    "start_time": "2023-12-12T20:15:26.283Z"
   },
   {
    "duration": 11,
    "start_time": "2023-12-12T20:15:26.289Z"
   },
   {
    "duration": 197,
    "start_time": "2023-12-12T20:15:26.301Z"
   },
   {
    "duration": 182,
    "start_time": "2023-12-12T20:15:26.500Z"
   },
   {
    "duration": 245,
    "start_time": "2023-12-12T20:15:26.684Z"
   },
   {
    "duration": 371,
    "start_time": "2023-12-12T20:15:26.930Z"
   },
   {
    "duration": 274,
    "start_time": "2023-12-12T20:15:27.303Z"
   },
   {
    "duration": 22,
    "start_time": "2023-12-12T20:15:27.579Z"
   },
   {
    "duration": 40,
    "start_time": "2023-12-12T20:15:27.604Z"
   },
   {
    "duration": 64,
    "start_time": "2023-12-12T20:15:27.645Z"
   },
   {
    "duration": 339,
    "start_time": "2023-12-12T20:15:27.710Z"
   },
   {
    "duration": 495,
    "start_time": "2023-12-12T20:15:28.050Z"
   },
   {
    "duration": 342,
    "start_time": "2023-12-12T20:15:28.547Z"
   },
   {
    "duration": 112,
    "start_time": "2023-12-12T20:15:28.892Z"
   },
   {
    "duration": 3,
    "start_time": "2023-12-12T20:15:29.006Z"
   },
   {
    "duration": 24,
    "start_time": "2023-12-12T20:15:29.011Z"
   },
   {
    "duration": 3,
    "start_time": "2023-12-12T20:26:20.435Z"
   },
   {
    "duration": 4,
    "start_time": "2023-12-12T20:27:03.010Z"
   },
   {
    "duration": 108,
    "start_time": "2023-12-12T20:29:12.538Z"
   },
   {
    "duration": 5,
    "start_time": "2023-12-12T20:29:22.170Z"
   },
   {
    "duration": 94,
    "start_time": "2023-12-12T20:29:47.603Z"
   },
   {
    "duration": 75,
    "start_time": "2023-12-12T20:29:52.525Z"
   },
   {
    "duration": 5,
    "start_time": "2023-12-12T20:30:00.474Z"
   },
   {
    "duration": 11,
    "start_time": "2023-12-12T20:40:54.608Z"
   },
   {
    "duration": 6,
    "start_time": "2023-12-12T20:41:03.940Z"
   },
   {
    "duration": 968,
    "start_time": "2023-12-12T20:44:24.224Z"
   },
   {
    "duration": 3,
    "start_time": "2023-12-12T20:44:54.645Z"
   },
   {
    "duration": 74,
    "start_time": "2023-12-12T20:44:54.650Z"
   },
   {
    "duration": 188,
    "start_time": "2023-12-12T20:44:54.725Z"
   },
   {
    "duration": 472,
    "start_time": "2023-12-12T20:44:54.915Z"
   },
   {
    "duration": 29,
    "start_time": "2023-12-12T20:44:55.390Z"
   },
   {
    "duration": 8,
    "start_time": "2023-12-12T20:44:55.420Z"
   },
   {
    "duration": 37,
    "start_time": "2023-12-12T20:44:55.430Z"
   },
   {
    "duration": 13,
    "start_time": "2023-12-12T20:44:55.468Z"
   },
   {
    "duration": 5,
    "start_time": "2023-12-12T20:44:55.483Z"
   },
   {
    "duration": 7,
    "start_time": "2023-12-12T20:44:55.490Z"
   },
   {
    "duration": 11,
    "start_time": "2023-12-12T20:44:55.498Z"
   },
   {
    "duration": 9,
    "start_time": "2023-12-12T20:44:55.511Z"
   },
   {
    "duration": 10,
    "start_time": "2023-12-12T20:44:55.522Z"
   },
   {
    "duration": 795,
    "start_time": "2023-12-12T20:44:55.535Z"
   },
   {
    "duration": 16,
    "start_time": "2023-12-12T20:44:56.331Z"
   },
   {
    "duration": 18,
    "start_time": "2023-12-12T20:44:56.348Z"
   },
   {
    "duration": 10,
    "start_time": "2023-12-12T20:44:56.367Z"
   },
   {
    "duration": 727,
    "start_time": "2023-12-12T20:44:56.378Z"
   },
   {
    "duration": 3,
    "start_time": "2023-12-12T20:44:57.107Z"
   },
   {
    "duration": 10,
    "start_time": "2023-12-12T20:44:57.111Z"
   },
   {
    "duration": 4,
    "start_time": "2023-12-12T20:44:57.122Z"
   },
   {
    "duration": 207,
    "start_time": "2023-12-12T20:44:57.127Z"
   },
   {
    "duration": 186,
    "start_time": "2023-12-12T20:44:57.336Z"
   },
   {
    "duration": 350,
    "start_time": "2023-12-12T20:44:57.523Z"
   },
   {
    "duration": 299,
    "start_time": "2023-12-12T20:44:57.875Z"
   },
   {
    "duration": 276,
    "start_time": "2023-12-12T20:44:58.176Z"
   },
   {
    "duration": 26,
    "start_time": "2023-12-12T20:44:58.453Z"
   },
   {
    "duration": 41,
    "start_time": "2023-12-12T20:44:58.481Z"
   },
   {
    "duration": 60,
    "start_time": "2023-12-12T20:44:58.523Z"
   },
   {
    "duration": 334,
    "start_time": "2023-12-12T20:44:58.584Z"
   },
   {
    "duration": 523,
    "start_time": "2023-12-12T20:44:58.920Z"
   },
   {
    "duration": 448,
    "start_time": "2023-12-12T20:44:59.445Z"
   },
   {
    "duration": 104,
    "start_time": "2023-12-12T20:44:59.894Z"
   },
   {
    "duration": 3,
    "start_time": "2023-12-12T20:44:59.999Z"
   },
   {
    "duration": 70,
    "start_time": "2023-12-12T20:45:00.004Z"
   },
   {
    "duration": 40,
    "start_time": "2023-12-12T20:45:00.076Z"
   },
   {
    "duration": 55,
    "start_time": "2023-12-12T20:45:00.118Z"
   },
   {
    "duration": 907,
    "start_time": "2023-12-12T20:46:19.829Z"
   },
   {
    "duration": 3,
    "start_time": "2023-12-12T20:46:33.204Z"
   },
   {
    "duration": 80,
    "start_time": "2023-12-12T20:46:33.211Z"
   },
   {
    "duration": 196,
    "start_time": "2023-12-12T20:46:33.293Z"
   },
   {
    "duration": 377,
    "start_time": "2023-12-12T20:46:33.490Z"
   },
   {
    "duration": 27,
    "start_time": "2023-12-12T20:46:33.868Z"
   },
   {
    "duration": 18,
    "start_time": "2023-12-12T20:46:33.897Z"
   },
   {
    "duration": 60,
    "start_time": "2023-12-12T20:46:33.917Z"
   },
   {
    "duration": 32,
    "start_time": "2023-12-12T20:46:33.979Z"
   },
   {
    "duration": 35,
    "start_time": "2023-12-12T20:46:34.013Z"
   },
   {
    "duration": 43,
    "start_time": "2023-12-12T20:46:34.050Z"
   },
   {
    "duration": 76,
    "start_time": "2023-12-12T20:46:34.094Z"
   },
   {
    "duration": 30,
    "start_time": "2023-12-12T20:46:34.171Z"
   },
   {
    "duration": 57,
    "start_time": "2023-12-12T20:46:34.202Z"
   },
   {
    "duration": 766,
    "start_time": "2023-12-12T20:46:34.261Z"
   },
   {
    "duration": 15,
    "start_time": "2023-12-12T20:46:35.030Z"
   },
   {
    "duration": 24,
    "start_time": "2023-12-12T20:46:35.046Z"
   },
   {
    "duration": 48,
    "start_time": "2023-12-12T20:46:35.072Z"
   },
   {
    "duration": 816,
    "start_time": "2023-12-12T20:46:35.121Z"
   },
   {
    "duration": 4,
    "start_time": "2023-12-12T20:46:35.939Z"
   },
   {
    "duration": 14,
    "start_time": "2023-12-12T20:46:35.944Z"
   },
   {
    "duration": 13,
    "start_time": "2023-12-12T20:46:35.959Z"
   },
   {
    "duration": 335,
    "start_time": "2023-12-12T20:46:35.973Z"
   },
   {
    "duration": 190,
    "start_time": "2023-12-12T20:46:36.310Z"
   },
   {
    "duration": 272,
    "start_time": "2023-12-12T20:46:36.502Z"
   },
   {
    "duration": 307,
    "start_time": "2023-12-12T20:46:36.776Z"
   },
   {
    "duration": 286,
    "start_time": "2023-12-12T20:46:37.084Z"
   },
   {
    "duration": 24,
    "start_time": "2023-12-12T20:46:37.372Z"
   },
   {
    "duration": 51,
    "start_time": "2023-12-12T20:46:37.398Z"
   },
   {
    "duration": 42,
    "start_time": "2023-12-12T20:46:37.466Z"
   },
   {
    "duration": 441,
    "start_time": "2023-12-12T20:46:37.510Z"
   },
   {
    "duration": 516,
    "start_time": "2023-12-12T20:46:37.952Z"
   },
   {
    "duration": 352,
    "start_time": "2023-12-12T20:46:38.469Z"
   },
   {
    "duration": 105,
    "start_time": "2023-12-12T20:46:38.822Z"
   },
   {
    "duration": 4,
    "start_time": "2023-12-12T20:46:38.929Z"
   },
   {
    "duration": 59,
    "start_time": "2023-12-12T20:46:38.934Z"
   },
   {
    "duration": 22,
    "start_time": "2023-12-12T20:46:38.995Z"
   },
   {
    "duration": 27,
    "start_time": "2023-12-12T20:46:39.019Z"
   },
   {
    "duration": 4,
    "start_time": "2023-12-12T20:56:08.266Z"
   },
   {
    "duration": 78,
    "start_time": "2023-12-12T20:56:08.273Z"
   },
   {
    "duration": 209,
    "start_time": "2023-12-12T20:56:08.352Z"
   },
   {
    "duration": 357,
    "start_time": "2023-12-12T20:56:08.566Z"
   },
   {
    "duration": 41,
    "start_time": "2023-12-12T20:56:08.927Z"
   },
   {
    "duration": 10,
    "start_time": "2023-12-12T20:56:08.970Z"
   },
   {
    "duration": 43,
    "start_time": "2023-12-12T20:56:08.981Z"
   },
   {
    "duration": 27,
    "start_time": "2023-12-12T20:56:09.025Z"
   },
   {
    "duration": 7,
    "start_time": "2023-12-12T20:56:09.054Z"
   },
   {
    "duration": 23,
    "start_time": "2023-12-12T20:56:09.062Z"
   },
   {
    "duration": 124,
    "start_time": "2023-12-12T20:56:09.087Z"
   },
   {
    "duration": 11,
    "start_time": "2023-12-12T20:56:09.212Z"
   },
   {
    "duration": 8,
    "start_time": "2023-12-12T20:56:09.225Z"
   },
   {
    "duration": 819,
    "start_time": "2023-12-12T20:56:09.236Z"
   },
   {
    "duration": 15,
    "start_time": "2023-12-12T20:56:10.057Z"
   },
   {
    "duration": 49,
    "start_time": "2023-12-12T20:56:10.074Z"
   },
   {
    "duration": 43,
    "start_time": "2023-12-12T20:56:10.125Z"
   },
   {
    "duration": 28,
    "start_time": "2023-12-12T20:56:10.170Z"
   },
   {
    "duration": 45,
    "start_time": "2023-12-12T20:56:10.200Z"
   },
   {
    "duration": 215,
    "start_time": "2023-12-12T20:56:10.247Z"
   },
   {
    "duration": 181,
    "start_time": "2023-12-12T20:56:10.464Z"
   },
   {
    "duration": 276,
    "start_time": "2023-12-12T20:56:10.647Z"
   },
   {
    "duration": 310,
    "start_time": "2023-12-12T20:56:10.924Z"
   },
   {
    "duration": 271,
    "start_time": "2023-12-12T20:56:11.236Z"
   },
   {
    "duration": 23,
    "start_time": "2023-12-12T20:56:11.508Z"
   },
   {
    "duration": 57,
    "start_time": "2023-12-12T20:56:11.533Z"
   },
   {
    "duration": 43,
    "start_time": "2023-12-12T20:56:11.592Z"
   },
   {
    "duration": 478,
    "start_time": "2023-12-12T20:56:11.636Z"
   },
   {
    "duration": 495,
    "start_time": "2023-12-12T20:56:12.116Z"
   },
   {
    "duration": 356,
    "start_time": "2023-12-12T20:56:12.613Z"
   },
   {
    "duration": 114,
    "start_time": "2023-12-12T20:56:12.971Z"
   },
   {
    "duration": 3,
    "start_time": "2023-12-12T20:56:13.087Z"
   },
   {
    "duration": 22,
    "start_time": "2023-12-12T20:56:13.091Z"
   },
   {
    "duration": 8,
    "start_time": "2023-12-12T20:56:13.115Z"
   },
   {
    "duration": 8,
    "start_time": "2023-12-12T20:56:13.127Z"
   },
   {
    "duration": 15,
    "start_time": "2023-12-12T20:58:57.069Z"
   },
   {
    "duration": 19,
    "start_time": "2023-12-12T21:01:48.238Z"
   },
   {
    "duration": 3,
    "start_time": "2023-12-12T21:01:52.639Z"
   },
   {
    "duration": 72,
    "start_time": "2023-12-12T21:01:52.644Z"
   },
   {
    "duration": 168,
    "start_time": "2023-12-12T21:01:52.717Z"
   },
   {
    "duration": 338,
    "start_time": "2023-12-12T21:01:52.887Z"
   },
   {
    "duration": 39,
    "start_time": "2023-12-12T21:01:53.227Z"
   },
   {
    "duration": 8,
    "start_time": "2023-12-12T21:01:53.268Z"
   },
   {
    "duration": 19,
    "start_time": "2023-12-12T21:01:53.278Z"
   },
   {
    "duration": 17,
    "start_time": "2023-12-12T21:01:53.299Z"
   },
   {
    "duration": 5,
    "start_time": "2023-12-12T21:01:53.318Z"
   },
   {
    "duration": 9,
    "start_time": "2023-12-12T21:01:53.324Z"
   },
   {
    "duration": 38,
    "start_time": "2023-12-12T21:01:53.335Z"
   },
   {
    "duration": 15,
    "start_time": "2023-12-12T21:01:53.375Z"
   },
   {
    "duration": 12,
    "start_time": "2023-12-12T21:01:53.392Z"
   },
   {
    "duration": 768,
    "start_time": "2023-12-12T21:01:53.405Z"
   },
   {
    "duration": 15,
    "start_time": "2023-12-12T21:01:54.175Z"
   },
   {
    "duration": 3,
    "start_time": "2023-12-12T21:01:54.192Z"
   },
   {
    "duration": 19,
    "start_time": "2023-12-12T21:01:54.196Z"
   },
   {
    "duration": 6,
    "start_time": "2023-12-12T21:01:54.216Z"
   },
   {
    "duration": 5,
    "start_time": "2023-12-12T21:01:54.224Z"
   },
   {
    "duration": 185,
    "start_time": "2023-12-12T21:01:54.230Z"
   },
   {
    "duration": 184,
    "start_time": "2023-12-12T21:01:54.416Z"
   },
   {
    "duration": 259,
    "start_time": "2023-12-12T21:01:54.601Z"
   },
   {
    "duration": 276,
    "start_time": "2023-12-12T21:01:54.864Z"
   },
   {
    "duration": 266,
    "start_time": "2023-12-12T21:01:55.142Z"
   },
   {
    "duration": 22,
    "start_time": "2023-12-12T21:01:55.409Z"
   },
   {
    "duration": 58,
    "start_time": "2023-12-12T21:01:55.433Z"
   },
   {
    "duration": 40,
    "start_time": "2023-12-12T21:01:55.492Z"
   },
   {
    "duration": 472,
    "start_time": "2023-12-12T21:01:55.534Z"
   },
   {
    "duration": 483,
    "start_time": "2023-12-12T21:01:56.008Z"
   },
   {
    "duration": 322,
    "start_time": "2023-12-12T21:01:56.492Z"
   },
   {
    "duration": 103,
    "start_time": "2023-12-12T21:01:56.815Z"
   },
   {
    "duration": 3,
    "start_time": "2023-12-12T21:01:56.920Z"
   },
   {
    "duration": 32,
    "start_time": "2023-12-12T21:01:56.925Z"
   },
   {
    "duration": 8,
    "start_time": "2023-12-12T21:01:56.959Z"
   },
   {
    "duration": 22,
    "start_time": "2023-12-12T21:01:56.969Z"
   },
   {
    "duration": 28,
    "start_time": "2023-12-12T21:01:56.992Z"
   },
   {
    "duration": 11,
    "start_time": "2023-12-12T21:02:52.003Z"
   },
   {
    "duration": 49,
    "start_time": "2023-12-13T09:13:40.586Z"
   },
   {
    "duration": 1395,
    "start_time": "2023-12-13T09:13:46.526Z"
   },
   {
    "duration": 290,
    "start_time": "2023-12-13T09:13:47.923Z"
   },
   {
    "duration": 203,
    "start_time": "2023-12-13T09:13:48.215Z"
   },
   {
    "duration": 368,
    "start_time": "2023-12-13T09:13:48.420Z"
   },
   {
    "duration": 31,
    "start_time": "2023-12-13T09:13:48.790Z"
   },
   {
    "duration": 18,
    "start_time": "2023-12-13T09:13:48.822Z"
   },
   {
    "duration": 48,
    "start_time": "2023-12-13T09:13:48.842Z"
   },
   {
    "duration": 12,
    "start_time": "2023-12-13T09:13:48.892Z"
   },
   {
    "duration": 16,
    "start_time": "2023-12-13T09:13:48.905Z"
   },
   {
    "duration": 26,
    "start_time": "2023-12-13T09:13:48.923Z"
   },
   {
    "duration": 21,
    "start_time": "2023-12-13T09:13:48.950Z"
   },
   {
    "duration": 12,
    "start_time": "2023-12-13T09:13:48.973Z"
   },
   {
    "duration": 25,
    "start_time": "2023-12-13T09:13:48.987Z"
   },
   {
    "duration": 793,
    "start_time": "2023-12-13T09:13:49.015Z"
   },
   {
    "duration": 91,
    "start_time": "2023-12-13T09:13:49.810Z"
   },
   {
    "duration": 3,
    "start_time": "2023-12-13T09:13:49.902Z"
   },
   {
    "duration": 36,
    "start_time": "2023-12-13T09:13:49.906Z"
   },
   {
    "duration": 34,
    "start_time": "2023-12-13T09:13:49.943Z"
   },
   {
    "duration": 31,
    "start_time": "2023-12-13T09:13:49.978Z"
   },
   {
    "duration": 323,
    "start_time": "2023-12-13T09:13:50.011Z"
   },
   {
    "duration": 186,
    "start_time": "2023-12-13T09:13:50.335Z"
   },
   {
    "duration": 257,
    "start_time": "2023-12-13T09:13:50.523Z"
   },
   {
    "duration": 304,
    "start_time": "2023-12-13T09:13:50.782Z"
   },
   {
    "duration": 317,
    "start_time": "2023-12-13T09:13:51.087Z"
   },
   {
    "duration": 26,
    "start_time": "2023-12-13T09:13:51.406Z"
   },
   {
    "duration": 134,
    "start_time": "2023-12-13T09:13:51.433Z"
   },
   {
    "duration": 49,
    "start_time": "2023-12-13T09:13:51.568Z"
   },
   {
    "duration": 342,
    "start_time": "2023-12-13T09:13:51.618Z"
   },
   {
    "duration": 548,
    "start_time": "2023-12-13T09:13:51.962Z"
   },
   {
    "duration": 362,
    "start_time": "2023-12-13T09:13:52.512Z"
   },
   {
    "duration": 110,
    "start_time": "2023-12-13T09:13:52.876Z"
   },
   {
    "duration": 4,
    "start_time": "2023-12-13T09:13:52.988Z"
   },
   {
    "duration": 47,
    "start_time": "2023-12-13T09:13:52.994Z"
   },
   {
    "duration": 31,
    "start_time": "2023-12-13T09:13:53.042Z"
   },
   {
    "duration": 12,
    "start_time": "2023-12-13T09:13:53.075Z"
   },
   {
    "duration": 79,
    "start_time": "2023-12-13T09:13:53.089Z"
   },
   {
    "duration": 1441,
    "start_time": "2023-12-13T09:13:59.908Z"
   },
   {
    "duration": 4,
    "start_time": "2023-12-13T09:14:14.561Z"
   },
   {
    "duration": 78,
    "start_time": "2023-12-13T09:14:14.566Z"
   },
   {
    "duration": 194,
    "start_time": "2023-12-13T09:14:14.646Z"
   },
   {
    "duration": 370,
    "start_time": "2023-12-13T09:14:14.842Z"
   },
   {
    "duration": 28,
    "start_time": "2023-12-13T09:14:15.214Z"
   },
   {
    "duration": 9,
    "start_time": "2023-12-13T09:14:15.243Z"
   },
   {
    "duration": 33,
    "start_time": "2023-12-13T09:14:15.253Z"
   },
   {
    "duration": 24,
    "start_time": "2023-12-13T09:14:15.287Z"
   },
   {
    "duration": 20,
    "start_time": "2023-12-13T09:14:15.312Z"
   },
   {
    "duration": 11,
    "start_time": "2023-12-13T09:14:15.333Z"
   },
   {
    "duration": 24,
    "start_time": "2023-12-13T09:14:15.346Z"
   },
   {
    "duration": 19,
    "start_time": "2023-12-13T09:14:15.372Z"
   },
   {
    "duration": 16,
    "start_time": "2023-12-13T09:14:15.392Z"
   },
   {
    "duration": 798,
    "start_time": "2023-12-13T09:14:15.411Z"
   },
   {
    "duration": 15,
    "start_time": "2023-12-13T09:14:16.211Z"
   },
   {
    "duration": 9,
    "start_time": "2023-12-13T09:14:16.228Z"
   },
   {
    "duration": 16,
    "start_time": "2023-12-13T09:14:16.239Z"
   },
   {
    "duration": 22,
    "start_time": "2023-12-13T09:14:16.256Z"
   },
   {
    "duration": 12,
    "start_time": "2023-12-13T09:14:16.280Z"
   },
   {
    "duration": 193,
    "start_time": "2023-12-13T09:14:16.294Z"
   },
   {
    "duration": 180,
    "start_time": "2023-12-13T09:14:16.489Z"
   },
   {
    "duration": 273,
    "start_time": "2023-12-13T09:14:16.671Z"
   },
   {
    "duration": 305,
    "start_time": "2023-12-13T09:14:16.946Z"
   },
   {
    "duration": 391,
    "start_time": "2023-12-13T09:14:17.252Z"
   },
   {
    "duration": 24,
    "start_time": "2023-12-13T09:14:17.644Z"
   },
   {
    "duration": 58,
    "start_time": "2023-12-13T09:14:17.670Z"
   },
   {
    "duration": 41,
    "start_time": "2023-12-13T09:14:17.730Z"
   },
   {
    "duration": 389,
    "start_time": "2023-12-13T09:14:17.773Z"
   },
   {
    "duration": 516,
    "start_time": "2023-12-13T09:14:18.164Z"
   },
   {
    "duration": 354,
    "start_time": "2023-12-13T09:14:18.681Z"
   },
   {
    "duration": 104,
    "start_time": "2023-12-13T09:14:19.037Z"
   },
   {
    "duration": 4,
    "start_time": "2023-12-13T09:14:19.142Z"
   },
   {
    "duration": 50,
    "start_time": "2023-12-13T09:14:19.147Z"
   },
   {
    "duration": 9,
    "start_time": "2023-12-13T09:14:19.199Z"
   },
   {
    "duration": 31,
    "start_time": "2023-12-13T09:14:19.209Z"
   },
   {
    "duration": 718,
    "start_time": "2023-12-13T09:14:19.242Z"
   },
   {
    "duration": 643,
    "start_time": "2023-12-13T09:15:59.559Z"
   },
   {
    "duration": 670,
    "start_time": "2023-12-13T09:17:16.059Z"
   },
   {
    "duration": 1293,
    "start_time": "2023-12-13T09:17:31.408Z"
   },
   {
    "duration": 68,
    "start_time": "2023-12-13T09:17:32.704Z"
   },
   {
    "duration": 200,
    "start_time": "2023-12-13T09:17:32.773Z"
   },
   {
    "duration": 390,
    "start_time": "2023-12-13T09:17:32.975Z"
   },
   {
    "duration": 40,
    "start_time": "2023-12-13T09:17:33.367Z"
   },
   {
    "duration": 30,
    "start_time": "2023-12-13T09:17:33.409Z"
   },
   {
    "duration": 77,
    "start_time": "2023-12-13T09:17:33.440Z"
   },
   {
    "duration": 46,
    "start_time": "2023-12-13T09:17:33.518Z"
   },
   {
    "duration": 20,
    "start_time": "2023-12-13T09:17:33.565Z"
   },
   {
    "duration": 18,
    "start_time": "2023-12-13T09:17:33.587Z"
   },
   {
    "duration": 12,
    "start_time": "2023-12-13T09:17:33.606Z"
   },
   {
    "duration": 10,
    "start_time": "2023-12-13T09:17:33.620Z"
   },
   {
    "duration": 17,
    "start_time": "2023-12-13T09:17:33.632Z"
   },
   {
    "duration": 756,
    "start_time": "2023-12-13T09:17:33.652Z"
   },
   {
    "duration": 17,
    "start_time": "2023-12-13T09:17:34.410Z"
   },
   {
    "duration": 3,
    "start_time": "2023-12-13T09:17:34.428Z"
   },
   {
    "duration": 9,
    "start_time": "2023-12-13T09:17:34.433Z"
   },
   {
    "duration": 9,
    "start_time": "2023-12-13T09:17:34.444Z"
   },
   {
    "duration": 19,
    "start_time": "2023-12-13T09:17:34.455Z"
   },
   {
    "duration": 380,
    "start_time": "2023-12-13T09:17:34.476Z"
   },
   {
    "duration": 203,
    "start_time": "2023-12-13T09:17:34.858Z"
   },
   {
    "duration": 262,
    "start_time": "2023-12-13T09:17:35.063Z"
   },
   {
    "duration": 313,
    "start_time": "2023-12-13T09:17:35.327Z"
   },
   {
    "duration": 298,
    "start_time": "2023-12-13T09:17:35.642Z"
   },
   {
    "duration": 28,
    "start_time": "2023-12-13T09:17:35.942Z"
   },
   {
    "duration": 68,
    "start_time": "2023-12-13T09:17:35.971Z"
   },
   {
    "duration": 60,
    "start_time": "2023-12-13T09:17:36.041Z"
   },
   {
    "duration": 452,
    "start_time": "2023-12-13T09:17:36.103Z"
   },
   {
    "duration": 543,
    "start_time": "2023-12-13T09:17:36.557Z"
   },
   {
    "duration": 357,
    "start_time": "2023-12-13T09:17:37.103Z"
   },
   {
    "duration": 108,
    "start_time": "2023-12-13T09:17:37.462Z"
   },
   {
    "duration": 5,
    "start_time": "2023-12-13T09:17:37.572Z"
   },
   {
    "duration": 35,
    "start_time": "2023-12-13T09:17:37.578Z"
   },
   {
    "duration": 5,
    "start_time": "2023-12-13T09:17:37.615Z"
   },
   {
    "duration": 15,
    "start_time": "2023-12-13T09:17:37.622Z"
   },
   {
    "duration": 759,
    "start_time": "2023-12-13T09:17:37.639Z"
   },
   {
    "duration": 551,
    "start_time": "2023-12-13T09:22:37.937Z"
   },
   {
    "duration": 5,
    "start_time": "2023-12-13T09:35:09.674Z"
   },
   {
    "duration": 72,
    "start_time": "2023-12-13T09:35:09.680Z"
   },
   {
    "duration": 248,
    "start_time": "2023-12-13T09:35:09.754Z"
   },
   {
    "duration": 402,
    "start_time": "2023-12-13T09:35:10.005Z"
   },
   {
    "duration": 30,
    "start_time": "2023-12-13T09:35:10.410Z"
   },
   {
    "duration": 10,
    "start_time": "2023-12-13T09:35:10.441Z"
   },
   {
    "duration": 12,
    "start_time": "2023-12-13T09:35:10.452Z"
   },
   {
    "duration": 42,
    "start_time": "2023-12-13T09:35:10.466Z"
   },
   {
    "duration": 5,
    "start_time": "2023-12-13T09:35:10.509Z"
   },
   {
    "duration": 5,
    "start_time": "2023-12-13T09:35:10.516Z"
   },
   {
    "duration": 6,
    "start_time": "2023-12-13T09:35:10.522Z"
   },
   {
    "duration": 5,
    "start_time": "2023-12-13T09:35:10.530Z"
   },
   {
    "duration": 6,
    "start_time": "2023-12-13T09:35:10.537Z"
   },
   {
    "duration": 863,
    "start_time": "2023-12-13T09:35:10.547Z"
   },
   {
    "duration": 17,
    "start_time": "2023-12-13T09:35:11.411Z"
   },
   {
    "duration": 8,
    "start_time": "2023-12-13T09:35:11.430Z"
   },
   {
    "duration": 7,
    "start_time": "2023-12-13T09:35:11.440Z"
   },
   {
    "duration": 5,
    "start_time": "2023-12-13T09:35:11.449Z"
   },
   {
    "duration": 4,
    "start_time": "2023-12-13T09:35:11.456Z"
   },
   {
    "duration": 221,
    "start_time": "2023-12-13T09:35:11.462Z"
   },
   {
    "duration": 199,
    "start_time": "2023-12-13T09:35:11.685Z"
   },
   {
    "duration": 270,
    "start_time": "2023-12-13T09:35:11.885Z"
   },
   {
    "duration": 314,
    "start_time": "2023-12-13T09:35:12.158Z"
   },
   {
    "duration": 295,
    "start_time": "2023-12-13T09:35:12.474Z"
   },
   {
    "duration": 34,
    "start_time": "2023-12-13T09:35:12.771Z"
   },
   {
    "duration": 51,
    "start_time": "2023-12-13T09:35:12.807Z"
   },
   {
    "duration": 61,
    "start_time": "2023-12-13T09:35:12.859Z"
   },
   {
    "duration": 473,
    "start_time": "2023-12-13T09:35:12.922Z"
   },
   {
    "duration": 526,
    "start_time": "2023-12-13T09:35:13.397Z"
   },
   {
    "duration": 370,
    "start_time": "2023-12-13T09:35:13.925Z"
   },
   {
    "duration": 106,
    "start_time": "2023-12-13T09:35:14.297Z"
   },
   {
    "duration": 3,
    "start_time": "2023-12-13T09:35:14.405Z"
   },
   {
    "duration": 23,
    "start_time": "2023-12-13T09:35:14.410Z"
   },
   {
    "duration": 5,
    "start_time": "2023-12-13T09:35:14.435Z"
   },
   {
    "duration": 8,
    "start_time": "2023-12-13T09:35:14.441Z"
   },
   {
    "duration": 769,
    "start_time": "2023-12-13T09:35:14.451Z"
   },
   {
    "duration": 13,
    "start_time": "2023-12-13T09:40:04.035Z"
   },
   {
    "duration": 9,
    "start_time": "2023-12-13T09:41:42.112Z"
   },
   {
    "duration": 11,
    "start_time": "2023-12-13T09:42:20.738Z"
   },
   {
    "duration": 4,
    "start_time": "2023-12-13T09:42:29.208Z"
   },
   {
    "duration": 97,
    "start_time": "2023-12-13T09:42:29.215Z"
   },
   {
    "duration": 199,
    "start_time": "2023-12-13T09:42:29.314Z"
   },
   {
    "duration": 403,
    "start_time": "2023-12-13T09:42:29.514Z"
   },
   {
    "duration": 29,
    "start_time": "2023-12-13T09:42:29.919Z"
   },
   {
    "duration": 9,
    "start_time": "2023-12-13T09:42:29.950Z"
   },
   {
    "duration": 40,
    "start_time": "2023-12-13T09:42:29.961Z"
   },
   {
    "duration": 15,
    "start_time": "2023-12-13T09:42:30.003Z"
   },
   {
    "duration": 81,
    "start_time": "2023-12-13T09:42:30.019Z"
   },
   {
    "duration": 38,
    "start_time": "2023-12-13T09:42:30.102Z"
   },
   {
    "duration": 34,
    "start_time": "2023-12-13T09:42:30.142Z"
   },
   {
    "duration": 69,
    "start_time": "2023-12-13T09:42:30.178Z"
   },
   {
    "duration": 81,
    "start_time": "2023-12-13T09:42:30.249Z"
   },
   {
    "duration": 949,
    "start_time": "2023-12-13T09:42:30.334Z"
   },
   {
    "duration": 26,
    "start_time": "2023-12-13T09:42:31.285Z"
   },
   {
    "duration": 253,
    "start_time": "2023-12-13T09:42:31.312Z"
   },
   {
    "duration": 56,
    "start_time": "2023-12-13T09:42:31.567Z"
   },
   {
    "duration": 76,
    "start_time": "2023-12-13T09:42:31.625Z"
   },
   {
    "duration": 109,
    "start_time": "2023-12-13T09:42:31.703Z"
   },
   {
    "duration": 354,
    "start_time": "2023-12-13T09:42:31.814Z"
   },
   {
    "duration": 202,
    "start_time": "2023-12-13T09:42:32.169Z"
   },
   {
    "duration": 275,
    "start_time": "2023-12-13T09:42:32.373Z"
   },
   {
    "duration": 323,
    "start_time": "2023-12-13T09:42:32.650Z"
   },
   {
    "duration": 316,
    "start_time": "2023-12-13T09:42:32.975Z"
   },
   {
    "duration": 32,
    "start_time": "2023-12-13T09:42:33.292Z"
   },
   {
    "duration": 47,
    "start_time": "2023-12-13T09:42:33.326Z"
   },
   {
    "duration": 66,
    "start_time": "2023-12-13T09:42:33.375Z"
   },
   {
    "duration": 487,
    "start_time": "2023-12-13T09:42:33.442Z"
   },
   {
    "duration": 552,
    "start_time": "2023-12-13T09:42:33.931Z"
   },
   {
    "duration": 375,
    "start_time": "2023-12-13T09:42:34.485Z"
   },
   {
    "duration": 111,
    "start_time": "2023-12-13T09:42:34.861Z"
   },
   {
    "duration": 3,
    "start_time": "2023-12-13T09:42:34.974Z"
   },
   {
    "duration": 29,
    "start_time": "2023-12-13T09:42:34.979Z"
   },
   {
    "duration": 5,
    "start_time": "2023-12-13T09:42:35.010Z"
   },
   {
    "duration": 13,
    "start_time": "2023-12-13T09:42:35.016Z"
   },
   {
    "duration": 25,
    "start_time": "2023-12-13T09:42:35.030Z"
   },
   {
    "duration": 0,
    "start_time": "2023-12-13T09:42:35.057Z"
   },
   {
    "duration": 8,
    "start_time": "2023-12-13T09:42:40.757Z"
   },
   {
    "duration": 4,
    "start_time": "2023-12-13T09:43:23.274Z"
   },
   {
    "duration": 121,
    "start_time": "2023-12-13T09:43:23.280Z"
   },
   {
    "duration": 225,
    "start_time": "2023-12-13T09:43:23.403Z"
   },
   {
    "duration": 388,
    "start_time": "2023-12-13T09:43:23.630Z"
   },
   {
    "duration": 31,
    "start_time": "2023-12-13T09:43:24.020Z"
   },
   {
    "duration": 19,
    "start_time": "2023-12-13T09:43:24.053Z"
   },
   {
    "duration": 30,
    "start_time": "2023-12-13T09:43:24.074Z"
   },
   {
    "duration": 44,
    "start_time": "2023-12-13T09:43:24.105Z"
   },
   {
    "duration": 27,
    "start_time": "2023-12-13T09:43:24.151Z"
   },
   {
    "duration": 34,
    "start_time": "2023-12-13T09:43:24.179Z"
   },
   {
    "duration": 42,
    "start_time": "2023-12-13T09:43:24.215Z"
   },
   {
    "duration": 24,
    "start_time": "2023-12-13T09:43:24.259Z"
   },
   {
    "duration": 23,
    "start_time": "2023-12-13T09:43:24.284Z"
   },
   {
    "duration": 842,
    "start_time": "2023-12-13T09:43:24.310Z"
   },
   {
    "duration": 16,
    "start_time": "2023-12-13T09:43:25.153Z"
   },
   {
    "duration": 67,
    "start_time": "2023-12-13T09:43:25.171Z"
   },
   {
    "duration": 37,
    "start_time": "2023-12-13T09:43:25.240Z"
   },
   {
    "duration": 51,
    "start_time": "2023-12-13T09:43:25.279Z"
   },
   {
    "duration": 65,
    "start_time": "2023-12-13T09:43:25.332Z"
   },
   {
    "duration": 250,
    "start_time": "2023-12-13T09:43:25.399Z"
   },
   {
    "duration": 209,
    "start_time": "2023-12-13T09:43:25.651Z"
   },
   {
    "duration": 279,
    "start_time": "2023-12-13T09:43:25.862Z"
   },
   {
    "duration": 314,
    "start_time": "2023-12-13T09:43:26.142Z"
   },
   {
    "duration": 295,
    "start_time": "2023-12-13T09:43:26.458Z"
   },
   {
    "duration": 24,
    "start_time": "2023-12-13T09:43:26.755Z"
   },
   {
    "duration": 62,
    "start_time": "2023-12-13T09:43:26.781Z"
   },
   {
    "duration": 56,
    "start_time": "2023-12-13T09:43:26.844Z"
   },
   {
    "duration": 493,
    "start_time": "2023-12-13T09:43:26.902Z"
   },
   {
    "duration": 571,
    "start_time": "2023-12-13T09:43:27.399Z"
   },
   {
    "duration": 398,
    "start_time": "2023-12-13T09:43:27.972Z"
   },
   {
    "duration": 108,
    "start_time": "2023-12-13T09:43:28.371Z"
   },
   {
    "duration": 3,
    "start_time": "2023-12-13T09:43:28.481Z"
   },
   {
    "duration": 40,
    "start_time": "2023-12-13T09:43:28.486Z"
   },
   {
    "duration": 42,
    "start_time": "2023-12-13T09:43:28.528Z"
   },
   {
    "duration": 104,
    "start_time": "2023-12-13T09:43:28.572Z"
   },
   {
    "duration": 0,
    "start_time": "2023-12-13T09:43:28.678Z"
   },
   {
    "duration": 0,
    "start_time": "2023-12-13T09:43:28.679Z"
   },
   {
    "duration": 3,
    "start_time": "2023-12-13T09:43:51.255Z"
   },
   {
    "duration": 79,
    "start_time": "2023-12-13T09:43:51.260Z"
   },
   {
    "duration": 192,
    "start_time": "2023-12-13T09:43:51.341Z"
   },
   {
    "duration": 372,
    "start_time": "2023-12-13T09:43:51.535Z"
   },
   {
    "duration": 29,
    "start_time": "2023-12-13T09:43:51.909Z"
   },
   {
    "duration": 9,
    "start_time": "2023-12-13T09:43:51.940Z"
   },
   {
    "duration": 30,
    "start_time": "2023-12-13T09:43:51.951Z"
   },
   {
    "duration": 30,
    "start_time": "2023-12-13T09:43:51.983Z"
   },
   {
    "duration": 6,
    "start_time": "2023-12-13T09:43:52.015Z"
   },
   {
    "duration": 24,
    "start_time": "2023-12-13T09:43:52.022Z"
   },
   {
    "duration": 55,
    "start_time": "2023-12-13T09:43:52.048Z"
   },
   {
    "duration": 22,
    "start_time": "2023-12-13T09:43:52.105Z"
   },
   {
    "duration": 43,
    "start_time": "2023-12-13T09:43:52.129Z"
   },
   {
    "duration": 794,
    "start_time": "2023-12-13T09:43:52.174Z"
   },
   {
    "duration": 15,
    "start_time": "2023-12-13T09:43:52.970Z"
   },
   {
    "duration": 14,
    "start_time": "2023-12-13T09:43:52.987Z"
   },
   {
    "duration": 8,
    "start_time": "2023-12-13T09:43:53.003Z"
   },
   {
    "duration": 9,
    "start_time": "2023-12-13T09:43:53.013Z"
   },
   {
    "duration": 19,
    "start_time": "2023-12-13T09:43:53.023Z"
   },
   {
    "duration": 212,
    "start_time": "2023-12-13T09:43:53.043Z"
   },
   {
    "duration": 202,
    "start_time": "2023-12-13T09:43:53.257Z"
   },
   {
    "duration": 272,
    "start_time": "2023-12-13T09:43:53.460Z"
   },
   {
    "duration": 326,
    "start_time": "2023-12-13T09:43:53.733Z"
   },
   {
    "duration": 394,
    "start_time": "2023-12-13T09:43:54.060Z"
   },
   {
    "duration": 25,
    "start_time": "2023-12-13T09:43:54.456Z"
   },
   {
    "duration": 57,
    "start_time": "2023-12-13T09:43:54.483Z"
   },
   {
    "duration": 42,
    "start_time": "2023-12-13T09:43:54.542Z"
   },
   {
    "duration": 380,
    "start_time": "2023-12-13T09:43:54.585Z"
   },
   {
    "duration": 551,
    "start_time": "2023-12-13T09:43:54.968Z"
   },
   {
    "duration": 376,
    "start_time": "2023-12-13T09:43:55.521Z"
   },
   {
    "duration": 118,
    "start_time": "2023-12-13T09:43:55.900Z"
   },
   {
    "duration": 4,
    "start_time": "2023-12-13T09:43:56.020Z"
   },
   {
    "duration": 37,
    "start_time": "2023-12-13T09:43:56.026Z"
   },
   {
    "duration": 18,
    "start_time": "2023-12-13T09:43:56.065Z"
   },
   {
    "duration": 22,
    "start_time": "2023-12-13T09:43:56.085Z"
   },
   {
    "duration": 8,
    "start_time": "2023-12-13T09:43:56.109Z"
   },
   {
    "duration": 29,
    "start_time": "2023-12-13T09:43:56.119Z"
   },
   {
    "duration": 8,
    "start_time": "2023-12-13T09:51:17.915Z"
   },
   {
    "duration": 48,
    "start_time": "2023-12-13T19:22:56.514Z"
   },
   {
    "duration": 1409,
    "start_time": "2023-12-13T19:23:41.569Z"
   },
   {
    "duration": 194,
    "start_time": "2023-12-13T19:23:42.980Z"
   },
   {
    "duration": 214,
    "start_time": "2023-12-13T19:23:43.175Z"
   },
   {
    "duration": 384,
    "start_time": "2023-12-13T19:23:43.391Z"
   },
   {
    "duration": 29,
    "start_time": "2023-12-13T19:23:43.777Z"
   },
   {
    "duration": 9,
    "start_time": "2023-12-13T19:23:43.807Z"
   },
   {
    "duration": 42,
    "start_time": "2023-12-13T19:23:43.817Z"
   },
   {
    "duration": 14,
    "start_time": "2023-12-13T19:23:43.861Z"
   },
   {
    "duration": 10,
    "start_time": "2023-12-13T19:23:43.876Z"
   },
   {
    "duration": 6,
    "start_time": "2023-12-13T19:23:43.887Z"
   },
   {
    "duration": 5,
    "start_time": "2023-12-13T19:23:43.895Z"
   },
   {
    "duration": 5,
    "start_time": "2023-12-13T19:23:43.902Z"
   },
   {
    "duration": 18,
    "start_time": "2023-12-13T19:23:43.909Z"
   },
   {
    "duration": 822,
    "start_time": "2023-12-13T19:23:43.958Z"
   },
   {
    "duration": 17,
    "start_time": "2023-12-13T19:23:44.781Z"
   },
   {
    "duration": 3,
    "start_time": "2023-12-13T19:23:44.800Z"
   },
   {
    "duration": 17,
    "start_time": "2023-12-13T19:23:44.805Z"
   },
   {
    "duration": 16,
    "start_time": "2023-12-13T19:23:44.824Z"
   },
   {
    "duration": 10,
    "start_time": "2023-12-13T19:23:44.841Z"
   },
   {
    "duration": 378,
    "start_time": "2023-12-13T19:23:44.853Z"
   },
   {
    "duration": 193,
    "start_time": "2023-12-13T19:23:45.233Z"
   },
   {
    "duration": 263,
    "start_time": "2023-12-13T19:23:45.428Z"
   },
   {
    "duration": 314,
    "start_time": "2023-12-13T19:23:45.692Z"
   },
   {
    "duration": 304,
    "start_time": "2023-12-13T19:23:46.007Z"
   },
   {
    "duration": 27,
    "start_time": "2023-12-13T19:23:46.313Z"
   },
   {
    "duration": 54,
    "start_time": "2023-12-13T19:23:46.341Z"
   },
   {
    "duration": 62,
    "start_time": "2023-12-13T19:23:46.396Z"
   },
   {
    "duration": 428,
    "start_time": "2023-12-13T19:23:46.460Z"
   },
   {
    "duration": 564,
    "start_time": "2023-12-13T19:23:46.890Z"
   },
   {
    "duration": 358,
    "start_time": "2023-12-13T19:23:47.458Z"
   },
   {
    "duration": 106,
    "start_time": "2023-12-13T19:23:47.818Z"
   },
   {
    "duration": 4,
    "start_time": "2023-12-13T19:23:47.926Z"
   },
   {
    "duration": 39,
    "start_time": "2023-12-13T19:23:47.931Z"
   },
   {
    "duration": 6,
    "start_time": "2023-12-13T19:23:47.971Z"
   },
   {
    "duration": 6,
    "start_time": "2023-12-13T19:23:47.978Z"
   },
   {
    "duration": 23,
    "start_time": "2023-12-13T19:23:47.985Z"
   },
   {
    "duration": 10,
    "start_time": "2023-12-13T19:23:48.010Z"
   },
   {
    "duration": 307,
    "start_time": "2023-12-13T19:23:48.022Z"
   },
   {
    "duration": 362,
    "start_time": "2023-12-13T19:49:31.686Z"
   },
   {
    "duration": 454,
    "start_time": "2023-12-13T19:49:51.609Z"
   },
   {
    "duration": 382,
    "start_time": "2023-12-13T19:50:34.820Z"
   },
   {
    "duration": 360,
    "start_time": "2023-12-13T19:50:42.425Z"
   },
   {
    "duration": 363,
    "start_time": "2023-12-13T19:50:49.575Z"
   },
   {
    "duration": 254,
    "start_time": "2023-12-13T19:51:14.570Z"
   },
   {
    "duration": 287,
    "start_time": "2023-12-13T19:51:17.958Z"
   },
   {
    "duration": 360,
    "start_time": "2023-12-13T19:51:22.795Z"
   },
   {
    "duration": 14,
    "start_time": "2023-12-13T19:57:35.363Z"
   },
   {
    "duration": 4,
    "start_time": "2023-12-13T19:58:05.848Z"
   },
   {
    "duration": 139,
    "start_time": "2023-12-13T19:58:13.159Z"
   },
   {
    "duration": 4,
    "start_time": "2023-12-13T19:59:25.292Z"
   },
   {
    "duration": 4,
    "start_time": "2023-12-13T19:59:38.294Z"
   },
   {
    "duration": 104,
    "start_time": "2023-12-13T19:59:38.299Z"
   },
   {
    "duration": 193,
    "start_time": "2023-12-13T19:59:38.405Z"
   },
   {
    "duration": 382,
    "start_time": "2023-12-13T19:59:38.600Z"
   },
   {
    "duration": 29,
    "start_time": "2023-12-13T19:59:38.984Z"
   },
   {
    "duration": 12,
    "start_time": "2023-12-13T19:59:39.014Z"
   },
   {
    "duration": 32,
    "start_time": "2023-12-13T19:59:39.027Z"
   },
   {
    "duration": 13,
    "start_time": "2023-12-13T19:59:39.061Z"
   },
   {
    "duration": 5,
    "start_time": "2023-12-13T19:59:39.076Z"
   },
   {
    "duration": 19,
    "start_time": "2023-12-13T19:59:39.082Z"
   },
   {
    "duration": 21,
    "start_time": "2023-12-13T19:59:39.102Z"
   },
   {
    "duration": 6,
    "start_time": "2023-12-13T19:59:39.125Z"
   },
   {
    "duration": 16,
    "start_time": "2023-12-13T19:59:39.133Z"
   },
   {
    "duration": 737,
    "start_time": "2023-12-13T19:59:39.153Z"
   },
   {
    "duration": 15,
    "start_time": "2023-12-13T19:59:39.892Z"
   },
   {
    "duration": 3,
    "start_time": "2023-12-13T19:59:39.909Z"
   },
   {
    "duration": 4,
    "start_time": "2023-12-13T19:59:39.914Z"
   },
   {
    "duration": 20,
    "start_time": "2023-12-13T19:59:39.920Z"
   },
   {
    "duration": 17,
    "start_time": "2023-12-13T19:59:39.941Z"
   },
   {
    "duration": 318,
    "start_time": "2023-12-13T19:59:39.960Z"
   },
   {
    "duration": 206,
    "start_time": "2023-12-13T19:59:40.279Z"
   },
   {
    "duration": 276,
    "start_time": "2023-12-13T19:59:40.486Z"
   },
   {
    "duration": 335,
    "start_time": "2023-12-13T19:59:40.764Z"
   },
   {
    "duration": 307,
    "start_time": "2023-12-13T19:59:41.101Z"
   },
   {
    "duration": 25,
    "start_time": "2023-12-13T19:59:41.410Z"
   },
   {
    "duration": 60,
    "start_time": "2023-12-13T19:59:41.437Z"
   },
   {
    "duration": 59,
    "start_time": "2023-12-13T19:59:41.499Z"
   },
   {
    "duration": 426,
    "start_time": "2023-12-13T19:59:41.560Z"
   },
   {
    "duration": 542,
    "start_time": "2023-12-13T19:59:41.988Z"
   },
   {
    "duration": 361,
    "start_time": "2023-12-13T19:59:42.531Z"
   },
   {
    "duration": 108,
    "start_time": "2023-12-13T19:59:42.893Z"
   },
   {
    "duration": 4,
    "start_time": "2023-12-13T19:59:43.002Z"
   },
   {
    "duration": 34,
    "start_time": "2023-12-13T19:59:43.007Z"
   },
   {
    "duration": 7,
    "start_time": "2023-12-13T19:59:43.043Z"
   },
   {
    "duration": 23,
    "start_time": "2023-12-13T19:59:43.051Z"
   },
   {
    "duration": 17,
    "start_time": "2023-12-13T19:59:43.076Z"
   },
   {
    "duration": 26,
    "start_time": "2023-12-13T19:59:43.094Z"
   },
   {
    "duration": 380,
    "start_time": "2023-12-13T19:59:43.122Z"
   },
   {
    "duration": 236,
    "start_time": "2023-12-13T19:59:43.503Z"
   },
   {
    "duration": 491,
    "start_time": "2023-12-13T20:03:00.610Z"
   },
   {
    "duration": 292,
    "start_time": "2023-12-13T20:04:48.249Z"
   },
   {
    "duration": 282,
    "start_time": "2023-12-13T20:06:23.739Z"
   },
   {
    "duration": 278,
    "start_time": "2023-12-13T20:06:49.965Z"
   },
   {
    "duration": 265,
    "start_time": "2023-12-13T20:07:01.281Z"
   },
   {
    "duration": 254,
    "start_time": "2023-12-13T20:07:08.091Z"
   },
   {
    "duration": 258,
    "start_time": "2023-12-13T20:07:11.716Z"
   },
   {
    "duration": 296,
    "start_time": "2023-12-13T20:07:14.838Z"
   },
   {
    "duration": 273,
    "start_time": "2023-12-13T20:11:43.954Z"
   },
   {
    "duration": 277,
    "start_time": "2023-12-13T20:11:52.795Z"
   },
   {
    "duration": 265,
    "start_time": "2023-12-13T20:11:56.720Z"
   },
   {
    "duration": 250,
    "start_time": "2023-12-13T20:12:13.767Z"
   },
   {
    "duration": 284,
    "start_time": "2023-12-13T20:12:55.010Z"
   },
   {
    "duration": 251,
    "start_time": "2023-12-13T20:13:07.447Z"
   },
   {
    "duration": 253,
    "start_time": "2023-12-13T20:13:58.722Z"
   },
   {
    "duration": 11,
    "start_time": "2023-12-13T20:15:25.306Z"
   },
   {
    "duration": 260,
    "start_time": "2023-12-13T20:15:46.049Z"
   },
   {
    "duration": 435,
    "start_time": "2023-12-13T20:17:33.730Z"
   },
   {
    "duration": 313,
    "start_time": "2023-12-13T20:18:24.330Z"
   },
   {
    "duration": 288,
    "start_time": "2023-12-13T20:18:32.328Z"
   },
   {
    "duration": 299,
    "start_time": "2023-12-13T20:23:07.936Z"
   },
   {
    "duration": 283,
    "start_time": "2023-12-13T20:25:16.077Z"
   },
   {
    "duration": 368,
    "start_time": "2023-12-13T20:25:44.495Z"
   },
   {
    "duration": 47,
    "start_time": "2023-12-14T09:41:51.836Z"
   },
   {
    "duration": 1305,
    "start_time": "2023-12-14T09:41:56.372Z"
   },
   {
    "duration": 76,
    "start_time": "2023-12-14T09:41:57.679Z"
   },
   {
    "duration": 264,
    "start_time": "2023-12-14T09:41:57.756Z"
   },
   {
    "duration": 357,
    "start_time": "2023-12-14T09:41:58.021Z"
   },
   {
    "duration": 26,
    "start_time": "2023-12-14T09:41:58.380Z"
   },
   {
    "duration": 8,
    "start_time": "2023-12-14T09:41:58.408Z"
   },
   {
    "duration": 23,
    "start_time": "2023-12-14T09:41:58.417Z"
   },
   {
    "duration": 32,
    "start_time": "2023-12-14T09:41:58.441Z"
   },
   {
    "duration": 5,
    "start_time": "2023-12-14T09:41:58.475Z"
   },
   {
    "duration": 6,
    "start_time": "2023-12-14T09:41:58.481Z"
   },
   {
    "duration": 11,
    "start_time": "2023-12-14T09:41:58.488Z"
   },
   {
    "duration": 4,
    "start_time": "2023-12-14T09:41:58.500Z"
   },
   {
    "duration": 4,
    "start_time": "2023-12-14T09:41:58.506Z"
   },
   {
    "duration": 751,
    "start_time": "2023-12-14T09:41:58.513Z"
   },
   {
    "duration": 17,
    "start_time": "2023-12-14T09:41:59.266Z"
   },
   {
    "duration": 3,
    "start_time": "2023-12-14T09:41:59.285Z"
   },
   {
    "duration": 12,
    "start_time": "2023-12-14T09:41:59.290Z"
   },
   {
    "duration": 5,
    "start_time": "2023-12-14T09:41:59.303Z"
   },
   {
    "duration": 7,
    "start_time": "2023-12-14T09:41:59.310Z"
   },
   {
    "duration": 357,
    "start_time": "2023-12-14T09:41:59.318Z"
   },
   {
    "duration": 188,
    "start_time": "2023-12-14T09:41:59.677Z"
   },
   {
    "duration": 250,
    "start_time": "2023-12-14T09:41:59.867Z"
   },
   {
    "duration": 284,
    "start_time": "2023-12-14T09:42:00.118Z"
   },
   {
    "duration": 269,
    "start_time": "2023-12-14T09:42:00.404Z"
   },
   {
    "duration": 36,
    "start_time": "2023-12-14T09:42:00.675Z"
   },
   {
    "duration": 58,
    "start_time": "2023-12-14T09:42:00.712Z"
   },
   {
    "duration": 40,
    "start_time": "2023-12-14T09:42:00.772Z"
   },
   {
    "duration": 430,
    "start_time": "2023-12-14T09:42:00.813Z"
   },
   {
    "duration": 503,
    "start_time": "2023-12-14T09:42:01.245Z"
   },
   {
    "duration": 349,
    "start_time": "2023-12-14T09:42:01.751Z"
   },
   {
    "duration": 101,
    "start_time": "2023-12-14T09:42:02.102Z"
   },
   {
    "duration": 4,
    "start_time": "2023-12-14T09:42:02.204Z"
   },
   {
    "duration": 38,
    "start_time": "2023-12-14T09:42:02.209Z"
   },
   {
    "duration": 17,
    "start_time": "2023-12-14T09:42:02.248Z"
   },
   {
    "duration": 19,
    "start_time": "2023-12-14T09:42:02.267Z"
   },
   {
    "duration": 21,
    "start_time": "2023-12-14T09:42:02.288Z"
   },
   {
    "duration": 22,
    "start_time": "2023-12-14T09:42:02.310Z"
   },
   {
    "duration": 278,
    "start_time": "2023-12-14T09:42:02.333Z"
   },
   {
    "duration": 242,
    "start_time": "2023-12-14T09:42:02.612Z"
   },
   {
    "duration": 275,
    "start_time": "2023-12-14T09:42:02.865Z"
   },
   {
    "duration": 262,
    "start_time": "2023-12-14T09:42:57.087Z"
   },
   {
    "duration": 5,
    "start_time": "2023-12-14T10:10:11.830Z"
   },
   {
    "duration": 277,
    "start_time": "2023-12-14T10:11:10.710Z"
   },
   {
    "duration": 389,
    "start_time": "2023-12-14T10:14:16.057Z"
   },
   {
    "duration": 5,
    "start_time": "2023-12-14T10:14:56.471Z"
   },
   {
    "duration": 70,
    "start_time": "2023-12-14T10:14:56.477Z"
   },
   {
    "duration": 189,
    "start_time": "2023-12-14T10:14:56.548Z"
   },
   {
    "duration": 377,
    "start_time": "2023-12-14T10:14:56.739Z"
   },
   {
    "duration": 30,
    "start_time": "2023-12-14T10:14:57.117Z"
   },
   {
    "duration": 23,
    "start_time": "2023-12-14T10:14:57.148Z"
   },
   {
    "duration": 14,
    "start_time": "2023-12-14T10:14:57.173Z"
   },
   {
    "duration": 17,
    "start_time": "2023-12-14T10:14:57.188Z"
   },
   {
    "duration": 5,
    "start_time": "2023-12-14T10:14:57.206Z"
   },
   {
    "duration": 16,
    "start_time": "2023-12-14T10:14:57.214Z"
   },
   {
    "duration": 17,
    "start_time": "2023-12-14T10:14:57.232Z"
   },
   {
    "duration": 19,
    "start_time": "2023-12-14T10:14:57.250Z"
   },
   {
    "duration": 7,
    "start_time": "2023-12-14T10:14:57.270Z"
   },
   {
    "duration": 9,
    "start_time": "2023-12-14T10:14:57.279Z"
   },
   {
    "duration": 691,
    "start_time": "2023-12-14T10:14:57.290Z"
   },
   {
    "duration": 14,
    "start_time": "2023-12-14T10:14:57.982Z"
   },
   {
    "duration": 9,
    "start_time": "2023-12-14T10:14:57.998Z"
   },
   {
    "duration": 4,
    "start_time": "2023-12-14T10:14:58.009Z"
   },
   {
    "duration": 4,
    "start_time": "2023-12-14T10:14:58.015Z"
   },
   {
    "duration": 5,
    "start_time": "2023-12-14T10:14:58.020Z"
   },
   {
    "duration": 200,
    "start_time": "2023-12-14T10:14:58.026Z"
   },
   {
    "duration": 272,
    "start_time": "2023-12-14T10:14:58.228Z"
   },
   {
    "duration": 257,
    "start_time": "2023-12-14T10:14:58.502Z"
   },
   {
    "duration": 331,
    "start_time": "2023-12-14T10:14:58.764Z"
   },
   {
    "duration": 271,
    "start_time": "2023-12-14T10:14:59.097Z"
   },
   {
    "duration": 32,
    "start_time": "2023-12-14T10:14:59.369Z"
   },
   {
    "duration": 40,
    "start_time": "2023-12-14T10:14:59.403Z"
   },
   {
    "duration": 39,
    "start_time": "2023-12-14T10:14:59.464Z"
   },
   {
    "duration": 351,
    "start_time": "2023-12-14T10:14:59.505Z"
   },
   {
    "duration": 596,
    "start_time": "2023-12-14T10:14:59.858Z"
   },
   {
    "duration": 286,
    "start_time": "2023-12-14T10:15:00.455Z"
   },
   {
    "duration": 104,
    "start_time": "2023-12-14T10:15:00.743Z"
   },
   {
    "duration": 4,
    "start_time": "2023-12-14T10:15:00.848Z"
   },
   {
    "duration": 48,
    "start_time": "2023-12-14T10:15:00.854Z"
   },
   {
    "duration": 39,
    "start_time": "2023-12-14T10:15:00.903Z"
   },
   {
    "duration": 50,
    "start_time": "2023-12-14T10:15:00.943Z"
   },
   {
    "duration": 38,
    "start_time": "2023-12-14T10:15:00.995Z"
   },
   {
    "duration": 52,
    "start_time": "2023-12-14T10:15:01.036Z"
   },
   {
    "duration": 280,
    "start_time": "2023-12-14T10:15:01.090Z"
   },
   {
    "duration": 305,
    "start_time": "2023-12-14T10:15:01.371Z"
   },
   {
    "duration": 277,
    "start_time": "2023-12-14T10:15:01.677Z"
   },
   {
    "duration": 9,
    "start_time": "2023-12-14T10:23:56.041Z"
   },
   {
    "duration": 12,
    "start_time": "2023-12-14T10:31:09.775Z"
   },
   {
    "duration": 208,
    "start_time": "2023-12-14T10:32:03.346Z"
   },
   {
    "duration": 1447,
    "start_time": "2023-12-14T10:33:03.178Z"
   },
   {
    "duration": 20,
    "start_time": "2023-12-14T10:36:27.227Z"
   },
   {
    "duration": 14,
    "start_time": "2023-12-14T10:36:49.248Z"
   },
   {
    "duration": 3,
    "start_time": "2023-12-14T10:36:55.931Z"
   },
   {
    "duration": 76,
    "start_time": "2023-12-14T10:36:55.936Z"
   },
   {
    "duration": 179,
    "start_time": "2023-12-14T10:36:56.013Z"
   },
   {
    "duration": 359,
    "start_time": "2023-12-14T10:36:56.194Z"
   },
   {
    "duration": 32,
    "start_time": "2023-12-14T10:36:56.554Z"
   },
   {
    "duration": 8,
    "start_time": "2023-12-14T10:36:56.588Z"
   },
   {
    "duration": 18,
    "start_time": "2023-12-14T10:36:56.597Z"
   },
   {
    "duration": 12,
    "start_time": "2023-12-14T10:36:56.616Z"
   },
   {
    "duration": 35,
    "start_time": "2023-12-14T10:36:56.630Z"
   },
   {
    "duration": 5,
    "start_time": "2023-12-14T10:36:56.668Z"
   },
   {
    "duration": 5,
    "start_time": "2023-12-14T10:36:56.674Z"
   },
   {
    "duration": 5,
    "start_time": "2023-12-14T10:36:56.681Z"
   },
   {
    "duration": 5,
    "start_time": "2023-12-14T10:36:56.687Z"
   },
   {
    "duration": 14,
    "start_time": "2023-12-14T10:36:56.694Z"
   },
   {
    "duration": 706,
    "start_time": "2023-12-14T10:36:56.710Z"
   },
   {
    "duration": 16,
    "start_time": "2023-12-14T10:36:57.418Z"
   },
   {
    "duration": 3,
    "start_time": "2023-12-14T10:36:57.436Z"
   },
   {
    "duration": 15,
    "start_time": "2023-12-14T10:36:57.440Z"
   },
   {
    "duration": 10,
    "start_time": "2023-12-14T10:36:57.456Z"
   },
   {
    "duration": 14,
    "start_time": "2023-12-14T10:36:57.468Z"
   },
   {
    "duration": 307,
    "start_time": "2023-12-14T10:36:57.483Z"
   },
   {
    "duration": 189,
    "start_time": "2023-12-14T10:36:57.792Z"
   },
   {
    "duration": 257,
    "start_time": "2023-12-14T10:36:57.982Z"
   },
   {
    "duration": 303,
    "start_time": "2023-12-14T10:36:58.240Z"
   },
   {
    "duration": 286,
    "start_time": "2023-12-14T10:36:58.544Z"
   },
   {
    "duration": 46,
    "start_time": "2023-12-14T10:36:58.831Z"
   },
   {
    "duration": 52,
    "start_time": "2023-12-14T10:36:58.879Z"
   },
   {
    "duration": 71,
    "start_time": "2023-12-14T10:36:58.935Z"
   },
   {
    "duration": 417,
    "start_time": "2023-12-14T10:36:59.007Z"
   },
   {
    "duration": 508,
    "start_time": "2023-12-14T10:36:59.425Z"
   },
   {
    "duration": 291,
    "start_time": "2023-12-14T10:36:59.935Z"
   },
   {
    "duration": 100,
    "start_time": "2023-12-14T10:37:00.227Z"
   },
   {
    "duration": 3,
    "start_time": "2023-12-14T10:37:00.328Z"
   },
   {
    "duration": 32,
    "start_time": "2023-12-14T10:37:00.333Z"
   },
   {
    "duration": 22,
    "start_time": "2023-12-14T10:37:00.366Z"
   },
   {
    "duration": 0,
    "start_time": "2023-12-14T10:37:00.389Z"
   },
   {
    "duration": 0,
    "start_time": "2023-12-14T10:37:00.391Z"
   },
   {
    "duration": 0,
    "start_time": "2023-12-14T10:37:00.392Z"
   },
   {
    "duration": 0,
    "start_time": "2023-12-14T10:37:00.393Z"
   },
   {
    "duration": 0,
    "start_time": "2023-12-14T10:37:00.394Z"
   },
   {
    "duration": 0,
    "start_time": "2023-12-14T10:37:00.395Z"
   },
   {
    "duration": 0,
    "start_time": "2023-12-14T10:37:00.396Z"
   },
   {
    "duration": 107,
    "start_time": "2023-12-14T10:37:27.153Z"
   },
   {
    "duration": 20,
    "start_time": "2023-12-14T10:37:46.205Z"
   },
   {
    "duration": 1513,
    "start_time": "2023-12-14T10:37:48.152Z"
   },
   {
    "duration": 299,
    "start_time": "2023-12-14T10:40:15.711Z"
   },
   {
    "duration": 297,
    "start_time": "2023-12-14T10:41:02.059Z"
   },
   {
    "duration": 270,
    "start_time": "2023-12-14T10:41:53.411Z"
   },
   {
    "duration": 269,
    "start_time": "2023-12-14T10:42:33.792Z"
   },
   {
    "duration": 4,
    "start_time": "2023-12-14T10:43:22.965Z"
   },
   {
    "duration": 71,
    "start_time": "2023-12-14T10:43:22.971Z"
   },
   {
    "duration": 183,
    "start_time": "2023-12-14T10:43:23.044Z"
   },
   {
    "duration": 429,
    "start_time": "2023-12-14T10:43:23.229Z"
   },
   {
    "duration": 30,
    "start_time": "2023-12-14T10:43:23.659Z"
   },
   {
    "duration": 8,
    "start_time": "2023-12-14T10:43:23.690Z"
   },
   {
    "duration": 18,
    "start_time": "2023-12-14T10:43:23.700Z"
   },
   {
    "duration": 14,
    "start_time": "2023-12-14T10:43:23.719Z"
   },
   {
    "duration": 6,
    "start_time": "2023-12-14T10:43:23.764Z"
   },
   {
    "duration": 7,
    "start_time": "2023-12-14T10:43:23.772Z"
   },
   {
    "duration": 4,
    "start_time": "2023-12-14T10:43:23.780Z"
   },
   {
    "duration": 4,
    "start_time": "2023-12-14T10:43:23.786Z"
   },
   {
    "duration": 5,
    "start_time": "2023-12-14T10:43:23.791Z"
   },
   {
    "duration": 4,
    "start_time": "2023-12-14T10:43:23.797Z"
   },
   {
    "duration": 729,
    "start_time": "2023-12-14T10:43:23.802Z"
   },
   {
    "duration": 16,
    "start_time": "2023-12-14T10:43:24.533Z"
   },
   {
    "duration": 13,
    "start_time": "2023-12-14T10:43:24.551Z"
   },
   {
    "duration": 31,
    "start_time": "2023-12-14T10:43:24.566Z"
   },
   {
    "duration": 12,
    "start_time": "2023-12-14T10:43:24.598Z"
   },
   {
    "duration": 4,
    "start_time": "2023-12-14T10:43:24.611Z"
   },
   {
    "duration": 199,
    "start_time": "2023-12-14T10:43:24.617Z"
   },
   {
    "duration": 187,
    "start_time": "2023-12-14T10:43:24.817Z"
   },
   {
    "duration": 253,
    "start_time": "2023-12-14T10:43:25.005Z"
   },
   {
    "duration": 407,
    "start_time": "2023-12-14T10:43:25.260Z"
   },
   {
    "duration": 289,
    "start_time": "2023-12-14T10:43:25.668Z"
   },
   {
    "duration": 37,
    "start_time": "2023-12-14T10:43:25.958Z"
   },
   {
    "duration": 41,
    "start_time": "2023-12-14T10:43:25.997Z"
   },
   {
    "duration": 61,
    "start_time": "2023-12-14T10:43:26.041Z"
   },
   {
    "duration": 342,
    "start_time": "2023-12-14T10:43:26.103Z"
   },
   {
    "duration": 502,
    "start_time": "2023-12-14T10:43:26.447Z"
   },
   {
    "duration": 296,
    "start_time": "2023-12-14T10:43:26.952Z"
   },
   {
    "duration": 102,
    "start_time": "2023-12-14T10:43:27.249Z"
   },
   {
    "duration": 4,
    "start_time": "2023-12-14T10:43:27.353Z"
   },
   {
    "duration": 28,
    "start_time": "2023-12-14T10:43:27.358Z"
   },
   {
    "duration": 315,
    "start_time": "2023-12-14T10:43:27.388Z"
   },
   {
    "duration": 6,
    "start_time": "2023-12-14T10:43:27.705Z"
   },
   {
    "duration": 6,
    "start_time": "2023-12-14T10:43:27.713Z"
   },
   {
    "duration": 6,
    "start_time": "2023-12-14T10:43:27.721Z"
   },
   {
    "duration": 39,
    "start_time": "2023-12-14T10:43:27.729Z"
   },
   {
    "duration": 355,
    "start_time": "2023-12-14T10:43:27.770Z"
   },
   {
    "duration": 256,
    "start_time": "2023-12-14T10:43:28.126Z"
   },
   {
    "duration": 270,
    "start_time": "2023-12-14T10:43:28.384Z"
   },
   {
    "duration": 283,
    "start_time": "2023-12-14T10:44:47.100Z"
   },
   {
    "duration": 307,
    "start_time": "2023-12-14T10:45:08.835Z"
   },
   {
    "duration": 294,
    "start_time": "2023-12-14T10:46:38.229Z"
   },
   {
    "duration": 296,
    "start_time": "2023-12-14T10:47:11.941Z"
   },
   {
    "duration": 6,
    "start_time": "2023-12-14T10:48:18.832Z"
   },
   {
    "duration": 296,
    "start_time": "2023-12-14T10:48:24.791Z"
   },
   {
    "duration": 81,
    "start_time": "2023-12-14T10:48:41.992Z"
   },
   {
    "duration": 281,
    "start_time": "2023-12-14T10:48:46.718Z"
   },
   {
    "duration": 282,
    "start_time": "2023-12-14T10:49:32.444Z"
   },
   {
    "duration": 124,
    "start_time": "2023-12-14T10:50:26.919Z"
   },
   {
    "duration": 4,
    "start_time": "2023-12-14T10:56:00.285Z"
   },
   {
    "duration": 8,
    "start_time": "2023-12-14T10:57:32.804Z"
   },
   {
    "duration": 7,
    "start_time": "2023-12-14T11:03:20.000Z"
   },
   {
    "duration": 10,
    "start_time": "2023-12-14T11:08:05.786Z"
   },
   {
    "duration": 10,
    "start_time": "2023-12-14T11:09:09.035Z"
   },
   {
    "duration": 9,
    "start_time": "2023-12-14T11:09:21.809Z"
   },
   {
    "duration": 11,
    "start_time": "2023-12-14T11:12:33.071Z"
   },
   {
    "duration": 12,
    "start_time": "2023-12-14T11:12:58.732Z"
   },
   {
    "duration": 199,
    "start_time": "2023-12-14T11:27:03.211Z"
   },
   {
    "duration": 285,
    "start_time": "2023-12-14T11:27:27.754Z"
   },
   {
    "duration": 189,
    "start_time": "2023-12-14T11:28:29.417Z"
   },
   {
    "duration": 188,
    "start_time": "2023-12-14T11:29:14.137Z"
   },
   {
    "duration": 1275,
    "start_time": "2023-12-14T11:42:11.170Z"
   },
   {
    "duration": 69,
    "start_time": "2023-12-14T11:42:12.447Z"
   },
   {
    "duration": 192,
    "start_time": "2023-12-14T11:42:12.517Z"
   },
   {
    "duration": 348,
    "start_time": "2023-12-14T11:42:12.711Z"
   },
   {
    "duration": 31,
    "start_time": "2023-12-14T11:42:13.061Z"
   },
   {
    "duration": 9,
    "start_time": "2023-12-14T11:42:13.093Z"
   },
   {
    "duration": 20,
    "start_time": "2023-12-14T11:42:13.103Z"
   },
   {
    "duration": 45,
    "start_time": "2023-12-14T11:42:13.124Z"
   },
   {
    "duration": 5,
    "start_time": "2023-12-14T11:42:13.170Z"
   },
   {
    "duration": 6,
    "start_time": "2023-12-14T11:42:13.176Z"
   },
   {
    "duration": 4,
    "start_time": "2023-12-14T11:42:13.183Z"
   },
   {
    "duration": 6,
    "start_time": "2023-12-14T11:42:13.188Z"
   },
   {
    "duration": 4,
    "start_time": "2023-12-14T11:42:13.195Z"
   },
   {
    "duration": 5,
    "start_time": "2023-12-14T11:42:13.202Z"
   },
   {
    "duration": 704,
    "start_time": "2023-12-14T11:42:13.208Z"
   },
   {
    "duration": 18,
    "start_time": "2023-12-14T11:42:13.914Z"
   },
   {
    "duration": 20,
    "start_time": "2023-12-14T11:42:13.934Z"
   },
   {
    "duration": 5,
    "start_time": "2023-12-14T11:42:13.956Z"
   },
   {
    "duration": 6,
    "start_time": "2023-12-14T11:42:13.962Z"
   },
   {
    "duration": 6,
    "start_time": "2023-12-14T11:42:13.969Z"
   },
   {
    "duration": 335,
    "start_time": "2023-12-14T11:42:13.976Z"
   },
   {
    "duration": 194,
    "start_time": "2023-12-14T11:42:14.313Z"
   },
   {
    "duration": 256,
    "start_time": "2023-12-14T11:42:14.509Z"
   },
   {
    "duration": 289,
    "start_time": "2023-12-14T11:42:14.767Z"
   },
   {
    "duration": 283,
    "start_time": "2023-12-14T11:42:15.058Z"
   },
   {
    "duration": 52,
    "start_time": "2023-12-14T11:42:15.342Z"
   },
   {
    "duration": 42,
    "start_time": "2023-12-14T11:42:15.396Z"
   },
   {
    "duration": 57,
    "start_time": "2023-12-14T11:42:15.440Z"
   },
   {
    "duration": 417,
    "start_time": "2023-12-14T11:42:15.498Z"
   },
   {
    "duration": 499,
    "start_time": "2023-12-14T11:42:15.916Z"
   },
   {
    "duration": 277,
    "start_time": "2023-12-14T11:42:16.417Z"
   },
   {
    "duration": 109,
    "start_time": "2023-12-14T11:42:16.696Z"
   },
   {
    "duration": 4,
    "start_time": "2023-12-14T11:42:16.807Z"
   },
   {
    "duration": 30,
    "start_time": "2023-12-14T11:42:16.813Z"
   },
   {
    "duration": 285,
    "start_time": "2023-12-14T11:42:16.845Z"
   },
   {
    "duration": 4,
    "start_time": "2023-12-14T11:42:17.131Z"
   },
   {
    "duration": 13,
    "start_time": "2023-12-14T11:42:17.136Z"
   },
   {
    "duration": 17,
    "start_time": "2023-12-14T11:42:17.150Z"
   },
   {
    "duration": 16,
    "start_time": "2023-12-14T11:42:17.168Z"
   },
   {
    "duration": 257,
    "start_time": "2023-12-14T11:42:17.186Z"
   },
   {
    "duration": 296,
    "start_time": "2023-12-14T11:42:17.446Z"
   },
   {
    "duration": 300,
    "start_time": "2023-12-14T11:42:17.743Z"
   },
   {
    "duration": 45,
    "start_time": "2023-12-14T13:29:16.761Z"
   },
   {
    "duration": 1325,
    "start_time": "2023-12-14T13:29:23.800Z"
   },
   {
    "duration": 182,
    "start_time": "2023-12-14T13:29:25.127Z"
   },
   {
    "duration": 179,
    "start_time": "2023-12-14T13:29:25.311Z"
   },
   {
    "duration": 338,
    "start_time": "2023-12-14T13:29:25.492Z"
   },
   {
    "duration": 33,
    "start_time": "2023-12-14T13:29:25.832Z"
   },
   {
    "duration": 8,
    "start_time": "2023-12-14T13:29:25.866Z"
   },
   {
    "duration": 24,
    "start_time": "2023-12-14T13:29:25.875Z"
   },
   {
    "duration": 12,
    "start_time": "2023-12-14T13:29:25.900Z"
   },
   {
    "duration": 4,
    "start_time": "2023-12-14T13:29:25.913Z"
   },
   {
    "duration": 33,
    "start_time": "2023-12-14T13:29:25.919Z"
   },
   {
    "duration": 4,
    "start_time": "2023-12-14T13:29:25.954Z"
   },
   {
    "duration": 10,
    "start_time": "2023-12-14T13:29:25.959Z"
   },
   {
    "duration": 16,
    "start_time": "2023-12-14T13:29:25.971Z"
   },
   {
    "duration": 4,
    "start_time": "2023-12-14T13:29:25.990Z"
   },
   {
    "duration": 746,
    "start_time": "2023-12-14T13:29:25.996Z"
   },
   {
    "duration": 16,
    "start_time": "2023-12-14T13:29:26.743Z"
   },
   {
    "duration": 2,
    "start_time": "2023-12-14T13:29:26.761Z"
   },
   {
    "duration": 70,
    "start_time": "2023-12-14T13:29:26.765Z"
   },
   {
    "duration": 7,
    "start_time": "2023-12-14T13:29:26.851Z"
   },
   {
    "duration": 47,
    "start_time": "2023-12-14T13:29:26.860Z"
   },
   {
    "duration": 324,
    "start_time": "2023-12-14T13:29:26.908Z"
   },
   {
    "duration": 198,
    "start_time": "2023-12-14T13:29:27.233Z"
   },
   {
    "duration": 226,
    "start_time": "2023-12-14T13:29:27.432Z"
   },
   {
    "duration": 296,
    "start_time": "2023-12-14T13:29:27.659Z"
   },
   {
    "duration": 269,
    "start_time": "2023-12-14T13:29:27.956Z"
   },
   {
    "duration": 42,
    "start_time": "2023-12-14T13:29:28.226Z"
   },
   {
    "duration": 114,
    "start_time": "2023-12-14T13:29:28.269Z"
   },
   {
    "duration": 41,
    "start_time": "2023-12-14T13:29:28.385Z"
   },
   {
    "duration": 323,
    "start_time": "2023-12-14T13:29:28.427Z"
   },
   {
    "duration": 487,
    "start_time": "2023-12-14T13:29:28.752Z"
   },
   {
    "duration": 266,
    "start_time": "2023-12-14T13:29:29.241Z"
   },
   {
    "duration": 101,
    "start_time": "2023-12-14T13:29:29.509Z"
   },
   {
    "duration": 20,
    "start_time": "2023-12-14T13:29:29.611Z"
   },
   {
    "duration": 277,
    "start_time": "2023-12-14T13:29:29.633Z"
   },
   {
    "duration": 4,
    "start_time": "2023-12-14T13:29:29.911Z"
   },
   {
    "duration": 8,
    "start_time": "2023-12-14T13:29:29.916Z"
   },
   {
    "duration": 6,
    "start_time": "2023-12-14T13:29:29.925Z"
   },
   {
    "duration": 11,
    "start_time": "2023-12-14T13:29:29.952Z"
   },
   {
    "duration": 260,
    "start_time": "2023-12-14T13:29:29.964Z"
   },
   {
    "duration": 319,
    "start_time": "2023-12-14T13:29:30.226Z"
   },
   {
    "duration": 301,
    "start_time": "2023-12-14T13:29:30.554Z"
   },
   {
    "duration": 1140,
    "start_time": "2023-12-14T13:30:48.785Z"
   },
   {
    "duration": 64,
    "start_time": "2023-12-14T13:30:49.927Z"
   },
   {
    "duration": 191,
    "start_time": "2023-12-14T13:30:49.993Z"
   },
   {
    "duration": 335,
    "start_time": "2023-12-14T13:30:50.186Z"
   },
   {
    "duration": 40,
    "start_time": "2023-12-14T13:30:50.523Z"
   },
   {
    "duration": 10,
    "start_time": "2023-12-14T13:30:50.564Z"
   },
   {
    "duration": 50,
    "start_time": "2023-12-14T13:30:50.576Z"
   },
   {
    "duration": 23,
    "start_time": "2023-12-14T13:30:50.627Z"
   },
   {
    "duration": 14,
    "start_time": "2023-12-14T13:30:50.651Z"
   },
   {
    "duration": 31,
    "start_time": "2023-12-14T13:30:50.666Z"
   },
   {
    "duration": 34,
    "start_time": "2023-12-14T13:30:50.698Z"
   },
   {
    "duration": 34,
    "start_time": "2023-12-14T13:30:50.733Z"
   },
   {
    "duration": 11,
    "start_time": "2023-12-14T13:30:50.768Z"
   },
   {
    "duration": 4,
    "start_time": "2023-12-14T13:30:50.782Z"
   },
   {
    "duration": 683,
    "start_time": "2023-12-14T13:30:50.787Z"
   },
   {
    "duration": 16,
    "start_time": "2023-12-14T13:30:51.471Z"
   },
   {
    "duration": 3,
    "start_time": "2023-12-14T13:30:51.489Z"
   },
   {
    "duration": 5,
    "start_time": "2023-12-14T13:30:51.494Z"
   },
   {
    "duration": 12,
    "start_time": "2023-12-14T13:30:51.500Z"
   },
   {
    "duration": 17,
    "start_time": "2023-12-14T13:30:51.513Z"
   },
   {
    "duration": 355,
    "start_time": "2023-12-14T13:30:51.531Z"
   },
   {
    "duration": 171,
    "start_time": "2023-12-14T13:30:51.888Z"
   },
   {
    "duration": 243,
    "start_time": "2023-12-14T13:30:52.060Z"
   },
   {
    "duration": 275,
    "start_time": "2023-12-14T13:30:52.305Z"
   },
   {
    "duration": 255,
    "start_time": "2023-12-14T13:30:52.581Z"
   },
   {
    "duration": 43,
    "start_time": "2023-12-14T13:30:52.837Z"
   },
   {
    "duration": 40,
    "start_time": "2023-12-14T13:30:52.881Z"
   },
   {
    "duration": 58,
    "start_time": "2023-12-14T13:30:52.923Z"
   },
   {
    "duration": 383,
    "start_time": "2023-12-14T13:30:52.982Z"
   },
   {
    "duration": 474,
    "start_time": "2023-12-14T13:30:53.367Z"
   },
   {
    "duration": 276,
    "start_time": "2023-12-14T13:30:53.843Z"
   },
   {
    "duration": 105,
    "start_time": "2023-12-14T13:30:54.120Z"
   },
   {
    "duration": 16,
    "start_time": "2023-12-14T13:30:54.227Z"
   },
   {
    "duration": 278,
    "start_time": "2023-12-14T13:30:54.252Z"
   },
   {
    "duration": 4,
    "start_time": "2023-12-14T13:30:54.532Z"
   },
   {
    "duration": 18,
    "start_time": "2023-12-14T13:30:54.537Z"
   },
   {
    "duration": 16,
    "start_time": "2023-12-14T13:30:54.557Z"
   },
   {
    "duration": 20,
    "start_time": "2023-12-14T13:30:54.575Z"
   },
   {
    "duration": 281,
    "start_time": "2023-12-14T13:30:54.597Z"
   },
   {
    "duration": 281,
    "start_time": "2023-12-14T13:30:54.880Z"
   },
   {
    "duration": 275,
    "start_time": "2023-12-14T13:30:55.164Z"
   }
  ],
  "kernelspec": {
   "display_name": "Python 3 (ipykernel)",
   "language": "python",
   "name": "python3"
  },
  "language_info": {
   "codemirror_mode": {
    "name": "ipython",
    "version": 3
   },
   "file_extension": ".py",
   "mimetype": "text/x-python",
   "name": "python",
   "nbconvert_exporter": "python",
   "pygments_lexer": "ipython3",
   "version": "3.9.5"
  },
  "toc": {
   "base_numbering": 1,
   "nav_menu": {},
   "number_sections": false,
   "sideBar": true,
   "skip_h1_title": true,
   "title_cell": "Содержание",
   "title_sidebar": "Содержание",
   "toc_cell": true,
   "toc_position": {
    "height": "640px",
    "left": "24px",
    "top": "111px",
    "width": "349px"
   },
   "toc_section_display": true,
   "toc_window_display": true
  }
 },
 "nbformat": 4,
 "nbformat_minor": 5
}
